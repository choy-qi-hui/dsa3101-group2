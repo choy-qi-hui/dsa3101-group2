{
  "nbformat": 4,
  "nbformat_minor": 0,
  "metadata": {
    "colab": {
      "provenance": [],
      "collapsed_sections": [
        "O0shWC1KELZA",
        "bQ48IB0wER4d",
        "XCODFEyvJYFR",
        "q_zZPgKlMCHv",
        "ZIDCy8oLbPP3",
        "Q7pwH84YcIgK",
        "wX_SDoQhcZK5",
        "vjKbpwI9egeL",
        "eg8j4PshESNc"
      ]
    },
    "kernelspec": {
      "name": "python3",
      "display_name": "Python 3"
    },
    "language_info": {
      "name": "python"
    }
  },
  "cells": [
    {
      "cell_type": "markdown",
      "source": [
        "# Importing libraries and data"
      ],
      "metadata": {
        "id": "O0shWC1KELZA"
      }
    },
    {
      "cell_type": "code",
      "execution_count": null,
      "metadata": {
        "id": "lbSsWRdsEAXF"
      },
      "outputs": [],
      "source": [
        "import csv\n",
        "import math\n",
        "import random\n",
        "import numpy as np\n",
        "import pandas as pd\n",
        "import gdown\n",
        "import matplotlib.pyplot as plt\n",
        "import plotly.express as px\n",
        "import seaborn as sns\n",
        "from sklearn.feature_extraction.text import TfidfVectorizer\n",
        "from sklearn.metrics.pairwise import cosine_similarity\n",
        "import pandas as pd\n",
        "import plotly.express as px\n",
        "import time\n",
        "import random\n",
        "from scipy.stats import beta"
      ]
    },
    {
      "cell_type": "code",
      "source": [
        "file_id = '1EI8FuKQ5Hho_hfFADLWh4wJ2FFSy8vZS'\n",
        "url = f'https://drive.google.com/uc?id={file_id}'\n",
        "output = 'purchases_final_PLEASE_TY.csv'\n",
        "gdown.download(url, output, quiet=False)\n",
        "\n",
        "file_id = '1PZCA2ytJtFpkPRRmvyNTRzJO26aiJ9Ot'\n",
        "url = f'https://drive.google.com/uc?id={file_id}'\n",
        "output = 'q2_customers.csv'\n",
        "gdown.download(url, output, quiet=False)\n"
      ],
      "metadata": {
        "colab": {
          "base_uri": "https://localhost:8080/"
        },
        "id": "iGNf8hZYEGVn",
        "outputId": "c57dcbd8-5055-45c8-b52b-aa5895ab986b"
      },
      "execution_count": null,
      "outputs": [
        {
          "output_type": "stream",
          "name": "stderr",
          "text": [
            "Downloading...\n",
            "From (original): https://drive.google.com/uc?id=1EI8FuKQ5Hho_hfFADLWh4wJ2FFSy8vZS\n",
            "From (redirected): https://drive.google.com/uc?id=1EI8FuKQ5Hho_hfFADLWh4wJ2FFSy8vZS&confirm=t&uuid=c6035e4d-1db4-4f69-a7bc-052056449550\n",
            "To: /content/purchases_final_PLEASE_TY.csv\n",
            "100%|██████████| 272M/272M [00:01<00:00, 155MB/s]\n",
            "Downloading...\n",
            "From: https://drive.google.com/uc?id=1YQOfdb4ICBN3I-SAfrYM0714NSHC-jY2\n",
            "To: /content/q2_customers.csv\n",
            "100%|██████████| 915k/915k [00:00<00:00, 35.1MB/s]\n"
          ]
        },
        {
          "output_type": "execute_result",
          "data": {
            "text/plain": [
              "'q2_customers.csv'"
            ],
            "application/vnd.google.colaboratory.intrinsic+json": {
              "type": "string"
            }
          },
          "metadata": {},
          "execution_count": 100
        }
      ]
    },
    {
      "cell_type": "code",
      "source": [
        "customers = pd.read_csv('q2_customers.csv')\n",
        "purchases = pd.read_csv('purchases_final_PLEASE_TY.csv')"
      ],
      "metadata": {
        "id": "8oq2EQsnIxhR"
      },
      "execution_count": null,
      "outputs": []
    },
    {
      "cell_type": "code",
      "source": [
        "customers.head()"
      ],
      "metadata": {
        "colab": {
          "base_uri": "https://localhost:8080/"
        },
        "id": "41wkblU_EH7u",
        "outputId": "fedd2284-0606-40f4-b721-288908983e32"
      },
      "execution_count": null,
      "outputs": [
        {
          "output_type": "execute_result",
          "data": {
            "text/plain": [
              "   Survey ResponseID  Prime  Email CTC  Display Ad CTC  Video Ad CTC  \\\n",
              "0  R_03aEbghUILs9NxD      0   0.000000        0.000000      0.000000   \n",
              "1  R_06RZP9pS7kONINr      1   0.033368        0.032189      0.000000   \n",
              "2  R_085qq7w0pkhowox      0   0.000000        0.000000      0.006171   \n",
              "3  R_08uYA7fb4unHGkF      1   0.000000        0.000000      0.000000   \n",
              "4  R_0BrMxYYMHVMOBEJ      0   0.000000        0.042679      0.000000   \n",
              "\n",
              "   Search Engine Ad CTC  Social Media Ad CTC  Average CTC  Express Shipping  \\\n",
              "0              0.000000                  0.0          0.0          0.428571   \n",
              "1              0.000000                  0.0          0.0          1.000000   \n",
              "2              0.000000                  0.0          0.0          0.475410   \n",
              "3              0.000000                  0.0          0.0          1.000000   \n",
              "4              0.021435                  0.0          0.0          0.500000   \n",
              "\n",
              "   Cart Abandonment Rate  Check Review  Refund rate  Time in Cart  \\\n",
              "0               0.733693             0     0.243994      7.039021   \n",
              "1               0.709685             1     0.170417     45.151821   \n",
              "2               0.719513             1     0.306721     19.751185   \n",
              "3               0.645122             0     0.118960     13.694138   \n",
              "4               0.832793             0     0.343723      2.544373   \n",
              "\n",
              "   Time on Page  RFM  Pct Discount  Keep Discount Category  \n",
              "0      0.469268  111      0.562500              1      NaN  \n",
              "1      3.010121  323      0.458128              1      NaN  \n",
              "2      1.316746  322      0.454861              1      NaN  \n",
              "3      0.912943  212      0.382022              1      NaN  \n",
              "4      0.169625  211      0.380952              1      NaN  "
            ],
            "text/html": [
              "\n",
              "  <div id=\"df-82491269-217f-4c60-aa53-5af59bbb2c4c\" class=\"colab-df-container\">\n",
              "    <div>\n",
              "<style scoped>\n",
              "    .dataframe tbody tr th:only-of-type {\n",
              "        vertical-align: middle;\n",
              "    }\n",
              "\n",
              "    .dataframe tbody tr th {\n",
              "        vertical-align: top;\n",
              "    }\n",
              "\n",
              "    .dataframe thead th {\n",
              "        text-align: right;\n",
              "    }\n",
              "</style>\n",
              "<table border=\"1\" class=\"dataframe\">\n",
              "  <thead>\n",
              "    <tr style=\"text-align: right;\">\n",
              "      <th></th>\n",
              "      <th>Survey ResponseID</th>\n",
              "      <th>Prime</th>\n",
              "      <th>Email CTC</th>\n",
              "      <th>Display Ad CTC</th>\n",
              "      <th>Video Ad CTC</th>\n",
              "      <th>Search Engine Ad CTC</th>\n",
              "      <th>Social Media Ad CTC</th>\n",
              "      <th>Average CTC</th>\n",
              "      <th>Express Shipping</th>\n",
              "      <th>Cart Abandonment Rate</th>\n",
              "      <th>Check Review</th>\n",
              "      <th>Refund rate</th>\n",
              "      <th>Time in Cart</th>\n",
              "      <th>Time on Page</th>\n",
              "      <th>RFM</th>\n",
              "      <th>Pct Discount</th>\n",
              "      <th>Keep Discount</th>\n",
              "      <th>Category</th>\n",
              "    </tr>\n",
              "  </thead>\n",
              "  <tbody>\n",
              "    <tr>\n",
              "      <th>0</th>\n",
              "      <td>R_03aEbghUILs9NxD</td>\n",
              "      <td>0</td>\n",
              "      <td>0.000000</td>\n",
              "      <td>0.000000</td>\n",
              "      <td>0.000000</td>\n",
              "      <td>0.000000</td>\n",
              "      <td>0.0</td>\n",
              "      <td>0.0</td>\n",
              "      <td>0.428571</td>\n",
              "      <td>0.733693</td>\n",
              "      <td>0</td>\n",
              "      <td>0.243994</td>\n",
              "      <td>7.039021</td>\n",
              "      <td>0.469268</td>\n",
              "      <td>111</td>\n",
              "      <td>0.562500</td>\n",
              "      <td>1</td>\n",
              "      <td>NaN</td>\n",
              "    </tr>\n",
              "    <tr>\n",
              "      <th>1</th>\n",
              "      <td>R_06RZP9pS7kONINr</td>\n",
              "      <td>1</td>\n",
              "      <td>0.033368</td>\n",
              "      <td>0.032189</td>\n",
              "      <td>0.000000</td>\n",
              "      <td>0.000000</td>\n",
              "      <td>0.0</td>\n",
              "      <td>0.0</td>\n",
              "      <td>1.000000</td>\n",
              "      <td>0.709685</td>\n",
              "      <td>1</td>\n",
              "      <td>0.170417</td>\n",
              "      <td>45.151821</td>\n",
              "      <td>3.010121</td>\n",
              "      <td>323</td>\n",
              "      <td>0.458128</td>\n",
              "      <td>1</td>\n",
              "      <td>NaN</td>\n",
              "    </tr>\n",
              "    <tr>\n",
              "      <th>2</th>\n",
              "      <td>R_085qq7w0pkhowox</td>\n",
              "      <td>0</td>\n",
              "      <td>0.000000</td>\n",
              "      <td>0.000000</td>\n",
              "      <td>0.006171</td>\n",
              "      <td>0.000000</td>\n",
              "      <td>0.0</td>\n",
              "      <td>0.0</td>\n",
              "      <td>0.475410</td>\n",
              "      <td>0.719513</td>\n",
              "      <td>1</td>\n",
              "      <td>0.306721</td>\n",
              "      <td>19.751185</td>\n",
              "      <td>1.316746</td>\n",
              "      <td>322</td>\n",
              "      <td>0.454861</td>\n",
              "      <td>1</td>\n",
              "      <td>NaN</td>\n",
              "    </tr>\n",
              "    <tr>\n",
              "      <th>3</th>\n",
              "      <td>R_08uYA7fb4unHGkF</td>\n",
              "      <td>1</td>\n",
              "      <td>0.000000</td>\n",
              "      <td>0.000000</td>\n",
              "      <td>0.000000</td>\n",
              "      <td>0.000000</td>\n",
              "      <td>0.0</td>\n",
              "      <td>0.0</td>\n",
              "      <td>1.000000</td>\n",
              "      <td>0.645122</td>\n",
              "      <td>0</td>\n",
              "      <td>0.118960</td>\n",
              "      <td>13.694138</td>\n",
              "      <td>0.912943</td>\n",
              "      <td>212</td>\n",
              "      <td>0.382022</td>\n",
              "      <td>1</td>\n",
              "      <td>NaN</td>\n",
              "    </tr>\n",
              "    <tr>\n",
              "      <th>4</th>\n",
              "      <td>R_0BrMxYYMHVMOBEJ</td>\n",
              "      <td>0</td>\n",
              "      <td>0.000000</td>\n",
              "      <td>0.042679</td>\n",
              "      <td>0.000000</td>\n",
              "      <td>0.021435</td>\n",
              "      <td>0.0</td>\n",
              "      <td>0.0</td>\n",
              "      <td>0.500000</td>\n",
              "      <td>0.832793</td>\n",
              "      <td>0</td>\n",
              "      <td>0.343723</td>\n",
              "      <td>2.544373</td>\n",
              "      <td>0.169625</td>\n",
              "      <td>211</td>\n",
              "      <td>0.380952</td>\n",
              "      <td>1</td>\n",
              "      <td>NaN</td>\n",
              "    </tr>\n",
              "  </tbody>\n",
              "</table>\n",
              "</div>\n",
              "    <div class=\"colab-df-buttons\">\n",
              "\n",
              "  <div class=\"colab-df-container\">\n",
              "    <button class=\"colab-df-convert\" onclick=\"convertToInteractive('df-82491269-217f-4c60-aa53-5af59bbb2c4c')\"\n",
              "            title=\"Convert this dataframe to an interactive table.\"\n",
              "            style=\"display:none;\">\n",
              "\n",
              "  <svg xmlns=\"http://www.w3.org/2000/svg\" height=\"24px\" viewBox=\"0 -960 960 960\">\n",
              "    <path d=\"M120-120v-720h720v720H120Zm60-500h600v-160H180v160Zm220 220h160v-160H400v160Zm0 220h160v-160H400v160ZM180-400h160v-160H180v160Zm440 0h160v-160H620v160ZM180-180h160v-160H180v160Zm440 0h160v-160H620v160Z\"/>\n",
              "  </svg>\n",
              "    </button>\n",
              "\n",
              "  <style>\n",
              "    .colab-df-container {\n",
              "      display:flex;\n",
              "      gap: 12px;\n",
              "    }\n",
              "\n",
              "    .colab-df-convert {\n",
              "      background-color: #E8F0FE;\n",
              "      border: none;\n",
              "      border-radius: 50%;\n",
              "      cursor: pointer;\n",
              "      display: none;\n",
              "      fill: #1967D2;\n",
              "      height: 32px;\n",
              "      padding: 0 0 0 0;\n",
              "      width: 32px;\n",
              "    }\n",
              "\n",
              "    .colab-df-convert:hover {\n",
              "      background-color: #E2EBFA;\n",
              "      box-shadow: 0px 1px 2px rgba(60, 64, 67, 0.3), 0px 1px 3px 1px rgba(60, 64, 67, 0.15);\n",
              "      fill: #174EA6;\n",
              "    }\n",
              "\n",
              "    .colab-df-buttons div {\n",
              "      margin-bottom: 4px;\n",
              "    }\n",
              "\n",
              "    [theme=dark] .colab-df-convert {\n",
              "      background-color: #3B4455;\n",
              "      fill: #D2E3FC;\n",
              "    }\n",
              "\n",
              "    [theme=dark] .colab-df-convert:hover {\n",
              "      background-color: #434B5C;\n",
              "      box-shadow: 0px 1px 3px 1px rgba(0, 0, 0, 0.15);\n",
              "      filter: drop-shadow(0px 1px 2px rgba(0, 0, 0, 0.3));\n",
              "      fill: #FFFFFF;\n",
              "    }\n",
              "  </style>\n",
              "\n",
              "    <script>\n",
              "      const buttonEl =\n",
              "        document.querySelector('#df-82491269-217f-4c60-aa53-5af59bbb2c4c button.colab-df-convert');\n",
              "      buttonEl.style.display =\n",
              "        google.colab.kernel.accessAllowed ? 'block' : 'none';\n",
              "\n",
              "      async function convertToInteractive(key) {\n",
              "        const element = document.querySelector('#df-82491269-217f-4c60-aa53-5af59bbb2c4c');\n",
              "        const dataTable =\n",
              "          await google.colab.kernel.invokeFunction('convertToInteractive',\n",
              "                                                    [key], {});\n",
              "        if (!dataTable) return;\n",
              "\n",
              "        const docLinkHtml = 'Like what you see? Visit the ' +\n",
              "          '<a target=\"_blank\" href=https://colab.research.google.com/notebooks/data_table.ipynb>data table notebook</a>'\n",
              "          + ' to learn more about interactive tables.';\n",
              "        element.innerHTML = '';\n",
              "        dataTable['output_type'] = 'display_data';\n",
              "        await google.colab.output.renderOutput(dataTable, element);\n",
              "        const docLink = document.createElement('div');\n",
              "        docLink.innerHTML = docLinkHtml;\n",
              "        element.appendChild(docLink);\n",
              "      }\n",
              "    </script>\n",
              "  </div>\n",
              "\n",
              "\n",
              "<div id=\"df-8a291e3e-16f6-4279-ad65-254fb2aace37\">\n",
              "  <button class=\"colab-df-quickchart\" onclick=\"quickchart('df-8a291e3e-16f6-4279-ad65-254fb2aace37')\"\n",
              "            title=\"Suggest charts\"\n",
              "            style=\"display:none;\">\n",
              "\n",
              "<svg xmlns=\"http://www.w3.org/2000/svg\" height=\"24px\"viewBox=\"0 0 24 24\"\n",
              "     width=\"24px\">\n",
              "    <g>\n",
              "        <path d=\"M19 3H5c-1.1 0-2 .9-2 2v14c0 1.1.9 2 2 2h14c1.1 0 2-.9 2-2V5c0-1.1-.9-2-2-2zM9 17H7v-7h2v7zm4 0h-2V7h2v10zm4 0h-2v-4h2v4z\"/>\n",
              "    </g>\n",
              "</svg>\n",
              "  </button>\n",
              "\n",
              "<style>\n",
              "  .colab-df-quickchart {\n",
              "      --bg-color: #E8F0FE;\n",
              "      --fill-color: #1967D2;\n",
              "      --hover-bg-color: #E2EBFA;\n",
              "      --hover-fill-color: #174EA6;\n",
              "      --disabled-fill-color: #AAA;\n",
              "      --disabled-bg-color: #DDD;\n",
              "  }\n",
              "\n",
              "  [theme=dark] .colab-df-quickchart {\n",
              "      --bg-color: #3B4455;\n",
              "      --fill-color: #D2E3FC;\n",
              "      --hover-bg-color: #434B5C;\n",
              "      --hover-fill-color: #FFFFFF;\n",
              "      --disabled-bg-color: #3B4455;\n",
              "      --disabled-fill-color: #666;\n",
              "  }\n",
              "\n",
              "  .colab-df-quickchart {\n",
              "    background-color: var(--bg-color);\n",
              "    border: none;\n",
              "    border-radius: 50%;\n",
              "    cursor: pointer;\n",
              "    display: none;\n",
              "    fill: var(--fill-color);\n",
              "    height: 32px;\n",
              "    padding: 0;\n",
              "    width: 32px;\n",
              "  }\n",
              "\n",
              "  .colab-df-quickchart:hover {\n",
              "    background-color: var(--hover-bg-color);\n",
              "    box-shadow: 0 1px 2px rgba(60, 64, 67, 0.3), 0 1px 3px 1px rgba(60, 64, 67, 0.15);\n",
              "    fill: var(--button-hover-fill-color);\n",
              "  }\n",
              "\n",
              "  .colab-df-quickchart-complete:disabled,\n",
              "  .colab-df-quickchart-complete:disabled:hover {\n",
              "    background-color: var(--disabled-bg-color);\n",
              "    fill: var(--disabled-fill-color);\n",
              "    box-shadow: none;\n",
              "  }\n",
              "\n",
              "  .colab-df-spinner {\n",
              "    border: 2px solid var(--fill-color);\n",
              "    border-color: transparent;\n",
              "    border-bottom-color: var(--fill-color);\n",
              "    animation:\n",
              "      spin 1s steps(1) infinite;\n",
              "  }\n",
              "\n",
              "  @keyframes spin {\n",
              "    0% {\n",
              "      border-color: transparent;\n",
              "      border-bottom-color: var(--fill-color);\n",
              "      border-left-color: var(--fill-color);\n",
              "    }\n",
              "    20% {\n",
              "      border-color: transparent;\n",
              "      border-left-color: var(--fill-color);\n",
              "      border-top-color: var(--fill-color);\n",
              "    }\n",
              "    30% {\n",
              "      border-color: transparent;\n",
              "      border-left-color: var(--fill-color);\n",
              "      border-top-color: var(--fill-color);\n",
              "      border-right-color: var(--fill-color);\n",
              "    }\n",
              "    40% {\n",
              "      border-color: transparent;\n",
              "      border-right-color: var(--fill-color);\n",
              "      border-top-color: var(--fill-color);\n",
              "    }\n",
              "    60% {\n",
              "      border-color: transparent;\n",
              "      border-right-color: var(--fill-color);\n",
              "    }\n",
              "    80% {\n",
              "      border-color: transparent;\n",
              "      border-right-color: var(--fill-color);\n",
              "      border-bottom-color: var(--fill-color);\n",
              "    }\n",
              "    90% {\n",
              "      border-color: transparent;\n",
              "      border-bottom-color: var(--fill-color);\n",
              "    }\n",
              "  }\n",
              "</style>\n",
              "\n",
              "  <script>\n",
              "    async function quickchart(key) {\n",
              "      const quickchartButtonEl =\n",
              "        document.querySelector('#' + key + ' button');\n",
              "      quickchartButtonEl.disabled = true;  // To prevent multiple clicks.\n",
              "      quickchartButtonEl.classList.add('colab-df-spinner');\n",
              "      try {\n",
              "        const charts = await google.colab.kernel.invokeFunction(\n",
              "            'suggestCharts', [key], {});\n",
              "      } catch (error) {\n",
              "        console.error('Error during call to suggestCharts:', error);\n",
              "      }\n",
              "      quickchartButtonEl.classList.remove('colab-df-spinner');\n",
              "      quickchartButtonEl.classList.add('colab-df-quickchart-complete');\n",
              "    }\n",
              "    (() => {\n",
              "      let quickchartButtonEl =\n",
              "        document.querySelector('#df-8a291e3e-16f6-4279-ad65-254fb2aace37 button');\n",
              "      quickchartButtonEl.style.display =\n",
              "        google.colab.kernel.accessAllowed ? 'block' : 'none';\n",
              "    })();\n",
              "  </script>\n",
              "</div>\n",
              "\n",
              "    </div>\n",
              "  </div>\n"
            ],
            "application/vnd.google.colaboratory.intrinsic+json": {
              "type": "dataframe",
              "variable_name": "customers",
              "summary": "{\n  \"name\": \"customers\",\n  \"rows\": 4923,\n  \"fields\": [\n    {\n      \"column\": \"Survey ResponseID\",\n      \"properties\": {\n        \"dtype\": \"string\",\n        \"num_unique_values\": 4923,\n        \"samples\": [\n          \"R_1jUkyJVRdxgQkcJ\",\n          \"R_z6D1T2MULlDlLAB\",\n          \"R_3kFE2p3j4I8dh9B\"\n        ],\n        \"semantic_type\": \"\",\n        \"description\": \"\"\n      }\n    },\n    {\n      \"column\": \"Prime\",\n      \"properties\": {\n        \"dtype\": \"number\",\n        \"std\": 0,\n        \"min\": 0,\n        \"max\": 1,\n        \"num_unique_values\": 2,\n        \"samples\": [\n          1,\n          0\n        ],\n        \"semantic_type\": \"\",\n        \"description\": \"\"\n      }\n    },\n    {\n      \"column\": \"Email CTC\",\n      \"properties\": {\n        \"dtype\": \"number\",\n        \"std\": 0.06489225266785202,\n        \"min\": 0.0,\n        \"max\": 0.4565586459962248,\n        \"num_unique_values\": 2526,\n        \"samples\": [\n          0.0730140305501765,\n          0.0418445024514959\n        ],\n        \"semantic_type\": \"\",\n        \"description\": \"\"\n      }\n    },\n    {\n      \"column\": \"Display Ad CTC\",\n      \"properties\": {\n        \"dtype\": \"number\",\n        \"std\": 0.04053249123992571,\n        \"min\": 0.0,\n        \"max\": 0.4330532928099768,\n        \"num_unique_values\": 1612,\n        \"samples\": [\n          0.0138982735393102,\n          0.0176596108189312\n        ],\n        \"semantic_type\": \"\",\n        \"description\": \"\"\n      }\n    },\n    {\n      \"column\": \"Video Ad CTC\",\n      \"properties\": {\n        \"dtype\": \"number\",\n        \"std\": 0.029917995026524518,\n        \"min\": 0.0,\n        \"max\": 0.4583099224294396,\n        \"num_unique_values\": 1118,\n        \"samples\": [\n          0.007238450858486,\n          0.0098490704313265\n        ],\n        \"semantic_type\": \"\",\n        \"description\": \"\"\n      }\n    },\n    {\n      \"column\": \"Search Engine Ad CTC\",\n      \"properties\": {\n        \"dtype\": \"number\",\n        \"std\": 0.047528107383974796,\n        \"min\": 0.0,\n        \"max\": 0.5314661183874204,\n        \"num_unique_values\": 1458,\n        \"samples\": [\n          0.0298035652954553,\n          0.058498504202263\n        ],\n        \"semantic_type\": \"\",\n        \"description\": \"\"\n      }\n    },\n    {\n      \"column\": \"Social Media Ad CTC\",\n      \"properties\": {\n        \"dtype\": \"number\",\n        \"std\": 0.03734942265667914,\n        \"min\": 0.0,\n        \"max\": 0.3988735834707714,\n        \"num_unique_values\": 1283,\n        \"samples\": [\n          0.031289970854894,\n          0.0191319713819128\n        ],\n        \"semantic_type\": \"\",\n        \"description\": \"\"\n      }\n    },\n    {\n      \"column\": \"Average CTC\",\n      \"properties\": {\n        \"dtype\": \"number\",\n        \"std\": 0.02329581729553133,\n        \"min\": 0.0,\n        \"max\": 0.1504991822048365,\n        \"num_unique_values\": 2201,\n        \"samples\": [\n          0.028194252810433,\n          0.0413184233906526\n        ],\n        \"semantic_type\": \"\",\n        \"description\": \"\"\n      }\n    },\n    {\n      \"column\": \"Express Shipping\",\n      \"properties\": {\n        \"dtype\": \"number\",\n        \"std\": 0.2571679924899381,\n        \"min\": 0.1111111111111111,\n        \"max\": 1.0,\n        \"num_unique_values\": 699,\n        \"samples\": [\n          0.5517241379310345,\n          0.4907975460122699\n        ],\n        \"semantic_type\": \"\",\n        \"description\": \"\"\n      }\n    },\n    {\n      \"column\": \"Cart Abandonment Rate\",\n      \"properties\": {\n        \"dtype\": \"number\",\n        \"std\": 0.09579410038943431,\n        \"min\": 0.3981945218850971,\n        \"max\": 0.95272950680444,\n        \"num_unique_values\": 4923,\n        \"samples\": [\n          0.747173225924875,\n          0.4299189031231131\n        ],\n        \"semantic_type\": \"\",\n        \"description\": \"\"\n      }\n    },\n    {\n      \"column\": \"Check Review\",\n      \"properties\": {\n        \"dtype\": \"number\",\n        \"std\": 0,\n        \"min\": 0,\n        \"max\": 1,\n        \"num_unique_values\": 2,\n        \"samples\": [\n          1,\n          0\n        ],\n        \"semantic_type\": \"\",\n        \"description\": \"\"\n      }\n    },\n    {\n      \"column\": \"Refund rate\",\n      \"properties\": {\n        \"dtype\": \"number\",\n        \"std\": 0.11574213681601067,\n        \"min\": 5.465638934098819e-11,\n        \"max\": 0.6413094831164288,\n        \"num_unique_values\": 4923,\n        \"samples\": [\n          0.0870451570009948,\n          0.0015014901901578\n        ],\n        \"semantic_type\": \"\",\n        \"description\": \"\"\n      }\n    },\n    {\n      \"column\": \"Time in Cart\",\n      \"properties\": {\n        \"dtype\": \"number\",\n        \"std\": 25.951272887943055,\n        \"min\": 0.0483518002835193,\n        \"max\": 286.0355959236329,\n        \"num_unique_values\": 4923,\n        \"samples\": [\n          17.233123088657507,\n          9.901480619775162\n        ],\n        \"semantic_type\": \"\",\n        \"description\": \"\"\n      }\n    },\n    {\n      \"column\": \"Time on Page\",\n      \"properties\": {\n        \"dtype\": \"number\",\n        \"std\": 6.84858828239794,\n        \"min\": 0.0032234533522346,\n        \"max\": 81.72445597818083,\n        \"num_unique_values\": 4923,\n        \"samples\": [\n          1.1488748725771671,\n          1.9802961239550323\n        ],\n        \"semantic_type\": \"\",\n        \"description\": \"\"\n      }\n    },\n    {\n      \"column\": \"RFM\",\n      \"properties\": {\n        \"dtype\": \"number\",\n        \"std\": 81,\n        \"min\": 111,\n        \"max\": 333,\n        \"num_unique_values\": 26,\n        \"samples\": [\n          112,\n          122\n        ],\n        \"semantic_type\": \"\",\n        \"description\": \"\"\n      }\n    },\n    {\n      \"column\": \"Pct Discount\",\n      \"properties\": {\n        \"dtype\": \"number\",\n        \"std\": 0.08618111513496976,\n        \"min\": 0.0,\n        \"max\": 1.0,\n        \"num_unique_values\": 2833,\n        \"samples\": [\n          0.4112903225806452,\n          0.3761467889908257\n        ],\n        \"semantic_type\": \"\",\n        \"description\": \"\"\n      }\n    },\n    {\n      \"column\": \"Keep Discount\",\n      \"properties\": {\n        \"dtype\": \"number\",\n        \"std\": 0,\n        \"min\": 0,\n        \"max\": 1,\n        \"num_unique_values\": 2,\n        \"samples\": [\n          0,\n          1\n        ],\n        \"semantic_type\": \"\",\n        \"description\": \"\"\n      }\n    },\n    {\n      \"column\": \"Category\",\n      \"properties\": {\n        \"dtype\": \"category\",\n        \"num_unique_values\": 21,\n        \"samples\": [\n          \"Electronics\",\n          \"Baby\"\n        ],\n        \"semantic_type\": \"\",\n        \"description\": \"\"\n      }\n    }\n  ]\n}"
            }
          },
          "metadata": {},
          "execution_count": 102
        }
      ]
    },
    {
      "cell_type": "code",
      "source": [
        "purchases.head()"
      ],
      "metadata": {
        "colab": {
          "base_uri": "https://localhost:8080/"
        },
        "id": "3fyEj-rlEJYi",
        "outputId": "8ddad5d0-ae35-453d-cc75-cec2bcd94abf"
      },
      "execution_count": null,
      "outputs": [
        {
          "output_type": "execute_result",
          "data": {
            "text/plain": [
              "   Order Date  Purchase Price Per Unit  Quantity Shipping Address State  \\\n",
              "0  2018-12-04                     7.98         1                     NJ   \n",
              "1  2018-12-22                    13.99         1                     NJ   \n",
              "2  2018-12-24                     8.99         1                     NJ   \n",
              "3  2018-12-25                    10.45         1                     NJ   \n",
              "4  2018-12-25                    10.00         1                     NJ   \n",
              "\n",
              "                                               Title ASIN/ISBN (Product Code)  \\\n",
              "0  SanDisk Ultra 16GB Class 10 SDHC UHS-I Memory ...               B0143RTB1E   \n",
              "1  Betron BS10 Earphones Wired Headphones in Ear ...               B01MA1MJ6H   \n",
              "2                                                NaN               B078JZTFN3   \n",
              "3  Perfecto Stainless Steel Shaving Bowl. Durable...               B06XWF9HML   \n",
              "4                      Proraso Shaving Cream for Men               B00837ZOI0   \n",
              "\n",
              "   Survey ResponseID                Category  Prime  Discounts  \\\n",
              "0  R_01vNIayewjIIKMF             Electronics      1       0.00   \n",
              "1  R_01vNIayewjIIKMF             Electronics      1       0.00   \n",
              "2  R_01vNIayewjIIKMF                     NaN      1       0.00   \n",
              "3  R_01vNIayewjIIKMF        Kitchen & Dining      1       0.05   \n",
              "4  R_01vNIayewjIIKMF  Beauty & Personal Care      1       0.05   \n",
              "\n",
              "   Express Shipping  \n",
              "0                 1  \n",
              "1                 1  \n",
              "2                 1  \n",
              "3                 1  \n",
              "4                 1  "
            ],
            "text/html": [
              "\n",
              "  <div id=\"df-19170352-fed5-473d-ac44-396c9ae8c214\" class=\"colab-df-container\">\n",
              "    <div>\n",
              "<style scoped>\n",
              "    .dataframe tbody tr th:only-of-type {\n",
              "        vertical-align: middle;\n",
              "    }\n",
              "\n",
              "    .dataframe tbody tr th {\n",
              "        vertical-align: top;\n",
              "    }\n",
              "\n",
              "    .dataframe thead th {\n",
              "        text-align: right;\n",
              "    }\n",
              "</style>\n",
              "<table border=\"1\" class=\"dataframe\">\n",
              "  <thead>\n",
              "    <tr style=\"text-align: right;\">\n",
              "      <th></th>\n",
              "      <th>Order Date</th>\n",
              "      <th>Purchase Price Per Unit</th>\n",
              "      <th>Quantity</th>\n",
              "      <th>Shipping Address State</th>\n",
              "      <th>Title</th>\n",
              "      <th>ASIN/ISBN (Product Code)</th>\n",
              "      <th>Survey ResponseID</th>\n",
              "      <th>Category</th>\n",
              "      <th>Prime</th>\n",
              "      <th>Discounts</th>\n",
              "      <th>Express Shipping</th>\n",
              "    </tr>\n",
              "  </thead>\n",
              "  <tbody>\n",
              "    <tr>\n",
              "      <th>0</th>\n",
              "      <td>2018-12-04</td>\n",
              "      <td>7.98</td>\n",
              "      <td>1</td>\n",
              "      <td>NJ</td>\n",
              "      <td>SanDisk Ultra 16GB Class 10 SDHC UHS-I Memory ...</td>\n",
              "      <td>B0143RTB1E</td>\n",
              "      <td>R_01vNIayewjIIKMF</td>\n",
              "      <td>Electronics</td>\n",
              "      <td>1</td>\n",
              "      <td>0.00</td>\n",
              "      <td>1</td>\n",
              "    </tr>\n",
              "    <tr>\n",
              "      <th>1</th>\n",
              "      <td>2018-12-22</td>\n",
              "      <td>13.99</td>\n",
              "      <td>1</td>\n",
              "      <td>NJ</td>\n",
              "      <td>Betron BS10 Earphones Wired Headphones in Ear ...</td>\n",
              "      <td>B01MA1MJ6H</td>\n",
              "      <td>R_01vNIayewjIIKMF</td>\n",
              "      <td>Electronics</td>\n",
              "      <td>1</td>\n",
              "      <td>0.00</td>\n",
              "      <td>1</td>\n",
              "    </tr>\n",
              "    <tr>\n",
              "      <th>2</th>\n",
              "      <td>2018-12-24</td>\n",
              "      <td>8.99</td>\n",
              "      <td>1</td>\n",
              "      <td>NJ</td>\n",
              "      <td>NaN</td>\n",
              "      <td>B078JZTFN3</td>\n",
              "      <td>R_01vNIayewjIIKMF</td>\n",
              "      <td>NaN</td>\n",
              "      <td>1</td>\n",
              "      <td>0.00</td>\n",
              "      <td>1</td>\n",
              "    </tr>\n",
              "    <tr>\n",
              "      <th>3</th>\n",
              "      <td>2018-12-25</td>\n",
              "      <td>10.45</td>\n",
              "      <td>1</td>\n",
              "      <td>NJ</td>\n",
              "      <td>Perfecto Stainless Steel Shaving Bowl. Durable...</td>\n",
              "      <td>B06XWF9HML</td>\n",
              "      <td>R_01vNIayewjIIKMF</td>\n",
              "      <td>Kitchen &amp; Dining</td>\n",
              "      <td>1</td>\n",
              "      <td>0.05</td>\n",
              "      <td>1</td>\n",
              "    </tr>\n",
              "    <tr>\n",
              "      <th>4</th>\n",
              "      <td>2018-12-25</td>\n",
              "      <td>10.00</td>\n",
              "      <td>1</td>\n",
              "      <td>NJ</td>\n",
              "      <td>Proraso Shaving Cream for Men</td>\n",
              "      <td>B00837ZOI0</td>\n",
              "      <td>R_01vNIayewjIIKMF</td>\n",
              "      <td>Beauty &amp; Personal Care</td>\n",
              "      <td>1</td>\n",
              "      <td>0.05</td>\n",
              "      <td>1</td>\n",
              "    </tr>\n",
              "  </tbody>\n",
              "</table>\n",
              "</div>\n",
              "    <div class=\"colab-df-buttons\">\n",
              "\n",
              "  <div class=\"colab-df-container\">\n",
              "    <button class=\"colab-df-convert\" onclick=\"convertToInteractive('df-19170352-fed5-473d-ac44-396c9ae8c214')\"\n",
              "            title=\"Convert this dataframe to an interactive table.\"\n",
              "            style=\"display:none;\">\n",
              "\n",
              "  <svg xmlns=\"http://www.w3.org/2000/svg\" height=\"24px\" viewBox=\"0 -960 960 960\">\n",
              "    <path d=\"M120-120v-720h720v720H120Zm60-500h600v-160H180v160Zm220 220h160v-160H400v160Zm0 220h160v-160H400v160ZM180-400h160v-160H180v160Zm440 0h160v-160H620v160ZM180-180h160v-160H180v160Zm440 0h160v-160H620v160Z\"/>\n",
              "  </svg>\n",
              "    </button>\n",
              "\n",
              "  <style>\n",
              "    .colab-df-container {\n",
              "      display:flex;\n",
              "      gap: 12px;\n",
              "    }\n",
              "\n",
              "    .colab-df-convert {\n",
              "      background-color: #E8F0FE;\n",
              "      border: none;\n",
              "      border-radius: 50%;\n",
              "      cursor: pointer;\n",
              "      display: none;\n",
              "      fill: #1967D2;\n",
              "      height: 32px;\n",
              "      padding: 0 0 0 0;\n",
              "      width: 32px;\n",
              "    }\n",
              "\n",
              "    .colab-df-convert:hover {\n",
              "      background-color: #E2EBFA;\n",
              "      box-shadow: 0px 1px 2px rgba(60, 64, 67, 0.3), 0px 1px 3px 1px rgba(60, 64, 67, 0.15);\n",
              "      fill: #174EA6;\n",
              "    }\n",
              "\n",
              "    .colab-df-buttons div {\n",
              "      margin-bottom: 4px;\n",
              "    }\n",
              "\n",
              "    [theme=dark] .colab-df-convert {\n",
              "      background-color: #3B4455;\n",
              "      fill: #D2E3FC;\n",
              "    }\n",
              "\n",
              "    [theme=dark] .colab-df-convert:hover {\n",
              "      background-color: #434B5C;\n",
              "      box-shadow: 0px 1px 3px 1px rgba(0, 0, 0, 0.15);\n",
              "      filter: drop-shadow(0px 1px 2px rgba(0, 0, 0, 0.3));\n",
              "      fill: #FFFFFF;\n",
              "    }\n",
              "  </style>\n",
              "\n",
              "    <script>\n",
              "      const buttonEl =\n",
              "        document.querySelector('#df-19170352-fed5-473d-ac44-396c9ae8c214 button.colab-df-convert');\n",
              "      buttonEl.style.display =\n",
              "        google.colab.kernel.accessAllowed ? 'block' : 'none';\n",
              "\n",
              "      async function convertToInteractive(key) {\n",
              "        const element = document.querySelector('#df-19170352-fed5-473d-ac44-396c9ae8c214');\n",
              "        const dataTable =\n",
              "          await google.colab.kernel.invokeFunction('convertToInteractive',\n",
              "                                                    [key], {});\n",
              "        if (!dataTable) return;\n",
              "\n",
              "        const docLinkHtml = 'Like what you see? Visit the ' +\n",
              "          '<a target=\"_blank\" href=https://colab.research.google.com/notebooks/data_table.ipynb>data table notebook</a>'\n",
              "          + ' to learn more about interactive tables.';\n",
              "        element.innerHTML = '';\n",
              "        dataTable['output_type'] = 'display_data';\n",
              "        await google.colab.output.renderOutput(dataTable, element);\n",
              "        const docLink = document.createElement('div');\n",
              "        docLink.innerHTML = docLinkHtml;\n",
              "        element.appendChild(docLink);\n",
              "      }\n",
              "    </script>\n",
              "  </div>\n",
              "\n",
              "\n",
              "<div id=\"df-4ce6169f-74cb-4b2d-99a2-feda966a7e0a\">\n",
              "  <button class=\"colab-df-quickchart\" onclick=\"quickchart('df-4ce6169f-74cb-4b2d-99a2-feda966a7e0a')\"\n",
              "            title=\"Suggest charts\"\n",
              "            style=\"display:none;\">\n",
              "\n",
              "<svg xmlns=\"http://www.w3.org/2000/svg\" height=\"24px\"viewBox=\"0 0 24 24\"\n",
              "     width=\"24px\">\n",
              "    <g>\n",
              "        <path d=\"M19 3H5c-1.1 0-2 .9-2 2v14c0 1.1.9 2 2 2h14c1.1 0 2-.9 2-2V5c0-1.1-.9-2-2-2zM9 17H7v-7h2v7zm4 0h-2V7h2v10zm4 0h-2v-4h2v4z\"/>\n",
              "    </g>\n",
              "</svg>\n",
              "  </button>\n",
              "\n",
              "<style>\n",
              "  .colab-df-quickchart {\n",
              "      --bg-color: #E8F0FE;\n",
              "      --fill-color: #1967D2;\n",
              "      --hover-bg-color: #E2EBFA;\n",
              "      --hover-fill-color: #174EA6;\n",
              "      --disabled-fill-color: #AAA;\n",
              "      --disabled-bg-color: #DDD;\n",
              "  }\n",
              "\n",
              "  [theme=dark] .colab-df-quickchart {\n",
              "      --bg-color: #3B4455;\n",
              "      --fill-color: #D2E3FC;\n",
              "      --hover-bg-color: #434B5C;\n",
              "      --hover-fill-color: #FFFFFF;\n",
              "      --disabled-bg-color: #3B4455;\n",
              "      --disabled-fill-color: #666;\n",
              "  }\n",
              "\n",
              "  .colab-df-quickchart {\n",
              "    background-color: var(--bg-color);\n",
              "    border: none;\n",
              "    border-radius: 50%;\n",
              "    cursor: pointer;\n",
              "    display: none;\n",
              "    fill: var(--fill-color);\n",
              "    height: 32px;\n",
              "    padding: 0;\n",
              "    width: 32px;\n",
              "  }\n",
              "\n",
              "  .colab-df-quickchart:hover {\n",
              "    background-color: var(--hover-bg-color);\n",
              "    box-shadow: 0 1px 2px rgba(60, 64, 67, 0.3), 0 1px 3px 1px rgba(60, 64, 67, 0.15);\n",
              "    fill: var(--button-hover-fill-color);\n",
              "  }\n",
              "\n",
              "  .colab-df-quickchart-complete:disabled,\n",
              "  .colab-df-quickchart-complete:disabled:hover {\n",
              "    background-color: var(--disabled-bg-color);\n",
              "    fill: var(--disabled-fill-color);\n",
              "    box-shadow: none;\n",
              "  }\n",
              "\n",
              "  .colab-df-spinner {\n",
              "    border: 2px solid var(--fill-color);\n",
              "    border-color: transparent;\n",
              "    border-bottom-color: var(--fill-color);\n",
              "    animation:\n",
              "      spin 1s steps(1) infinite;\n",
              "  }\n",
              "\n",
              "  @keyframes spin {\n",
              "    0% {\n",
              "      border-color: transparent;\n",
              "      border-bottom-color: var(--fill-color);\n",
              "      border-left-color: var(--fill-color);\n",
              "    }\n",
              "    20% {\n",
              "      border-color: transparent;\n",
              "      border-left-color: var(--fill-color);\n",
              "      border-top-color: var(--fill-color);\n",
              "    }\n",
              "    30% {\n",
              "      border-color: transparent;\n",
              "      border-left-color: var(--fill-color);\n",
              "      border-top-color: var(--fill-color);\n",
              "      border-right-color: var(--fill-color);\n",
              "    }\n",
              "    40% {\n",
              "      border-color: transparent;\n",
              "      border-right-color: var(--fill-color);\n",
              "      border-top-color: var(--fill-color);\n",
              "    }\n",
              "    60% {\n",
              "      border-color: transparent;\n",
              "      border-right-color: var(--fill-color);\n",
              "    }\n",
              "    80% {\n",
              "      border-color: transparent;\n",
              "      border-right-color: var(--fill-color);\n",
              "      border-bottom-color: var(--fill-color);\n",
              "    }\n",
              "    90% {\n",
              "      border-color: transparent;\n",
              "      border-bottom-color: var(--fill-color);\n",
              "    }\n",
              "  }\n",
              "</style>\n",
              "\n",
              "  <script>\n",
              "    async function quickchart(key) {\n",
              "      const quickchartButtonEl =\n",
              "        document.querySelector('#' + key + ' button');\n",
              "      quickchartButtonEl.disabled = true;  // To prevent multiple clicks.\n",
              "      quickchartButtonEl.classList.add('colab-df-spinner');\n",
              "      try {\n",
              "        const charts = await google.colab.kernel.invokeFunction(\n",
              "            'suggestCharts', [key], {});\n",
              "      } catch (error) {\n",
              "        console.error('Error during call to suggestCharts:', error);\n",
              "      }\n",
              "      quickchartButtonEl.classList.remove('colab-df-spinner');\n",
              "      quickchartButtonEl.classList.add('colab-df-quickchart-complete');\n",
              "    }\n",
              "    (() => {\n",
              "      let quickchartButtonEl =\n",
              "        document.querySelector('#df-4ce6169f-74cb-4b2d-99a2-feda966a7e0a button');\n",
              "      quickchartButtonEl.style.display =\n",
              "        google.colab.kernel.accessAllowed ? 'block' : 'none';\n",
              "    })();\n",
              "  </script>\n",
              "</div>\n",
              "\n",
              "    </div>\n",
              "  </div>\n"
            ],
            "application/vnd.google.colaboratory.intrinsic+json": {
              "type": "dataframe",
              "variable_name": "purchases"
            }
          },
          "metadata": {},
          "execution_count": 103
        }
      ]
    },
    {
      "cell_type": "markdown",
      "source": [
        "# Customer Segmentation"
      ],
      "metadata": {
        "id": "lZMvkKn0EQI8"
      }
    },
    {
      "cell_type": "markdown",
      "source": [
        "## Saving time/urgency (for non-Prime members)"
      ],
      "metadata": {
        "id": "bQ48IB0wER4d"
      }
    },
    {
      "cell_type": "code",
      "source": [
        "urgency = customers[customers['Express Shipping'] >= 0.5]\n",
        "urgency = urgency[urgency['Time in Cart'] <= 20]\n",
        "urgency = urgency[urgency['Prime'] == 0]\n",
        "len(urgency)"
      ],
      "metadata": {
        "colab": {
          "base_uri": "https://localhost:8080/"
        },
        "id": "z8UnYEDnEVwt",
        "outputId": "09283c76-86a9-4f69-8f5b-2941d1d30aa6"
      },
      "execution_count": null,
      "outputs": [
        {
          "output_type": "execute_result",
          "data": {
            "text/plain": [
              "364"
            ]
          },
          "metadata": {},
          "execution_count": 96
        }
      ]
    },
    {
      "cell_type": "code",
      "source": [
        "len(urgency) / len(customers[customers['Prime'] == 0])\n"
      ],
      "metadata": {
        "colab": {
          "base_uri": "https://localhost:8080/"
        },
        "id": "LN2HP47cZWan",
        "outputId": "0c324a4a-8919-47d4-839c-6ad1db54c71d"
      },
      "execution_count": null,
      "outputs": [
        {
          "output_type": "execute_result",
          "data": {
            "text/plain": [
              "0.21125943122460825"
            ]
          },
          "metadata": {},
          "execution_count": 97
        }
      ]
    },
    {
      "cell_type": "markdown",
      "source": [
        "about 21% of non-prime users are more urgent (will pay for expedited shipping more often)."
      ],
      "metadata": {
        "id": "2hPUAtfdZS8r"
      }
    },
    {
      "cell_type": "code",
      "source": [
        "urgency['Cat_Urgency'] = 1\n",
        "urgency['Cat_Urgency'] = urgency['Cat_Urgency'].astype(int)\n",
        "urgency = urgency[['Survey ResponseID', 'Cat_Urgency']]\n",
        "customers = pd.merge(customers, urgency, on='Survey ResponseID', how='left')\n",
        "customers['Cat_Urgency'] = customers['Cat_Urgency'].fillna(0).astype(int)\n",
        "customers.head()"
      ],
      "metadata": {
        "colab": {
          "base_uri": "https://localhost:8080/",
          "height": 356
        },
        "id": "DRh7CaeYTruo",
        "outputId": "95adcc87-525d-4a41-b555-32fd10569210"
      },
      "execution_count": null,
      "outputs": [
        {
          "output_type": "error",
          "ename": "MergeError",
          "evalue": "Passing 'suffixes' which cause duplicate columns {'Cat_Urgency_x'} is not allowed.",
          "traceback": [
            "\u001b[0;31m---------------------------------------------------------------------------\u001b[0m",
            "\u001b[0;31mMergeError\u001b[0m                                Traceback (most recent call last)",
            "\u001b[0;32m<ipython-input-98-721916446cf6>\u001b[0m in \u001b[0;36m<cell line: 4>\u001b[0;34m()\u001b[0m\n\u001b[1;32m      2\u001b[0m \u001b[0murgency\u001b[0m\u001b[0;34m[\u001b[0m\u001b[0;34m'Cat_Urgency'\u001b[0m\u001b[0;34m]\u001b[0m \u001b[0;34m=\u001b[0m \u001b[0murgency\u001b[0m\u001b[0;34m[\u001b[0m\u001b[0;34m'Cat_Urgency'\u001b[0m\u001b[0;34m]\u001b[0m\u001b[0;34m.\u001b[0m\u001b[0mastype\u001b[0m\u001b[0;34m(\u001b[0m\u001b[0mint\u001b[0m\u001b[0;34m)\u001b[0m\u001b[0;34m\u001b[0m\u001b[0;34m\u001b[0m\u001b[0m\n\u001b[1;32m      3\u001b[0m \u001b[0murgency\u001b[0m \u001b[0;34m=\u001b[0m \u001b[0murgency\u001b[0m\u001b[0;34m[\u001b[0m\u001b[0;34m[\u001b[0m\u001b[0;34m'Survey ResponseID'\u001b[0m\u001b[0;34m,\u001b[0m \u001b[0;34m'Cat_Urgency'\u001b[0m\u001b[0;34m]\u001b[0m\u001b[0;34m]\u001b[0m\u001b[0;34m\u001b[0m\u001b[0;34m\u001b[0m\u001b[0m\n\u001b[0;32m----> 4\u001b[0;31m \u001b[0mcustomers\u001b[0m \u001b[0;34m=\u001b[0m \u001b[0mpd\u001b[0m\u001b[0;34m.\u001b[0m\u001b[0mmerge\u001b[0m\u001b[0;34m(\u001b[0m\u001b[0mcustomers\u001b[0m\u001b[0;34m,\u001b[0m \u001b[0murgency\u001b[0m\u001b[0;34m,\u001b[0m \u001b[0mon\u001b[0m\u001b[0;34m=\u001b[0m\u001b[0;34m'Survey ResponseID'\u001b[0m\u001b[0;34m,\u001b[0m \u001b[0mhow\u001b[0m\u001b[0;34m=\u001b[0m\u001b[0;34m'left'\u001b[0m\u001b[0;34m)\u001b[0m\u001b[0;34m\u001b[0m\u001b[0;34m\u001b[0m\u001b[0m\n\u001b[0m\u001b[1;32m      5\u001b[0m \u001b[0mcustomers\u001b[0m\u001b[0;34m[\u001b[0m\u001b[0;34m'Cat_Urgency'\u001b[0m\u001b[0;34m]\u001b[0m \u001b[0;34m=\u001b[0m \u001b[0mcustomers\u001b[0m\u001b[0;34m[\u001b[0m\u001b[0;34m'Cat_Urgency'\u001b[0m\u001b[0;34m]\u001b[0m\u001b[0;34m.\u001b[0m\u001b[0mfillna\u001b[0m\u001b[0;34m(\u001b[0m\u001b[0;36m0\u001b[0m\u001b[0;34m)\u001b[0m\u001b[0;34m.\u001b[0m\u001b[0mastype\u001b[0m\u001b[0;34m(\u001b[0m\u001b[0mint\u001b[0m\u001b[0;34m)\u001b[0m\u001b[0;34m\u001b[0m\u001b[0;34m\u001b[0m\u001b[0m\n\u001b[1;32m      6\u001b[0m \u001b[0mcustomers\u001b[0m\u001b[0;34m.\u001b[0m\u001b[0mhead\u001b[0m\u001b[0;34m(\u001b[0m\u001b[0;34m)\u001b[0m\u001b[0;34m\u001b[0m\u001b[0;34m\u001b[0m\u001b[0m\n",
            "\u001b[0;32m/usr/local/lib/python3.10/dist-packages/pandas/core/reshape/merge.py\u001b[0m in \u001b[0;36mmerge\u001b[0;34m(left, right, how, on, left_on, right_on, left_index, right_index, sort, suffixes, copy, indicator, validate)\u001b[0m\n\u001b[1;32m    182\u001b[0m             \u001b[0mvalidate\u001b[0m\u001b[0;34m=\u001b[0m\u001b[0mvalidate\u001b[0m\u001b[0;34m,\u001b[0m\u001b[0;34m\u001b[0m\u001b[0;34m\u001b[0m\u001b[0m\n\u001b[1;32m    183\u001b[0m         )\n\u001b[0;32m--> 184\u001b[0;31m         \u001b[0;32mreturn\u001b[0m \u001b[0mop\u001b[0m\u001b[0;34m.\u001b[0m\u001b[0mget_result\u001b[0m\u001b[0;34m(\u001b[0m\u001b[0mcopy\u001b[0m\u001b[0;34m=\u001b[0m\u001b[0mcopy\u001b[0m\u001b[0;34m)\u001b[0m\u001b[0;34m\u001b[0m\u001b[0;34m\u001b[0m\u001b[0m\n\u001b[0m\u001b[1;32m    185\u001b[0m \u001b[0;34m\u001b[0m\u001b[0m\n\u001b[1;32m    186\u001b[0m \u001b[0;34m\u001b[0m\u001b[0m\n",
            "\u001b[0;32m/usr/local/lib/python3.10/dist-packages/pandas/core/reshape/merge.py\u001b[0m in \u001b[0;36mget_result\u001b[0;34m(self, copy)\u001b[0m\n\u001b[1;32m    886\u001b[0m         \u001b[0mjoin_index\u001b[0m\u001b[0;34m,\u001b[0m \u001b[0mleft_indexer\u001b[0m\u001b[0;34m,\u001b[0m \u001b[0mright_indexer\u001b[0m \u001b[0;34m=\u001b[0m \u001b[0mself\u001b[0m\u001b[0;34m.\u001b[0m\u001b[0m_get_join_info\u001b[0m\u001b[0;34m(\u001b[0m\u001b[0;34m)\u001b[0m\u001b[0;34m\u001b[0m\u001b[0;34m\u001b[0m\u001b[0m\n\u001b[1;32m    887\u001b[0m \u001b[0;34m\u001b[0m\u001b[0m\n\u001b[0;32m--> 888\u001b[0;31m         result = self._reindex_and_concat(\n\u001b[0m\u001b[1;32m    889\u001b[0m             \u001b[0mjoin_index\u001b[0m\u001b[0;34m,\u001b[0m \u001b[0mleft_indexer\u001b[0m\u001b[0;34m,\u001b[0m \u001b[0mright_indexer\u001b[0m\u001b[0;34m,\u001b[0m \u001b[0mcopy\u001b[0m\u001b[0;34m=\u001b[0m\u001b[0mcopy\u001b[0m\u001b[0;34m\u001b[0m\u001b[0;34m\u001b[0m\u001b[0m\n\u001b[1;32m    890\u001b[0m         )\n",
            "\u001b[0;32m/usr/local/lib/python3.10/dist-packages/pandas/core/reshape/merge.py\u001b[0m in \u001b[0;36m_reindex_and_concat\u001b[0;34m(self, join_index, left_indexer, right_indexer, copy)\u001b[0m\n\u001b[1;32m    838\u001b[0m         \u001b[0mright\u001b[0m \u001b[0;34m=\u001b[0m \u001b[0mself\u001b[0m\u001b[0;34m.\u001b[0m\u001b[0mright\u001b[0m\u001b[0;34m[\u001b[0m\u001b[0;34m:\u001b[0m\u001b[0;34m]\u001b[0m\u001b[0;34m\u001b[0m\u001b[0;34m\u001b[0m\u001b[0m\n\u001b[1;32m    839\u001b[0m \u001b[0;34m\u001b[0m\u001b[0m\n\u001b[0;32m--> 840\u001b[0;31m         llabels, rlabels = _items_overlap_with_suffix(\n\u001b[0m\u001b[1;32m    841\u001b[0m             \u001b[0mself\u001b[0m\u001b[0;34m.\u001b[0m\u001b[0mleft\u001b[0m\u001b[0;34m.\u001b[0m\u001b[0m_info_axis\u001b[0m\u001b[0;34m,\u001b[0m \u001b[0mself\u001b[0m\u001b[0;34m.\u001b[0m\u001b[0mright\u001b[0m\u001b[0;34m.\u001b[0m\u001b[0m_info_axis\u001b[0m\u001b[0;34m,\u001b[0m \u001b[0mself\u001b[0m\u001b[0;34m.\u001b[0m\u001b[0msuffixes\u001b[0m\u001b[0;34m\u001b[0m\u001b[0;34m\u001b[0m\u001b[0m\n\u001b[1;32m    842\u001b[0m         )\n",
            "\u001b[0;32m/usr/local/lib/python3.10/dist-packages/pandas/core/reshape/merge.py\u001b[0m in \u001b[0;36m_items_overlap_with_suffix\u001b[0;34m(left, right, suffixes)\u001b[0m\n\u001b[1;32m   2755\u001b[0m         \u001b[0mdups\u001b[0m\u001b[0;34m.\u001b[0m\u001b[0mextend\u001b[0m\u001b[0;34m(\u001b[0m\u001b[0mrlabels\u001b[0m\u001b[0;34m[\u001b[0m\u001b[0;34m(\u001b[0m\u001b[0mrlabels\u001b[0m\u001b[0;34m.\u001b[0m\u001b[0mduplicated\u001b[0m\u001b[0;34m(\u001b[0m\u001b[0;34m)\u001b[0m\u001b[0;34m)\u001b[0m \u001b[0;34m&\u001b[0m \u001b[0;34m(\u001b[0m\u001b[0;34m~\u001b[0m\u001b[0mright\u001b[0m\u001b[0;34m.\u001b[0m\u001b[0mduplicated\u001b[0m\u001b[0;34m(\u001b[0m\u001b[0;34m)\u001b[0m\u001b[0;34m)\u001b[0m\u001b[0;34m]\u001b[0m\u001b[0;34m.\u001b[0m\u001b[0mtolist\u001b[0m\u001b[0;34m(\u001b[0m\u001b[0;34m)\u001b[0m\u001b[0;34m)\u001b[0m\u001b[0;34m\u001b[0m\u001b[0;34m\u001b[0m\u001b[0m\n\u001b[1;32m   2756\u001b[0m     \u001b[0;32mif\u001b[0m \u001b[0mdups\u001b[0m\u001b[0;34m:\u001b[0m\u001b[0;34m\u001b[0m\u001b[0;34m\u001b[0m\u001b[0m\n\u001b[0;32m-> 2757\u001b[0;31m         raise MergeError(\n\u001b[0m\u001b[1;32m   2758\u001b[0m             \u001b[0;34mf\"Passing 'suffixes' which cause duplicate columns {set(dups)} is \"\u001b[0m\u001b[0;34m\u001b[0m\u001b[0;34m\u001b[0m\u001b[0m\n\u001b[1;32m   2759\u001b[0m             \u001b[0;34mf\"not allowed.\"\u001b[0m\u001b[0;34m,\u001b[0m\u001b[0;34m\u001b[0m\u001b[0;34m\u001b[0m\u001b[0m\n",
            "\u001b[0;31mMergeError\u001b[0m: Passing 'suffixes' which cause duplicate columns {'Cat_Urgency_x'} is not allowed."
          ]
        }
      ]
    },
    {
      "cell_type": "markdown",
      "source": [
        "## Impulse buyer"
      ],
      "metadata": {
        "id": "XCODFEyvJYFR"
      }
    },
    {
      "cell_type": "code",
      "source": [
        "impulse = customers[customers['Time in Cart'] <= 20]\n",
        "impulse = impulse[impulse['Time on Page'] <= 2.5]\n",
        "impulse = impulse[impulse['Check Review'] == 0 ]\n",
        "impulse = impulse[impulse['Refund rate'] > 0.05]\n",
        "len(impulse)"
      ],
      "metadata": {
        "id": "VqTZhMqmJb8i"
      },
      "execution_count": null,
      "outputs": []
    },
    {
      "cell_type": "code",
      "source": [
        "len(impulse) / len(customers)"
      ],
      "metadata": {
        "id": "pD0XOOn4Ztdq"
      },
      "execution_count": null,
      "outputs": []
    },
    {
      "cell_type": "markdown",
      "source": [
        "about 36% of customers are impulse buyers."
      ],
      "metadata": {
        "id": "5Uq_LmoGZv4T"
      }
    },
    {
      "cell_type": "code",
      "source": [
        "impulse['Cat_Impulse'] = 1\n",
        "impulse['Cat_Impulse'] = impulse['Cat_Impulse'].astype(int)\n",
        "impulse = impulse[['Survey ResponseID', 'Cat_Impulse']]\n",
        "customers = pd.merge(customers, impulse, on='Survey ResponseID', how='left')\n",
        "customers['Cat_Impulse'] = customers['Cat_Impulse'].fillna(0).astype(int)\n",
        "customers.head()"
      ],
      "metadata": {
        "id": "ZfdPNa6RTJij"
      },
      "execution_count": null,
      "outputs": []
    },
    {
      "cell_type": "markdown",
      "source": [
        "## Indecisive/cautious"
      ],
      "metadata": {
        "id": "q_zZPgKlMCHv"
      }
    },
    {
      "cell_type": "code",
      "source": [
        "indecisive = customers[customers['Cart Abandonment Rate'] >= 0.75]\n",
        "indecisive = indecisive[indecisive['Check Review'] == 1]\n",
        "indecisive = indecisive[indecisive['Time on Page'] >= 7]\n",
        "indecisive = indecisive[indecisive['Time in Cart'] >= 30]\n",
        "len(indecisive)"
      ],
      "metadata": {
        "id": "L2KG0FjVMEt6"
      },
      "execution_count": null,
      "outputs": []
    },
    {
      "cell_type": "code",
      "source": [
        "len(indecisive) / len(customers)"
      ],
      "metadata": {
        "id": "MM9MIwW5bX4J"
      },
      "execution_count": null,
      "outputs": []
    },
    {
      "cell_type": "markdown",
      "source": [
        "about 13% of customers are indecisive buyers"
      ],
      "metadata": {
        "id": "efaT9L9ebbe_"
      }
    },
    {
      "cell_type": "code",
      "source": [
        "indecisive['Cat_Indecisive'] = 1\n",
        "indecisive['Cat_Indecisive'] = indecisive['Cat_Indecisive'].astype(int)\n",
        "indecisive = indecisive[['Survey ResponseID', 'Cat_Indecisive']]\n",
        "customers = pd.merge(customers, indecisive, on='Survey ResponseID', how='left')\n",
        "customers['Cat_Indecisive'] = customers['Cat_Indecisive'].fillna(0).astype(int)\n",
        "customers.head()"
      ],
      "metadata": {
        "id": "ZGNPMXsPbizt"
      },
      "execution_count": null,
      "outputs": []
    },
    {
      "cell_type": "markdown",
      "source": [
        "## Category"
      ],
      "metadata": {
        "id": "ZIDCy8oLbPP3"
      }
    },
    {
      "cell_type": "code",
      "source": [
        "cat = customers[customers['Category'].notnull()]\n",
        "len(cat)"
      ],
      "metadata": {
        "id": "oI4wEYdrbTRU"
      },
      "execution_count": null,
      "outputs": []
    },
    {
      "cell_type": "code",
      "source": [
        "len(indecisive) / len(customers)"
      ],
      "metadata": {
        "id": "7TKCvYx0b8BH"
      },
      "execution_count": null,
      "outputs": []
    },
    {
      "cell_type": "markdown",
      "source": [
        "about 13% of customers have a frequently purchased category that they stick to when ordering"
      ],
      "metadata": {
        "id": "qYfvMzLub_oe"
      }
    },
    {
      "cell_type": "code",
      "source": [
        "cat['Cat_Category'] = 1\n",
        "cat['Cat_Category'] = cat['Cat_Category'].astype(int)\n",
        "cat = cat[['Survey ResponseID', 'Cat_Category']]\n",
        "customers = pd.merge(customers, cat, on='Survey ResponseID', how='left')\n",
        "customers['Cat_Category'] = customers['Cat_Category'].fillna(0).astype(int)\n",
        "customers.head()"
      ],
      "metadata": {
        "id": "VVm15gEudpoc"
      },
      "execution_count": null,
      "outputs": []
    },
    {
      "cell_type": "markdown",
      "source": [
        "## Price sensitive"
      ],
      "metadata": {
        "id": "Q7pwH84YcIgK"
      }
    },
    {
      "cell_type": "code",
      "source": [
        "discount = customers[customers['Keep Discount'] == 1]\n",
        "discount = customers[customers['Pct Discount'] >= 0.4]\n",
        "len(discount)"
      ],
      "metadata": {
        "id": "jd-YyaoXhl0r"
      },
      "execution_count": null,
      "outputs": []
    },
    {
      "cell_type": "code",
      "source": [
        "len(discount) / len(customers)"
      ],
      "metadata": {
        "id": "ky373qJkGmdS"
      },
      "execution_count": null,
      "outputs": []
    },
    {
      "cell_type": "code",
      "source": [
        "discount['Cat_Discount'] = 1\n",
        "discount['Cat_Discount'] = discount['Cat_Discount'].astype(int)\n",
        "discount = discount[['Survey ResponseID', 'Cat_Discount']]\n",
        "customers = pd.merge(customers, discount, on='Survey ResponseID', how='left')\n",
        "customers['Cat_Discount'] = customers['Cat_Discount'].fillna(0).astype(int)\n",
        "customers.head()"
      ],
      "metadata": {
        "id": "1EZfi_VvGpIX"
      },
      "execution_count": null,
      "outputs": []
    },
    {
      "cell_type": "code",
      "source": [
        "customers = customers.drop(columns = ['Keep Discount'])"
      ],
      "metadata": {
        "id": "oX5TDXYMW4qI"
      },
      "execution_count": null,
      "outputs": []
    },
    {
      "cell_type": "markdown",
      "source": [
        "## Marketing Engagement"
      ],
      "metadata": {
        "id": "wX_SDoQhcZK5"
      }
    },
    {
      "cell_type": "code",
      "source": [
        "cols_to_check = ['Email CTC', 'Display Ad CTC', 'Video Ad CTC', 'Search Engine Ad CTC', 'Social Media Ad CTC']\n",
        "filtered_cust = customers[customers[cols_to_check].gt(0).any(axis=1)]\n",
        "len(filtered_cust)"
      ],
      "metadata": {
        "id": "ZYhKMeCrc3T2"
      },
      "execution_count": null,
      "outputs": []
    },
    {
      "cell_type": "code",
      "source": [
        "len(filtered_cust) / len(customers)"
      ],
      "metadata": {
        "id": "kpXEiOuAdi74"
      },
      "execution_count": null,
      "outputs": []
    },
    {
      "cell_type": "markdown",
      "source": [
        "about 88% of customers were engaged by any one of the marketing ads"
      ],
      "metadata": {
        "id": "X80iEWURd-x3"
      }
    },
    {
      "cell_type": "code",
      "source": [
        "filtered_cust['Cat_Engagement'] = 1\n",
        "filtered_cust['Cat_Engagement'] = filtered_cust['Cat_Engagement'].astype(int)\n",
        "filtered_cust = filtered_cust[['Survey ResponseID', 'Cat_Engagement']]\n",
        "customers = pd.merge(customers, filtered_cust, on='Survey ResponseID', how='left')\n",
        "customers['Cat_Engagement'] = customers['Cat_Engagement'].fillna(0).astype(int)\n",
        "customers.head()"
      ],
      "metadata": {
        "id": "SkJEgHUdd5DB"
      },
      "execution_count": null,
      "outputs": []
    },
    {
      "cell_type": "markdown",
      "source": [
        "## High Value Customers"
      ],
      "metadata": {
        "id": "vjKbpwI9egeL"
      }
    },
    {
      "cell_type": "code",
      "source": [
        "hvc = customers.copy()\n",
        "hvc[['R', 'F', 'M']] = hvc['RFM'].astype(str).apply(lambda x: pd.Series(list(x)))\n",
        "hvc[['R', 'F', 'M']] = hvc[['R', 'F', 'M']].astype(int)\n",
        "hvc.head()"
      ],
      "metadata": {
        "id": "s-upQ_Zleloj"
      },
      "execution_count": null,
      "outputs": []
    },
    {
      "cell_type": "code",
      "source": [
        "hvc_f = hvc[hvc['F'] == 3]\n",
        "len(hvc_f) / len(customers)"
      ],
      "metadata": {
        "id": "x7tqR9_-hSww"
      },
      "execution_count": null,
      "outputs": []
    },
    {
      "cell_type": "markdown",
      "source": [
        "about 25% of customers are high value (frequent) customers"
      ],
      "metadata": {
        "id": "FRYJntmSiQK6"
      }
    },
    {
      "cell_type": "code",
      "source": [
        "hvc_f['Cat_High_Value_F'] = 1\n",
        "hvc_f['Cat_High_Value_F'] = hvc_f['Cat_High_Value_F'].astype(int)\n",
        "hvc_f = hvc_f[['Survey ResponseID', 'Cat_High_Value_F']]\n",
        "customers = pd.merge(customers, hvc_f, on='Survey ResponseID', how='left')\n",
        "customers['Cat_High_Value_F'] = customers['Cat_High_Value_F'].fillna(0).astype(int)\n",
        "customers.head()"
      ],
      "metadata": {
        "id": "T7PgcwltiEpX"
      },
      "execution_count": null,
      "outputs": []
    },
    {
      "cell_type": "code",
      "source": [
        "hvc_m = hvc[hvc['M'] == 3]\n",
        "len(hvc_m) / len(customers)"
      ],
      "metadata": {
        "id": "9HhzxSUqiWmG"
      },
      "execution_count": null,
      "outputs": []
    },
    {
      "cell_type": "markdown",
      "source": [
        "about 25% of customers are high value (high spending) customers"
      ],
      "metadata": {
        "id": "4Qc6--SWieT1"
      }
    },
    {
      "cell_type": "code",
      "source": [
        "hvc_m['Cat_High_Value_M'] = 1\n",
        "hvc_m['Cat_High_Value_M'] = hvc_m['Cat_High_Value_M'].astype(int)\n",
        "hvc_m = hvc_m[['Survey ResponseID', 'Cat_High_Value_M']]\n",
        "customers = pd.merge(customers, hvc_m, on='Survey ResponseID', how='left')\n",
        "customers['Cat_High_Value_M'] = customers['Cat_High_Value_M'].fillna(0).astype(int)\n",
        "customers.head()"
      ],
      "metadata": {
        "id": "xAs1wyByibCX"
      },
      "execution_count": null,
      "outputs": []
    },
    {
      "cell_type": "code",
      "source": [
        "customers.info()"
      ],
      "metadata": {
        "id": "bwiILLD2Mzzs"
      },
      "execution_count": null,
      "outputs": []
    },
    {
      "cell_type": "markdown",
      "source": [
        "## Analysis"
      ],
      "metadata": {
        "id": "eg8j4PshESNc"
      }
    },
    {
      "cell_type": "code",
      "source": [
        "customers.head()"
      ],
      "metadata": {
        "id": "zBJLR_UpEvB1"
      },
      "execution_count": null,
      "outputs": []
    },
    {
      "cell_type": "code",
      "source": [
        "customers.info()"
      ],
      "metadata": {
        "id": "HR0UKLMdFFp0"
      },
      "execution_count": null,
      "outputs": []
    },
    {
      "cell_type": "code",
      "source": [
        "label_count = customers.iloc[:, 17:25].sum(axis=0)\n",
        "print(label_count)"
      ],
      "metadata": {
        "id": "0_OXcrMdGbrg"
      },
      "execution_count": null,
      "outputs": []
    },
    {
      "cell_type": "code",
      "source": [
        "label_percentage = (label_count / len(customers)) * 100\n",
        "print(label_percentage)"
      ],
      "metadata": {
        "id": "JI2TvcCHVQVd"
      },
      "execution_count": null,
      "outputs": []
    },
    {
      "cell_type": "code",
      "source": [
        "impulse_engaged = customers[(customers['Cat_Engagement'] == 1) & (customers['Cat_Impulse'] == 1)].shape[0]\n",
        "impulse_engaged / 1779 * 100"
      ],
      "metadata": {
        "id": "2ks2d_bYt1IG"
      },
      "execution_count": null,
      "outputs": []
    },
    {
      "cell_type": "code",
      "source": [
        "discount_indecisive = customers[(customers['Cat_Indecisive'] == 1) & (customers['Cat_Discount'] == 1)].shape[0]\n",
        "discount_indecisive / 3460 * 100"
      ],
      "metadata": {
        "id": "3aVCr-MJ2v3T"
      },
      "execution_count": null,
      "outputs": []
    },
    {
      "cell_type": "markdown",
      "source": [
        "# RFM"
      ],
      "metadata": {
        "id": "mD_c6sv4MpTb"
      }
    },
    {
      "cell_type": "code",
      "source": [
        "def rfm(purchases,customers):\n",
        "  customers['RFM'] = customers['RFM'].astype(str)\n",
        "  customers['Churn Risk'] = customers['RFM'].str[0].apply(lambda x: \"Active\" if x == \"3\" else (\"At risk\" if x == \"2\" else \"Churned\"))\n",
        "  return(customers)\n",
        "print(customers.columns)"
      ],
      "metadata": {
        "id": "8nPSpRorDDim",
        "colab": {
          "base_uri": "https://localhost:8080/"
        },
        "outputId": "32147b38-821f-46be-c25e-f76cfa0d8046"
      },
      "execution_count": null,
      "outputs": [
        {
          "output_type": "stream",
          "name": "stdout",
          "text": [
            "Index(['Survey ResponseID', 'Prime', 'Email CTC', 'Display Ad CTC',\n",
            "       'Video Ad CTC', 'Search Engine Ad CTC', 'Social Media Ad CTC',\n",
            "       'Average CTC', 'Express Shipping', 'Cart Abandonment Rate',\n",
            "       'Check Review', 'Refund rate', 'Time in Cart', 'Time on Page', 'RFM',\n",
            "       'Pct Discount', 'Category', 'Cat_Urgency', 'Cat_Impulse',\n",
            "       'Cat_Indecisive', 'Cat_Category', 'Cat_Discount', 'Cat_Engagement',\n",
            "       'Cat_High_Value_F', 'Cat_High_Value_M', 'Churn Risk'],\n",
            "      dtype='object')\n"
          ]
        }
      ]
    },
    {
      "cell_type": "code",
      "source": [
        "#urgency\n",
        "customers_urgency = customers[customers['Cat_Urgency'] == 1]\n",
        "trans_urgency = pd.merge(customers_urgency, purchases, on='Survey ResponseID', how='left')\n",
        "rfm_urgency = rfm(trans_urgency, customers_urgency)\n",
        "\n",
        "#impulse\n",
        "customers_impulse = customers[customers['Cat_Impulse'] == 1]\n",
        "trans_impulse = pd.merge(customers_impulse, purchases, on='Survey ResponseID', how='left')\n",
        "rfm_impulse = rfm(trans_impulse, customers_impulse)\n",
        "\n",
        "#indecisive\n",
        "customers_indecisive = customers[customers['Cat_Indecisive'] == 1]\n",
        "trans_indecisive = pd.merge(customers_indecisive, purchases, on='Survey ResponseID', how='left')\n",
        "rfm_indecisive = rfm(trans_indecisive, customers_indecisive)\n",
        "\n",
        "#category\n",
        "customers_category = customers[customers[\"Cat_Category\"] == 1]\n",
        "trans_category = pd.merge(customers_category, purchases, on='Survey ResponseID', how='left')\n",
        "rfm_category = rfm(trans_category, customers_category)\n",
        "\n",
        "#engagement\n",
        "customers_engagement = customers[customers[\"Cat_Engagement\"] == 1]\n",
        "trans_engagement = pd.merge(customers_engagement, purchases, on='Survey ResponseID', how='left')\n",
        "rfm_engagement = rfm(trans_engagement, customers_engagement)\n",
        "\n",
        "#high value F\n",
        "customers_highvalf = customers[customers['Cat_High_Value_F'] == 1]\n",
        "trans_highvalf = pd.merge(customers_highvalf, purchases, on='Survey ResponseID', how='left')\n",
        "rfm_highvalf = rfm(trans_highvalf, customers_highvalf)\n",
        "\n",
        "#high value M\n",
        "customers_highvalm = customers[customers['Cat_High_Value_M'] == 1]\n",
        "trans_highvalm = pd.merge(customers_highvalm, purchases, on='Survey ResponseID', how='left')\n",
        "rfm_highvalm = rfm(trans_highvalm, customers_highvalm)\n",
        "\n",
        "#discount\n",
        "customers_discount = customers[customers[\"Cat_Discount\"] == 1]\n",
        "trans_discount = pd.merge(customers_discount, purchases, on='Survey ResponseID', how='left')\n",
        "rfm_discount = rfm(trans_discount, customers_discount)\n",
        "\n",
        "churn_segments_data = {\n",
        "    'Segment': [],\n",
        "    'Active': [],\n",
        "    'At risk': [],\n",
        "    'Churned': [],\n",
        "    'Size': []\n",
        "}\n",
        "\n",
        "churn_segments = pd.DataFrame(churn_segments_data)\n",
        "\n",
        "churn_segments.loc[len(churn_segments)] = [\"Urgency\", rfm_urgency[rfm_urgency['Churn Risk'] == \"Active\"].shape[0]/rfm_urgency.shape[0],\n",
        "                                           rfm_urgency[rfm_urgency['Churn Risk'] == \"At risk\"].shape[0]/rfm_urgency.shape[0],\n",
        "                                           rfm_urgency[rfm_urgency['Churn Risk'] == \"Churned\"].shape[0]/rfm_urgency.shape[0],\n",
        "                                           rfm_urgency.shape[0]/customers.shape[0]]\n",
        "churn_segments.loc[len(churn_segments)] = [\"Impulse\", rfm_impulse[rfm_impulse['Churn Risk'] == \"Active\"].shape[0]/rfm_impulse.shape[0],\n",
        "                                           rfm_impulse[rfm_impulse['Churn Risk'] == \"At risk\"].shape[0]/rfm_impulse.shape[0],\n",
        "                                           rfm_impulse[rfm_impulse['Churn Risk'] == \"Churned\"].shape[0]/rfm_impulse.shape[0],\n",
        "                                           rfm_impulse.shape[0]/customers.shape[0]]\n",
        "churn_segments.loc[len(churn_segments)] = [\"Indecisive\", rfm_indecisive[rfm_indecisive['Churn Risk'] == \"Active\"].shape[0]/rfm_indecisive.shape[0],\n",
        "                                           rfm_indecisive[rfm_indecisive['Churn Risk'] == \"At risk\"].shape[0]/rfm_indecisive.shape[0],\n",
        "                                           rfm_indecisive[rfm_indecisive['Churn Risk'] == \"Churned\"].shape[0]/rfm_indecisive.shape[0],\n",
        "                                           rfm_indecisive.shape[0]/customers.shape[0]]\n",
        "churn_segments.loc[len(churn_segments)] = [\"Category\", rfm_category[rfm_category['Churn Risk'] == \"Active\"].shape[0]/rfm_category.shape[0],\n",
        "                                           rfm_category[rfm_category['Churn Risk'] == \"At risk\"].shape[0]/rfm_category.shape[0],\n",
        "                                           rfm_category[rfm_category['Churn Risk'] == \"Churned\"].shape[0]/rfm_category.shape[0],\n",
        "                                           rfm_category.shape[0]/customers.shape[0]]\n",
        "churn_segments.loc[len(churn_segments)] = [\"Engagement\", rfm_engagement[rfm_engagement['Churn Risk'] == \"Active\"].shape[0]/rfm_engagement.shape[0],\n",
        "                                           rfm_engagement[rfm_engagement['Churn Risk'] == \"At risk\"].shape[0]/rfm_engagement.shape[0],\n",
        "                                           rfm_engagement[rfm_engagement['Churn Risk'] == \"Churned\"].shape[0]/rfm_engagement.shape[0],\n",
        "                                           rfm_engagement.shape[0]/customers.shape[0]]\n",
        "churn_segments.loc[len(churn_segments)] = [\"High Value Frequency\", rfm_highvalf[rfm_highvalf['Churn Risk'] == \"Active\"].shape[0]/rfm_highvalf.shape[0],\n",
        "                                           rfm_highvalf[rfm_highvalf['Churn Risk'] == \"At risk\"].shape[0]/rfm_highvalf.shape[0],\n",
        "                                           rfm_highvalf[rfm_highvalf['Churn Risk'] == \"Churned\"].shape[0]/rfm_highvalf.shape[0],\n",
        "                                           rfm_highvalf.shape[0]/customers.shape[0]]\n",
        "churn_segments.loc[len(churn_segments)] = [\"High Value Monetary\", rfm_highvalm[rfm_highvalm['Churn Risk'] == \"Active\"].shape[0]/rfm_highvalm.shape[0],\n",
        "                                           rfm_highvalm[rfm_highvalm['Churn Risk'] == \"At risk\"].shape[0]/rfm_highvalm.shape[0],\n",
        "                                           rfm_highvalm[rfm_highvalm['Churn Risk'] == \"Churned\"].shape[0]/rfm_highvalm.shape[0],\n",
        "                                           rfm_highvalm.shape[0]/customers.shape[0]]\n",
        "churn_segments.loc[len(churn_segments)] = [\"Discount\", rfm_discount[rfm_discount['Churn Risk'] == \"Active\"].shape[0]/rfm_discount.shape[0],\n",
        "                                           rfm_discount[rfm_discount['Churn Risk'] == \"At risk\"].shape[0]/rfm_discount.shape[0],\n",
        "                                           rfm_discount[rfm_discount['Churn Risk'] == \"Churned\"].shape[0]/rfm_discount.shape[0],\n",
        "                                           rfm_discount.shape[0]/customers.shape[0]]\n",
        "\n",
        "churn_segments.head(10)"
      ],
      "metadata": {
        "colab": {
          "base_uri": "https://localhost:8080/",
          "height": 1000
        },
        "id": "PaCQfhCrEWhc",
        "outputId": "a581ad6d-ad01-4e5e-c76f-748b5d891732"
      },
      "execution_count": null,
      "outputs": [
        {
          "output_type": "stream",
          "name": "stderr",
          "text": [
            "<ipython-input-50-70e0616cf76a>:2: SettingWithCopyWarning: \n",
            "A value is trying to be set on a copy of a slice from a DataFrame.\n",
            "Try using .loc[row_indexer,col_indexer] = value instead\n",
            "\n",
            "See the caveats in the documentation: https://pandas.pydata.org/pandas-docs/stable/user_guide/indexing.html#returning-a-view-versus-a-copy\n",
            "  customers['RFM'] = customers['RFM'].astype(str)\n",
            "<ipython-input-50-70e0616cf76a>:3: SettingWithCopyWarning: \n",
            "A value is trying to be set on a copy of a slice from a DataFrame.\n",
            "Try using .loc[row_indexer,col_indexer] = value instead\n",
            "\n",
            "See the caveats in the documentation: https://pandas.pydata.org/pandas-docs/stable/user_guide/indexing.html#returning-a-view-versus-a-copy\n",
            "  customers['Churn Risk'] = customers['RFM'].str[0].apply(lambda x: \"Active\" if x == \"3\" else (\"At risk\" if x == \"2\" else \"Churned\"))\n",
            "<ipython-input-50-70e0616cf76a>:2: SettingWithCopyWarning: \n",
            "A value is trying to be set on a copy of a slice from a DataFrame.\n",
            "Try using .loc[row_indexer,col_indexer] = value instead\n",
            "\n",
            "See the caveats in the documentation: https://pandas.pydata.org/pandas-docs/stable/user_guide/indexing.html#returning-a-view-versus-a-copy\n",
            "  customers['RFM'] = customers['RFM'].astype(str)\n",
            "<ipython-input-50-70e0616cf76a>:3: SettingWithCopyWarning: \n",
            "A value is trying to be set on a copy of a slice from a DataFrame.\n",
            "Try using .loc[row_indexer,col_indexer] = value instead\n",
            "\n",
            "See the caveats in the documentation: https://pandas.pydata.org/pandas-docs/stable/user_guide/indexing.html#returning-a-view-versus-a-copy\n",
            "  customers['Churn Risk'] = customers['RFM'].str[0].apply(lambda x: \"Active\" if x == \"3\" else (\"At risk\" if x == \"2\" else \"Churned\"))\n",
            "<ipython-input-50-70e0616cf76a>:2: SettingWithCopyWarning: \n",
            "A value is trying to be set on a copy of a slice from a DataFrame.\n",
            "Try using .loc[row_indexer,col_indexer] = value instead\n",
            "\n",
            "See the caveats in the documentation: https://pandas.pydata.org/pandas-docs/stable/user_guide/indexing.html#returning-a-view-versus-a-copy\n",
            "  customers['RFM'] = customers['RFM'].astype(str)\n",
            "<ipython-input-50-70e0616cf76a>:3: SettingWithCopyWarning: \n",
            "A value is trying to be set on a copy of a slice from a DataFrame.\n",
            "Try using .loc[row_indexer,col_indexer] = value instead\n",
            "\n",
            "See the caveats in the documentation: https://pandas.pydata.org/pandas-docs/stable/user_guide/indexing.html#returning-a-view-versus-a-copy\n",
            "  customers['Churn Risk'] = customers['RFM'].str[0].apply(lambda x: \"Active\" if x == \"3\" else (\"At risk\" if x == \"2\" else \"Churned\"))\n",
            "<ipython-input-50-70e0616cf76a>:2: SettingWithCopyWarning: \n",
            "A value is trying to be set on a copy of a slice from a DataFrame.\n",
            "Try using .loc[row_indexer,col_indexer] = value instead\n",
            "\n",
            "See the caveats in the documentation: https://pandas.pydata.org/pandas-docs/stable/user_guide/indexing.html#returning-a-view-versus-a-copy\n",
            "  customers['RFM'] = customers['RFM'].astype(str)\n",
            "<ipython-input-50-70e0616cf76a>:3: SettingWithCopyWarning: \n",
            "A value is trying to be set on a copy of a slice from a DataFrame.\n",
            "Try using .loc[row_indexer,col_indexer] = value instead\n",
            "\n",
            "See the caveats in the documentation: https://pandas.pydata.org/pandas-docs/stable/user_guide/indexing.html#returning-a-view-versus-a-copy\n",
            "  customers['Churn Risk'] = customers['RFM'].str[0].apply(lambda x: \"Active\" if x == \"3\" else (\"At risk\" if x == \"2\" else \"Churned\"))\n",
            "<ipython-input-50-70e0616cf76a>:2: SettingWithCopyWarning: \n",
            "A value is trying to be set on a copy of a slice from a DataFrame.\n",
            "Try using .loc[row_indexer,col_indexer] = value instead\n",
            "\n",
            "See the caveats in the documentation: https://pandas.pydata.org/pandas-docs/stable/user_guide/indexing.html#returning-a-view-versus-a-copy\n",
            "  customers['RFM'] = customers['RFM'].astype(str)\n",
            "<ipython-input-50-70e0616cf76a>:3: SettingWithCopyWarning: \n",
            "A value is trying to be set on a copy of a slice from a DataFrame.\n",
            "Try using .loc[row_indexer,col_indexer] = value instead\n",
            "\n",
            "See the caveats in the documentation: https://pandas.pydata.org/pandas-docs/stable/user_guide/indexing.html#returning-a-view-versus-a-copy\n",
            "  customers['Churn Risk'] = customers['RFM'].str[0].apply(lambda x: \"Active\" if x == \"3\" else (\"At risk\" if x == \"2\" else \"Churned\"))\n",
            "<ipython-input-50-70e0616cf76a>:2: SettingWithCopyWarning: \n",
            "A value is trying to be set on a copy of a slice from a DataFrame.\n",
            "Try using .loc[row_indexer,col_indexer] = value instead\n",
            "\n",
            "See the caveats in the documentation: https://pandas.pydata.org/pandas-docs/stable/user_guide/indexing.html#returning-a-view-versus-a-copy\n",
            "  customers['RFM'] = customers['RFM'].astype(str)\n",
            "<ipython-input-50-70e0616cf76a>:3: SettingWithCopyWarning: \n",
            "A value is trying to be set on a copy of a slice from a DataFrame.\n",
            "Try using .loc[row_indexer,col_indexer] = value instead\n",
            "\n",
            "See the caveats in the documentation: https://pandas.pydata.org/pandas-docs/stable/user_guide/indexing.html#returning-a-view-versus-a-copy\n",
            "  customers['Churn Risk'] = customers['RFM'].str[0].apply(lambda x: \"Active\" if x == \"3\" else (\"At risk\" if x == \"2\" else \"Churned\"))\n",
            "<ipython-input-50-70e0616cf76a>:2: SettingWithCopyWarning: \n",
            "A value is trying to be set on a copy of a slice from a DataFrame.\n",
            "Try using .loc[row_indexer,col_indexer] = value instead\n",
            "\n",
            "See the caveats in the documentation: https://pandas.pydata.org/pandas-docs/stable/user_guide/indexing.html#returning-a-view-versus-a-copy\n",
            "  customers['RFM'] = customers['RFM'].astype(str)\n",
            "<ipython-input-50-70e0616cf76a>:3: SettingWithCopyWarning: \n",
            "A value is trying to be set on a copy of a slice from a DataFrame.\n",
            "Try using .loc[row_indexer,col_indexer] = value instead\n",
            "\n",
            "See the caveats in the documentation: https://pandas.pydata.org/pandas-docs/stable/user_guide/indexing.html#returning-a-view-versus-a-copy\n",
            "  customers['Churn Risk'] = customers['RFM'].str[0].apply(lambda x: \"Active\" if x == \"3\" else (\"At risk\" if x == \"2\" else \"Churned\"))\n",
            "<ipython-input-50-70e0616cf76a>:2: SettingWithCopyWarning: \n",
            "A value is trying to be set on a copy of a slice from a DataFrame.\n",
            "Try using .loc[row_indexer,col_indexer] = value instead\n",
            "\n",
            "See the caveats in the documentation: https://pandas.pydata.org/pandas-docs/stable/user_guide/indexing.html#returning-a-view-versus-a-copy\n",
            "  customers['RFM'] = customers['RFM'].astype(str)\n",
            "<ipython-input-50-70e0616cf76a>:3: SettingWithCopyWarning: \n",
            "A value is trying to be set on a copy of a slice from a DataFrame.\n",
            "Try using .loc[row_indexer,col_indexer] = value instead\n",
            "\n",
            "See the caveats in the documentation: https://pandas.pydata.org/pandas-docs/stable/user_guide/indexing.html#returning-a-view-versus-a-copy\n",
            "  customers['Churn Risk'] = customers['RFM'].str[0].apply(lambda x: \"Active\" if x == \"3\" else (\"At risk\" if x == \"2\" else \"Churned\"))\n"
          ]
        },
        {
          "output_type": "execute_result",
          "data": {
            "text/plain": [
              "                Segment    Active   At risk   Churned      Size\n",
              "0               Urgency  0.390110  0.321429  0.288462  0.073939\n",
              "1               Impulse  0.654862  0.211355  0.133783  0.361365\n",
              "2            Indecisive  0.553772  0.216693  0.229535  0.126549\n",
              "3              Category  0.465517  0.290640  0.243842  0.082470\n",
              "4            Engagement  0.602986  0.223933  0.173081  0.870810\n",
              "5  High Value Frequency  0.893841  0.067261  0.038898  0.250660\n",
              "6   High Value Monetary  0.891145  0.064175  0.044679  0.250051\n",
              "7              Discount  0.642775  0.201445  0.155780  0.702823"
            ],
            "text/html": [
              "\n",
              "  <div id=\"df-23f8b6b0-b764-40cc-b825-f31be1c20628\" class=\"colab-df-container\">\n",
              "    <div>\n",
              "<style scoped>\n",
              "    .dataframe tbody tr th:only-of-type {\n",
              "        vertical-align: middle;\n",
              "    }\n",
              "\n",
              "    .dataframe tbody tr th {\n",
              "        vertical-align: top;\n",
              "    }\n",
              "\n",
              "    .dataframe thead th {\n",
              "        text-align: right;\n",
              "    }\n",
              "</style>\n",
              "<table border=\"1\" class=\"dataframe\">\n",
              "  <thead>\n",
              "    <tr style=\"text-align: right;\">\n",
              "      <th></th>\n",
              "      <th>Segment</th>\n",
              "      <th>Active</th>\n",
              "      <th>At risk</th>\n",
              "      <th>Churned</th>\n",
              "      <th>Size</th>\n",
              "    </tr>\n",
              "  </thead>\n",
              "  <tbody>\n",
              "    <tr>\n",
              "      <th>0</th>\n",
              "      <td>Urgency</td>\n",
              "      <td>0.390110</td>\n",
              "      <td>0.321429</td>\n",
              "      <td>0.288462</td>\n",
              "      <td>0.073939</td>\n",
              "    </tr>\n",
              "    <tr>\n",
              "      <th>1</th>\n",
              "      <td>Impulse</td>\n",
              "      <td>0.654862</td>\n",
              "      <td>0.211355</td>\n",
              "      <td>0.133783</td>\n",
              "      <td>0.361365</td>\n",
              "    </tr>\n",
              "    <tr>\n",
              "      <th>2</th>\n",
              "      <td>Indecisive</td>\n",
              "      <td>0.553772</td>\n",
              "      <td>0.216693</td>\n",
              "      <td>0.229535</td>\n",
              "      <td>0.126549</td>\n",
              "    </tr>\n",
              "    <tr>\n",
              "      <th>3</th>\n",
              "      <td>Category</td>\n",
              "      <td>0.465517</td>\n",
              "      <td>0.290640</td>\n",
              "      <td>0.243842</td>\n",
              "      <td>0.082470</td>\n",
              "    </tr>\n",
              "    <tr>\n",
              "      <th>4</th>\n",
              "      <td>Engagement</td>\n",
              "      <td>0.602986</td>\n",
              "      <td>0.223933</td>\n",
              "      <td>0.173081</td>\n",
              "      <td>0.870810</td>\n",
              "    </tr>\n",
              "    <tr>\n",
              "      <th>5</th>\n",
              "      <td>High Value Frequency</td>\n",
              "      <td>0.893841</td>\n",
              "      <td>0.067261</td>\n",
              "      <td>0.038898</td>\n",
              "      <td>0.250660</td>\n",
              "    </tr>\n",
              "    <tr>\n",
              "      <th>6</th>\n",
              "      <td>High Value Monetary</td>\n",
              "      <td>0.891145</td>\n",
              "      <td>0.064175</td>\n",
              "      <td>0.044679</td>\n",
              "      <td>0.250051</td>\n",
              "    </tr>\n",
              "    <tr>\n",
              "      <th>7</th>\n",
              "      <td>Discount</td>\n",
              "      <td>0.642775</td>\n",
              "      <td>0.201445</td>\n",
              "      <td>0.155780</td>\n",
              "      <td>0.702823</td>\n",
              "    </tr>\n",
              "  </tbody>\n",
              "</table>\n",
              "</div>\n",
              "    <div class=\"colab-df-buttons\">\n",
              "\n",
              "  <div class=\"colab-df-container\">\n",
              "    <button class=\"colab-df-convert\" onclick=\"convertToInteractive('df-23f8b6b0-b764-40cc-b825-f31be1c20628')\"\n",
              "            title=\"Convert this dataframe to an interactive table.\"\n",
              "            style=\"display:none;\">\n",
              "\n",
              "  <svg xmlns=\"http://www.w3.org/2000/svg\" height=\"24px\" viewBox=\"0 -960 960 960\">\n",
              "    <path d=\"M120-120v-720h720v720H120Zm60-500h600v-160H180v160Zm220 220h160v-160H400v160Zm0 220h160v-160H400v160ZM180-400h160v-160H180v160Zm440 0h160v-160H620v160ZM180-180h160v-160H180v160Zm440 0h160v-160H620v160Z\"/>\n",
              "  </svg>\n",
              "    </button>\n",
              "\n",
              "  <style>\n",
              "    .colab-df-container {\n",
              "      display:flex;\n",
              "      gap: 12px;\n",
              "    }\n",
              "\n",
              "    .colab-df-convert {\n",
              "      background-color: #E8F0FE;\n",
              "      border: none;\n",
              "      border-radius: 50%;\n",
              "      cursor: pointer;\n",
              "      display: none;\n",
              "      fill: #1967D2;\n",
              "      height: 32px;\n",
              "      padding: 0 0 0 0;\n",
              "      width: 32px;\n",
              "    }\n",
              "\n",
              "    .colab-df-convert:hover {\n",
              "      background-color: #E2EBFA;\n",
              "      box-shadow: 0px 1px 2px rgba(60, 64, 67, 0.3), 0px 1px 3px 1px rgba(60, 64, 67, 0.15);\n",
              "      fill: #174EA6;\n",
              "    }\n",
              "\n",
              "    .colab-df-buttons div {\n",
              "      margin-bottom: 4px;\n",
              "    }\n",
              "\n",
              "    [theme=dark] .colab-df-convert {\n",
              "      background-color: #3B4455;\n",
              "      fill: #D2E3FC;\n",
              "    }\n",
              "\n",
              "    [theme=dark] .colab-df-convert:hover {\n",
              "      background-color: #434B5C;\n",
              "      box-shadow: 0px 1px 3px 1px rgba(0, 0, 0, 0.15);\n",
              "      filter: drop-shadow(0px 1px 2px rgba(0, 0, 0, 0.3));\n",
              "      fill: #FFFFFF;\n",
              "    }\n",
              "  </style>\n",
              "\n",
              "    <script>\n",
              "      const buttonEl =\n",
              "        document.querySelector('#df-23f8b6b0-b764-40cc-b825-f31be1c20628 button.colab-df-convert');\n",
              "      buttonEl.style.display =\n",
              "        google.colab.kernel.accessAllowed ? 'block' : 'none';\n",
              "\n",
              "      async function convertToInteractive(key) {\n",
              "        const element = document.querySelector('#df-23f8b6b0-b764-40cc-b825-f31be1c20628');\n",
              "        const dataTable =\n",
              "          await google.colab.kernel.invokeFunction('convertToInteractive',\n",
              "                                                    [key], {});\n",
              "        if (!dataTable) return;\n",
              "\n",
              "        const docLinkHtml = 'Like what you see? Visit the ' +\n",
              "          '<a target=\"_blank\" href=https://colab.research.google.com/notebooks/data_table.ipynb>data table notebook</a>'\n",
              "          + ' to learn more about interactive tables.';\n",
              "        element.innerHTML = '';\n",
              "        dataTable['output_type'] = 'display_data';\n",
              "        await google.colab.output.renderOutput(dataTable, element);\n",
              "        const docLink = document.createElement('div');\n",
              "        docLink.innerHTML = docLinkHtml;\n",
              "        element.appendChild(docLink);\n",
              "      }\n",
              "    </script>\n",
              "  </div>\n",
              "\n",
              "\n",
              "<div id=\"df-6acc879b-e38b-4263-9876-d1b0c53a5601\">\n",
              "  <button class=\"colab-df-quickchart\" onclick=\"quickchart('df-6acc879b-e38b-4263-9876-d1b0c53a5601')\"\n",
              "            title=\"Suggest charts\"\n",
              "            style=\"display:none;\">\n",
              "\n",
              "<svg xmlns=\"http://www.w3.org/2000/svg\" height=\"24px\"viewBox=\"0 0 24 24\"\n",
              "     width=\"24px\">\n",
              "    <g>\n",
              "        <path d=\"M19 3H5c-1.1 0-2 .9-2 2v14c0 1.1.9 2 2 2h14c1.1 0 2-.9 2-2V5c0-1.1-.9-2-2-2zM9 17H7v-7h2v7zm4 0h-2V7h2v10zm4 0h-2v-4h2v4z\"/>\n",
              "    </g>\n",
              "</svg>\n",
              "  </button>\n",
              "\n",
              "<style>\n",
              "  .colab-df-quickchart {\n",
              "      --bg-color: #E8F0FE;\n",
              "      --fill-color: #1967D2;\n",
              "      --hover-bg-color: #E2EBFA;\n",
              "      --hover-fill-color: #174EA6;\n",
              "      --disabled-fill-color: #AAA;\n",
              "      --disabled-bg-color: #DDD;\n",
              "  }\n",
              "\n",
              "  [theme=dark] .colab-df-quickchart {\n",
              "      --bg-color: #3B4455;\n",
              "      --fill-color: #D2E3FC;\n",
              "      --hover-bg-color: #434B5C;\n",
              "      --hover-fill-color: #FFFFFF;\n",
              "      --disabled-bg-color: #3B4455;\n",
              "      --disabled-fill-color: #666;\n",
              "  }\n",
              "\n",
              "  .colab-df-quickchart {\n",
              "    background-color: var(--bg-color);\n",
              "    border: none;\n",
              "    border-radius: 50%;\n",
              "    cursor: pointer;\n",
              "    display: none;\n",
              "    fill: var(--fill-color);\n",
              "    height: 32px;\n",
              "    padding: 0;\n",
              "    width: 32px;\n",
              "  }\n",
              "\n",
              "  .colab-df-quickchart:hover {\n",
              "    background-color: var(--hover-bg-color);\n",
              "    box-shadow: 0 1px 2px rgba(60, 64, 67, 0.3), 0 1px 3px 1px rgba(60, 64, 67, 0.15);\n",
              "    fill: var(--button-hover-fill-color);\n",
              "  }\n",
              "\n",
              "  .colab-df-quickchart-complete:disabled,\n",
              "  .colab-df-quickchart-complete:disabled:hover {\n",
              "    background-color: var(--disabled-bg-color);\n",
              "    fill: var(--disabled-fill-color);\n",
              "    box-shadow: none;\n",
              "  }\n",
              "\n",
              "  .colab-df-spinner {\n",
              "    border: 2px solid var(--fill-color);\n",
              "    border-color: transparent;\n",
              "    border-bottom-color: var(--fill-color);\n",
              "    animation:\n",
              "      spin 1s steps(1) infinite;\n",
              "  }\n",
              "\n",
              "  @keyframes spin {\n",
              "    0% {\n",
              "      border-color: transparent;\n",
              "      border-bottom-color: var(--fill-color);\n",
              "      border-left-color: var(--fill-color);\n",
              "    }\n",
              "    20% {\n",
              "      border-color: transparent;\n",
              "      border-left-color: var(--fill-color);\n",
              "      border-top-color: var(--fill-color);\n",
              "    }\n",
              "    30% {\n",
              "      border-color: transparent;\n",
              "      border-left-color: var(--fill-color);\n",
              "      border-top-color: var(--fill-color);\n",
              "      border-right-color: var(--fill-color);\n",
              "    }\n",
              "    40% {\n",
              "      border-color: transparent;\n",
              "      border-right-color: var(--fill-color);\n",
              "      border-top-color: var(--fill-color);\n",
              "    }\n",
              "    60% {\n",
              "      border-color: transparent;\n",
              "      border-right-color: var(--fill-color);\n",
              "    }\n",
              "    80% {\n",
              "      border-color: transparent;\n",
              "      border-right-color: var(--fill-color);\n",
              "      border-bottom-color: var(--fill-color);\n",
              "    }\n",
              "    90% {\n",
              "      border-color: transparent;\n",
              "      border-bottom-color: var(--fill-color);\n",
              "    }\n",
              "  }\n",
              "</style>\n",
              "\n",
              "  <script>\n",
              "    async function quickchart(key) {\n",
              "      const quickchartButtonEl =\n",
              "        document.querySelector('#' + key + ' button');\n",
              "      quickchartButtonEl.disabled = true;  // To prevent multiple clicks.\n",
              "      quickchartButtonEl.classList.add('colab-df-spinner');\n",
              "      try {\n",
              "        const charts = await google.colab.kernel.invokeFunction(\n",
              "            'suggestCharts', [key], {});\n",
              "      } catch (error) {\n",
              "        console.error('Error during call to suggestCharts:', error);\n",
              "      }\n",
              "      quickchartButtonEl.classList.remove('colab-df-spinner');\n",
              "      quickchartButtonEl.classList.add('colab-df-quickchart-complete');\n",
              "    }\n",
              "    (() => {\n",
              "      let quickchartButtonEl =\n",
              "        document.querySelector('#df-6acc879b-e38b-4263-9876-d1b0c53a5601 button');\n",
              "      quickchartButtonEl.style.display =\n",
              "        google.colab.kernel.accessAllowed ? 'block' : 'none';\n",
              "    })();\n",
              "  </script>\n",
              "</div>\n",
              "\n",
              "    </div>\n",
              "  </div>\n"
            ],
            "application/vnd.google.colaboratory.intrinsic+json": {
              "type": "dataframe",
              "variable_name": "churn_segments",
              "summary": "{\n  \"name\": \"churn_segments\",\n  \"rows\": 8,\n  \"fields\": [\n    {\n      \"column\": \"Segment\",\n      \"properties\": {\n        \"dtype\": \"string\",\n        \"num_unique_values\": 8,\n        \"samples\": [\n          \"Impulse\",\n          \"High Value Frequency\",\n          \"Urgency\"\n        ],\n        \"semantic_type\": \"\",\n        \"description\": \"\"\n      }\n    },\n    {\n      \"column\": \"Active\",\n      \"properties\": {\n        \"dtype\": \"number\",\n        \"std\": 0.18101084311771315,\n        \"min\": 0.3901098901098901,\n        \"max\": 0.8938411669367909,\n        \"num_unique_values\": 8,\n        \"samples\": [\n          0.6548622821810005,\n          0.8938411669367909,\n          0.3901098901098901\n        ],\n        \"semantic_type\": \"\",\n        \"description\": \"\"\n      }\n    },\n    {\n      \"column\": \"At risk\",\n      \"properties\": {\n        \"dtype\": \"number\",\n        \"std\": 0.09258959459734538,\n        \"min\": 0.06417546709991877,\n        \"max\": 0.32142857142857145,\n        \"num_unique_values\": 8,\n        \"samples\": [\n          0.21135469364811693,\n          0.06726094003241491,\n          0.32142857142857145\n        ],\n        \"semantic_type\": \"\",\n        \"description\": \"\"\n      }\n    },\n    {\n      \"column\": \"Churned\",\n      \"properties\": {\n        \"dtype\": \"number\",\n        \"std\": 0.09032435108667193,\n        \"min\": 0.03889789303079417,\n        \"max\": 0.28846153846153844,\n        \"num_unique_values\": 8,\n        \"samples\": [\n          0.13378302417088253,\n          0.03889789303079417,\n          0.28846153846153844\n        ],\n        \"semantic_type\": \"\",\n        \"description\": \"\"\n      }\n    },\n    {\n      \"column\": \"Size\",\n      \"properties\": {\n        \"dtype\": \"number\",\n        \"std\": 0.2958283934113819,\n        \"min\": 0.07393865529148894,\n        \"max\": 0.870810481413772,\n        \"num_unique_values\": 8,\n        \"samples\": [\n          0.36136502132845827,\n          0.2506601665651026,\n          0.07393865529148894\n        ],\n        \"semantic_type\": \"\",\n        \"description\": \"\"\n      }\n    }\n  ]\n}"
            }
          },
          "metadata": {},
          "execution_count": 51
        }
      ]
    },
    {
      "cell_type": "code",
      "source": [
        "rfm_total = rfm(purchases, customers)\n",
        "\n",
        "a = [rfm_total[rfm_total['Churn Risk'] == \"Active\"].shape[0]/rfm_total.shape[0], rfm_total[rfm_total['Churn Risk'] == \"At risk\"].shape[0]/rfm_total.shape[0], rfm_total[rfm_total['Churn Risk'] == \"Churned\"].shape[0]/rfm_total.shape[0]]\n",
        "print(a)"
      ],
      "metadata": {
        "colab": {
          "base_uri": "https://localhost:8080/"
        },
        "id": "GkdxnIFP1Idu",
        "outputId": "b9fc352b-62fe-4d88-ed0f-eb2505400c7b"
      },
      "execution_count": null,
      "outputs": [
        {
          "output_type": "stream",
          "name": "stdout",
          "text": [
            "[0.6049157018078407, 0.2208003250050782, 0.17428397318708105]\n"
          ]
        }
      ]
    },
    {
      "cell_type": "markdown",
      "source": [
        "#Customer Lifetime Value"
      ],
      "metadata": {
        "id": "lBbcMTtVICIU"
      }
    },
    {
      "cell_type": "code",
      "source": [
        "print(customers.columns)"
      ],
      "metadata": {
        "colab": {
          "base_uri": "https://localhost:8080/"
        },
        "id": "CqdLvCCfIEIK",
        "outputId": "68d3b851-bd04-4c08-c994-97b2e523e96c"
      },
      "execution_count": null,
      "outputs": [
        {
          "output_type": "stream",
          "name": "stdout",
          "text": [
            "Index(['Survey ResponseID', 'Prime', 'Email CTC', 'Display Ad CTC',\n",
            "       'Video Ad CTC', 'Search Engine Ad CTC', 'Social Media Ad CTC',\n",
            "       'Average CTC', 'Express Shipping', 'Cart Abandonment Rate',\n",
            "       'Check Review', 'Refund rate', 'Time in Cart', 'Time on Page', 'RFM',\n",
            "       'Pct Discount', 'Keep Discount', 'Category'],\n",
            "      dtype='object')\n"
          ]
        }
      ]
    }
  ]
}