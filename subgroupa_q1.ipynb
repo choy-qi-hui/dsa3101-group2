{
 "cells": [
  {
   "cell_type": "markdown",
   "metadata": {
    "id": "oQRuw4o-xixR"
   },
   "source": [
    "# 1.1: Analyze historical sales data to identify patterns and trends"
   ]
  },
  {
   "cell_type": "markdown",
   "metadata": {
    "id": "cnBtb7Yexk0Z"
   },
   "source": [
    "## Stratified Sampling"
   ]
  },
  {
   "cell_type": "code",
   "execution_count": null,
   "metadata": {
    "id": "anl2I1-GnSV_"
   },
   "outputs": [],
   "source": [
    "import random\n",
    "import pandas as pd\n",
    "import matplotlib.pyplot as plt\n",
    "import warnings\n",
    "import sys\n",
    "import plotly.express as px\n",
    "import seaborn as sns\n",
    "import plotly.express as px\n",
    "from scipy.stats import beta\n",
    "if not sys.warnoptions:\n",
    "    warnings.simplefilter(\"ignore\")"
   ]
  },
  {
   "cell_type": "code",
   "execution_count": null,
   "metadata": {
    "id": "_Sm0rND_qgE4"
   },
   "outputs": [],
   "source": [
    "purchases = pd.read_csv('data/AmazonPurchases.csv')\n",
    "survey = pd.read_csv('data/survey.csv')"
   ]
  },
  {
   "cell_type": "code",
   "execution_count": null,
   "metadata": {
    "colab": {
     "base_uri": "https://localhost:8080/",
     "height": 310
    },
    "id": "3Szkj-g7pxnv",
    "outputId": "5b6c2b0e-ce60-4946-d7ac-4423cd063631"
   },
   "outputs": [],
   "source": [
    "purchases = purchases.drop(purchases.columns[0], axis=1)"
   ]
  },
  {
   "cell_type": "code",
   "execution_count": null,
   "metadata": {
    "colab": {
     "base_uri": "https://localhost:8080/",
     "height": 595
    },
    "id": "jQRU2Euqp5pV",
    "outputId": "6cff9532-8008-4739-f1e1-9b3b808b67fd"
   },
   "outputs": [],
   "source": [
    "purchases.info()\n",
    "purchases.isnull().sum().sort_values()"
   ]
  },
  {
   "cell_type": "code",
   "execution_count": null,
   "metadata": {
    "id": "LraWTJUOqqgP"
   },
   "outputs": [],
   "source": [
    "purchases['Order Date'] = pd.to_datetime(purchases['Order Date'], format='%Y-%m-%d')\n",
    "purchases['year'] = purchases['Order Date'].dt.year\n",
    "purchases['month'] = purchases['Order Date'].dt.month\n",
    "purchases['day'] = purchases['Order Date'].dt.day\n",
    "purchases = purchases[purchases['Order Date'] < '2022-11-01']"
   ]
  },
  {
   "cell_type": "code",
   "execution_count": null,
   "metadata": {
    "colab": {
     "base_uri": "https://localhost:8080/",
     "height": 533
    },
    "id": "ol7qBvo4njkT",
    "outputId": "bb3987b5-c8b3-4aaf-f46e-30c928fe9159"
   },
   "outputs": [],
   "source": [
    "survey.head()"
   ]
  },
  {
   "cell_type": "code",
   "execution_count": null,
   "metadata": {
    "colab": {
     "base_uri": "https://localhost:8080/",
     "height": 1000
    },
    "id": "pLqiIL_Rnlzt",
    "outputId": "d8ea880d-ccf8-4d4d-c8b5-729f9e8c6f4d"
   },
   "outputs": [],
   "source": [
    "survey.info()\n",
    "survey.isnull().sum().sort_values()"
   ]
  },
  {
   "cell_type": "code",
   "execution_count": null,
   "metadata": {
    "colab": {
     "base_uri": "https://localhost:8080/"
    },
    "id": "1D0MG2FHny_9",
    "outputId": "5961fbb3-554d-40b1-d18d-bcda051a4207"
   },
   "outputs": [],
   "source": [
    "survey = survey['Survey ResponseID'].to_frame()\n",
    "survey.shape[0]"
   ]
  },
  {
   "cell_type": "code",
   "execution_count": null,
   "metadata": {
    "colab": {
     "base_uri": "https://localhost:8080/"
    },
    "id": "fnHFYe3YpQG3",
    "outputId": "d1ba011b-46b3-4f25-a994-6da811b1390e"
   },
   "outputs": [],
   "source": [
    "random.seed(21)\n",
    "stratified_sample = survey.apply(lambda x: x.sample(frac=0.20,random_state = 21))\n",
    "stratified_sample.info()\n"
   ]
  },
  {
   "cell_type": "code",
   "execution_count": null,
   "metadata": {
    "id": "zdwKB_nppg31"
   },
   "outputs": [],
   "source": [
    "random.seed(247)\n",
    "from datetime import datetime, timedelta\n",
    "\n",
    "# Define the start and end dates\n",
    "start_date = datetime(2018, 1, 1)\n",
    "end_date = datetime(2022, 11, 1)\n",
    "\n",
    "def generate_random_date(start, end):\n",
    "    delta = end - start\n",
    "    random_days = random.randint(0, delta.days)\n",
    "    return start + timedelta(days=random_days)\n",
    "\n",
    "stratified_sample['last_purchase_date'] = stratified_sample.apply(lambda x: generate_random_date(start_date, end_date), axis=1)"
   ]
  },
  {
   "cell_type": "code",
   "execution_count": null,
   "metadata": {
    "colab": {
     "base_uri": "https://localhost:8080/",
     "height": 206
    },
    "id": "cIVcT1GTplVE",
    "outputId": "afd1732d-a460-459c-c12c-8decd815daad"
   },
   "outputs": [],
   "source": [
    "stratified_sample.head()"
   ]
  },
  {
   "cell_type": "code",
   "execution_count": null,
   "metadata": {
    "colab": {
     "base_uri": "https://localhost:8080/",
     "height": 790
    },
    "id": "UAbJ95kPpn1T",
    "outputId": "10751c27-7aa6-44c5-e4f1-11ac6dd6655c"
   },
   "outputs": [],
   "source": [
    "merged_df = pd.merge(purchases, stratified_sample, on='Survey ResponseID', how='left')\n",
    "merged_df.info()\n",
    "merged_df.isnull().sum()"
   ]
  },
  {
   "cell_type": "code",
   "execution_count": null,
   "metadata": {
    "colab": {
     "base_uri": "https://localhost:8080/",
     "height": 460
    },
    "id": "hs2nv_pKqbRX",
    "outputId": "48da25f0-7432-4a26-e000-898dd8fdea6d"
   },
   "outputs": [],
   "source": [
    "merged_df['last_purchase_date'] = merged_df['last_purchase_date'].fillna(datetime(2022, 12, 31))\n",
    "merged_df.isnull().sum()"
   ]
  },
  {
   "cell_type": "code",
   "execution_count": null,
   "metadata": {
    "colab": {
     "base_uri": "https://localhost:8080/"
    },
    "id": "MiY1qcoqrC5T",
    "outputId": "31f2d61d-6820-47cd-fa3f-8911f773460f"
   },
   "outputs": [],
   "source": [
    "final_df = merged_df[merged_df['Order Date'] <= merged_df['last_purchase_date']]\n",
    "final_df.info()"
   ]
  },
  {
   "cell_type": "code",
   "execution_count": null,
   "metadata": {},
   "outputs": [],
   "source": [
    "final_df['Survey ResponseID'].nunique()"
   ]
  },
  {
   "cell_type": "code",
   "execution_count": null,
   "metadata": {
    "id": "mhxUGOX8rPUH"
   },
   "outputs": [],
   "source": [
    "final_df = final_df.iloc[:, :8]"
   ]
  },
  {
   "cell_type": "code",
   "execution_count": null,
   "metadata": {
    "colab": {
     "base_uri": "https://localhost:8080/",
     "height": 463
    },
    "id": "3WXWvSpArVcX",
    "outputId": "fb80caf2-44f9-417c-9a67-d2f7be5fa522"
   },
   "outputs": [],
   "source": [
    "df_edit = final_df.copy()\n",
    "df_edit['min_date'] = df_edit.groupby(['Survey ResponseID'])['Order Date'].transform(\"min\")\n",
    "df_edit['max_date'] = df_edit.groupby(['Survey ResponseID'])['Order Date'].transform(\"max\")\n",
    "plt.figure(figsize=(5,5))\n",
    "plt.scatter(df_edit['min_date'],df_edit['max_date'], s = 1)"
   ]
  },
  {
   "cell_type": "code",
   "execution_count": null,
   "metadata": {
    "colab": {
     "base_uri": "https://localhost:8080/",
     "height": 53
    },
    "id": "NZLCoLvergse",
    "outputId": "14057da0-980b-4fb2-cec1-17cf68621864"
   },
   "outputs": [],
   "source": [
    "'''\n",
    "import csv\n",
    "\n",
    "from google.colab import drive\n",
    "drive.mount('/content/drive')\n",
    "\n",
    "csv.filename = 'final_df.csv'\n",
    "final_df.to_csv('/content/drive/MyDrive/' + csv.filename, index=False)\n",
    "'''"
   ]
  },
  {
   "cell_type": "markdown",
   "metadata": {
    "id": "FR03HxIoxpFt",
    "jp-MarkdownHeadingCollapsed": true
   },
   "source": [
    "## Data Preparation"
   ]
  },
  {
   "cell_type": "markdown",
   "metadata": {
    "id": "fwElygaviRyH"
   },
   "source": [
    "### Data files"
   ]
  },
  {
   "cell_type": "markdown",
   "metadata": {
    "id": "NryKa_QIiyhh"
   },
   "source": [
    "### Simulation"
   ]
  },
  {
   "cell_type": "code",
   "execution_count": null,
   "metadata": {
    "colab": {
     "base_uri": "https://localhost:8080/"
    },
    "id": "ef45euUmjLUd",
    "outputId": "8c96c76e-9b6f-44ce-bef0-bdd60336fbf4"
   },
   "outputs": [],
   "source": [
    "purchases = pd.read_csv('data/dataprep_purchases.csv')\n",
    "purchases.head()"
   ]
  },
  {
   "cell_type": "code",
   "execution_count": null,
   "metadata": {
    "id": "jgTLoTglnV2g"
   },
   "outputs": [],
   "source": [
    "customers = {\n",
    "    'Survey ResponseID': purchases['Survey ResponseID'].unique()\n",
    "}\n",
    "customers = pd.DataFrame(customers)"
   ]
  },
  {
   "cell_type": "markdown",
   "metadata": {
    "id": "Fft7xS2g4PB7"
   },
   "source": [
    "### Adding Prime Column"
   ]
  },
  {
   "cell_type": "code",
   "execution_count": null,
   "metadata": {
    "colab": {
     "base_uri": "https://localhost:8080/"
    },
    "id": "Ri65eXVV4EaB",
    "outputId": "3c2700dd-2702-4b94-94ca-2fc7e0b94fac"
   },
   "outputs": [],
   "source": [
    "# add prime column\n",
    "purchases['Prime'] = 0\n",
    "\n",
    "from collections import Counter\n",
    "\n",
    "# amazon prime days from 2018-2022 and amazon prime early access sale 2022\n",
    "date_ranges = {\n",
    "    'July 16-17, 2018': ('2018-07-16', '2018-07-17'),\n",
    "    'July 15-16, 2019': ('2019-07-15', '2019-07-16'),\n",
    "    'October 13-14, 2020': ('2020-10-13', '2020-10-14'),\n",
    "    'June 21-22, 2021': ('2021-06-21', '2021-06-22'),\n",
    "    'July 12-13, 2022': ('2022-07-12', '2022-07-13'),\n",
    "    'October 11-12, 2022': ('2022-10-11', '2022-10-12')\n",
    "}\n",
    "\n",
    "# getting all response ids in the date ranges\n",
    "id_sets = []\n",
    "for range_name, (start_date, end_date) in date_ranges.items():\n",
    "    mask = (purchases['Order Date'] >= start_date) & (purchases['Order Date'] <= end_date)\n",
    "    distinct_ids = set(purchases[mask]['Survey ResponseID'].unique())\n",
    "    id_sets.append(distinct_ids)\n",
    "\n",
    "# response ids that appear in at least 2 events\n",
    "all_ids = [id for id_set in id_sets for id in id_set]\n",
    "id_counts = Counter(all_ids)\n",
    "common_ids = {id for id, count in id_counts.items() if count >= 2}\n",
    "\n",
    "# make response ids in common_ids as Prime members (Prime = 1)\n",
    "purchases.loc[purchases['Survey ResponseID'].isin(common_ids), 'Prime'] = 1\n",
    "\n",
    "print(purchases[purchases['Survey ResponseID'].isin(common_ids)][['Survey ResponseID', 'Prime']].drop_duplicates())"
   ]
  },
  {
   "cell_type": "code",
   "execution_count": null,
   "metadata": {
    "colab": {
     "base_uri": "https://localhost:8080/"
    },
    "id": "aKZVu11I4m5U",
    "outputId": "434410b6-5ddd-40de-91cb-35905c4208de"
   },
   "outputs": [],
   "source": [
    "# total number of unique response ids\n",
    "total_unique_ids = purchases['Survey ResponseID'].nunique()\n",
    "\n",
    "# number of unique response ids where Prime = 1\n",
    "prime_unique_ids = purchases[purchases['Prime'] == 1]['Survey ResponseID'].nunique()\n",
    "\n",
    "# percentages of unique response ids that are Prime = 1\n",
    "prime_percentage = (prime_unique_ids / total_unique_ids) * 100\n",
    "print(f\"Percentage of total unique IDs that are prime: {prime_percentage:.2f}%\")"
   ]
  },
  {
   "cell_type": "code",
   "execution_count": null,
   "metadata": {
    "colab": {
     "base_uri": "https://localhost:8080/"
    },
    "id": "lUHP0KyP4xqp",
    "outputId": "d96b30d5-7b69-44c3-8252-b53f10498da9"
   },
   "outputs": [],
   "source": [
    "# total distinct response ids\n",
    "total_distinct_responses = purchases['Survey ResponseID'].nunique()\n",
    "print(\"Total number of distinct Survey Response IDs:\", total_distinct_responses)"
   ]
  },
  {
   "cell_type": "code",
   "execution_count": null,
   "metadata": {
    "colab": {
     "base_uri": "https://localhost:8080/"
    },
    "id": "prAqJ2m_4yQO",
    "outputId": "d5fbbed5-be96-4dd7-ef8e-10de8df075e8"
   },
   "outputs": [],
   "source": [
    "# 65% of total survey response ids\n",
    "TOTALCOUNT = int(0.65 * total_distinct_responses)\n",
    "print(\"65% of total Survey Response IDs (TOTALCOUNT):\", TOTALCOUNT)"
   ]
  },
  {
   "cell_type": "code",
   "execution_count": null,
   "metadata": {
    "colab": {
     "base_uri": "https://localhost:8080/"
    },
    "id": "Y2jwIarJ42FL",
    "outputId": "024c7036-1b86-4dc3-fbee-e025dfb2aa95"
   },
   "outputs": [],
   "source": [
    "# 39.87% is 1962 people\n",
    "# We will need:\n",
    "print(3199-1962)"
   ]
  },
  {
   "cell_type": "code",
   "execution_count": null,
   "metadata": {
    "colab": {
     "base_uri": "https://localhost:8080/"
    },
    "id": "t3udMJl24353",
    "outputId": "30cbb908-70d3-4530-9232-02d9335aaccf"
   },
   "outputs": [],
   "source": [
    "# number of additional response ids to set as Prime\n",
    "additional_needed = 1237\n",
    "\n",
    "# get response ids that are non-Prime\n",
    "non_prime_ids = purchases[purchases['Prime'] == 0]['Survey ResponseID'].unique().tolist()\n",
    "\n",
    "# randomly set 1154 more response ids as prime\n",
    "additional_prime_ids = set(random.sample(non_prime_ids, additional_needed))\n",
    "purchases.loc[purchases['Survey ResponseID'].isin(additional_prime_ids), 'Prime'] = 1\n",
    "print(f\"Number of additional IDs set to Prime: {additional_needed}\")"
   ]
  },
  {
   "cell_type": "code",
   "execution_count": null,
   "metadata": {
    "colab": {
     "base_uri": "https://localhost:8080/"
    },
    "id": "TaXn77Um5N5M",
    "outputId": "33086230-0893-4ac3-f90e-480bbd49f923"
   },
   "outputs": [],
   "source": [
    "# number of unique response ids where Prime = 1\n",
    "prime_unique_ids = purchases[purchases['Prime'] == 1]['Survey ResponseID'].nunique()\n",
    "\n",
    "# percentages of unique response ids that are Prime = 1 now\n",
    "prime_percentage = (prime_unique_ids / total_unique_ids) * 100\n",
    "print(f\"Percentage of total unique IDs that are prime: {prime_percentage:.2f}%\")"
   ]
  },
  {
   "cell_type": "code",
   "execution_count": null,
   "metadata": {
    "colab": {
     "base_uri": "https://localhost:8080/"
    },
    "id": "L4n-CZF95U7G",
    "outputId": "31d78545-fd32-4cf5-832f-3b329125b28b"
   },
   "outputs": [],
   "source": [
    "purchases.head()"
   ]
  },
  {
   "cell_type": "code",
   "execution_count": null,
   "metadata": {
    "colab": {
     "base_uri": "https://localhost:8080/"
    },
    "id": "DUhx_UWu74vg",
    "outputId": "2a3dfaa6-8daf-4b9a-f53c-f9a0cc18b2e2"
   },
   "outputs": [],
   "source": [
    "prime_users = purchases[purchases['Prime'] == 1]\n",
    "prime_users = prime_users['Survey ResponseID'].drop_duplicates()\n",
    "\n",
    "prime_users = pd.DataFrame(prime_users)\n",
    "prime_users['Prime'] = 1\n",
    "prime_users.head()\n",
    "\n",
    "customers = pd.merge(customers, prime_users, on='Survey ResponseID', how='left')\n",
    "customers['Prime'] = customers['Prime'].fillna(0).astype(int)\n",
    "customers.head()"
   ]
  },
  {
   "cell_type": "markdown",
   "metadata": {
    "id": "rMaUJJr5Z5uu"
   },
   "source": [
    "###Free trial for prime"
   ]
  },
  {
   "cell_type": "code",
   "execution_count": null,
   "metadata": {
    "colab": {
     "base_uri": "https://localhost:8080/"
    },
    "id": "dwY3fdL-Z9R_",
    "outputId": "c33da8d8-6ce3-4655-a35a-8a83d07657d1"
   },
   "outputs": [],
   "source": [
    "customers['Free Trial'] = customers['Prime'].apply(lambda x: 1 if x == 1 else (1 if np.random.uniform(0, 1) > 0.3 else 0))\n",
    "\n",
    "print(customers['Free Trial'].describe())"
   ]
  },
  {
   "cell_type": "markdown",
   "metadata": {
    "id": "d6wLY_Zo5rok"
   },
   "source": [
    "### Discounts Column"
   ]
  },
  {
   "cell_type": "code",
   "execution_count": null,
   "metadata": {
    "colab": {
     "base_uri": "https://localhost:8080/",
     "height": 310
    },
    "id": "5DZQkUMe5uuF",
    "outputId": "72b63dec-edd2-4911-f1fb-30d40ea3f5ff"
   },
   "outputs": [],
   "source": [
    "purchases['Order Date'] = pd.to_datetime(purchases['Order Date'])\n",
    "\n",
    "sales_dates = [\n",
    "    ('2021-06-21', '2021-06-22'),  # Amazon Prime Day 2021\n",
    "    ('2022-07-12', '2022-07-13'),  # Amazon Prime Day 2022\n",
    "    ('2018-07-15', '2018-07-17'),  # Amazon Prime Day 2018\n",
    "    ('2019-07-15', '2019-07-17'),  # Amazon Prime Day 2019\n",
    "    ('2022-10-11', '2022-10-12'),  # Amazon Prime Early Access Sale 2022\n",
    "    ('2020-10-13', '2020-10-14'),  # Amazon Prime Day 2020\n",
    "    ('2018-11-24', '2018-12-02'),  # Black Friday & Cyber Monday\n",
    "    ('2019-11-24', '2019-12-02'),\n",
    "    ('2020-11-24', '2020-12-02'),\n",
    "    ('2021-11-24', '2021-12-02'),\n",
    "    ('2022-11-24', '2022-12-02')\n",
    "]\n",
    "\n",
    "sales_periods = [(pd.to_datetime(start), pd.to_datetime(end)) for start, end in sales_dates]\n",
    "\n",
    "# Discount for event days\n",
    "discounts = [0, 0.3, 0.35, 0.4, 0.45, 0.5]\n",
    "probabilities = [0.2, 0.2, 0.2, 0.2, 0.15, 0.05]\n",
    "\n",
    "def assign_discount(order_date):\n",
    "    for start, end in sales_periods:\n",
    "        if start <= order_date <= end:\n",
    "            return np.random.choice(discounts, p=probabilities)\n",
    "    return np.nan  # NaN the non-sales dates\n",
    "\n",
    "purchases['Discounts'] = purchases['Order Date'].apply(assign_discount)\n",
    "\n",
    "purchases.head()"
   ]
  },
  {
   "cell_type": "code",
   "execution_count": null,
   "metadata": {
    "colab": {
     "base_uri": "https://localhost:8080/",
     "height": 310
    },
    "id": "epCPQSxw6EbB",
    "outputId": "b4e4516c-c4b1-42bc-9f1c-e383d590e2b8"
   },
   "outputs": [],
   "source": [
    "# Discount for normal days\n",
    "normal_discounts = [0, 0.05, 0.1, 0.15, 0.2]\n",
    "normal_probabilities = [0.6, 0.16, 0.12, 0.08, 0.04]\n",
    "\n",
    "def assign_normal_discount(discount_value):\n",
    "    if pd.isna(discount_value):\n",
    "        return np.random.choice(normal_discounts, p=normal_probabilities)\n",
    "    return discount_value\n",
    "\n",
    "purchases['Discounts'] = purchases['Discounts'].apply(assign_normal_discount)\n",
    "\n",
    "purchases.head()"
   ]
  },
  {
   "cell_type": "markdown",
   "metadata": {
    "id": "RRSDLpYo6T08"
   },
   "source": [
    "#### surveyids that bought in event periods\n"
   ]
  },
  {
   "cell_type": "code",
   "execution_count": null,
   "metadata": {
    "colab": {
     "base_uri": "https://localhost:8080/",
     "height": 423
    },
    "id": "8v7u7KOL6TdR",
    "outputId": "b7ecd781-a6d9-41f6-d936-98923680e8dd"
   },
   "outputs": [],
   "source": [
    "purchases['Order Date'] = pd.to_datetime(purchases['Order Date'])\n",
    "\n",
    "sales_dates = [\n",
    "    ('2021-06-21', '2021-06-22'),  # Amazon Prime Day 2021\n",
    "    ('2022-07-12', '2022-07-13'),  # Amazon Prime Day 2022\n",
    "    ('2018-07-15', '2018-07-17'),  # Amazon Prime Day 2018\n",
    "    ('2019-07-15', '2019-07-17'),  # Amazon Prime Day 2019\n",
    "    ('2022-10-11', '2022-10-12'),  # Amazon Prime Early Access Sale 2022\n",
    "    ('2020-10-13', '2020-10-14'),  # Amazon Prime Day 2020\n",
    "    ('2018-11-24', '2018-12-02'),  # Black Friday & Cyber Monday\n",
    "    ('2019-11-24', '2019-12-02'),\n",
    "    ('2020-11-24', '2020-12-02'),\n",
    "    ('2021-11-24', '2021-12-02'),\n",
    "    ('2022-11-24', '2022-12-02')\n",
    "]\n",
    "\n",
    "sales_dates = [(pd.to_datetime(start), pd.to_datetime(end)) for start, end in sales_dates]\n",
    "\n",
    "# purchases in date ranges\n",
    "event_goers = purchases[\n",
    "    purchases['Order Date'].apply(lambda date: any(start <= date <= end for start, end in sales_dates))\n",
    "]\n",
    "\n",
    "# keep only survey responseid column\n",
    "event_goers = event_goers[['Survey ResponseID']].drop_duplicates()\n",
    "\n",
    "event_goers"
   ]
  },
  {
   "cell_type": "markdown",
   "metadata": {
    "id": "3aFiHZbio1XN"
   },
   "source": [
    "### CTC"
   ]
  },
  {
   "cell_type": "code",
   "execution_count": null,
   "metadata": {
    "colab": {
     "base_uri": "https://localhost:8080/"
    },
    "id": "BYMTiqFPjaua",
    "outputId": "bb61046e-7c17-4590-a1a5-e1d3d33cd86e"
   },
   "outputs": [],
   "source": [
    "#Simulating click to conversion rates for all marketing channels\n",
    "random.seed(3101)\n",
    "#Email\n",
    "desired_mean = 0.047\n",
    "size = len(customers.index)\n",
    "beta_param = 10\n",
    "alpha_param = desired_mean * beta_param / (1 - desired_mean)\n",
    "data = beta.rvs(alpha_param, beta_param, size=size)\n",
    "customers['Email CTC'] = data\n",
    "#Display ad\n",
    "desired_mean = 0.02\n",
    "size = len(customers.index)\n",
    "beta_param = 10\n",
    "alpha_param = desired_mean * beta_param / (1 - desired_mean)\n",
    "data = beta.rvs(alpha_param, beta_param, size=size)\n",
    "customers['Display Ad CTC'] = data\n",
    "#Video ad\n",
    "desired_mean = 0.01\n",
    "size = len(customers.index)\n",
    "beta_param = 10\n",
    "alpha_param = desired_mean * beta_param / (1 - desired_mean)\n",
    "data = beta.rvs(alpha_param, beta_param, size=size)\n",
    "customers['Video Ad CTC'] = data\n",
    "#Search Engine Ad\n",
    "desired_mean = 0.025\n",
    "size = len(customers.index)\n",
    "beta_param = 10\n",
    "alpha_param = desired_mean * beta_param / (1 - desired_mean)\n",
    "data = beta.rvs(alpha_param, beta_param, size=size)\n",
    "customers['Search Engine Ad CTC'] = data\n",
    "#Social media ad\n",
    "desired_mean = 0.015\n",
    "size = len(customers.index)\n",
    "beta_param = 10\n",
    "alpha_param = desired_mean * beta_param / (1 - desired_mean)\n",
    "data = beta.rvs(alpha_param, beta_param, size=size)\n",
    "customers['Social Media Ad CTC'] = data\n",
    "#Average\n",
    "customers['Average CTC'] = (customers['Email CTC'] + customers['Display Ad CTC'] + customers['Video Ad CTC'] + customers['Search Engine Ad CTC'] + customers['Social Media Ad CTC'])/5\n",
    "print(customers['Average CTC'].describe())\n",
    "plt.figure(figsize=(10, 6))\n",
    "sns.histplot(customers['Average CTC'], kde=True)"
   ]
  },
  {
   "cell_type": "code",
   "execution_count": null,
   "metadata": {
    "id": "gTm0hdbrtX3a"
   },
   "outputs": [],
   "source": [
    "# Setting some of the CTC rates to 0\n",
    "\n",
    "customers['Email CTC'] = customers['Email CTC'].where(customers['Email CTC'] >= 0.02, 0)                                      #2%\n",
    "customers['Display Ad CTC'] = customers['Display Ad CTC'].where(customers['Display Ad CTC'] >= 0.01, 0)                       #1%\n",
    "customers['Video Ad CTC'] = customers['Video Ad CTC'].where(customers['Video Ad CTC'] >= 0.005, 0)                            #0.05%\n",
    "customers['Search Engine Ad CTC'] = customers['Search Engine Ad CTC'].where(customers['Search Engine Ad CTC'] >= 0.02, 0)     #2%\n",
    "customers['Social Media Ad CTC'] = customers['Social Media Ad CTC'].where(customers['Social Media Ad CTC'] >= 0.01, 0)        #1%\n",
    "customers['Average CTC'] = customers['Average CTC'].where(customers['Average CTC'] >= 0.02, 0)                                #2%"
   ]
  },
  {
   "cell_type": "markdown",
   "metadata": {
    "id": "p1Hjn2ua25-J"
   },
   "source": [
    "### Paid for express shipping"
   ]
  },
  {
   "cell_type": "code",
   "execution_count": null,
   "metadata": {
    "colab": {
     "base_uri": "https://localhost:8080/"
    },
    "id": "87-nSWE723ho",
    "outputId": "e992a7a1-2da3-408b-bd71-a6e589b08752"
   },
   "outputs": [],
   "source": [
    "## All Prime members will have Express Shipping == 1\n",
    "np.random.seed(42)\n",
    "\n",
    "p_temp = purchases[purchases['Prime'] == 0]\n",
    "p_temp = p_temp[['Survey ResponseID', 'Order Date']].drop_duplicates()\n",
    "p_temp_count = len(p_temp)\n",
    "temp = np.random.binomial(1, 0.47, size = p_temp_count)\n",
    "p_temp['Express Shipping'] = temp\n",
    "\n",
    "purchases = pd.merge(purchases, p_temp, on=['Survey ResponseID', 'Order Date'], how='left')\n",
    "purchases['Express Shipping'] = purchases['Express Shipping'].fillna(1).astype(int)\n",
    "purchases.head()"
   ]
  },
  {
   "cell_type": "code",
   "execution_count": null,
   "metadata": {
    "colab": {
     "base_uri": "https://localhost:8080/"
    },
    "id": "OOV32nYj2-Hl",
    "outputId": "0a3e407d-bdbf-4162-d8cf-ec8b44d90998"
   },
   "outputs": [],
   "source": [
    "express_cust = (\n",
    "    purchases[purchases['Express Shipping'] == 1]\n",
    "    .drop_duplicates(subset=['Survey ResponseID', 'Order Date'])\n",
    "    .groupby('Survey ResponseID')\n",
    "    .size()\n",
    "    .reset_index(name='num_express')\n",
    ")\n",
    "express_cust.head()"
   ]
  },
  {
   "cell_type": "code",
   "execution_count": null,
   "metadata": {
    "colab": {
     "base_uri": "https://localhost:8080/"
    },
    "id": "J72ZkDTT2_wM",
    "outputId": "df221c39-27a8-4b06-8e11-5f67c168f3e3"
   },
   "outputs": [],
   "source": [
    "all_cust = (\n",
    "    purchases.drop_duplicates(subset=['Survey ResponseID', 'Order Date'])\n",
    "    .groupby('Survey ResponseID')\n",
    "    .size()\n",
    "    .reset_index(name='num_express_all')\n",
    ")\n",
    "all_cust.head()"
   ]
  },
  {
   "cell_type": "code",
   "execution_count": null,
   "metadata": {
    "colab": {
     "base_uri": "https://localhost:8080/"
    },
    "id": "WSKrFyiT3Bv4",
    "outputId": "db0a66f1-159d-4c10-8c17-dc88bba61fa5"
   },
   "outputs": [],
   "source": [
    "exp_ship = pd.merge(all_cust, express_cust, on='Survey ResponseID', how='left')\n",
    "exp_ship['Express Shipping'] = exp_ship['num_express'] / exp_ship['num_express_all']\n",
    "exp_ship.head()\n",
    "\n",
    "customers = pd.merge(customers, exp_ship[['Survey ResponseID', 'Express Shipping']], on='Survey ResponseID', how='left')\n",
    "customers.head()"
   ]
  },
  {
   "cell_type": "code",
   "execution_count": null,
   "metadata": {
    "colab": {
     "base_uri": "https://localhost:8080/"
    },
    "id": "QOq7cowe7w8R",
    "outputId": "25b7ad75-2152-4a29-8519-ce389fef0b32"
   },
   "outputs": [],
   "source": [
    "sns.histplot(customers[customers['Prime'] == 0]['Express Shipping'], kde = True)\n",
    "plt.show()"
   ]
  },
  {
   "cell_type": "markdown",
   "metadata": {
    "id": "KmOM6SRmcB2d"
   },
   "source": [
    "### Pre- tagging of customers"
   ]
  },
  {
   "cell_type": "code",
   "execution_count": null,
   "metadata": {
    "colab": {
     "base_uri": "https://localhost:8080/"
    },
    "id": "wzuqPGz8foFw",
    "outputId": "34e65c2e-9e70-4cfa-ba78-79e7454a9c9c"
   },
   "outputs": [],
   "source": [
    "num_to_sample_25 = int(len(customers) * 0.25)\n",
    "print(num_to_sample_25)\n",
    "num_to_sample_45 = int(len(customers) * 0.45)\n",
    "print(num_to_sample_45)"
   ]
  },
  {
   "cell_type": "code",
   "execution_count": null,
   "metadata": {
    "id": "HqeJiEb9aqRT"
   },
   "outputs": [],
   "source": [
    "# Getting the impulse customers (45%)\n",
    "impulse = event_goers.sample(n = num_to_sample_45, random_state=11)\n",
    "impulse = customers[customers['Survey ResponseID'].isin(impulse['Survey ResponseID'])]\n",
    "impulse_id = impulse['Survey ResponseID'].tolist()\n",
    "\n",
    "# Getting the indecisive customers (25%)\n",
    "non_impulse = customers[~customers['Survey ResponseID'].isin(impulse_id)].sample(n=num_to_sample_25, random_state=11)\n",
    "non_impulse_id = non_impulse['Survey ResponseID'].tolist()\n",
    "\n",
    "# Getting the remaining normal customers\n",
    "remaining_customers = customers[~customers['Survey ResponseID'].isin(impulse_id + non_impulse_id)]"
   ]
  },
  {
   "cell_type": "markdown",
   "metadata": {
    "id": "fEL7HJchj58E"
   },
   "source": [
    "#### Cart abandonment rate"
   ]
  },
  {
   "cell_type": "code",
   "execution_count": null,
   "metadata": {
    "id": "lGK-ujz5hCPU"
   },
   "outputs": [],
   "source": [
    "# for indecisive buyers\n",
    "np.random.seed(42)\n",
    "desired_mean = 0.85\n",
    "size = len(non_impulse.index)\n",
    "beta_param = 10\n",
    "alpha_param = desired_mean * beta_param / (1 - desired_mean)\n",
    "data = beta.rvs(alpha_param, beta_param, size=size)\n",
    "non_impulse['Cart Abandonment Rate'] = data"
   ]
  },
  {
   "cell_type": "code",
   "execution_count": null,
   "metadata": {
    "colab": {
     "base_uri": "https://localhost:8080/"
    },
    "id": "obtd4tqHj_FX",
    "outputId": "7a91a71f-69b5-4639-8034-3f734da3c8b6"
   },
   "outputs": [],
   "source": [
    "# for remaining buyers\n",
    "np.random.seed(42)\n",
    "desired_mean = 0.7\n",
    "\n",
    "size = len(impulse.index)\n",
    "beta_param = 10\n",
    "alpha_param = desired_mean * beta_param / (1 - desired_mean)\n",
    "data = beta.rvs(alpha_param, beta_param, size=size)\n",
    "impulse['Cart Abandonment Rate'] = data\n",
    "\n",
    "size = len(remaining_customers.index)\n",
    "beta_param = 10\n",
    "alpha_param = desired_mean * beta_param / (1 - desired_mean)\n",
    "data = beta.rvs(alpha_param, beta_param, size=size)\n",
    "remaining_customers['Cart Abandonment Rate'] = data"
   ]
  },
  {
   "cell_type": "code",
   "execution_count": null,
   "metadata": {
    "colab": {
     "base_uri": "https://localhost:8080/"
    },
    "id": "necGNJ9gkqd_",
    "outputId": "1300d60d-bbc3-4b2b-d9f6-5cab0d7bc462"
   },
   "outputs": [],
   "source": [
    "sns.histplot(non_impulse['Cart Abandonment Rate'], kde=True)"
   ]
  },
  {
   "cell_type": "markdown",
   "metadata": {
    "id": "mVfFdK6tk91F"
   },
   "source": [
    "#### Whether customer checks product reviews before purchasing"
   ]
  },
  {
   "cell_type": "code",
   "execution_count": null,
   "metadata": {
    "colab": {
     "base_uri": "https://localhost:8080/"
    },
    "id": "rGDiirSAlGfl",
    "outputId": "958b436b-a63a-4b38-85a1-1b24a7dc57cd"
   },
   "outputs": [],
   "source": [
    "# For impulse buyers\n",
    "np.random.seed(42)\n",
    "size = len(impulse.index)\n",
    "p = 0.3      # probability of getting 1\n",
    "data = np.random.choice([0, 1], size=size, p=[1-p, p])\n",
    "impulse['Check Review'] = data"
   ]
  },
  {
   "cell_type": "code",
   "execution_count": null,
   "metadata": {
    "id": "Djc-B6HPmbX_"
   },
   "outputs": [],
   "source": [
    "# For indecisive buyers\n",
    "np.random.seed(42)\n",
    "size = len(non_impulse.index)\n",
    "p = 0.8      # probability of getting 1\n",
    "data = np.random.choice([0, 1], size=size, p=[1-p, p])\n",
    "non_impulse['Check Review'] = data"
   ]
  },
  {
   "cell_type": "code",
   "execution_count": null,
   "metadata": {
    "colab": {
     "base_uri": "https://localhost:8080/"
    },
    "id": "yM34SQQTmw8x",
    "outputId": "bc0fd0c7-7fa5-4930-8561-a2f032c5629c"
   },
   "outputs": [],
   "source": [
    "# For remaining buyers\n",
    "np.random.seed(42)\n",
    "size = len(remaining_customers.index)\n",
    "p = 0.6      # probability of getting 1\n",
    "data = np.random.choice([0, 1], size=size, p=[1-p, p])\n",
    "remaining_customers['Check Review'] = data"
   ]
  },
  {
   "cell_type": "code",
   "execution_count": null,
   "metadata": {
    "colab": {
     "base_uri": "https://localhost:8080/"
    },
    "id": "AL7bMmn-mQnm",
    "outputId": "9dad476a-1100-4702-a226-1f08b7151e8d"
   },
   "outputs": [],
   "source": [
    "sns.histplot(remaining_customers['Check Review'], kde=True)"
   ]
  },
  {
   "cell_type": "markdown",
   "metadata": {
    "id": "PlhwvAUcnBNo"
   },
   "source": [
    "#### Return/refund rate"
   ]
  },
  {
   "cell_type": "code",
   "execution_count": null,
   "metadata": {
    "colab": {
     "base_uri": "https://localhost:8080/"
    },
    "id": "9UvwrXolnFCM",
    "outputId": "a8382a2d-d7d1-4440-af64-5478bc745c83"
   },
   "outputs": [],
   "source": [
    "# For impulse buyers\n",
    "np.random.seed(42)\n",
    "desired_mean = 0.2\n",
    "size = len(impulse.index)\n",
    "beta_param = 10\n",
    "alpha_param = desired_mean * beta_param / (1 - desired_mean)\n",
    "data = beta.rvs(alpha_param, beta_param, size=size)\n",
    "impulse['Refund rate'] = data\n",
    "\n",
    "impulse.head()"
   ]
  },
  {
   "cell_type": "code",
   "execution_count": null,
   "metadata": {
    "colab": {
     "base_uri": "https://localhost:8080/"
    },
    "id": "ljERyjaLoZV1",
    "outputId": "f3a8e36b-339b-4c61-9c50-386171d0505f"
   },
   "outputs": [],
   "source": [
    "# For remaining buyers\n",
    "np.random.seed(42)\n",
    "desired_mean = 0.05\n",
    "\n",
    "size = len(non_impulse.index)\n",
    "beta_param = 10\n",
    "alpha_param = desired_mean * beta_param / (1 - desired_mean)\n",
    "data = beta.rvs(alpha_param, beta_param, size=size)\n",
    "non_impulse['Refund rate'] = data\n",
    "\n",
    "size = len(remaining_customers.index)\n",
    "beta_param = 10\n",
    "alpha_param = desired_mean * beta_param / (1 - desired_mean)\n",
    "data = beta.rvs(alpha_param, beta_param, size=size)\n",
    "remaining_customers['Refund rate'] = data"
   ]
  },
  {
   "cell_type": "code",
   "execution_count": null,
   "metadata": {
    "colab": {
     "base_uri": "https://localhost:8080/"
    },
    "id": "4jcyKSl6oEkC",
    "outputId": "35052635-9356-458d-d1dd-13b6ac0173b6"
   },
   "outputs": [],
   "source": [
    "sns.histplot(remaining_customers['Refund rate'], kde=True)"
   ]
  },
  {
   "cell_type": "markdown",
   "metadata": {
    "id": "YSqzzmmIp9o6"
   },
   "source": [
    "#### Time in Cart"
   ]
  },
  {
   "cell_type": "code",
   "execution_count": null,
   "metadata": {
    "colab": {
     "base_uri": "https://localhost:8080/"
    },
    "id": "Npw5ac_Np9Hj",
    "outputId": "e3cd63e8-3b29-415c-fabd-fb06b245f8ee"
   },
   "outputs": [],
   "source": [
    "# For impulse buyers\n",
    "np.random.seed(42)\n",
    "size = len(impulse.index)\n",
    "data = np.random.exponential(scale=15, size=size) #average time = 15\n",
    "impulse['Time in Cart'] = data"
   ]
  },
  {
   "cell_type": "code",
   "execution_count": null,
   "metadata": {
    "id": "l-5P_6SMr03f"
   },
   "outputs": [],
   "source": [
    "# For indecisive buyers\n",
    "np.random.seed(42)\n",
    "size = len(non_impulse.index)\n",
    "data = np.random.exponential(scale=35, size=size) #average time = 35\n",
    "non_impulse['Time in Cart'] = data"
   ]
  },
  {
   "cell_type": "code",
   "execution_count": null,
   "metadata": {
    "colab": {
     "base_uri": "https://localhost:8080/"
    },
    "id": "nEYw2zvQvag6",
    "outputId": "97a64247-497e-4ef4-e76e-3b2668633d65"
   },
   "outputs": [],
   "source": [
    "# For remaining buyers\n",
    "np.random.seed(42)\n",
    "size = len(remaining_customers.index)\n",
    "data = np.random.exponential(scale=25, size=size) #average time = 25\n",
    "remaining_customers['Time in Cart'] = data"
   ]
  },
  {
   "cell_type": "code",
   "execution_count": null,
   "metadata": {
    "colab": {
     "base_uri": "https://localhost:8080/"
    },
    "id": "qNDV9x_5vnOD",
    "outputId": "d231d2c8-1e66-4669-e897-734960b8d11f"
   },
   "outputs": [],
   "source": [
    "sns.histplot(impulse['Time in Cart'], kde=True)"
   ]
  },
  {
   "cell_type": "markdown",
   "metadata": {
    "id": "q1jlKwjRwB-0"
   },
   "source": [
    "#### Time on Page"
   ]
  },
  {
   "cell_type": "code",
   "execution_count": null,
   "metadata": {
    "colab": {
     "base_uri": "https://localhost:8080/"
    },
    "id": "cKIARNkwwBcW",
    "outputId": "ed59d9a9-48ac-4a1d-bc1d-5d762bb4c484"
   },
   "outputs": [],
   "source": [
    "# For impulse buyers\n",
    "np.random.seed(42)\n",
    "size = len(impulse.index)\n",
    "data = np.random.exponential(scale=1, size=size) #average time = 1\n",
    "impulse['Time on Page'] = data"
   ]
  },
  {
   "cell_type": "code",
   "execution_count": null,
   "metadata": {
    "id": "I4QSSUOcwhvv"
   },
   "outputs": [],
   "source": [
    "# For indecisive buyers\n",
    "np.random.seed(42)\n",
    "size = len(non_impulse.index)\n",
    "data = np.random.exponential(scale=10, size=size) #average time = 10\n",
    "non_impulse['Time on Page'] = data"
   ]
  },
  {
   "cell_type": "code",
   "execution_count": null,
   "metadata": {
    "colab": {
     "base_uri": "https://localhost:8080/"
    },
    "id": "f7Oq4PLLwojz",
    "outputId": "f1651e1f-129d-4368-d423-b9f6c04e34a4"
   },
   "outputs": [],
   "source": [
    "# For remaining buyers\n",
    "np.random.seed(42)\n",
    "size = len(remaining_customers.index)\n",
    "data = np.random.exponential(scale=5, size=size) #average time = 5\n",
    "remaining_customers['Time on Page'] = data"
   ]
  },
  {
   "cell_type": "code",
   "execution_count": null,
   "metadata": {
    "colab": {
     "base_uri": "https://localhost:8080/"
    },
    "id": "d9BeTdOBwv80",
    "outputId": "a9a4aef2-ff9a-4bb2-e2a3-6171c4fefe02"
   },
   "outputs": [],
   "source": [
    "sns.histplot(impulse['Time on Page'], kde=True)"
   ]
  },
  {
   "cell_type": "markdown",
   "metadata": {
    "id": "dNE8eWiVxJsx"
   },
   "source": [
    "### Combining columns together"
   ]
  },
  {
   "cell_type": "code",
   "execution_count": null,
   "metadata": {
    "colab": {
     "base_uri": "https://localhost:8080/"
    },
    "id": "ZSggS_ggxM8b",
    "outputId": "6a91c3c7-5aa9-4f9f-80a0-8c1b9d46b62e"
   },
   "outputs": [],
   "source": [
    "impulse.head()"
   ]
  },
  {
   "cell_type": "code",
   "execution_count": null,
   "metadata": {
    "colab": {
     "base_uri": "https://localhost:8080/"
    },
    "id": "FjbcFg_zxXQA",
    "outputId": "7baae3bc-f1d1-4d16-f81f-78b98cc54f19"
   },
   "outputs": [],
   "source": [
    "non_impulse.head()"
   ]
  },
  {
   "cell_type": "code",
   "execution_count": null,
   "metadata": {
    "colab": {
     "base_uri": "https://localhost:8080/"
    },
    "id": "2t1ByTJZxY0y",
    "outputId": "862a2dbb-57d8-4f24-c487-b23ea907d5cd"
   },
   "outputs": [],
   "source": [
    "remaining_customers.head()"
   ]
  },
  {
   "cell_type": "code",
   "execution_count": null,
   "metadata": {
    "colab": {
     "base_uri": "https://localhost:8080/"
    },
    "id": "yeLCCzR5xdcY",
    "outputId": "90b46fc6-867c-4241-9faf-666efcb6e405"
   },
   "outputs": [],
   "source": [
    "customers = pd.concat([impulse, non_impulse, remaining_customers], axis=0, ignore_index=True)\n",
    "customers.head()"
   ]
  },
  {
   "cell_type": "code",
   "execution_count": null,
   "metadata": {
    "colab": {
     "base_uri": "https://localhost:8080/"
    },
    "id": "L7SnrhxvEGea",
    "outputId": "a92d119a-0abc-4740-fcaf-70159098fdd6"
   },
   "outputs": [],
   "source": [
    "customers.info()"
   ]
  },
  {
   "cell_type": "code",
   "execution_count": null,
   "metadata": {
    "id": "I25BEYfp99nW"
   },
   "outputs": [],
   "source": [
    "p = purchases.copy()"
   ]
  },
  {
   "cell_type": "code",
   "execution_count": null,
   "metadata": {
    "colab": {
     "base_uri": "https://localhost:8080/"
    },
    "id": "43dFVNRa-Gh1",
    "outputId": "32c6ecaa-ee82-409a-e5e2-7e90c05776a7"
   },
   "outputs": [],
   "source": [
    "p.head()"
   ]
  },
  {
   "cell_type": "markdown",
   "metadata": {
    "id": "vqLWEJ_ikYlF"
   },
   "source": [
    "###RFM Scores"
   ]
  },
  {
   "cell_type": "code",
   "execution_count": null,
   "metadata": {
    "colab": {
     "base_uri": "https://localhost:8080/"
    },
    "id": "q6SthPwFkaHB",
    "outputId": "d1a12949-764c-40bc-eec9-5ec26cd5ebbf"
   },
   "outputs": [],
   "source": [
    "#Lifetime RFM\n",
    "purchases = pd.read_csv('data/purchases.csv')\n",
    "purchases['Order Date'] = pd.to_datetime(purchases['Order Date'], format='%Y-%m-%d')\n",
    "purchases = purchases[purchases['Order Date'] < pd.to_datetime('2022-11-01', format='%Y-%m-%d')]\n",
    "purchases['Year'] = purchases['Order Date'].dt.year\n",
    "purchases['Month'] = purchases['Order Date'].dt.month\n",
    "purchases['Recency'] = pd.to_datetime('2022-11-01', format='%Y-%m-%d') - purchases.groupby(['Survey ResponseID'])['Order Date'].transform(\"max\")\n",
    "purchases['Frequency'] = purchases.groupby(['Survey ResponseID'])['Order Date'].transform('nunique')\n",
    "purchases['Order value'] = purchases['Quantity'] * purchases['Purchase Price Per Unit']\n",
    "purchases['Monetary'] = purchases.groupby(['Survey ResponseID'])['Order value'].transform('sum')\n",
    "purchases['Monetary'] = purchases['Monetary']/purchases['Frequency']\n",
    "purchases['Frequency'] = 46*30/purchases['Frequency']\n",
    "purchases = purchases[['Recency','Frequency','Monetary','Survey ResponseID']]\n",
    "purchases = purchases.drop_duplicates()\n",
    "#print(purchases['Frequency'].describe())\n",
    "#print(purchases['Monetary'].describe())\n",
    "purchases['Recency'] = purchases['Recency'].dt.days\n",
    "#Converting lifetime rfm to low,medium,high RFM\n",
    "\n",
    "conditions_recency = [\n",
    "    purchases['Recency'] <= 30,\n",
    "    (purchases['Recency'] > 30) & (purchases['Recency'] <= 365),\n",
    "    purchases['Recency'] > 365\n",
    "]\n",
    "\n",
    "conditions_frequency = [\n",
    "    purchases['Frequency'] <= 7,\n",
    "    (purchases['Frequency'] > 7) & (purchases['Frequency'] < 30),\n",
    "    purchases['Frequency'] >= 30\n",
    "]\n",
    "\n",
    "conditions_monetary = [\n",
    "    purchases['Monetary'] <= 35,\n",
    "    (purchases['Monetary'] > 35) & (purchases['Monetary'] < 65),\n",
    "    purchases['Monetary'] >= 65\n",
    "]\n",
    "choices_RF = [3,2,1]\n",
    "choices_M = [1,2,3]\n",
    "purchases['Recency_category'] = np.select(conditions_recency, choices_RF, default= 'Unknown')\n",
    "purchases['Frequency_category'] = np.select(conditions_frequency, choices_RF, default= 'Unknown')\n",
    "purchases['Monetary_category'] = np.select(conditions_monetary, choices_M, default= 'Unknown')\n",
    "purchases['RFM'] = purchases['Recency_category'].astype(str) + purchases['Frequency_category'].astype(str) + purchases['Monetary_category'].astype(str)\n",
    "print(purchases['RFM'].value_counts().sort_index(ascending= False))\n",
    "lifetime_rfm = purchases[['Survey ResponseID','RFM']].drop_duplicates()\n",
    "#FM matrix for each recency\n",
    "\n",
    "#recency_3_data = purchases[purchases['Recency'] == 3]\n",
    "fm_counts = [\n",
    "    [sum(purchases['RFM'] == \"331\"), sum(purchases['RFM'] == \"332\"), sum(purchases['RFM'] == \"333\")],\n",
    "    [sum(purchases['RFM'] == \"321\"), sum(purchases['RFM'] == \"322\"), sum(purchases['RFM'] == \"323\")],\n",
    "    [sum(purchases['RFM'] == \"311\"), sum(purchases['RFM'] == \"312\"), sum(purchases['RFM'] == \"313\")]\n",
    "]\n",
    "fm_matrix = np.array(fm_counts)\n",
    "total_count = fm_matrix.sum()\n",
    "percentages = (fm_matrix / total_count * 100).round(2)\n",
    "annot_labels = np.array([f\"{count}\\n{percent:.2f}%\"\n",
    "                         for count_row, percent_row in zip(fm_matrix, percentages)\n",
    "                         for count, percent in zip(count_row, percent_row)]).reshape(fm_matrix.shape)\n",
    "\n",
    "plt.figure(figsize=(6, 6))\n",
    "sns.heatmap(fm_matrix, annot=annot_labels, fmt=\"\", cmap=\"viridis\",\n",
    "            xticklabels=['Low M', 'Mid M', 'High M'],\n",
    "            yticklabels=['High F', 'Mid F', 'Low F'])\n",
    "plt.title(\"FM Matrix for High Recency Customers\")\n",
    "plt.xlabel(\"Monetary (M)\")\n",
    "plt.ylabel(\"Frequency (F)\")\n",
    "plt.show()\n",
    "\n",
    "#RM matrix\n",
    "fm_counts = [\n",
    "    [sum((purchases['Recency_category'] == \"3\") & (purchases['Monetary_category'] == \"1\")),\n",
    "     sum((purchases['Recency_category'] == \"3\") & (purchases['Monetary_category'] == \"2\")),\n",
    "     sum((purchases['Recency_category'] == \"3\") & (purchases['Monetary_category'] == \"3\"))],\n",
    "    [sum((purchases['Recency_category'] == \"2\") & (purchases['Monetary_category'] == \"1\")),\n",
    "     sum((purchases['Recency_category'] == \"2\") & (purchases['Monetary_category'] == \"2\")),\n",
    "     sum((purchases['Recency_category'] == \"2\") & (purchases['Monetary_category'] == \"3\"))],\n",
    "    [sum((purchases['Recency_category'] == \"1\") & (purchases['Monetary_category'] == \"1\")),\n",
    "     sum((purchases['Recency_category'] == \"1\") & (purchases['Monetary_category'] == \"2\")),\n",
    "     sum((purchases['Recency_category'] == \"1\") & (purchases['Monetary_category'] == \"3\"))]\n",
    "]\n",
    "fm_matrix = np.array(fm_counts)\n",
    "total_count = fm_matrix.sum()\n",
    "percentages = (fm_matrix / total_count * 100).round(2)\n",
    "annot_labels = np.array([f\"{count}\\n{percent:.2f}%\"\n",
    "                         for count_row, percent_row in zip(fm_matrix, percentages)\n",
    "                         for count, percent in zip(count_row, percent_row)]).reshape(fm_matrix.shape)\n",
    "\n",
    "plt.figure(figsize=(6, 6))\n",
    "sns.heatmap(fm_matrix, annot=annot_labels, fmt=\"\", cmap=\"viridis\",\n",
    "            xticklabels=['Low M', 'Mid M', 'High M'],\n",
    "            yticklabels=['High R', 'Mid R', 'Low R'])\n",
    "plt.title(\"RM Matrix\")\n",
    "plt.xlabel(\"Monetary (M)\")\n",
    "plt.ylabel(\"Recency (R)\")\n",
    "plt.show()\n",
    "fig = px.scatter_3d(purchases, x='Recency', y='Frequency', z='Monetary',\n",
    "                    color='Monetary', size = 'Frequency',\n",
    "                    labels={'Recency':'Recency', 'Frequency':'Frequency', 'Monetary':'Monetary'},\n",
    "                    title=\"RFM 3D Scatter Plot\")\n",
    "fig.show()\n",
    "#customers = customers.drop(columns=['RFM'])\n",
    "customers = pd.merge(customers, lifetime_rfm, on='Survey ResponseID', how='inner')\n",
    "print(customers)"
   ]
  },
  {
   "cell_type": "markdown",
   "metadata": {
    "id": "G0S7b2P0oWiG"
   },
   "source": [
    "##"
   ]
  },
  {
   "cell_type": "markdown",
   "metadata": {
    "id": "JH_9OkcKxsSS",
    "jp-MarkdownHeadingCollapsed": true
   },
   "source": [
    "## EDA"
   ]
  },
  {
   "cell_type": "markdown",
   "metadata": {
    "id": "H4pMbltlnFXM"
   },
   "source": [
    "###Loading libraries and data"
   ]
  },
  {
   "cell_type": "code",
   "execution_count": null,
   "metadata": {
    "id": "7y4jLgG3mwGb"
   },
   "outputs": [],
   "source": [
    "import numpy as np\n",
    "import pandas as pd\n",
    "import matplotlib.pyplot as plt\n",
    "import plotly.express as px\n",
    "import seaborn as sns\n",
    "import pandas as pd\n",
    "import plotly.express as px"
   ]
  },
  {
   "cell_type": "code",
   "execution_count": null,
   "metadata": {
    "id": "1lr3weCYGqsR"
   },
   "outputs": [],
   "source": [
    "customers = pd.read_csv('data/customers.csv')\n",
    "purchases = pd.read_csv('data/purchases.csv')"
   ]
  },
  {
   "cell_type": "code",
   "execution_count": null,
   "metadata": {
    "colab": {
     "base_uri": "https://localhost:8080/"
    },
    "id": "CTK75CQNueeX",
    "outputId": "e822471f-fb6f-4ff9-819c-fda7075195a6"
   },
   "outputs": [],
   "source": [
    "p = purchases.copy()\n",
    "p.head()"
   ]
  },
  {
   "cell_type": "code",
   "execution_count": null,
   "metadata": {
    "colab": {
     "base_uri": "https://localhost:8080/"
    },
    "id": "vrVpF_SrBS_o",
    "outputId": "1889e172-3d0c-42b9-f49d-b137dcf462af"
   },
   "outputs": [],
   "source": [
    "p.info()"
   ]
  },
  {
   "cell_type": "code",
   "execution_count": null,
   "metadata": {
    "colab": {
     "base_uri": "https://localhost:8080/"
    },
    "id": "CsYVcmoHmFv8",
    "outputId": "aa3e9448-dc30-4098-a971-f5f533189629"
   },
   "outputs": [],
   "source": [
    "customers.head()"
   ]
  },
  {
   "cell_type": "code",
   "execution_count": null,
   "metadata": {
    "colab": {
     "base_uri": "https://localhost:8080/"
    },
    "id": "vFquYO3NBSM2",
    "outputId": "1d580da5-2273-4914-e18f-a1d4494b81f0"
   },
   "outputs": [],
   "source": [
    "customers.info()"
   ]
  },
  {
   "cell_type": "markdown",
   "metadata": {
    "id": "uUegkW7InxQl"
   },
   "source": [
    "###EDA"
   ]
  },
  {
   "cell_type": "markdown",
   "metadata": {
    "id": "68RO7MnPLUiX"
   },
   "source": [
    "#### Sales graph"
   ]
  },
  {
   "cell_type": "code",
   "execution_count": null,
   "metadata": {
    "colab": {
     "base_uri": "https://localhost:8080/"
    },
    "id": "gDEtx5qvLYRf",
    "outputId": "d99098c6-fcef-4389-a143-8219e0d9e702"
   },
   "outputs": [],
   "source": [
    "#monthly sales graph\n",
    "purchases['Order value'] = purchases['Quantity'] * purchases['Purchase Price Per Unit']\n",
    "purchases['Order Date'] = pd.to_datetime(purchases['Order Date'], format='%Y-%m-%d')\n",
    "purchases['Year'] = purchases['Order Date'].dt.year\n",
    "purchases['Month'] = purchases['Order Date'].dt.month\n",
    "daily_sales = purchases.groupby(['Year','Month'])['Order value'].sum().reset_index()\n",
    "daily_sales['Order Date'] = pd.to_datetime(daily_sales[['Year', 'Month']].assign(DAY=1))\n",
    "\n",
    "fig = px.line(daily_sales, x='Order Date', y='Order value', title='Daily Sales',\n",
    "              labels = {'Order Date':'Date',\n",
    "                        'Order value': 'Monthly Revenue ($)'}) # Corrected x to 'Order Date'\n",
    "fig.update_layout(title_text=\"Monthly Revenue from Jan 2018 to Oct 2022\")\n",
    "fig"
   ]
  },
  {
   "cell_type": "code",
   "execution_count": null,
   "metadata": {
    "colab": {
     "base_uri": "https://localhost:8080/"
    },
    "id": "XwKmxQajQn_c",
    "outputId": "8c03adb4-91ed-43bc-f4f6-3322e7989fca"
   },
   "outputs": [],
   "source": [
    "#Yearly revenue growth comparison\n",
    "yearly_revenue = purchases.groupby('Year')['Order value'].sum().reset_index()\n",
    "yearly_revenue['Growth'] = yearly_revenue['Order value'].pct_change() * 100\n",
    "print(yearly_revenue)\n",
    "\n",
    "purchase_filtered = purchases[purchases['Month'] <= 10]\n",
    "yearly_revenue_filtered = purchase_filtered.groupby('Year')['Order value'].sum().reset_index()\n",
    "yearly_revenue_filtered['Growth'] = yearly_revenue_filtered['Order value'].pct_change() * 100\n",
    "yearly_revenue_filtered = yearly_revenue_filtered[yearly_revenue_filtered['Year'] >= 2019]\n",
    "#Bar graph of yearly revenue filtered\n",
    "fig = px.bar(yearly_revenue_filtered, x='Year', y='Growth', title='Yearly Revenue',\n",
    "             labels = {'Order Date':'Year',\n",
    "                       'Growth': 'Change in revenue wrt previous year (%)'},\n",
    "             text = 'Growth') # Corrected x to 'Order Date'\n",
    "fig.update_traces(marker_color=np.where(yearly_revenue_filtered['Growth'] < 0, 'red', 'green'))\n",
    "fig.update_layout(title_text=\"Revenue growth of 1st 10 months of each year\")\n",
    "fig.update_xaxes(\n",
    "    dtick=\"Y1\",  # Set tick interval to 1 year\n",
    "    tickformat=\"%Y\"  # Format tick labels to show only the year\n",
    ")\n",
    "fig.update_traces(texttemplate='%{text:.2s}%', textposition='outside')\n",
    "fig"
   ]
  },
  {
   "cell_type": "markdown",
   "metadata": {
    "id": "iNGIJSJKggX1"
   },
   "source": [
    "#### Whether customers are Prime members"
   ]
  },
  {
   "cell_type": "code",
   "execution_count": null,
   "metadata": {
    "colab": {
     "base_uri": "https://localhost:8080/"
    },
    "id": "0yMtbwroeiPe",
    "outputId": "9221cb79-6e42-41fb-f0b7-e84c33d71b9f"
   },
   "outputs": [],
   "source": [
    "prime_users = p[p['Prime'] == 1]\n",
    "prime_users = prime_users['Survey ResponseID'].drop_duplicates()\n",
    "\n",
    "non_prime_users = p[p['Prime'] == 0]\n",
    "non_prime_users = non_prime_users['Survey ResponseID'].drop_duplicates()\n",
    "\n",
    "num_prime_users = len(prime_users)\n",
    "num_non_prime_users = len(non_prime_users)\n",
    "user_types = ['Prime', 'Non-Prime']\n",
    "user_counts = [num_prime_users, num_non_prime_users]\n",
    "\n",
    "plt.bar(user_types, user_counts)\n",
    "plt.xlabel('User Type')\n",
    "plt.ylabel('Number of Users')\n",
    "plt.title('Number of Prime vs. Non-Prime Users')\n",
    "plt.show()"
   ]
  },
  {
   "cell_type": "code",
   "execution_count": null,
   "metadata": {
    "colab": {
     "base_uri": "https://localhost:8080/"
    },
    "id": "VHZgYapnjByQ",
    "outputId": "dcf48c9a-1b49-4048-ac55-6a19c35aff1f"
   },
   "outputs": [],
   "source": [
    "len(prime_users) / len(customers)"
   ]
  },
  {
   "cell_type": "markdown",
   "metadata": {
    "id": "v1Y93ug8i95G"
   },
   "source": [
    "65% of customers are Amazon Prime users, whereas 35% are not."
   ]
  },
  {
   "cell_type": "markdown",
   "metadata": {
    "id": "mIt5Adl2g8Fx"
   },
   "source": [
    "#### Cart Abandonment rate"
   ]
  },
  {
   "cell_type": "code",
   "execution_count": null,
   "metadata": {
    "colab": {
     "base_uri": "https://localhost:8080/"
    },
    "id": "s6nuxOSMqkQ2",
    "outputId": "4593f921-4ef6-4431-d1b2-6424d5241251"
   },
   "outputs": [],
   "source": [
    "sns.histplot(customers['Cart Abandonment Rate'], kde=True)\n",
    "plt.xlabel('Cart Abandonment Rate')\n",
    "plt.ylabel('Frequency')\n",
    "plt.title('Distribution of Cart Abandonment Rate')\n",
    "plt.show()"
   ]
  },
  {
   "cell_type": "code",
   "execution_count": null,
   "metadata": {
    "colab": {
     "base_uri": "https://localhost:8080/"
    },
    "id": "EHkjn0oukTYH",
    "outputId": "eef9fdfa-239e-44d4-ef1b-c9e09a988bf0"
   },
   "outputs": [],
   "source": [
    "customers['Cart Abandonment Rate'].median()"
   ]
  },
  {
   "cell_type": "markdown",
   "metadata": {
    "id": "1sFH6ftoj3ny"
   },
   "source": [
    "Overall cart abandonment rate seems to be quite high, with almost everyone choosing to abandon their carts more than half of the time. ~74% of carts are abandoned."
   ]
  },
  {
   "cell_type": "markdown",
   "metadata": {
    "id": "ZIr9dbPQhA0U"
   },
   "source": [
    "#### Whether customers check Product Reviews"
   ]
  },
  {
   "cell_type": "code",
   "execution_count": null,
   "metadata": {
    "colab": {
     "base_uri": "https://localhost:8080/"
    },
    "id": "6uAwhLCtiH8h",
    "outputId": "a21502da-3ee8-409a-dd89-bca60501b031"
   },
   "outputs": [],
   "source": [
    "check_users = customers[customers['Check Review'] == 1]\n",
    "check_users = check_users['Survey ResponseID'].drop_duplicates()\n",
    "\n",
    "no_check_users = customers[customers['Check Review'] == 0]\n",
    "no_check_users = no_check_users['Survey ResponseID'].drop_duplicates()\n",
    "\n",
    "num_check_users = len(check_users)\n",
    "num_no_check_users = len(no_check_users)\n",
    "user_types_reviews = ['Check Reviews', 'Doesn\\'t Check Reviews']\n",
    "user_counts_reviews = [num_check_users, num_no_check_users]\n",
    "\n",
    "plt.bar(user_types_reviews, user_counts_reviews)\n",
    "plt.xlabel('User Type')\n",
    "plt.ylabel('Number of Users')\n",
    "plt.title('Users who Check/Doesn\\'t Check Reviews')\n",
    "plt.show()"
   ]
  },
  {
   "cell_type": "code",
   "execution_count": null,
   "metadata": {
    "colab": {
     "base_uri": "https://localhost:8080/"
    },
    "id": "V_6WHEfxkQP4",
    "outputId": "bfa64c76-182a-4158-9644-1856b564fb3e"
   },
   "outputs": [],
   "source": [
    "num_check_users/len(customers)"
   ]
  },
  {
   "cell_type": "markdown",
   "metadata": {
    "id": "bQsKLIDOkil5"
   },
   "source": [
    "51.0% of customers check reviews"
   ]
  },
  {
   "cell_type": "markdown",
   "metadata": {
    "id": "uNoa10V8eJVC"
   },
   "source": [
    "#### Trial"
   ]
  },
  {
   "cell_type": "code",
   "execution_count": null,
   "metadata": {
    "colab": {
     "base_uri": "https://localhost:8080/"
    },
    "id": "SeTXNimaeqLt",
    "outputId": "2bca1729-2129-4a00-dc9d-ec80ac1f9abd"
   },
   "outputs": [],
   "source": [
    "free_trial = customers[customers['Free Trial'] == 1]\n",
    "free_trial = free_trial['Survey ResponseID'].drop_duplicates()\n",
    "\n",
    "no_free_trial = customers[customers['Free Trial'] == 0]\n",
    "no_free_trial = no_free_trial['Survey ResponseID'].drop_duplicates()\n",
    "\n",
    "num_free_trial = len(free_trial)\n",
    "num_no_free_trial = len(no_free_trial)\n",
    "user_types_trial = ['Free Trial', 'No Free Trial']\n",
    "user_counts_trial = [num_free_trial, num_no_free_trial]\n",
    "\n",
    "plt.bar(user_types_trial, user_counts_trial)\n",
    "plt.xlabel('User Type')\n",
    "plt.ylabel('Number of Users')\n",
    "plt.title('Free Trial VS Not Free Trial Users')\n",
    "plt.show()"
   ]
  },
  {
   "cell_type": "code",
   "execution_count": null,
   "metadata": {
    "colab": {
     "base_uri": "https://localhost:8080/"
    },
    "id": "t6eGUrskklVW",
    "outputId": "a54f583a-9654-40f2-a671-1029a6449d05"
   },
   "outputs": [],
   "source": [
    "num_free_trial/len(customers)"
   ]
  },
  {
   "cell_type": "markdown",
   "metadata": {
    "id": "brDEpYpokpyx"
   },
   "source": [
    "89.5% of customers are on free trial"
   ]
  },
  {
   "cell_type": "markdown",
   "metadata": {
    "id": "N5zyKQdWg6PY"
   },
   "source": [
    "#### Percentage of Discounted Items Bought"
   ]
  },
  {
   "cell_type": "code",
   "execution_count": null,
   "metadata": {
    "colab": {
     "base_uri": "https://localhost:8080/"
    },
    "id": "GuM61VSCjU9r",
    "outputId": "f2c94f18-df7f-4959-daf3-1c449913ab89"
   },
   "outputs": [],
   "source": [
    "p['discount_applied'] = p['Discounts'].apply(lambda x: 1 if x > 0 else 0)\n",
    "\n",
    "discount_counts = p.groupby('Survey ResponseID')['discount_applied'].value_counts().unstack(fill_value=0)\n",
    "discount_counts.columns = ['no_discount', 'with_discount']\n",
    "discount_counts['total_items'] = discount_counts['with_discount'] + discount_counts['no_discount']\n",
    "discount_counts['pct_discount'] = discount_counts['with_discount'] / discount_counts['total_items']\n",
    "discount_counts.head(20)"
   ]
  },
  {
   "cell_type": "code",
   "execution_count": null,
   "metadata": {
    "colab": {
     "base_uri": "https://localhost:8080/"
    },
    "id": "SLtrerNhTH_-",
    "outputId": "dd6592bb-cf96-4058-d5db-3eb73f9cff20"
   },
   "outputs": [],
   "source": [
    "keep = discount_counts[discount_counts['total_items'] > 5]\n",
    "\n",
    "discount_counts['keep discounts'] = discount_counts.index.isin(keep.index).astype(int)\n",
    "discount_counts.info()"
   ]
  },
  {
   "cell_type": "code",
   "execution_count": null,
   "metadata": {
    "colab": {
     "base_uri": "https://localhost:8080/"
    },
    "id": "VOk9VHWJkFeo",
    "outputId": "d701d486-21c2-4504-f84f-67a311626914"
   },
   "outputs": [],
   "source": [
    "customers['Pct Discount'] = pd.merge(customers, discount_counts, on='Survey ResponseID', how='left')['pct_discount']\n",
    "customers['Keep Discount'] = pd.merge(customers, discount_counts, on='Survey ResponseID', how='left')['keep discounts']\n",
    "p = p.drop(columns=['discount_applied'])\n",
    "customers.head()"
   ]
  },
  {
   "cell_type": "code",
   "execution_count": null,
   "metadata": {
    "colab": {
     "base_uri": "https://localhost:8080/"
    },
    "id": "WYelhCYMsIjj",
    "outputId": "9872ddea-8395-4861-b319-39c6ab728430"
   },
   "outputs": [],
   "source": [
    "sns.histplot(customers['Pct Discount'], kde=True)\n",
    "plt.xlabel('Pct of Discounted Items Bought')\n",
    "plt.ylabel('Frequency')\n",
    "plt.title('Distribution of Pct of Discounted Items Bought')\n",
    "plt.show()"
   ]
  },
  {
   "cell_type": "markdown",
   "metadata": {
    "id": "8C77U03phNiW"
   },
   "source": [
    "#### Refund / Return Rate"
   ]
  },
  {
   "cell_type": "code",
   "execution_count": null,
   "metadata": {
    "colab": {
     "base_uri": "https://localhost:8080/"
    },
    "id": "Jj-g0VPMsZiF",
    "outputId": "837266c0-0549-4477-e85e-acd878e393cd"
   },
   "outputs": [],
   "source": [
    "sns.histplot(customers['Refund rate'], kde=True)\n",
    "plt.xlabel('Refund rate')\n",
    "plt.ylabel('Frequency')\n",
    "plt.title('Distribution of Refund rate')\n",
    "plt.show()"
   ]
  },
  {
   "cell_type": "markdown",
   "metadata": {
    "id": "fRr6feGchR1z"
   },
   "source": [
    "#### Category"
   ]
  },
  {
   "cell_type": "code",
   "execution_count": null,
   "metadata": {
    "colab": {
     "base_uri": "https://localhost:8080/"
    },
    "id": "1gdw6A82s7p3",
    "outputId": "a39f8b4d-44ba-4f84-9e78-f406475b915f"
   },
   "outputs": [],
   "source": [
    "#Most popular category for each customer\n",
    "purchases['Total items bought'] = purchases.groupby(['Survey ResponseID'])['Order Date'].transform('nunique')\n",
    "purchases['Total items bought per category'] = purchases.groupby(['Survey ResponseID','Category'])['Order Date'].transform('nunique')\n",
    "purchases['Most items category'] = purchases.groupby(['Survey ResponseID'])['Total items bought per category'].transform('max')\n",
    "purchases = purchases[purchases['Total items bought per category'] == purchases['Most items category']]\n",
    "purchases_filtered = purchases[['Total items bought','Survey ResponseID','Category','Most items category']].drop_duplicates()\n",
    "purchases_filtered['pct of category'] = purchases_filtered['Most items category']/purchases_filtered['Total items bought']\n",
    "\n",
    "purchases_filtered = purchases_filtered[purchases_filtered['Total items bought'] >= 5]\n",
    "\n",
    "sns.histplot(purchases_filtered['pct of category'], kde=True)"
   ]
  },
  {
   "cell_type": "code",
   "execution_count": null,
   "metadata": {
    "colab": {
     "base_uri": "https://localhost:8080/"
    },
    "id": "0mZN0NRemSmM",
    "outputId": "b74c8a89-71e3-4c6c-9a18-aad6cbf705fe"
   },
   "outputs": [],
   "source": [
    "purchases_filtered = purchases_filtered[purchases_filtered['pct of category'] > 0.5]\n",
    "purchases_filtered = purchases_filtered.drop(columns=['Total items bought','pct of category', 'Most items category'])\n",
    "customers = pd.merge(customers, purchases_filtered, on='Survey ResponseID', how='left')\n",
    "customers.head()\n",
    "customers.info()"
   ]
  },
  {
   "cell_type": "code",
   "execution_count": null,
   "metadata": {
    "colab": {
     "base_uri": "https://localhost:8080/"
    },
    "id": "o441ErZzEDpm",
    "outputId": "fe537ec6-8ae3-4808-d7c0-683b91446a65"
   },
   "outputs": [],
   "source": [
    "# We have 4934 IDs instead of 4933: One dude has a duplicated entry bc he has 2 categories tied for most purchased category\n",
    "duplicates = customers[customers['Survey ResponseID'].duplicated(keep=False)]\n",
    "print(duplicates)"
   ]
  },
  {
   "cell_type": "code",
   "execution_count": null,
   "metadata": {
    "colab": {
     "base_uri": "https://localhost:8080/"
    },
    "id": "DaUKXbujEbhA",
    "outputId": "75539d56-92f1-4a72-a400-d32cadc0f0e4"
   },
   "outputs": [],
   "source": [
    "customers = customers.drop(customers[customers.duplicated(subset='Survey ResponseID', keep='first')].sample(frac=1).index)\n",
    "customers.info()"
   ]
  },
  {
   "cell_type": "code",
   "execution_count": null,
   "metadata": {
    "colab": {
     "base_uri": "https://localhost:8080/"
    },
    "id": "g0VcC71Il7Nn",
    "outputId": "9af1fe6a-6524-4c32-ae73-dc23e477525f"
   },
   "outputs": [],
   "source": [
    "counts = customers['Category'].value_counts().dropna()\n",
    "\n",
    "sns.barplot(x = counts.index, y=counts.values)\n",
    "plt.title('Count of Customers who Mostly Purchase 1 Category')\n",
    "plt.xlabel('Category')\n",
    "plt.ylabel('Count')\n",
    "plt.xticks(rotation=45, ha='right')\n",
    "plt.show()"
   ]
  },
  {
   "cell_type": "markdown",
   "metadata": {
    "id": "sfres6yJWRKM"
   },
   "source": [
    "#### Paid for express shipping:"
   ]
  },
  {
   "cell_type": "code",
   "execution_count": null,
   "metadata": {
    "colab": {
     "base_uri": "https://localhost:8080/"
    },
    "id": "K2P2nVF4lSTZ",
    "outputId": "5218d99a-474d-4621-b224-c40ee90ada02"
   },
   "outputs": [],
   "source": [
    "#Plot of % of orders bought with express shipping for non-prime customers\n",
    "sns.histplot(customers[customers['Prime'] == 0]['Express Shipping'], kde = True)\n",
    "plt.show()"
   ]
  },
  {
   "cell_type": "markdown",
   "metadata": {
    "id": "FVWnvn-ZgpcW"
   },
   "source": [
    "#### Click-to-conversion (CTC) Rates"
   ]
  },
  {
   "cell_type": "code",
   "execution_count": null,
   "metadata": {
    "colab": {
     "base_uri": "https://localhost:8080/"
    },
    "id": "1AHPdwlSJtX4",
    "outputId": "f45b5aa8-1726-41e4-8fd3-5cc39654eb4e"
   },
   "outputs": [],
   "source": [
    "sns.boxplot(data=customers[['Email CTC','Display Ad CTC','Video Ad CTC','Search Engine Ad CTC','Social Media Ad CTC']])\n",
    "\n",
    "plt.title('Boxplots of 5 CTC')\n",
    "plt.xlabel('Channel')\n",
    "plt.ylabel('Values')\n",
    "plt.xticks(rotation=45)"
   ]
  },
  {
   "cell_type": "code",
   "execution_count": null,
   "metadata": {
    "colab": {
     "base_uri": "https://localhost:8080/"
    },
    "id": "ZggfB7TwovPa",
    "outputId": "0230b3cd-0982-4266-bab8-0c7433b7dedb"
   },
   "outputs": [],
   "source": [
    "#distribution of CTC for different marketing channels\n",
    "sns.displot(customers['Email CTC'], kind = 'kde', color = \"red\")\n",
    "sns.displot(customers['Display Ad CTC'], kind = 'kde', color = \"blue\")\n",
    "sns.displot(customers['Video Ad CTC'], kind = 'kde', color = \"green\")\n",
    "sns.displot(customers['Search Engine Ad CTC'], kind = 'kde', color = \"purple\")\n",
    "sns.displot(customers['Social Media Ad CTC'], kind = 'kde', color = \"orange\")\n",
    "sns.displot(customers['Average CTC'], kind = 'kde', color = \"brown\")\n",
    "plt.show()"
   ]
  },
  {
   "cell_type": "code",
   "execution_count": null,
   "metadata": {
    "colab": {
     "base_uri": "https://localhost:8080/"
    },
    "id": "TgxJAHofkri1",
    "outputId": "f1f147cd-dd83-4e31-c29d-c1bee7b6b86d"
   },
   "outputs": [],
   "source": [
    "sns.histplot(customers['Email CTC'], kde = True, color = \"red\")\n",
    "plt.show()\n",
    "sns.histplot(customers['Display Ad CTC'], kde = True, color = \"blue\")\n",
    "plt.show()\n",
    "sns.histplot(customers['Video Ad CTC'], kde = True, color = \"green\")\n",
    "plt.show()\n",
    "sns.histplot(customers['Search Engine Ad CTC'], kde = True, color = \"purple\")\n",
    "plt.show()\n",
    "sns.histplot(customers['Social Media Ad CTC'], kde = True, color = \"orange\")\n",
    "plt.show()\n",
    "sns.histplot(customers['Average CTC'], kde = True, color = \"brown\")\n",
    "plt.show()"
   ]
  },
  {
   "cell_type": "markdown",
   "metadata": {
    "id": "qSaLWgJxlaLY"
   },
   "source": [
    "#### Time in Cart"
   ]
  },
  {
   "cell_type": "code",
   "execution_count": null,
   "metadata": {
    "colab": {
     "base_uri": "https://localhost:8080/"
    },
    "id": "KNtyTlK5k4hu",
    "outputId": "a639a798-6499-4732-e021-21e10d7386e9"
   },
   "outputs": [],
   "source": [
    "#sns.kdeplot(customers['Time in Cart'], fill=True)\n",
    "sns.histplot(customers['Time in Cart'], kde=True)\n",
    "plt.title('Density Distribution of Time in Cart Values')\n",
    "plt.xlabel('Values')\n",
    "plt.ylabel('Density')\n",
    "plt.show()"
   ]
  },
  {
   "cell_type": "markdown",
   "metadata": {
    "id": "F1O-LQmghqQg"
   },
   "source": [
    "#### Time on Page"
   ]
  },
  {
   "cell_type": "code",
   "execution_count": null,
   "metadata": {
    "colab": {
     "base_uri": "https://localhost:8080/"
    },
    "id": "buBYV9vBoI59",
    "outputId": "39aa28bb-4874-44e0-fbee-e3afe9e6b694"
   },
   "outputs": [],
   "source": [
    "#sns.kdeplot(customers['Time on Page'], fill=True)\n",
    "sns.histplot(customers['Time on Page'], kde=True)\n",
    "plt.title('Density Distribution of Time on Page Values')\n",
    "plt.xlabel('Values')\n",
    "plt.ylabel('Density')\n",
    "plt.show()"
   ]
  },
  {
   "cell_type": "markdown",
   "metadata": {
    "id": "0feewPw9zBHw"
   },
   "source": [
    "####FM Matrix"
   ]
  },
  {
   "cell_type": "code",
   "execution_count": null,
   "metadata": {
    "colab": {
     "base_uri": "https://localhost:8080/"
    },
    "id": "bDopH26ZzDqG",
    "outputId": "86c4ef17-a8db-4ef5-bb0b-4bf38e9fb7e1"
   },
   "outputs": [],
   "source": [
    "#Lifetime RFM\n",
    "purchases['Order Date'] = pd.to_datetime(purchases['Order Date'], format='%Y-%m-%d')\n",
    "purchases = purchases[purchases['Order Date'] < pd.to_datetime('2022-11-01', format='%Y-%m-%d')]\n",
    "purchases['Year'] = purchases['Order Date'].dt.year\n",
    "purchases['Month'] = purchases['Order Date'].dt.month\n",
    "purchases['Recency'] = pd.to_datetime('2022-11-01', format='%Y-%m-%d') - purchases.groupby(['Survey ResponseID'])['Order Date'].transform(\"max\")\n",
    "#Frequency need to change to number of purchases/month\n",
    "purchases['Frequency'] = purchases.groupby(['Survey ResponseID'])['Order Date'].transform('nunique')\n",
    "purchases['Order value'] = purchases['Quantity'] * purchases['Purchase Price Per Unit']\n",
    "purchases['Monetary'] = purchases.groupby(['Survey ResponseID'])['Order value'].transform('sum')\n",
    "purchases = purchases[['Recency','Frequency','Monetary','Survey ResponseID']]\n",
    "purchases = purchases.drop_duplicates()\n",
    "purchases['Recency'] = purchases['Recency'].dt.days\n",
    "freq_medium = purchases['Frequency'].quantile(0.5)\n",
    "freq_high = purchases['Frequency'].quantile(0.75)\n",
    "monetary_medium = purchases['Monetary'].quantile(0.5)\n",
    "monetary_high = purchases['Monetary'].quantile(0.75)\n",
    "#print(purchases['Frequency'].describe())\n",
    "#print(purchases['Monetary'].describe())\n",
    "conditions_frequency = [\n",
    "    purchases['Frequency'] <= freq_medium,\n",
    "    (purchases['Frequency'] > freq_medium) & (purchases['Frequency'] < freq_high),\n",
    "    purchases['Frequency'] >= freq_high\n",
    "]\n",
    "\n",
    "conditions_monetary = [\n",
    "    purchases['Monetary'] <= monetary_medium,\n",
    "    (purchases['Monetary'] > monetary_medium) & (purchases['Monetary'] < monetary_high),\n",
    "    purchases['Monetary'] >= monetary_high\n",
    "]\n",
    "choices_FM = [1,2,3]\n",
    "purchases['Frequency_category'] = np.select(conditions_frequency, choices_FM, default= 'Unknown')\n",
    "purchases['Monetary_category'] = np.select(conditions_monetary, choices_FM, default= 'Unknown')\n",
    "purchases['FM'] = purchases['Frequency_category'].astype(str) + purchases['Monetary_category'].astype(str)\n",
    "print(purchases['FM'].value_counts().sort_index(ascending= False))\n",
    "lifetime_fm = purchases[['Survey ResponseID','FM']].drop_duplicates()\n",
    "fm_counts = [\n",
    "    [sum(purchases['FM'] == \"31\"), sum(purchases['FM'] == \"32\"), sum(purchases['FM'] == \"33\")],\n",
    "    [sum(purchases['FM'] == \"21\"), sum(purchases['FM'] == \"22\"), sum(purchases['FM'] == \"23\")],\n",
    "    [sum(purchases['FM'] == \"11\"), sum(purchases['FM'] == \"12\"), sum(purchases['FM'] == \"13\")]\n",
    "]\n",
    "fm_matrix = np.array(fm_counts)\n",
    "total_count = fm_matrix.sum()\n",
    "percentages = (fm_matrix / total_count * 100).round(2)\n",
    "annot_labels = np.array([f\"{count}\\n{percent:.2f}%\"\n",
    "                         for count_row, percent_row in zip(fm_matrix, percentages)\n",
    "                         for count, percent in zip(count_row, percent_row)]).reshape(fm_matrix.shape)\n",
    "\n",
    "plt.figure(figsize=(6, 6))\n",
    "sns.heatmap(fm_matrix, annot=annot_labels, fmt=\"\", cmap=\"viridis\",\n",
    "            xticklabels=['Low M', 'Mid M', 'High M'],\n",
    "            yticklabels=['High F', 'Mid F', 'Low F'])\n",
    "plt.title(\"FM Matrix for Customers\")\n",
    "plt.xlabel(\"Monetary (M)\")\n",
    "plt.ylabel(\"Frequency (F)\")\n",
    "plt.show()"
   ]
  },
  {
   "cell_type": "markdown",
   "metadata": {
    "id": "cwTEXMJfy_vY",
    "jp-MarkdownHeadingCollapsed": true
   },
   "source": [
    "# 1.2: Develop customer segmentation models based on purchasing behavior"
   ]
  },
  {
   "cell_type": "markdown",
   "metadata": {
    "id": "O0shWC1KELZA"
   },
   "source": [
    "## Importing libraries and data"
   ]
  },
  {
   "cell_type": "code",
   "execution_count": null,
   "metadata": {
    "id": "lbSsWRdsEAXF"
   },
   "outputs": [],
   "source": [
    "import csv\n",
    "import math\n",
    "import random\n",
    "import numpy as np\n",
    "import pandas as pd\n",
    "import matplotlib.pyplot as plt\n",
    "import plotly.express as px\n",
    "import seaborn as sns\n",
    "from sklearn.feature_extraction.text import TfidfVectorizer\n",
    "from sklearn.metrics.pairwise import cosine_similarity\n",
    "import pandas as pd\n",
    "import plotly.express as px\n",
    "import time\n",
    "import random\n",
    "from scipy.stats import beta"
   ]
  },
  {
   "cell_type": "code",
   "execution_count": null,
   "metadata": {
    "id": "8oq2EQsnIxhR"
   },
   "outputs": [],
   "source": [
    "customers = pd.read_csv('data/segmentation_customers.csv')\n",
    "purchases = pd.read_csv('data/purchases.csv')"
   ]
  },
  {
   "cell_type": "code",
   "execution_count": null,
   "metadata": {
    "colab": {
     "base_uri": "https://localhost:8080/"
    },
    "id": "41wkblU_EH7u",
    "outputId": "3fd377dd-cb99-411a-d625-fc2b207b12cf"
   },
   "outputs": [],
   "source": [
    "customers.head()"
   ]
  },
  {
   "cell_type": "code",
   "execution_count": null,
   "metadata": {
    "colab": {
     "base_uri": "https://localhost:8080/"
    },
    "id": "3fyEj-rlEJYi",
    "outputId": "2328212b-0ae4-45a7-e589-8593e05bafea"
   },
   "outputs": [],
   "source": [
    "purchases.head()"
   ]
  },
  {
   "cell_type": "markdown",
   "metadata": {
    "id": "lZMvkKn0EQI8"
   },
   "source": [
    "## Customer Segmentation"
   ]
  },
  {
   "cell_type": "markdown",
   "metadata": {
    "id": "bQ48IB0wER4d",
    "jp-MarkdownHeadingCollapsed": true
   },
   "source": [
    "### Saving time/urgency (for non-Prime members)"
   ]
  },
  {
   "cell_type": "code",
   "execution_count": null,
   "metadata": {
    "colab": {
     "base_uri": "https://localhost:8080/"
    },
    "id": "z8UnYEDnEVwt",
    "outputId": "16f32934-8042-4277-864c-a0456ff677f1"
   },
   "outputs": [],
   "source": [
    "urgency = customers[customers['Express Shipping'] >= 0.5]\n",
    "urgency = urgency[urgency['Time in Cart'] <= 20]\n",
    "urgency = urgency[urgency['Prime'] == 0]\n",
    "len(urgency)"
   ]
  },
  {
   "cell_type": "code",
   "execution_count": null,
   "metadata": {
    "colab": {
     "base_uri": "https://localhost:8080/"
    },
    "id": "LN2HP47cZWan",
    "outputId": "48473bd8-5e6a-4967-bde5-b6177c5158ca"
   },
   "outputs": [],
   "source": [
    "len(urgency) / len(customers[customers['Prime'] == 0])\n"
   ]
  },
  {
   "cell_type": "markdown",
   "metadata": {
    "id": "2hPUAtfdZS8r"
   },
   "source": [
    "about 23% of non-prime users are more urgent (will pay for expedited shipping more often)."
   ]
  },
  {
   "cell_type": "code",
   "execution_count": null,
   "metadata": {
    "colab": {
     "base_uri": "https://localhost:8080/"
    },
    "id": "DRh7CaeYTruo",
    "outputId": "e3aa4f97-0aad-4c9f-b2c3-48c58e3c05a9"
   },
   "outputs": [],
   "source": [
    "urgency['Cat_Urgency'] = 1\n",
    "urgency['Cat_Urgency'] = urgency['Cat_Urgency'].astype(int)\n",
    "urgency = urgency[['Survey ResponseID', 'Cat_Urgency']]\n",
    "customers = pd.merge(customers, urgency, on='Survey ResponseID', how='left')\n",
    "customers['Cat_Urgency'] = customers['Cat_Urgency'].fillna(0).astype(int)\n",
    "customers.head()"
   ]
  },
  {
   "cell_type": "markdown",
   "metadata": {
    "id": "XCODFEyvJYFR"
   },
   "source": [
    "### Impulse buyer"
   ]
  },
  {
   "cell_type": "code",
   "execution_count": null,
   "metadata": {
    "colab": {
     "base_uri": "https://localhost:8080/"
    },
    "id": "VqTZhMqmJb8i",
    "outputId": "a50005f5-b22a-4d01-b0c9-689c5517706a"
   },
   "outputs": [],
   "source": [
    "impulse = customers[customers['Time in Cart'] <= 20]\n",
    "impulse = impulse[impulse['Time on Page'] <= 2.5]\n",
    "impulse = impulse[impulse['Check Review'] == 0 ]\n",
    "impulse = impulse[impulse['Refund rate'] > 0.05]\n",
    "len(impulse)"
   ]
  },
  {
   "cell_type": "code",
   "execution_count": null,
   "metadata": {
    "colab": {
     "base_uri": "https://localhost:8080/"
    },
    "id": "pD0XOOn4Ztdq",
    "outputId": "980a46f7-fef1-4fe7-9a1a-5af1b0331024"
   },
   "outputs": [],
   "source": [
    "len(impulse) / len(customers)"
   ]
  },
  {
   "cell_type": "markdown",
   "metadata": {
    "id": "5Uq_LmoGZv4T"
   },
   "source": [
    "about 36% of customers are impulse buyers."
   ]
  },
  {
   "cell_type": "code",
   "execution_count": null,
   "metadata": {
    "colab": {
     "base_uri": "https://localhost:8080/"
    },
    "id": "ZfdPNa6RTJij",
    "outputId": "793e9b15-8148-477b-f719-27e7ff0ff88d"
   },
   "outputs": [],
   "source": [
    "impulse['Cat_Impulse'] = 1\n",
    "impulse['Cat_Impulse'] = impulse['Cat_Impulse'].astype(int)\n",
    "impulse = impulse[['Survey ResponseID', 'Cat_Impulse']]\n",
    "customers = pd.merge(customers, impulse, on='Survey ResponseID', how='left')\n",
    "customers['Cat_Impulse'] = customers['Cat_Impulse'].fillna(0).astype(int)\n",
    "customers.head()"
   ]
  },
  {
   "cell_type": "markdown",
   "metadata": {
    "id": "q_zZPgKlMCHv"
   },
   "source": [
    "### Indecisive/cautious"
   ]
  },
  {
   "cell_type": "code",
   "execution_count": null,
   "metadata": {
    "colab": {
     "base_uri": "https://localhost:8080/"
    },
    "id": "L2KG0FjVMEt6",
    "outputId": "459fbea6-d14e-4f95-c026-69f6b6a43940"
   },
   "outputs": [],
   "source": [
    "indecisive = customers[customers['Cart Abandonment Rate'] >= 0.75]\n",
    "indecisive = indecisive[indecisive['Check Review'] == 1]\n",
    "indecisive = indecisive[indecisive['Time on Page'] >= 7]\n",
    "indecisive = indecisive[indecisive['Time in Cart'] >= 30]\n",
    "len(indecisive)"
   ]
  },
  {
   "cell_type": "code",
   "execution_count": null,
   "metadata": {
    "colab": {
     "base_uri": "https://localhost:8080/"
    },
    "id": "MM9MIwW5bX4J",
    "outputId": "eca1df7f-d128-4a82-b90b-1ad25f4e283c"
   },
   "outputs": [],
   "source": [
    "len(indecisive) / len(customers)"
   ]
  },
  {
   "cell_type": "markdown",
   "metadata": {
    "id": "efaT9L9ebbe_"
   },
   "source": [
    "about 13% of customers are indecisive buyers"
   ]
  },
  {
   "cell_type": "code",
   "execution_count": null,
   "metadata": {
    "colab": {
     "base_uri": "https://localhost:8080/"
    },
    "id": "ZGNPMXsPbizt",
    "outputId": "d7303b24-e7ee-4405-aa81-4d0d156876b5"
   },
   "outputs": [],
   "source": [
    "indecisive['Cat_Indecisive'] = 1\n",
    "indecisive['Cat_Indecisive'] = indecisive['Cat_Indecisive'].astype(int)\n",
    "indecisive = indecisive[['Survey ResponseID', 'Cat_Indecisive']]\n",
    "customers = pd.merge(customers, indecisive, on='Survey ResponseID', how='left')\n",
    "customers['Cat_Indecisive'] = customers['Cat_Indecisive'].fillna(0).astype(int)\n",
    "customers.head()"
   ]
  },
  {
   "cell_type": "markdown",
   "metadata": {
    "id": "ZIDCy8oLbPP3"
   },
   "source": [
    "### Category"
   ]
  },
  {
   "cell_type": "code",
   "execution_count": null,
   "metadata": {
    "colab": {
     "base_uri": "https://localhost:8080/"
    },
    "id": "oI4wEYdrbTRU",
    "outputId": "f96da6d6-5f40-4a90-f874-d42c9c8dca81"
   },
   "outputs": [],
   "source": [
    "cat = customers[customers['Category'].notnull()]\n",
    "len(cat)"
   ]
  },
  {
   "cell_type": "code",
   "execution_count": null,
   "metadata": {
    "colab": {
     "base_uri": "https://localhost:8080/"
    },
    "id": "7TKCvYx0b8BH",
    "outputId": "4fa137c1-eaa9-4909-9f92-b14039d15836"
   },
   "outputs": [],
   "source": [
    "len(indecisive) / len(customers)"
   ]
  },
  {
   "cell_type": "markdown",
   "metadata": {
    "id": "qYfvMzLub_oe"
   },
   "source": [
    "about 13% of customers have a frequently purchased category that they stick to when ordering"
   ]
  },
  {
   "cell_type": "code",
   "execution_count": null,
   "metadata": {
    "colab": {
     "base_uri": "https://localhost:8080/"
    },
    "id": "VVm15gEudpoc",
    "outputId": "13081427-9dbf-4f3a-9ff4-8eeb653b2f29"
   },
   "outputs": [],
   "source": [
    "cat['Cat_Category'] = 1\n",
    "cat['Cat_Category'] = cat['Cat_Category'].astype(int)\n",
    "cat = cat[['Survey ResponseID', 'Cat_Category']]\n",
    "customers = pd.merge(customers, cat, on='Survey ResponseID', how='left')\n",
    "customers['Cat_Category'] = customers['Cat_Category'].fillna(0).astype(int)\n",
    "customers.head()"
   ]
  },
  {
   "cell_type": "markdown",
   "metadata": {
    "id": "Q7pwH84YcIgK"
   },
   "source": [
    "### Price sensitive"
   ]
  },
  {
   "cell_type": "code",
   "execution_count": null,
   "metadata": {
    "colab": {
     "base_uri": "https://localhost:8080/"
    },
    "id": "jd-YyaoXhl0r",
    "outputId": "b5014369-4888-4408-fb57-269af3a7a0a3"
   },
   "outputs": [],
   "source": [
    "discount = customers[customers['Keep Discount'] == 1]\n",
    "discount = customers[customers['Pct Discount'] >= 0.4]\n",
    "len(discount)"
   ]
  },
  {
   "cell_type": "code",
   "execution_count": null,
   "metadata": {
    "colab": {
     "base_uri": "https://localhost:8080/"
    },
    "id": "ky373qJkGmdS",
    "outputId": "b9d4cf87-d006-4c0c-aac6-b0c2b668352f"
   },
   "outputs": [],
   "source": [
    "len(discount) / len(customers)"
   ]
  },
  {
   "cell_type": "code",
   "execution_count": null,
   "metadata": {
    "colab": {
     "base_uri": "https://localhost:8080/"
    },
    "id": "1EZfi_VvGpIX",
    "outputId": "3e9295f3-35e6-478c-cef8-c30df16fa817"
   },
   "outputs": [],
   "source": [
    "discount['Cat_Discount'] = 1\n",
    "discount['Cat_Discount'] = discount['Cat_Discount'].astype(int)\n",
    "discount = discount[['Survey ResponseID', 'Cat_Discount']]\n",
    "customers = pd.merge(customers, discount, on='Survey ResponseID', how='left')\n",
    "customers['Cat_Discount'] = customers['Cat_Discount'].fillna(0).astype(int)\n",
    "customers.head()"
   ]
  },
  {
   "cell_type": "code",
   "execution_count": null,
   "metadata": {
    "id": "oX5TDXYMW4qI"
   },
   "outputs": [],
   "source": [
    "customers = customers.drop(columns = ['Keep Discount'])"
   ]
  },
  {
   "cell_type": "markdown",
   "metadata": {
    "id": "wX_SDoQhcZK5"
   },
   "source": [
    "### Marketing Engagement"
   ]
  },
  {
   "cell_type": "code",
   "execution_count": null,
   "metadata": {
    "colab": {
     "base_uri": "https://localhost:8080/"
    },
    "id": "ZYhKMeCrc3T2",
    "outputId": "7b391b7c-a692-49ed-a80f-0107e45e112f"
   },
   "outputs": [],
   "source": [
    "cols_to_check = ['Email CTC', 'Display Ad CTC', 'Video Ad CTC', 'Search Engine Ad CTC', 'Social Media Ad CTC']\n",
    "filtered_cust = customers[customers[cols_to_check].gt(0).any(axis=1)]\n",
    "len(filtered_cust)"
   ]
  },
  {
   "cell_type": "code",
   "execution_count": null,
   "metadata": {
    "colab": {
     "base_uri": "https://localhost:8080/"
    },
    "id": "kpXEiOuAdi74",
    "outputId": "5c1f2ae0-5b5f-4472-b9e6-ef83ab0f9ce9"
   },
   "outputs": [],
   "source": [
    "len(filtered_cust) / len(customers)"
   ]
  },
  {
   "cell_type": "markdown",
   "metadata": {
    "id": "X80iEWURd-x3"
   },
   "source": [
    "about 87% of customers were engaged by any one of the marketing ads"
   ]
  },
  {
   "cell_type": "code",
   "execution_count": null,
   "metadata": {
    "colab": {
     "base_uri": "https://localhost:8080/"
    },
    "id": "SkJEgHUdd5DB",
    "outputId": "7778674d-ccee-4f3e-cac4-0bcff9e7ce7f"
   },
   "outputs": [],
   "source": [
    "filtered_cust['Cat_Engagement'] = 1\n",
    "filtered_cust['Cat_Engagement'] = filtered_cust['Cat_Engagement'].astype(int)\n",
    "filtered_cust = filtered_cust[['Survey ResponseID', 'Cat_Engagement']]\n",
    "customers = pd.merge(customers, filtered_cust, on='Survey ResponseID', how='left')\n",
    "customers['Cat_Engagement'] = customers['Cat_Engagement'].fillna(0).astype(int)\n",
    "customers.head()"
   ]
  },
  {
   "cell_type": "markdown",
   "metadata": {
    "id": "vjKbpwI9egeL"
   },
   "source": [
    "### High Value Customers"
   ]
  },
  {
   "cell_type": "code",
   "execution_count": null,
   "metadata": {
    "colab": {
     "base_uri": "https://localhost:8080/",
     "height": 290
    },
    "id": "s-upQ_Zleloj",
    "outputId": "ac5a1ff6-3bb9-47b1-d930-dcbceb193728"
   },
   "outputs": [],
   "source": [
    "hvc = customers.copy()\n",
    "hvc[['R', 'F', 'M']] = hvc['RFM'].astype(str).apply(lambda x: pd.Series(list(x)))\n",
    "hvc[['R', 'F', 'M']] = hvc[['R', 'F', 'M']].astype(int)\n",
    "hvc.head()"
   ]
  },
  {
   "cell_type": "code",
   "execution_count": null,
   "metadata": {
    "colab": {
     "base_uri": "https://localhost:8080/"
    },
    "id": "x7tqR9_-hSww",
    "outputId": "861fc079-ce80-475e-f397-e1b825fd761c"
   },
   "outputs": [],
   "source": [
    "hvc_f = hvc[hvc['F'] == 3]\n",
    "len(hvc_f) / len(customers)"
   ]
  },
  {
   "cell_type": "markdown",
   "metadata": {
    "id": "FRYJntmSiQK6"
   },
   "source": [
    "about 25% of customers are high value (frequent) customers"
   ]
  },
  {
   "cell_type": "code",
   "execution_count": null,
   "metadata": {
    "colab": {
     "base_uri": "https://localhost:8080/",
     "height": 568
    },
    "id": "T7PgcwltiEpX",
    "outputId": "0ae946cb-02c2-47ee-ef57-30c8282d1e1b"
   },
   "outputs": [],
   "source": [
    "hvc_f['Cat_High_Value_F'] = 1\n",
    "hvc_f['Cat_High_Value_F'] = hvc_f['Cat_High_Value_F'].astype(int)\n",
    "hvc_f = hvc_f[['Survey ResponseID', 'Cat_High_Value_F']]\n",
    "customers = pd.merge(customers, hvc_f, on='Survey ResponseID', how='left')\n",
    "customers['Cat_High_Value_F'] = customers['Cat_High_Value_F'].fillna(0).astype(int)\n",
    "customers.head()"
   ]
  },
  {
   "cell_type": "code",
   "execution_count": null,
   "metadata": {
    "colab": {
     "base_uri": "https://localhost:8080/"
    },
    "id": "9HhzxSUqiWmG",
    "outputId": "fe848994-f957-4e4d-8d67-3a1864a3b5ed"
   },
   "outputs": [],
   "source": [
    "hvc_m = hvc[hvc['M'] == 3]\n",
    "len(hvc_m) / len(customers)"
   ]
  },
  {
   "cell_type": "markdown",
   "metadata": {
    "id": "4Qc6--SWieT1"
   },
   "source": [
    "about 25% of customers are high value (high spending) customers"
   ]
  },
  {
   "cell_type": "code",
   "execution_count": null,
   "metadata": {
    "colab": {
     "base_uri": "https://localhost:8080/",
     "height": 568
    },
    "id": "xAs1wyByibCX",
    "outputId": "6c0cad14-c22b-44e2-f940-4b3f8ecd952b"
   },
   "outputs": [],
   "source": [
    "hvc_m['Cat_High_Value_M'] = 1\n",
    "hvc_m['Cat_High_Value_M'] = hvc_m['Cat_High_Value_M'].astype(int)\n",
    "hvc_m = hvc_m[['Survey ResponseID', 'Cat_High_Value_M']]\n",
    "customers = pd.merge(customers, hvc_m, on='Survey ResponseID', how='left')\n",
    "customers['Cat_High_Value_M'] = customers['Cat_High_Value_M'].fillna(0).astype(int)\n",
    "customers.head()"
   ]
  },
  {
   "cell_type": "code",
   "execution_count": null,
   "metadata": {
    "colab": {
     "base_uri": "https://localhost:8080/"
    },
    "id": "bwiILLD2Mzzs",
    "outputId": "d1e2c812-b39b-4bd5-fa55-e5fd2cf8855f"
   },
   "outputs": [],
   "source": [
    "customers.info()"
   ]
  },
  {
   "cell_type": "markdown",
   "metadata": {
    "id": "eg8j4PshESNc"
   },
   "source": [
    "### Analysis"
   ]
  },
  {
   "cell_type": "code",
   "execution_count": null,
   "metadata": {
    "colab": {
     "base_uri": "https://localhost:8080/",
     "height": 290
    },
    "id": "zBJLR_UpEvB1",
    "outputId": "fb96c8d3-fa6b-4232-b176-a72d53270128"
   },
   "outputs": [],
   "source": [
    "customers.head()"
   ]
  },
  {
   "cell_type": "code",
   "execution_count": null,
   "metadata": {
    "colab": {
     "base_uri": "https://localhost:8080/"
    },
    "id": "HR0UKLMdFFp0",
    "outputId": "de29ba3d-c8f1-4df3-e0a5-9dd698b53707"
   },
   "outputs": [],
   "source": [
    "customers.info()"
   ]
  },
  {
   "cell_type": "code",
   "execution_count": null,
   "metadata": {
    "colab": {
     "base_uri": "https://localhost:8080/"
    },
    "id": "0_OXcrMdGbrg",
    "outputId": "809aa96a-6a05-4b79-a5da-197cd35b04e3"
   },
   "outputs": [],
   "source": [
    "label_count = customers.iloc[:, 21:29].sum(axis=0)\n",
    "print(label_count)"
   ]
  },
  {
   "cell_type": "code",
   "execution_count": null,
   "metadata": {
    "colab": {
     "base_uri": "https://localhost:8080/"
    },
    "id": "JI2TvcCHVQVd",
    "outputId": "720b204a-09bd-452c-830c-82bf9fd51775"
   },
   "outputs": [],
   "source": [
    "label_percentage = (label_count / len(customers)) * 100\n",
    "print(label_percentage)"
   ]
  },
  {
   "cell_type": "code",
   "execution_count": null,
   "metadata": {
    "colab": {
     "base_uri": "https://localhost:8080/"
    },
    "id": "2ks2d_bYt1IG",
    "outputId": "f5622090-12fb-498e-adff-b36ec1f6f497"
   },
   "outputs": [],
   "source": [
    "impulse_engaged = customers[(customers['Cat_Engagement'] == 1) & (customers['Cat_Impulse'] == 1)].shape[0]\n",
    "impulse_engaged / 1779 * 100"
   ]
  },
  {
   "cell_type": "code",
   "execution_count": null,
   "metadata": {
    "colab": {
     "base_uri": "https://localhost:8080/"
    },
    "id": "3aVCr-MJ2v3T",
    "outputId": "9bd41c22-4efb-4325-9837-3ed42b037b5f"
   },
   "outputs": [],
   "source": [
    "discount_indecisive = customers[(customers['Cat_Indecisive'] == 1) & (customers['Cat_Discount'] == 1)].shape[0]\n",
    "discount_indecisive / 3460 * 100"
   ]
  },
  {
   "cell_type": "code",
   "execution_count": null,
   "metadata": {
    "colab": {
     "base_uri": "https://localhost:8080/"
    },
    "id": "FyvZi35O3Qlk",
    "outputId": "12928034-b35e-4e27-84a6-0b3600d51df1"
   },
   "outputs": [],
   "source": [
    "total_high_prime = sum(((customers['Cat_High_Value_F'] == 1) | (customers['Cat_High_Value_M'] == 1)) & (customers['Prime'] == 1))\n",
    "total_high_value = sum((customers['Cat_High_Value_F'] == 1) | (customers['Cat_High_Value_M'] == 1))\n",
    "(total_high_prime) / (total_high_value) * 100"
   ]
  }
 ],
 "metadata": {
  "colab": {
   "collapsed_sections": [
    "cnBtb7Yexk0Z",
    "FR03HxIoxpFt",
    "fwElygaviRyH",
    "NryKa_QIiyhh",
    "Fft7xS2g4PB7",
    "rMaUJJr5Z5uu",
    "d6wLY_Zo5rok",
    "3aFiHZbio1XN",
    "p1Hjn2ua25-J",
    "KmOM6SRmcB2d",
    "dNE8eWiVxJsx",
    "vqLWEJ_ikYlF",
    "8RHut8EZj9zr",
    "H4pMbltlnFXM",
    "uUegkW7InxQl",
    "68RO7MnPLUiX",
    "iNGIJSJKggX1",
    "mIt5Adl2g8Fx",
    "ZIr9dbPQhA0U",
    "uNoa10V8eJVC",
    "N5zyKQdWg6PY",
    "8C77U03phNiW",
    "fRr6feGchR1z",
    "sfres6yJWRKM",
    "FVWnvn-ZgpcW",
    "qSaLWgJxlaLY",
    "0feewPw9zBHw",
    "O0shWC1KELZA",
    "bQ48IB0wER4d",
    "XCODFEyvJYFR",
    "q_zZPgKlMCHv",
    "ZIDCy8oLbPP3",
    "Q7pwH84YcIgK",
    "wX_SDoQhcZK5",
    "yZrmPtQ-46iw"
   ],
   "provenance": []
  },
  "kernelspec": {
   "display_name": "Python 3 (ipykernel)",
   "language": "python",
   "name": "python3"
  },
  "language_info": {
   "codemirror_mode": {
    "name": "ipython",
    "version": 3
   },
   "file_extension": ".py",
   "mimetype": "text/x-python",
   "name": "python",
   "nbconvert_exporter": "python",
   "pygments_lexer": "ipython3",
   "version": "3.8.20"
  }
 },
 "nbformat": 4,
 "nbformat_minor": 4
}
