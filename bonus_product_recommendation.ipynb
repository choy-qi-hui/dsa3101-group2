{
 "cells": [
  {
   "cell_type": "markdown",
   "metadata": {
    "id": "QRc3Q8jIc3vq"
   },
   "source": [
    "# Cross Selling"
   ]
  },
  {
   "cell_type": "markdown",
   "metadata": {
    "id": "RD-5jZiKHAeW"
   },
   "source": [
    "## Market Basket Analysis"
   ]
  },
  {
   "cell_type": "code",
   "execution_count": 3,
   "metadata": {
    "colab": {
     "base_uri": "https://localhost:8080/"
    },
    "id": "P8PEeW7_rcGW",
    "outputId": "0d382b3f-c038-4eaa-ae6e-8e97f5df7bba"
   },
   "outputs": [],
   "source": [
    "import math\n",
    "import numpy as np\n",
    "import pandas as pd\n",
    "from mlxtend.frequent_patterns import apriori\n",
    "from mlxtend.frequent_patterns import association_rules\n",
    "from sklearn.feature_extraction.text import TfidfVectorizer\n",
    "from sklearn.metrics.pairwise import cosine_similarity\n",
    "import warnings\n",
    "warnings.filterwarnings(\"ignore\", category=DeprecationWarning)"
   ]
  },
  {
   "cell_type": "code",
   "execution_count": 4,
   "metadata": {
    "colab": {
     "base_uri": "https://localhost:8080/"
    },
    "id": "E5q01_oaHAeX",
    "outputId": "0a5115c1-3855-4293-ec86-6efc90c93188"
   },
   "outputs": [],
   "source": [
    "#import data for mba (data should contain old sub-categories)\n",
    "purchases_subcat = pd.read_csv('data/bonus_amazonpurchasessubcat.csv')\n",
    "survey = pd.read_csv('data/survey.csv')\n",
    "\n",
    "#data transformation\n",
    "df_mba = pd.merge(purchases_subcat, survey, on = 'Survey ResponseID', how = 'left')\n",
    "df_mba = df_mba.dropna(subset = ['Category'])\n",
    "\n",
    "##convert Order Date column into datetime\n",
    "df_mba['Order Date'] = pd.to_datetime(df_mba['Order Date'], errors='coerce')"
   ]
  },
  {
   "cell_type": "code",
   "execution_count": 5,
   "metadata": {
    "id": "0tsdrMkdHAeX"
   },
   "outputs": [],
   "source": [
    "#filter out sub-categories that appear in less than 1000 rows/transactions\n",
    "thres_idx = df_mba['Category'].value_counts()[df_mba['Category'].value_counts()>=1000].index\n",
    "df_mba = df_mba[df_mba['Category'].isin(thres_idx)]"
   ]
  },
  {
   "cell_type": "code",
   "execution_count": 6,
   "metadata": {
    "id": "5dMl7TOkHAeX"
   },
   "outputs": [],
   "source": [
    "#data transformation for mba (pivot)\n",
    "df_mba['single_transaction'] = df_mba['Survey ResponseID'].astype(str)+\"_\"+df_mba['Order Date'].astype(str)\n",
    "df_mba_piv = pd.crosstab(df_mba['single_transaction'], df_mba['Category'])"
   ]
  },
  {
   "cell_type": "code",
   "execution_count": 7,
   "metadata": {
    "colab": {
     "base_uri": "https://localhost:8080/"
    },
    "id": "O_8HaolYHAeY",
    "outputId": "6dd54f13-e3c6-462a-b0b0-e03dc52cd15a"
   },
   "outputs": [
    {
     "name": "stderr",
     "output_type": "stream",
     "text": [
      "/var/folders/3d/t6ps2mg179q9vyl0fp94yy1m0000gn/T/ipykernel_39543/1647923164.py:9: FutureWarning: DataFrame.applymap has been deprecated. Use DataFrame.map instead.\n",
      "  basket_input = sample_data.applymap(encode)\n",
      "/var/folders/3d/t6ps2mg179q9vyl0fp94yy1m0000gn/T/ipykernel_39543/1647923164.py:9: FutureWarning: DataFrame.applymap has been deprecated. Use DataFrame.map instead.\n",
      "  basket_input = sample_data.applymap(encode)\n",
      "/var/folders/3d/t6ps2mg179q9vyl0fp94yy1m0000gn/T/ipykernel_39543/1647923164.py:9: FutureWarning: DataFrame.applymap has been deprecated. Use DataFrame.map instead.\n",
      "  basket_input = sample_data.applymap(encode)\n",
      "/var/folders/3d/t6ps2mg179q9vyl0fp94yy1m0000gn/T/ipykernel_39543/1647923164.py:9: FutureWarning: DataFrame.applymap has been deprecated. Use DataFrame.map instead.\n",
      "  basket_input = sample_data.applymap(encode)\n",
      "/var/folders/3d/t6ps2mg179q9vyl0fp94yy1m0000gn/T/ipykernel_39543/1647923164.py:9: FutureWarning: DataFrame.applymap has been deprecated. Use DataFrame.map instead.\n",
      "  basket_input = sample_data.applymap(encode)\n",
      "/var/folders/3d/t6ps2mg179q9vyl0fp94yy1m0000gn/T/ipykernel_39543/1647923164.py:9: FutureWarning: DataFrame.applymap has been deprecated. Use DataFrame.map instead.\n",
      "  basket_input = sample_data.applymap(encode)\n",
      "/var/folders/3d/t6ps2mg179q9vyl0fp94yy1m0000gn/T/ipykernel_39543/1647923164.py:9: FutureWarning: DataFrame.applymap has been deprecated. Use DataFrame.map instead.\n",
      "  basket_input = sample_data.applymap(encode)\n",
      "/var/folders/3d/t6ps2mg179q9vyl0fp94yy1m0000gn/T/ipykernel_39543/1647923164.py:9: FutureWarning: DataFrame.applymap has been deprecated. Use DataFrame.map instead.\n",
      "  basket_input = sample_data.applymap(encode)\n",
      "/var/folders/3d/t6ps2mg179q9vyl0fp94yy1m0000gn/T/ipykernel_39543/1647923164.py:9: FutureWarning: DataFrame.applymap has been deprecated. Use DataFrame.map instead.\n",
      "  basket_input = sample_data.applymap(encode)\n",
      "/var/folders/3d/t6ps2mg179q9vyl0fp94yy1m0000gn/T/ipykernel_39543/1647923164.py:9: FutureWarning: DataFrame.applymap has been deprecated. Use DataFrame.map instead.\n",
      "  basket_input = sample_data.applymap(encode)\n",
      "/var/folders/3d/t6ps2mg179q9vyl0fp94yy1m0000gn/T/ipykernel_39543/1647923164.py:9: FutureWarning: DataFrame.applymap has been deprecated. Use DataFrame.map instead.\n",
      "  basket_input = sample_data.applymap(encode)\n",
      "/var/folders/3d/t6ps2mg179q9vyl0fp94yy1m0000gn/T/ipykernel_39543/1647923164.py:9: FutureWarning: DataFrame.applymap has been deprecated. Use DataFrame.map instead.\n",
      "  basket_input = sample_data.applymap(encode)\n",
      "/var/folders/3d/t6ps2mg179q9vyl0fp94yy1m0000gn/T/ipykernel_39543/1647923164.py:9: FutureWarning: DataFrame.applymap has been deprecated. Use DataFrame.map instead.\n",
      "  basket_input = sample_data.applymap(encode)\n",
      "/var/folders/3d/t6ps2mg179q9vyl0fp94yy1m0000gn/T/ipykernel_39543/1647923164.py:9: FutureWarning: DataFrame.applymap has been deprecated. Use DataFrame.map instead.\n",
      "  basket_input = sample_data.applymap(encode)\n",
      "/var/folders/3d/t6ps2mg179q9vyl0fp94yy1m0000gn/T/ipykernel_39543/1647923164.py:9: FutureWarning: DataFrame.applymap has been deprecated. Use DataFrame.map instead.\n",
      "  basket_input = sample_data.applymap(encode)\n",
      "/var/folders/3d/t6ps2mg179q9vyl0fp94yy1m0000gn/T/ipykernel_39543/1647923164.py:9: FutureWarning: DataFrame.applymap has been deprecated. Use DataFrame.map instead.\n",
      "  basket_input = sample_data.applymap(encode)\n",
      "/var/folders/3d/t6ps2mg179q9vyl0fp94yy1m0000gn/T/ipykernel_39543/1647923164.py:9: FutureWarning: DataFrame.applymap has been deprecated. Use DataFrame.map instead.\n",
      "  basket_input = sample_data.applymap(encode)\n",
      "/var/folders/3d/t6ps2mg179q9vyl0fp94yy1m0000gn/T/ipykernel_39543/1647923164.py:9: FutureWarning: DataFrame.applymap has been deprecated. Use DataFrame.map instead.\n",
      "  basket_input = sample_data.applymap(encode)\n",
      "/var/folders/3d/t6ps2mg179q9vyl0fp94yy1m0000gn/T/ipykernel_39543/1647923164.py:9: FutureWarning: DataFrame.applymap has been deprecated. Use DataFrame.map instead.\n",
      "  basket_input = sample_data.applymap(encode)\n",
      "/var/folders/3d/t6ps2mg179q9vyl0fp94yy1m0000gn/T/ipykernel_39543/1647923164.py:9: FutureWarning: DataFrame.applymap has been deprecated. Use DataFrame.map instead.\n",
      "  basket_input = sample_data.applymap(encode)\n",
      "/var/folders/3d/t6ps2mg179q9vyl0fp94yy1m0000gn/T/ipykernel_39543/1647923164.py:9: FutureWarning: DataFrame.applymap has been deprecated. Use DataFrame.map instead.\n",
      "  basket_input = sample_data.applymap(encode)\n",
      "/var/folders/3d/t6ps2mg179q9vyl0fp94yy1m0000gn/T/ipykernel_39543/1647923164.py:9: FutureWarning: DataFrame.applymap has been deprecated. Use DataFrame.map instead.\n",
      "  basket_input = sample_data.applymap(encode)\n",
      "/var/folders/3d/t6ps2mg179q9vyl0fp94yy1m0000gn/T/ipykernel_39543/1647923164.py:9: FutureWarning: DataFrame.applymap has been deprecated. Use DataFrame.map instead.\n",
      "  basket_input = sample_data.applymap(encode)\n",
      "/var/folders/3d/t6ps2mg179q9vyl0fp94yy1m0000gn/T/ipykernel_39543/1647923164.py:9: FutureWarning: DataFrame.applymap has been deprecated. Use DataFrame.map instead.\n",
      "  basket_input = sample_data.applymap(encode)\n",
      "/var/folders/3d/t6ps2mg179q9vyl0fp94yy1m0000gn/T/ipykernel_39543/1647923164.py:9: FutureWarning: DataFrame.applymap has been deprecated. Use DataFrame.map instead.\n",
      "  basket_input = sample_data.applymap(encode)\n",
      "/var/folders/3d/t6ps2mg179q9vyl0fp94yy1m0000gn/T/ipykernel_39543/1647923164.py:9: FutureWarning: DataFrame.applymap has been deprecated. Use DataFrame.map instead.\n",
      "  basket_input = sample_data.applymap(encode)\n",
      "/var/folders/3d/t6ps2mg179q9vyl0fp94yy1m0000gn/T/ipykernel_39543/1647923164.py:9: FutureWarning: DataFrame.applymap has been deprecated. Use DataFrame.map instead.\n",
      "  basket_input = sample_data.applymap(encode)\n",
      "/var/folders/3d/t6ps2mg179q9vyl0fp94yy1m0000gn/T/ipykernel_39543/1647923164.py:9: FutureWarning: DataFrame.applymap has been deprecated. Use DataFrame.map instead.\n",
      "  basket_input = sample_data.applymap(encode)\n",
      "/var/folders/3d/t6ps2mg179q9vyl0fp94yy1m0000gn/T/ipykernel_39543/1647923164.py:9: FutureWarning: DataFrame.applymap has been deprecated. Use DataFrame.map instead.\n",
      "  basket_input = sample_data.applymap(encode)\n",
      "/var/folders/3d/t6ps2mg179q9vyl0fp94yy1m0000gn/T/ipykernel_39543/1647923164.py:9: FutureWarning: DataFrame.applymap has been deprecated. Use DataFrame.map instead.\n",
      "  basket_input = sample_data.applymap(encode)\n",
      "/var/folders/3d/t6ps2mg179q9vyl0fp94yy1m0000gn/T/ipykernel_39543/1647923164.py:9: FutureWarning: DataFrame.applymap has been deprecated. Use DataFrame.map instead.\n",
      "  basket_input = sample_data.applymap(encode)\n",
      "/var/folders/3d/t6ps2mg179q9vyl0fp94yy1m0000gn/T/ipykernel_39543/1647923164.py:9: FutureWarning: DataFrame.applymap has been deprecated. Use DataFrame.map instead.\n",
      "  basket_input = sample_data.applymap(encode)\n",
      "/var/folders/3d/t6ps2mg179q9vyl0fp94yy1m0000gn/T/ipykernel_39543/1647923164.py:9: FutureWarning: DataFrame.applymap has been deprecated. Use DataFrame.map instead.\n",
      "  basket_input = sample_data.applymap(encode)\n",
      "/var/folders/3d/t6ps2mg179q9vyl0fp94yy1m0000gn/T/ipykernel_39543/1647923164.py:9: FutureWarning: DataFrame.applymap has been deprecated. Use DataFrame.map instead.\n",
      "  basket_input = sample_data.applymap(encode)\n",
      "/var/folders/3d/t6ps2mg179q9vyl0fp94yy1m0000gn/T/ipykernel_39543/1647923164.py:9: FutureWarning: DataFrame.applymap has been deprecated. Use DataFrame.map instead.\n",
      "  basket_input = sample_data.applymap(encode)\n",
      "/var/folders/3d/t6ps2mg179q9vyl0fp94yy1m0000gn/T/ipykernel_39543/1647923164.py:9: FutureWarning: DataFrame.applymap has been deprecated. Use DataFrame.map instead.\n",
      "  basket_input = sample_data.applymap(encode)\n",
      "/var/folders/3d/t6ps2mg179q9vyl0fp94yy1m0000gn/T/ipykernel_39543/1647923164.py:9: FutureWarning: DataFrame.applymap has been deprecated. Use DataFrame.map instead.\n",
      "  basket_input = sample_data.applymap(encode)\n",
      "/var/folders/3d/t6ps2mg179q9vyl0fp94yy1m0000gn/T/ipykernel_39543/1647923164.py:9: FutureWarning: DataFrame.applymap has been deprecated. Use DataFrame.map instead.\n",
      "  basket_input = sample_data.applymap(encode)\n",
      "/var/folders/3d/t6ps2mg179q9vyl0fp94yy1m0000gn/T/ipykernel_39543/1647923164.py:9: FutureWarning: DataFrame.applymap has been deprecated. Use DataFrame.map instead.\n",
      "  basket_input = sample_data.applymap(encode)\n",
      "/var/folders/3d/t6ps2mg179q9vyl0fp94yy1m0000gn/T/ipykernel_39543/1647923164.py:9: FutureWarning: DataFrame.applymap has been deprecated. Use DataFrame.map instead.\n",
      "  basket_input = sample_data.applymap(encode)\n",
      "/var/folders/3d/t6ps2mg179q9vyl0fp94yy1m0000gn/T/ipykernel_39543/1647923164.py:9: FutureWarning: DataFrame.applymap has been deprecated. Use DataFrame.map instead.\n",
      "  basket_input = sample_data.applymap(encode)\n",
      "/var/folders/3d/t6ps2mg179q9vyl0fp94yy1m0000gn/T/ipykernel_39543/1647923164.py:9: FutureWarning: DataFrame.applymap has been deprecated. Use DataFrame.map instead.\n",
      "  basket_input = sample_data.applymap(encode)\n",
      "/var/folders/3d/t6ps2mg179q9vyl0fp94yy1m0000gn/T/ipykernel_39543/1647923164.py:9: FutureWarning: DataFrame.applymap has been deprecated. Use DataFrame.map instead.\n",
      "  basket_input = sample_data.applymap(encode)\n",
      "/var/folders/3d/t6ps2mg179q9vyl0fp94yy1m0000gn/T/ipykernel_39543/1647923164.py:9: FutureWarning: DataFrame.applymap has been deprecated. Use DataFrame.map instead.\n",
      "  basket_input = sample_data.applymap(encode)\n",
      "/var/folders/3d/t6ps2mg179q9vyl0fp94yy1m0000gn/T/ipykernel_39543/1647923164.py:9: FutureWarning: DataFrame.applymap has been deprecated. Use DataFrame.map instead.\n",
      "  basket_input = sample_data.applymap(encode)\n",
      "/var/folders/3d/t6ps2mg179q9vyl0fp94yy1m0000gn/T/ipykernel_39543/1647923164.py:9: FutureWarning: DataFrame.applymap has been deprecated. Use DataFrame.map instead.\n",
      "  basket_input = sample_data.applymap(encode)\n",
      "/var/folders/3d/t6ps2mg179q9vyl0fp94yy1m0000gn/T/ipykernel_39543/1647923164.py:9: FutureWarning: DataFrame.applymap has been deprecated. Use DataFrame.map instead.\n",
      "  basket_input = sample_data.applymap(encode)\n",
      "/var/folders/3d/t6ps2mg179q9vyl0fp94yy1m0000gn/T/ipykernel_39543/1647923164.py:9: FutureWarning: DataFrame.applymap has been deprecated. Use DataFrame.map instead.\n",
      "  basket_input = sample_data.applymap(encode)\n",
      "/var/folders/3d/t6ps2mg179q9vyl0fp94yy1m0000gn/T/ipykernel_39543/1647923164.py:9: FutureWarning: DataFrame.applymap has been deprecated. Use DataFrame.map instead.\n",
      "  basket_input = sample_data.applymap(encode)\n",
      "/var/folders/3d/t6ps2mg179q9vyl0fp94yy1m0000gn/T/ipykernel_39543/1647923164.py:9: FutureWarning: DataFrame.applymap has been deprecated. Use DataFrame.map instead.\n",
      "  basket_input = sample_data.applymap(encode)\n",
      "/var/folders/3d/t6ps2mg179q9vyl0fp94yy1m0000gn/T/ipykernel_39543/1647923164.py:9: FutureWarning: DataFrame.applymap has been deprecated. Use DataFrame.map instead.\n",
      "  basket_input = sample_data.applymap(encode)\n",
      "/var/folders/3d/t6ps2mg179q9vyl0fp94yy1m0000gn/T/ipykernel_39543/1647923164.py:9: FutureWarning: DataFrame.applymap has been deprecated. Use DataFrame.map instead.\n",
      "  basket_input = sample_data.applymap(encode)\n",
      "/var/folders/3d/t6ps2mg179q9vyl0fp94yy1m0000gn/T/ipykernel_39543/1647923164.py:9: FutureWarning: DataFrame.applymap has been deprecated. Use DataFrame.map instead.\n",
      "  basket_input = sample_data.applymap(encode)\n",
      "/var/folders/3d/t6ps2mg179q9vyl0fp94yy1m0000gn/T/ipykernel_39543/1647923164.py:9: FutureWarning: DataFrame.applymap has been deprecated. Use DataFrame.map instead.\n",
      "  basket_input = sample_data.applymap(encode)\n",
      "/var/folders/3d/t6ps2mg179q9vyl0fp94yy1m0000gn/T/ipykernel_39543/1647923164.py:9: FutureWarning: DataFrame.applymap has been deprecated. Use DataFrame.map instead.\n",
      "  basket_input = sample_data.applymap(encode)\n",
      "/var/folders/3d/t6ps2mg179q9vyl0fp94yy1m0000gn/T/ipykernel_39543/1647923164.py:9: FutureWarning: DataFrame.applymap has been deprecated. Use DataFrame.map instead.\n",
      "  basket_input = sample_data.applymap(encode)\n",
      "/var/folders/3d/t6ps2mg179q9vyl0fp94yy1m0000gn/T/ipykernel_39543/1647923164.py:9: FutureWarning: DataFrame.applymap has been deprecated. Use DataFrame.map instead.\n",
      "  basket_input = sample_data.applymap(encode)\n",
      "/var/folders/3d/t6ps2mg179q9vyl0fp94yy1m0000gn/T/ipykernel_39543/1647923164.py:9: FutureWarning: DataFrame.applymap has been deprecated. Use DataFrame.map instead.\n",
      "  basket_input = sample_data.applymap(encode)\n",
      "/var/folders/3d/t6ps2mg179q9vyl0fp94yy1m0000gn/T/ipykernel_39543/1647923164.py:9: FutureWarning: DataFrame.applymap has been deprecated. Use DataFrame.map instead.\n",
      "  basket_input = sample_data.applymap(encode)\n",
      "/var/folders/3d/t6ps2mg179q9vyl0fp94yy1m0000gn/T/ipykernel_39543/1647923164.py:9: FutureWarning: DataFrame.applymap has been deprecated. Use DataFrame.map instead.\n",
      "  basket_input = sample_data.applymap(encode)\n",
      "/var/folders/3d/t6ps2mg179q9vyl0fp94yy1m0000gn/T/ipykernel_39543/1647923164.py:9: FutureWarning: DataFrame.applymap has been deprecated. Use DataFrame.map instead.\n",
      "  basket_input = sample_data.applymap(encode)\n",
      "/var/folders/3d/t6ps2mg179q9vyl0fp94yy1m0000gn/T/ipykernel_39543/1647923164.py:9: FutureWarning: DataFrame.applymap has been deprecated. Use DataFrame.map instead.\n",
      "  basket_input = sample_data.applymap(encode)\n",
      "/var/folders/3d/t6ps2mg179q9vyl0fp94yy1m0000gn/T/ipykernel_39543/1647923164.py:9: FutureWarning: DataFrame.applymap has been deprecated. Use DataFrame.map instead.\n",
      "  basket_input = sample_data.applymap(encode)\n",
      "/var/folders/3d/t6ps2mg179q9vyl0fp94yy1m0000gn/T/ipykernel_39543/1647923164.py:9: FutureWarning: DataFrame.applymap has been deprecated. Use DataFrame.map instead.\n",
      "  basket_input = sample_data.applymap(encode)\n",
      "/var/folders/3d/t6ps2mg179q9vyl0fp94yy1m0000gn/T/ipykernel_39543/1647923164.py:9: FutureWarning: DataFrame.applymap has been deprecated. Use DataFrame.map instead.\n",
      "  basket_input = sample_data.applymap(encode)\n",
      "/var/folders/3d/t6ps2mg179q9vyl0fp94yy1m0000gn/T/ipykernel_39543/1647923164.py:9: FutureWarning: DataFrame.applymap has been deprecated. Use DataFrame.map instead.\n",
      "  basket_input = sample_data.applymap(encode)\n",
      "/var/folders/3d/t6ps2mg179q9vyl0fp94yy1m0000gn/T/ipykernel_39543/1647923164.py:9: FutureWarning: DataFrame.applymap has been deprecated. Use DataFrame.map instead.\n",
      "  basket_input = sample_data.applymap(encode)\n",
      "/var/folders/3d/t6ps2mg179q9vyl0fp94yy1m0000gn/T/ipykernel_39543/1647923164.py:9: FutureWarning: DataFrame.applymap has been deprecated. Use DataFrame.map instead.\n",
      "  basket_input = sample_data.applymap(encode)\n",
      "/var/folders/3d/t6ps2mg179q9vyl0fp94yy1m0000gn/T/ipykernel_39543/1647923164.py:9: FutureWarning: DataFrame.applymap has been deprecated. Use DataFrame.map instead.\n",
      "  basket_input = sample_data.applymap(encode)\n",
      "/var/folders/3d/t6ps2mg179q9vyl0fp94yy1m0000gn/T/ipykernel_39543/1647923164.py:9: FutureWarning: DataFrame.applymap has been deprecated. Use DataFrame.map instead.\n",
      "  basket_input = sample_data.applymap(encode)\n"
     ]
    }
   ],
   "source": [
    "def mba(data):\n",
    "  nrows = data.shape[0]\n",
    "  niter = math.ceil(nrows/10000)\n",
    "  all_rules = pd.DataFrame()\n",
    "  for i in range(niter):\n",
    "    sample_data = data.iloc[i*10000:(i+1)*10000]\n",
    "    def encode(item_freq):\n",
    "      return item_freq > 0\n",
    "    basket_input = sample_data.applymap(encode)\n",
    "    frequent_itemsets = apriori(basket_input, min_support=0.001, use_colnames=True)\n",
    "    rules = association_rules(frequent_itemsets, metric=\"lift\", num_itemsets = None)\n",
    "    all_rules = pd.concat([all_rules, rules], ignore_index = True)\n",
    "  return all_rules\n",
    "\n",
    "rules_df = mba(df_mba_piv.sample(frac = 1, random_state = 2).reset_index(drop = True))"
   ]
  },
  {
   "cell_type": "code",
   "execution_count": 8,
   "metadata": {
    "colab": {
     "base_uri": "https://localhost:8080/"
    },
    "id": "uSYWtI7tQ-9b",
    "outputId": "62607df8-fa27-46fd-8a98-98f3cb8ee0ad"
   },
   "outputs": [
    {
     "data": {
      "text/html": [
       "<div>\n",
       "<style scoped>\n",
       "    .dataframe tbody tr th:only-of-type {\n",
       "        vertical-align: middle;\n",
       "    }\n",
       "\n",
       "    .dataframe tbody tr th {\n",
       "        vertical-align: top;\n",
       "    }\n",
       "\n",
       "    .dataframe thead th {\n",
       "        text-align: right;\n",
       "    }\n",
       "</style>\n",
       "<table border=\"1\" class=\"dataframe\">\n",
       "  <thead>\n",
       "    <tr style=\"text-align: right;\">\n",
       "      <th></th>\n",
       "      <th>antecedents</th>\n",
       "      <th>consequents</th>\n",
       "      <th>antecedent support</th>\n",
       "      <th>consequent support</th>\n",
       "      <th>support</th>\n",
       "      <th>confidence</th>\n",
       "      <th>lift</th>\n",
       "      <th>representativity</th>\n",
       "      <th>leverage</th>\n",
       "      <th>conviction</th>\n",
       "      <th>zhangs_metric</th>\n",
       "      <th>jaccard</th>\n",
       "      <th>certainty</th>\n",
       "      <th>kulczynski</th>\n",
       "    </tr>\n",
       "  </thead>\n",
       "  <tbody>\n",
       "    <tr>\n",
       "      <th>0</th>\n",
       "      <td>(ART_CRAFT_KIT)</td>\n",
       "      <td>(ABIS_BOOK)</td>\n",
       "      <td>0.0062</td>\n",
       "      <td>0.0826</td>\n",
       "      <td>0.0012</td>\n",
       "      <td>0.193548</td>\n",
       "      <td>2.343201</td>\n",
       "      <td>1.0</td>\n",
       "      <td>0.000688</td>\n",
       "      <td>1.137576</td>\n",
       "      <td>0.576810</td>\n",
       "      <td>0.013699</td>\n",
       "      <td>0.120938</td>\n",
       "      <td>0.104038</td>\n",
       "    </tr>\n",
       "    <tr>\n",
       "      <th>1</th>\n",
       "      <td>(ABIS_BOOK)</td>\n",
       "      <td>(ART_CRAFT_KIT)</td>\n",
       "      <td>0.0826</td>\n",
       "      <td>0.0062</td>\n",
       "      <td>0.0012</td>\n",
       "      <td>0.014528</td>\n",
       "      <td>2.343201</td>\n",
       "      <td>1.0</td>\n",
       "      <td>0.000688</td>\n",
       "      <td>1.008451</td>\n",
       "      <td>0.624846</td>\n",
       "      <td>0.013699</td>\n",
       "      <td>0.008380</td>\n",
       "      <td>0.104038</td>\n",
       "    </tr>\n",
       "    <tr>\n",
       "      <th>2</th>\n",
       "      <td>(BLANK_BOOK)</td>\n",
       "      <td>(ABIS_BOOK)</td>\n",
       "      <td>0.0048</td>\n",
       "      <td>0.0826</td>\n",
       "      <td>0.0011</td>\n",
       "      <td>0.229167</td>\n",
       "      <td>2.774415</td>\n",
       "      <td>1.0</td>\n",
       "      <td>0.000704</td>\n",
       "      <td>1.190141</td>\n",
       "      <td>0.642648</td>\n",
       "      <td>0.012746</td>\n",
       "      <td>0.159763</td>\n",
       "      <td>0.121242</td>\n",
       "    </tr>\n",
       "    <tr>\n",
       "      <th>3</th>\n",
       "      <td>(ABIS_BOOK)</td>\n",
       "      <td>(BLANK_BOOK)</td>\n",
       "      <td>0.0826</td>\n",
       "      <td>0.0048</td>\n",
       "      <td>0.0011</td>\n",
       "      <td>0.013317</td>\n",
       "      <td>2.774415</td>\n",
       "      <td>1.0</td>\n",
       "      <td>0.000704</td>\n",
       "      <td>1.008632</td>\n",
       "      <td>0.697148</td>\n",
       "      <td>0.012746</td>\n",
       "      <td>0.008558</td>\n",
       "      <td>0.121242</td>\n",
       "    </tr>\n",
       "    <tr>\n",
       "      <th>4</th>\n",
       "      <td>(DRINKING_CUP)</td>\n",
       "      <td>(ABIS_BOOK)</td>\n",
       "      <td>0.0092</td>\n",
       "      <td>0.0826</td>\n",
       "      <td>0.0013</td>\n",
       "      <td>0.141304</td>\n",
       "      <td>1.710706</td>\n",
       "      <td>1.0</td>\n",
       "      <td>0.000540</td>\n",
       "      <td>1.068365</td>\n",
       "      <td>0.419304</td>\n",
       "      <td>0.014365</td>\n",
       "      <td>0.063990</td>\n",
       "      <td>0.078521</td>\n",
       "    </tr>\n",
       "  </tbody>\n",
       "</table>\n",
       "</div>"
      ],
      "text/plain": [
       "       antecedents      consequents  antecedent support  consequent support  \\\n",
       "0  (ART_CRAFT_KIT)      (ABIS_BOOK)              0.0062              0.0826   \n",
       "1      (ABIS_BOOK)  (ART_CRAFT_KIT)              0.0826              0.0062   \n",
       "2     (BLANK_BOOK)      (ABIS_BOOK)              0.0048              0.0826   \n",
       "3      (ABIS_BOOK)     (BLANK_BOOK)              0.0826              0.0048   \n",
       "4   (DRINKING_CUP)      (ABIS_BOOK)              0.0092              0.0826   \n",
       "\n",
       "   support  confidence      lift  representativity  leverage  conviction  \\\n",
       "0   0.0012    0.193548  2.343201               1.0  0.000688    1.137576   \n",
       "1   0.0012    0.014528  2.343201               1.0  0.000688    1.008451   \n",
       "2   0.0011    0.229167  2.774415               1.0  0.000704    1.190141   \n",
       "3   0.0011    0.013317  2.774415               1.0  0.000704    1.008632   \n",
       "4   0.0013    0.141304  1.710706               1.0  0.000540    1.068365   \n",
       "\n",
       "   zhangs_metric   jaccard  certainty  kulczynski  \n",
       "0       0.576810  0.013699   0.120938    0.104038  \n",
       "1       0.624846  0.013699   0.008380    0.104038  \n",
       "2       0.642648  0.012746   0.159763    0.121242  \n",
       "3       0.697148  0.012746   0.008558    0.121242  \n",
       "4       0.419304  0.014365   0.063990    0.078521  "
      ]
     },
     "execution_count": 8,
     "metadata": {},
     "output_type": "execute_result"
    }
   ],
   "source": [
    "rules_df.head()"
   ]
  },
  {
   "cell_type": "code",
   "execution_count": 9,
   "metadata": {
    "id": "s1LnXrGZrJOf"
   },
   "outputs": [],
   "source": [
    "##copy of rules\n",
    "rules_copy = rules_df.copy()"
   ]
  },
  {
   "cell_type": "code",
   "execution_count": 10,
   "metadata": {
    "colab": {
     "base_uri": "https://localhost:8080/"
    },
    "id": "5d3o_7wqsTk_",
    "outputId": "d5b99483-60bd-4f86-b337-247241d20c27"
   },
   "outputs": [
    {
     "data": {
      "text/html": [
       "<div>\n",
       "<style scoped>\n",
       "    .dataframe tbody tr th:only-of-type {\n",
       "        vertical-align: middle;\n",
       "    }\n",
       "\n",
       "    .dataframe tbody tr th {\n",
       "        vertical-align: top;\n",
       "    }\n",
       "\n",
       "    .dataframe thead th {\n",
       "        text-align: right;\n",
       "    }\n",
       "</style>\n",
       "<table border=\"1\" class=\"dataframe\">\n",
       "  <thead>\n",
       "    <tr style=\"text-align: right;\">\n",
       "      <th></th>\n",
       "      <th>antecedents</th>\n",
       "      <th>consequents</th>\n",
       "      <th>antecedent support</th>\n",
       "      <th>consequent support</th>\n",
       "      <th>support</th>\n",
       "      <th>confidence</th>\n",
       "      <th>lift</th>\n",
       "      <th>leverage</th>\n",
       "      <th>conviction</th>\n",
       "      <th>zhangs_metric</th>\n",
       "      <th>jaccard</th>\n",
       "      <th>certainty</th>\n",
       "      <th>kulczynski</th>\n",
       "    </tr>\n",
       "  </thead>\n",
       "  <tbody>\n",
       "    <tr>\n",
       "      <th>0</th>\n",
       "      <td>(ART_CRAFT_KIT)</td>\n",
       "      <td>(ABIS_BOOK)</td>\n",
       "      <td>0.00635</td>\n",
       "      <td>0.082933</td>\n",
       "      <td>0.001108</td>\n",
       "      <td>0.175287</td>\n",
       "      <td>2.116829</td>\n",
       "      <td>0.000581</td>\n",
       "      <td>1.112563</td>\n",
       "      <td>0.523916</td>\n",
       "      <td>0.012583</td>\n",
       "      <td>0.100685</td>\n",
       "      <td>0.094332</td>\n",
       "    </tr>\n",
       "    <tr>\n",
       "      <th>1</th>\n",
       "      <td>(ART_CRAFT_KIT)</td>\n",
       "      <td>(TOYS_AND_GAMES)</td>\n",
       "      <td>0.00618</td>\n",
       "      <td>0.015260</td>\n",
       "      <td>0.001020</td>\n",
       "      <td>0.168899</td>\n",
       "      <td>11.079104</td>\n",
       "      <td>0.000926</td>\n",
       "      <td>1.186036</td>\n",
       "      <td>0.913140</td>\n",
       "      <td>0.050107</td>\n",
       "      <td>0.156021</td>\n",
       "      <td>0.117976</td>\n",
       "    </tr>\n",
       "    <tr>\n",
       "      <th>2</th>\n",
       "      <td>(SKIN_TREATMENT_MASK)</td>\n",
       "      <td>(SKIN_MOISTURIZER)</td>\n",
       "      <td>0.00640</td>\n",
       "      <td>0.019100</td>\n",
       "      <td>0.001000</td>\n",
       "      <td>0.156250</td>\n",
       "      <td>8.180628</td>\n",
       "      <td>0.000878</td>\n",
       "      <td>1.162548</td>\n",
       "      <td>0.883414</td>\n",
       "      <td>0.040816</td>\n",
       "      <td>0.139821</td>\n",
       "      <td>0.104303</td>\n",
       "    </tr>\n",
       "    <tr>\n",
       "      <th>3</th>\n",
       "      <td>(CRACKER, SAUCE)</td>\n",
       "      <td>(SNACK_CHIP_AND_CRISP)</td>\n",
       "      <td>0.00140</td>\n",
       "      <td>0.007800</td>\n",
       "      <td>0.001000</td>\n",
       "      <td>0.714286</td>\n",
       "      <td>91.575092</td>\n",
       "      <td>0.000989</td>\n",
       "      <td>3.472700</td>\n",
       "      <td>0.990467</td>\n",
       "      <td>0.121951</td>\n",
       "      <td>0.712040</td>\n",
       "      <td>0.421245</td>\n",
       "    </tr>\n",
       "    <tr>\n",
       "      <th>4</th>\n",
       "      <td>(CRACKER, SAUCE)</td>\n",
       "      <td>(FOOD)</td>\n",
       "      <td>0.00110</td>\n",
       "      <td>0.012000</td>\n",
       "      <td>0.001000</td>\n",
       "      <td>0.909091</td>\n",
       "      <td>75.757576</td>\n",
       "      <td>0.000987</td>\n",
       "      <td>10.868000</td>\n",
       "      <td>0.987887</td>\n",
       "      <td>0.082645</td>\n",
       "      <td>0.907987</td>\n",
       "      <td>0.496212</td>\n",
       "    </tr>\n",
       "  </tbody>\n",
       "</table>\n",
       "</div>"
      ],
      "text/plain": [
       "             antecedents             consequents  antecedent support  \\\n",
       "0        (ART_CRAFT_KIT)             (ABIS_BOOK)             0.00635   \n",
       "1        (ART_CRAFT_KIT)        (TOYS_AND_GAMES)             0.00618   \n",
       "2  (SKIN_TREATMENT_MASK)      (SKIN_MOISTURIZER)             0.00640   \n",
       "3       (CRACKER, SAUCE)  (SNACK_CHIP_AND_CRISP)             0.00140   \n",
       "4       (CRACKER, SAUCE)                  (FOOD)             0.00110   \n",
       "\n",
       "   consequent support   support  confidence       lift  leverage  conviction  \\\n",
       "0            0.082933  0.001108    0.175287   2.116829  0.000581    1.112563   \n",
       "1            0.015260  0.001020    0.168899  11.079104  0.000926    1.186036   \n",
       "2            0.019100  0.001000    0.156250   8.180628  0.000878    1.162548   \n",
       "3            0.007800  0.001000    0.714286  91.575092  0.000989    3.472700   \n",
       "4            0.012000  0.001000    0.909091  75.757576  0.000987   10.868000   \n",
       "\n",
       "   zhangs_metric   jaccard  certainty  kulczynski  \n",
       "0       0.523916  0.012583   0.100685    0.094332  \n",
       "1       0.913140  0.050107   0.156021    0.117976  \n",
       "2       0.883414  0.040816   0.139821    0.104303  \n",
       "3       0.990467  0.121951   0.712040    0.421245  \n",
       "4       0.987887  0.082645   0.907987    0.496212  "
      ]
     },
     "execution_count": 10,
     "metadata": {},
     "output_type": "execute_result"
    }
   ],
   "source": [
    "##group rules by averaging out all rows with same set of (antecedents and consequents)\n",
    "aggregated_rules = rules_copy.groupby(['antecedents', 'consequents'], as_index=False).agg({\n",
    "    'antecedent support':'mean',\n",
    "    'consequent support':'mean',\n",
    "    'support':'mean',\n",
    "    'confidence':'mean',\n",
    "    'lift':'mean',\n",
    "    'leverage':'mean',\n",
    "    'conviction':'mean',\n",
    "    'zhangs_metric':'mean',\n",
    "    'jaccard':'mean',\n",
    "    'certainty':'mean',\n",
    "    'kulczynski':'mean'})\n",
    "aggregated_rules.head()"
   ]
  },
  {
   "cell_type": "code",
   "execution_count": 11,
   "metadata": {
    "colab": {
     "base_uri": "https://localhost:8080/"
    },
    "id": "Ga0vEB2Cdnbs",
    "outputId": "50eda11c-e2e9-4dba-ff8c-b1f2bba7ba0e"
   },
   "outputs": [],
   "source": [
    "#filter aggregated rules\n",
    "#remove lift < 1\n",
    "aggregated_rules = aggregated_rules[aggregated_rules['lift'] >= 1]\n",
    "\n",
    "#arrange aggregated rules such that rules are in descending order from best rules to worse rules\n",
    "#sort by descending lift\n",
    "#sort by descending confi\n",
    "#sort by descending support\n",
    "aggregated_rules = aggregated_rules.sort_values(['lift', 'confidence', 'support'], ascending = [False, False, False])"
   ]
  },
  {
   "cell_type": "code",
   "execution_count": 12,
   "metadata": {
    "colab": {
     "base_uri": "https://localhost:8080/"
    },
    "id": "kHHBe1nUvkBG",
    "outputId": "232ec928-1d11-44b4-ea93-d228035a4d96"
   },
   "outputs": [
    {
     "data": {
      "text/html": [
       "<div>\n",
       "<style scoped>\n",
       "    .dataframe tbody tr th:only-of-type {\n",
       "        vertical-align: middle;\n",
       "    }\n",
       "\n",
       "    .dataframe tbody tr th {\n",
       "        vertical-align: top;\n",
       "    }\n",
       "\n",
       "    .dataframe thead th {\n",
       "        text-align: right;\n",
       "    }\n",
       "</style>\n",
       "<table border=\"1\" class=\"dataframe\">\n",
       "  <thead>\n",
       "    <tr style=\"text-align: right;\">\n",
       "      <th></th>\n",
       "      <th>antecedents</th>\n",
       "      <th>consequents</th>\n",
       "      <th>antecedent support</th>\n",
       "      <th>consequent support</th>\n",
       "      <th>support</th>\n",
       "      <th>confidence</th>\n",
       "      <th>lift</th>\n",
       "      <th>leverage</th>\n",
       "      <th>conviction</th>\n",
       "      <th>zhangs_metric</th>\n",
       "      <th>jaccard</th>\n",
       "      <th>certainty</th>\n",
       "      <th>kulczynski</th>\n",
       "    </tr>\n",
       "  </thead>\n",
       "  <tbody>\n",
       "    <tr>\n",
       "      <th>2827</th>\n",
       "      <td>(DAIRY_BASED_CHEESE, DAIRY_BASED_DRINK)</td>\n",
       "      <td>(FOOD, VEGETABLE, BREAD)</td>\n",
       "      <td>0.001400</td>\n",
       "      <td>0.001700</td>\n",
       "      <td>0.001000</td>\n",
       "      <td>0.714286</td>\n",
       "      <td>420.168067</td>\n",
       "      <td>0.000998</td>\n",
       "      <td>3.494050</td>\n",
       "      <td>0.999019</td>\n",
       "      <td>0.476190</td>\n",
       "      <td>0.713799</td>\n",
       "      <td>0.651261</td>\n",
       "    </tr>\n",
       "    <tr>\n",
       "      <th>1129</th>\n",
       "      <td>(FOOD, VEGETABLE, BREAD)</td>\n",
       "      <td>(DAIRY_BASED_CHEESE, DAIRY_BASED_DRINK)</td>\n",
       "      <td>0.001700</td>\n",
       "      <td>0.001400</td>\n",
       "      <td>0.001000</td>\n",
       "      <td>0.588235</td>\n",
       "      <td>420.168067</td>\n",
       "      <td>0.000998</td>\n",
       "      <td>2.425171</td>\n",
       "      <td>0.999319</td>\n",
       "      <td>0.476190</td>\n",
       "      <td>0.587658</td>\n",
       "      <td>0.651261</td>\n",
       "    </tr>\n",
       "    <tr>\n",
       "      <th>2523</th>\n",
       "      <td>(DAIRY_BASED_YOGURT, FRUIT)</td>\n",
       "      <td>(GROCERY, MEAT, VEGETABLE)</td>\n",
       "      <td>0.001636</td>\n",
       "      <td>0.001636</td>\n",
       "      <td>0.001091</td>\n",
       "      <td>0.666667</td>\n",
       "      <td>407.555556</td>\n",
       "      <td>0.001088</td>\n",
       "      <td>2.995093</td>\n",
       "      <td>0.999181</td>\n",
       "      <td>0.500000</td>\n",
       "      <td>0.666121</td>\n",
       "      <td>0.666667</td>\n",
       "    </tr>\n",
       "    <tr>\n",
       "      <th>7280</th>\n",
       "      <td>(GROCERY, MEAT, VEGETABLE)</td>\n",
       "      <td>(DAIRY_BASED_YOGURT, FRUIT)</td>\n",
       "      <td>0.001636</td>\n",
       "      <td>0.001636</td>\n",
       "      <td>0.001091</td>\n",
       "      <td>0.666667</td>\n",
       "      <td>407.555556</td>\n",
       "      <td>0.001088</td>\n",
       "      <td>2.995093</td>\n",
       "      <td>0.999181</td>\n",
       "      <td>0.500000</td>\n",
       "      <td>0.666121</td>\n",
       "      <td>0.666667</td>\n",
       "    </tr>\n",
       "    <tr>\n",
       "      <th>1152</th>\n",
       "      <td>(DAIRY_BASED_CHEESE, VEGETABLE, BREAD)</td>\n",
       "      <td>(FOOD, DAIRY_BASED_DRINK)</td>\n",
       "      <td>0.001600</td>\n",
       "      <td>0.001600</td>\n",
       "      <td>0.001000</td>\n",
       "      <td>0.625000</td>\n",
       "      <td>390.625000</td>\n",
       "      <td>0.000997</td>\n",
       "      <td>2.662400</td>\n",
       "      <td>0.999038</td>\n",
       "      <td>0.454545</td>\n",
       "      <td>0.624399</td>\n",
       "      <td>0.625000</td>\n",
       "    </tr>\n",
       "  </tbody>\n",
       "</table>\n",
       "</div>"
      ],
      "text/plain": [
       "                                  antecedents  \\\n",
       "2827  (DAIRY_BASED_CHEESE, DAIRY_BASED_DRINK)   \n",
       "1129                 (FOOD, VEGETABLE, BREAD)   \n",
       "2523              (DAIRY_BASED_YOGURT, FRUIT)   \n",
       "7280               (GROCERY, MEAT, VEGETABLE)   \n",
       "1152   (DAIRY_BASED_CHEESE, VEGETABLE, BREAD)   \n",
       "\n",
       "                                  consequents  antecedent support  \\\n",
       "2827                 (FOOD, VEGETABLE, BREAD)            0.001400   \n",
       "1129  (DAIRY_BASED_CHEESE, DAIRY_BASED_DRINK)            0.001700   \n",
       "2523               (GROCERY, MEAT, VEGETABLE)            0.001636   \n",
       "7280              (DAIRY_BASED_YOGURT, FRUIT)            0.001636   \n",
       "1152                (FOOD, DAIRY_BASED_DRINK)            0.001600   \n",
       "\n",
       "      consequent support   support  confidence        lift  leverage  \\\n",
       "2827            0.001700  0.001000    0.714286  420.168067  0.000998   \n",
       "1129            0.001400  0.001000    0.588235  420.168067  0.000998   \n",
       "2523            0.001636  0.001091    0.666667  407.555556  0.001088   \n",
       "7280            0.001636  0.001091    0.666667  407.555556  0.001088   \n",
       "1152            0.001600  0.001000    0.625000  390.625000  0.000997   \n",
       "\n",
       "      conviction  zhangs_metric   jaccard  certainty  kulczynski  \n",
       "2827    3.494050       0.999019  0.476190   0.713799    0.651261  \n",
       "1129    2.425171       0.999319  0.476190   0.587658    0.651261  \n",
       "2523    2.995093       0.999181  0.500000   0.666121    0.666667  \n",
       "7280    2.995093       0.999181  0.500000   0.666121    0.666667  \n",
       "1152    2.662400       0.999038  0.454545   0.624399    0.625000  "
      ]
     },
     "execution_count": 12,
     "metadata": {},
     "output_type": "execute_result"
    }
   ],
   "source": [
    "aggregated_rules.head()"
   ]
  },
  {
   "cell_type": "markdown",
   "metadata": {
    "id": "HHDH0DkG1qQx"
   },
   "source": [
    "## Frequently Purchased Category for Each Customer"
   ]
  },
  {
   "cell_type": "code",
   "execution_count": 14,
   "metadata": {
    "colab": {
     "base_uri": "https://localhost:8080/"
    },
    "id": "phLXEu9I8jUD",
    "outputId": "e5ad9f08-390b-412b-c35d-87be828e80bc"
   },
   "outputs": [],
   "source": [
    "#take input about customer's id\n",
    "cust_id = input('What is the customer\\'s ID?\\n') #can test code with: R_01vNIayewjIIKMF"
   ]
  },
  {
   "cell_type": "code",
   "execution_count": 15,
   "metadata": {
    "colab": {
     "base_uri": "https://localhost:8080/"
    },
    "id": "_PxTH2jS8K3J",
    "outputId": "7c673e49-8369-464a-9f39-04a0841a9772"
   },
   "outputs": [
    {
     "name": "stdout",
     "output_type": "stream",
     "text": [
      "HEADPHONES\n"
     ]
    }
   ],
   "source": [
    "#for each customer, count the number of transactions for each category\n",
    "cust_count = purchases_subcat.groupby(['Survey ResponseID', 'Category']).size().reset_index(name='Count')\n",
    "#return the most frequently purchased category for the customer id given as input\n",
    "cust_freq_cat = cust_count[cust_count['Survey ResponseID'] == cust_id].sort_values(by = ['Count'], ascending = False).iloc[0,1]\n",
    "print(cust_freq_cat)"
   ]
  },
  {
   "cell_type": "markdown",
   "metadata": {
    "id": "3HGtIh0X1_xx"
   },
   "source": [
    "## Recommend Products"
   ]
  },
  {
   "cell_type": "code",
   "execution_count": 16,
   "metadata": {
    "id": "O_d4R4gE5Wax"
   },
   "outputs": [],
   "source": [
    "def recommend_product(cust_freq_cat):\n",
    "  recc_cat = aggregated_rules[aggregated_rules['antecedents'].apply(lambda x: cust_freq_cat in x)].iloc[0, 1]\n",
    "  recc_cat = list(recc_cat)\n",
    "  if len(recc_cat) == 2:\n",
    "    items = []\n",
    "    for i in range(2):\n",
    "      if i == 0:\n",
    "        items.append(purchases_subcat[purchases_subcat['Category'] == recc_cat[i]].groupby('Title').size().reset_index(name='Count').sort_values(by = 'Count', ascending = False).head(1)['Title'].tolist()[0])\n",
    "      else:\n",
    "        items += purchases_subcat[purchases_subcat['Category'] == recc_cat[i]].groupby('Title').size().reset_index(name='Count').sort_values(by = 'Count', ascending = False).head(2)['Title'].tolist()\n",
    "  elif len(recc_cat) == 3:\n",
    "    items = []\n",
    "    for i in range(3):\n",
    "      items.append(purchases_subcat[purchases_subcat['Category'] == recc_cat[i]].groupby('Title').size().reset_index(name='Count').sort_values(by = 'Count', ascending = False).head(1)['Title'].tolist()[0])\n",
    "  else:\n",
    "    items = purchases_subcat[purchases_subcat['Category'] == recc_cat[0]].groupby('Title').size().reset_index(name='Count').sort_values(by = 'Count', ascending = False).head(3)['Title']\n",
    "    items = items.tolist()\n",
    "  print(\"You might also like: \")\n",
    "  for i in range(len(items)):\n",
    "    print(items[i])\n",
    "  return(items)"
   ]
  },
  {
   "cell_type": "code",
   "execution_count": 17,
   "metadata": {
    "colab": {
     "base_uri": "https://localhost:8080/"
    },
    "id": "VDbTuBOw-HqI",
    "outputId": "5af89592-4ee8-431b-96f7-b16aa5b4188b"
   },
   "outputs": [
    {
     "name": "stdout",
     "output_type": "stream",
     "text": [
      "You might also like: \n",
      "Amazon Basics High-Speed HDMI Cable (18 Gbps, 4K/60Hz) - 6 Feet, Black\n",
      "JSAUX USB-C to USB A Cable 3.1A Fast Charging [2-Pack 6.6ft], USB Type C Charger Cord Compatible with Samsung Galaxy S20 S10 S9 S8 A73 A51 A13, Note 20 10, LG G8 G7, PS5 Controller USB C Charger-Red\n",
      "Amazon Basics Nylon Braided Lightning to USB A Cable, MFi Certified Apple iPhone Charger, Dark Gray, 6-Foot\n"
     ]
    }
   ],
   "source": [
    "recommend = recommend_product(cust_freq_cat)"
   ]
  },
  {
   "cell_type": "markdown",
   "metadata": {
    "id": "q7Wea3tIc5o3"
   },
   "source": [
    "# Upselling"
   ]
  },
  {
   "cell_type": "markdown",
   "metadata": {
    "id": "1c_5LZ01HpY8"
   },
   "source": [
    "## Cosine similarity"
   ]
  },
  {
   "cell_type": "markdown",
   "metadata": {
    "id": "E7ZfP3ezIE9c"
   },
   "source": [
    "### Loading files and data"
   ]
  },
  {
   "cell_type": "code",
   "execution_count": 18,
   "metadata": {
    "colab": {
     "base_uri": "https://localhost:8080/"
    },
    "id": "7dwpRMcNINF5",
    "outputId": "bfcd0225-0188-407a-9f71-02d5a9bfdd05"
   },
   "outputs": [],
   "source": [
    "purchases = pd.read_csv('data/dataprep_purchases.csv')\n",
    "purchases['Order Date'] = pd.to_datetime(purchases['Order Date'], format='%Y-%m-%d')\n",
    "purchases = purchases.drop(purchases.columns[0], axis=1)"
   ]
  },
  {
   "cell_type": "markdown",
   "metadata": {
    "id": "y3wwmpWDIOMb"
   },
   "source": [
    "### Recommendation algorithm"
   ]
  },
  {
   "cell_type": "code",
   "execution_count": 19,
   "metadata": {
    "id": "6J43QctFIPy1"
   },
   "outputs": [],
   "source": [
    "df = {\n",
    "    'Product_id': purchases['ASIN/ISBN (Product Code)'],\n",
    "    'Product_description': purchases['Title'],\n",
    "    'Price': purchases['Purchase Price Per Unit'],\n",
    "    'Category': purchases['Category']\n",
    "}\n",
    "\n",
    "df = pd.DataFrame(df)\n",
    "df = df.dropna()\n",
    "df['Price'] = df.groupby(['Product_id'])['Price'].transform('max')\n",
    "df['Purchase count'] = df.groupby(['Product_id'])['Product_id'].transform('count')\n",
    "df['Rating'] =  np.random.uniform(1, 5, size=df.shape[0])\n",
    "df['Rating'] = df.groupby(['Product_id'])['Rating'].transform('mean')\n",
    "df = df.drop_duplicates()\n",
    "#Select category here\n",
    "df = df[df['Category'] == 'Baby']\n",
    "df = df.reset_index(drop=True)\n",
    "tfidf = TfidfVectorizer(stop_words='english')\n",
    "tfidf_matrix = tfidf.fit_transform(df['Product_description'])\n",
    "cosine_sim = cosine_similarity(tfidf_matrix, tfidf_matrix)\n",
    "def get_recommendations(product_id, cosine_sim=cosine_sim, df=df, metric = \"similarity\"):\n",
    "    if metric == \"similarity\":\n",
    "      idx = df.index[df['Product_id'] == product_id].tolist()[0]\n",
    "      sim_scores = list(enumerate(cosine_sim[idx]))\n",
    "      sim_scores = sorted(sim_scores, key=lambda x: x[1], reverse=True)[1:]\n",
    "      recommended_indices = [i[0] for i in sim_scores[:3]]\n",
    "      return df.iloc[recommended_indices][['Product_description']]\n",
    "    if metric == \"price\":\n",
    "      idx = df.index[df['Product_id'] == product_id].tolist()[0]\n",
    "      sim_scores = list(enumerate(cosine_sim[idx]))\n",
    "      sim_scores = sorted(sim_scores, key=lambda x: x[1], reverse=True)[1:]\n",
    "      recommended_indices = [i[0] for i in sim_scores[:20]]\n",
    "      price_list = df.iloc[recommended_indices][['Price','Product_description']]\n",
    "      price_list = price_list.sort_values(by=['Price'])\n",
    "      return price_list[:3]\n",
    "    if metric == \"rating\":\n",
    "      idx = df.index[df['Product_id'] == product_id].tolist()[0]\n",
    "      sim_scores = list(enumerate(cosine_sim[idx]))\n",
    "      sim_scores = sorted(sim_scores, key=lambda x: x[1], reverse=True)[1:]\n",
    "      recommended_indices = [i[0] for i in sim_scores[:20]]\n",
    "      rating_list = df.iloc[recommended_indices][['Rating','Product_description']]\n",
    "      rating_list = rating_list.sort_values(by=['Rating'], ascending = False)\n",
    "      return rating_list[:3]\n",
    "    if metric == \"purchased\":\n",
    "      idx = df.index[df['Product_id'] == product_id].tolist()[0]\n",
    "      sim_scores = list(enumerate(cosine_sim[idx]))\n",
    "      sim_scores = sorted(sim_scores, key=lambda x: x[1], reverse=True)[1:]\n",
    "      recommended_indices = [i[0] for i in sim_scores[:20]]\n",
    "      purchased_list = df.iloc[recommended_indices][['Purchase count','Product_description']]\n",
    "      purchased_list = purchased_list.sort_values(by=['Purchase count'],ascending = False)\n",
    "      return purchased_list[:3]\n"
   ]
  },
  {
   "cell_type": "markdown",
   "metadata": {
    "id": "mUscxZsKM1sB"
   },
   "source": [
    "### Recommend products"
   ]
  },
  {
   "cell_type": "code",
   "execution_count": 20,
   "metadata": {
    "colab": {
     "base_uri": "https://localhost:8080/"
    },
    "id": "fbjXodyfNXTo",
    "outputId": "6d34e794-8fd3-4e60-cc31-aa6d5888c335"
   },
   "outputs": [
    {
     "name": "stdout",
     "output_type": "stream",
     "text": [
      "Recommended products for the customer:\n",
      "                                                                                                                                                                                     Product_description\n",
      "1503                                                                                                                    SUPABOWL Baby Suction Bowls for Toddlers, Baby Bowls First Stage w Lids & Spoons\n",
      "2585  Baby Bowls Feeding Set with Baby Fork and Baby Spoons BPA Free | Toddler Bowls with Baby Food Masher | Suction Baby Bowl for Toddlers with Toddler Utensils |Baby Bowls with Suction | Baby Shower\n",
      "982                                                                                                                                                        2 Pack Silicone Baby Bowls with Super Suction\n"
     ]
    }
   ],
   "source": [
    "#Highest similarity output\n",
    "product_id = 'B011F7JK52'  # Replace with the ID of the product being purchased\n",
    "recommended_products = get_recommendations(product_id,cosine_sim,df,\"similarity\")\n",
    "pd.set_option(\"display.max_colwidth\", None)\n",
    "print(\"Recommended products for the customer:\")\n",
    "print(recommended_products)\n",
    "#Baby Bowls and Matching Lids - Suction Cup Bowls for Babies, Toddlers & Infants - Set of 3 Sizes - 6 Pieces (item name)"
   ]
  },
  {
   "cell_type": "code",
   "execution_count": 21,
   "metadata": {
    "colab": {
     "base_uri": "https://localhost:8080/"
    },
    "id": "dbkBHpzqN8sf",
    "outputId": "6af6b9f5-ecd8-45fa-ef2f-39c17d8ecba7"
   },
   "outputs": [
    {
     "name": "stdout",
     "output_type": "stream",
     "text": [
      "Recommended products for the customer:\n",
      "      Price  \\\n",
      "2489   3.97   \n",
      "5118   5.99   \n",
      "4427   6.95   \n",
      "\n",
      "                                                                                                                          Product_description  \n",
      "2489                 Lofca Food Grade Silicone Suction Bowls Set with Spoons - 2 Piece Baby Feeding Set for Babies Kids Toddlers Self Feeding  \n",
      "5118                                                                                                  NUK Mash and Serve Bowl, Bowls, 1 Count  \n",
      "4427  PandaEar Stay Put Spill Proof Stackable Baby Suction Bowls 3 Sizes for Toddlers with Silicone Feeding Utensils and Secure Lids BPA Free  \n"
     ]
    }
   ],
   "source": [
    "#Lowest price output\n",
    "product_id = 'B011F7JK52'  # Replace with the ID of the product being purchased\n",
    "recommended_products = get_recommendations(product_id,cosine_sim,df,\"price\")\n",
    "pd.set_option(\"display.max_colwidth\", None)\n",
    "print(\"Recommended products for the customer:\")\n",
    "print(recommended_products)\n",
    "#Baby Bowls and Matching Lids - Suction Cup Bowls for Babies, Toddlers & Infants - Set of 3 Sizes - 6 Pieces (item name)"
   ]
  },
  {
   "cell_type": "code",
   "execution_count": 22,
   "metadata": {
    "colab": {
     "base_uri": "https://localhost:8080/"
    },
    "id": "qYgJMrvtOLQK",
    "outputId": "30a698fe-c21a-4481-f01b-b215a4731136"
   },
   "outputs": [
    {
     "name": "stdout",
     "output_type": "stream",
     "text": [
      "Recommended products for the customer:\n",
      "        Rating  \\\n",
      "371   4.626195   \n",
      "2674  4.614140   \n",
      "2489  4.558635   \n",
      "\n",
      "                                                                                                                          Product_description  \n",
      "371   Ginbear Baby Bowls with Suction First Stage, Silicone Bibs, Baby Feeding Spoons, Baby Led Weaning Supplies for Ages 6 Months+ (Caramel)  \n",
      "2674                                  TUOKING Car Seat Covers for Babies, Silky Nursing Cover for Breastfeeding, Matching Storage Bag, Anchor  \n",
      "2489                 Lofca Food Grade Silicone Suction Bowls Set with Spoons - 2 Piece Baby Feeding Set for Babies Kids Toddlers Self Feeding  \n"
     ]
    }
   ],
   "source": [
    "#Highest rating output\n",
    "product_id = 'B011F7JK52'  # Replace with the ID of the product being purchased\n",
    "recommended_products = get_recommendations(product_id,cosine_sim,df,\"rating\")\n",
    "pd.set_option(\"display.max_colwidth\", None)\n",
    "print(\"Recommended products for the customer:\")\n",
    "print(recommended_products)\n",
    "#Baby Bowls and Matching Lids - Suction Cup Bowls for Babies, Toddlers & Infants - Set of 3 Sizes - 6 Pieces (item name)"
   ]
  },
  {
   "cell_type": "code",
   "execution_count": 23,
   "metadata": {
    "colab": {
     "base_uri": "https://localhost:8080/"
    },
    "id": "8ldyjnKsOOeB",
    "outputId": "585f3f54-6650-4657-f4dd-ae0d236bc660"
   },
   "outputs": [
    {
     "name": "stdout",
     "output_type": "stream",
     "text": [
      "Recommended products for the customer:\n",
      "      Purchase count  \\\n",
      "676                9   \n",
      "2007               4   \n",
      "2866               4   \n",
      "\n",
      "                                                                                                                                                       Product_description  \n",
      "676                                                                                     Munchkin Stay Put Suction Bowls for Babies and Toddlers, 3 Pack, Blue/Green/Purple  \n",
      "2007                                                                                                                           NUK First Essentials Bunch-a-Bowls, 4 Count  \n",
      "2866  UpwardBaby Bowls with Suction - 4 Piece Silicone Set with Spoon for Babies Kids Toddlers - BPA Free Baby Led Weaning Food Plates - First Stage Self Feeding Utensils  \n"
     ]
    }
   ],
   "source": [
    "#Most purchased products output\n",
    "product_id = 'B011F7JK52'  # Replace with the ID of the product being purchased\n",
    "recommended_products = get_recommendations(product_id,cosine_sim,df,\"purchased\")\n",
    "pd.set_option(\"display.max_colwidth\", None)\n",
    "print(\"Recommended products for the customer:\")\n",
    "print(recommended_products)\n",
    "#Baby Bowls and Matching Lids - Suction Cup Bowls for Babies, Toddlers & Infants - Set of 3 Sizes - 6 Pieces (item name)"
   ]
  }
 ],
 "metadata": {
  "colab": {
   "provenance": []
  },
  "kernelspec": {
   "display_name": "venv",
   "language": "python",
   "name": "python3"
  },
  "language_info": {
   "codemirror_mode": {
    "name": "ipython",
    "version": 3
   },
   "file_extension": ".py",
   "mimetype": "text/x-python",
   "name": "python",
   "nbconvert_exporter": "python",
   "pygments_lexer": "ipython3",
   "version": "3.11.1"
  }
 },
 "nbformat": 4,
 "nbformat_minor": 0
}
