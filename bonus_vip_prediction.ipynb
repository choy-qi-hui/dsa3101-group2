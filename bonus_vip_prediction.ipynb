{
 "cells": [
  {
   "cell_type": "markdown",
   "metadata": {
    "id": "NQ5qJP5cV-Wi"
   },
   "source": [
    "# Importing in data"
   ]
  },
  {
   "cell_type": "code",
   "execution_count": 2,
   "metadata": {
    "id": "Ja2CVJFJTDH9"
   },
   "outputs": [],
   "source": [
    "import numpy as np\n",
    "import pandas as pd\n",
    "from imblearn.over_sampling import SMOTE"
   ]
  },
  {
   "cell_type": "code",
   "execution_count": null,
   "metadata": {
    "colab": {
     "base_uri": "https://localhost:8080/"
    },
    "id": "TwUjCnHBVfEp",
    "outputId": "66e8c436-3bb7-4340-f2e0-3bf80ec2780f"
   },
   "outputs": [
    {
     "data": {
      "text/html": [
       "<div>\n",
       "<style scoped>\n",
       "    .dataframe tbody tr th:only-of-type {\n",
       "        vertical-align: middle;\n",
       "    }\n",
       "\n",
       "    .dataframe tbody tr th {\n",
       "        vertical-align: top;\n",
       "    }\n",
       "\n",
       "    .dataframe thead th {\n",
       "        text-align: right;\n",
       "    }\n",
       "</style>\n",
       "<table border=\"1\" class=\"dataframe\">\n",
       "  <thead>\n",
       "    <tr style=\"text-align: right;\">\n",
       "      <th></th>\n",
       "      <th>Survey ResponseID</th>\n",
       "      <th>Prime</th>\n",
       "      <th>Free Trial</th>\n",
       "      <th>Email CTC</th>\n",
       "      <th>Display Ad CTC</th>\n",
       "      <th>Video Ad CTC</th>\n",
       "      <th>Search Engine Ad CTC</th>\n",
       "      <th>Social Media Ad CTC</th>\n",
       "      <th>Average CTC</th>\n",
       "      <th>Express Shipping</th>\n",
       "      <th>Cart Abandonment Rate</th>\n",
       "      <th>Check Review</th>\n",
       "      <th>Refund rate</th>\n",
       "      <th>Time in Cart</th>\n",
       "      <th>Time on Page</th>\n",
       "      <th>RFM</th>\n",
       "    </tr>\n",
       "  </thead>\n",
       "  <tbody>\n",
       "    <tr>\n",
       "      <th>0</th>\n",
       "      <td>R_03aEbghUILs9NxD</td>\n",
       "      <td>0</td>\n",
       "      <td>0</td>\n",
       "      <td>0.000000</td>\n",
       "      <td>0.152505</td>\n",
       "      <td>0.000000</td>\n",
       "      <td>0.084507</td>\n",
       "      <td>0.000000</td>\n",
       "      <td>0.049471</td>\n",
       "      <td>0.357143</td>\n",
       "      <td>0.733693</td>\n",
       "      <td>0</td>\n",
       "      <td>0.243994</td>\n",
       "      <td>7.039021</td>\n",
       "      <td>0.469268</td>\n",
       "      <td>111</td>\n",
       "    </tr>\n",
       "    <tr>\n",
       "      <th>1</th>\n",
       "      <td>R_06RZP9pS7kONINr</td>\n",
       "      <td>1</td>\n",
       "      <td>1</td>\n",
       "      <td>0.022101</td>\n",
       "      <td>0.000000</td>\n",
       "      <td>0.000000</td>\n",
       "      <td>0.000000</td>\n",
       "      <td>0.000000</td>\n",
       "      <td>0.000000</td>\n",
       "      <td>1.000000</td>\n",
       "      <td>0.709685</td>\n",
       "      <td>1</td>\n",
       "      <td>0.170417</td>\n",
       "      <td>45.151821</td>\n",
       "      <td>3.010121</td>\n",
       "      <td>323</td>\n",
       "    </tr>\n",
       "    <tr>\n",
       "      <th>2</th>\n",
       "      <td>R_085qq7w0pkhowox</td>\n",
       "      <td>1</td>\n",
       "      <td>1</td>\n",
       "      <td>0.142079</td>\n",
       "      <td>0.025374</td>\n",
       "      <td>0.000000</td>\n",
       "      <td>0.000000</td>\n",
       "      <td>0.010455</td>\n",
       "      <td>0.036060</td>\n",
       "      <td>1.000000</td>\n",
       "      <td>0.719513</td>\n",
       "      <td>1</td>\n",
       "      <td>0.306721</td>\n",
       "      <td>19.751185</td>\n",
       "      <td>1.316746</td>\n",
       "      <td>322</td>\n",
       "    </tr>\n",
       "    <tr>\n",
       "      <th>3</th>\n",
       "      <td>R_08uYA7fb4unHGkF</td>\n",
       "      <td>1</td>\n",
       "      <td>1</td>\n",
       "      <td>0.000000</td>\n",
       "      <td>0.000000</td>\n",
       "      <td>0.061927</td>\n",
       "      <td>0.000000</td>\n",
       "      <td>0.000000</td>\n",
       "      <td>0.000000</td>\n",
       "      <td>1.000000</td>\n",
       "      <td>0.645122</td>\n",
       "      <td>0</td>\n",
       "      <td>0.118960</td>\n",
       "      <td>13.694138</td>\n",
       "      <td>0.912943</td>\n",
       "      <td>223</td>\n",
       "    </tr>\n",
       "    <tr>\n",
       "      <th>4</th>\n",
       "      <td>R_0BrMxYYMHVMOBEJ</td>\n",
       "      <td>1</td>\n",
       "      <td>1</td>\n",
       "      <td>0.000000</td>\n",
       "      <td>0.000000</td>\n",
       "      <td>0.118639</td>\n",
       "      <td>0.046602</td>\n",
       "      <td>0.000000</td>\n",
       "      <td>0.035160</td>\n",
       "      <td>1.000000</td>\n",
       "      <td>0.832793</td>\n",
       "      <td>0</td>\n",
       "      <td>0.343723</td>\n",
       "      <td>2.544373</td>\n",
       "      <td>0.169625</td>\n",
       "      <td>212</td>\n",
       "    </tr>\n",
       "  </tbody>\n",
       "</table>\n",
       "</div>"
      ],
      "text/plain": [
       "   Survey ResponseID  Prime  Free Trial  Email CTC  Display Ad CTC  \\\n",
       "0  R_03aEbghUILs9NxD      0           0   0.000000        0.152505   \n",
       "1  R_06RZP9pS7kONINr      1           1   0.022101        0.000000   \n",
       "2  R_085qq7w0pkhowox      1           1   0.142079        0.025374   \n",
       "3  R_08uYA7fb4unHGkF      1           1   0.000000        0.000000   \n",
       "4  R_0BrMxYYMHVMOBEJ      1           1   0.000000        0.000000   \n",
       "\n",
       "   Video Ad CTC  Search Engine Ad CTC  Social Media Ad CTC  Average CTC  \\\n",
       "0      0.000000              0.084507             0.000000     0.049471   \n",
       "1      0.000000              0.000000             0.000000     0.000000   \n",
       "2      0.000000              0.000000             0.010455     0.036060   \n",
       "3      0.061927              0.000000             0.000000     0.000000   \n",
       "4      0.118639              0.046602             0.000000     0.035160   \n",
       "\n",
       "   Express Shipping  Cart Abandonment Rate  Check Review  Refund rate  \\\n",
       "0          0.357143               0.733693             0     0.243994   \n",
       "1          1.000000               0.709685             1     0.170417   \n",
       "2          1.000000               0.719513             1     0.306721   \n",
       "3          1.000000               0.645122             0     0.118960   \n",
       "4          1.000000               0.832793             0     0.343723   \n",
       "\n",
       "   Time in Cart  Time on Page  RFM  \n",
       "0      7.039021      0.469268  111  \n",
       "1     45.151821      3.010121  323  \n",
       "2     19.751185      1.316746  322  \n",
       "3     13.694138      0.912943  223  \n",
       "4      2.544373      0.169625  212  "
      ]
     },
     "execution_count": 2,
     "metadata": {},
     "output_type": "execute_result"
    }
   ],
   "source": [
    "customers = pd.read_csv('data/bonus_VIP_customers.csv')\n",
    "customers.head()"
   ]
  },
  {
   "cell_type": "code",
   "execution_count": null,
   "metadata": {
    "colab": {
     "base_uri": "https://localhost:8080/"
    },
    "id": "BuK2cKm5XUQM",
    "outputId": "ebe219aa-dc0e-4101-b7e9-f331a8ba5551"
   },
   "outputs": [
    {
     "data": {
      "text/html": [
       "<div>\n",
       "<style scoped>\n",
       "    .dataframe tbody tr th:only-of-type {\n",
       "        vertical-align: middle;\n",
       "    }\n",
       "\n",
       "    .dataframe tbody tr th {\n",
       "        vertical-align: top;\n",
       "    }\n",
       "\n",
       "    .dataframe thead th {\n",
       "        text-align: right;\n",
       "    }\n",
       "</style>\n",
       "<table border=\"1\" class=\"dataframe\">\n",
       "  <thead>\n",
       "    <tr style=\"text-align: right;\">\n",
       "      <th></th>\n",
       "      <th>Order Date</th>\n",
       "      <th>Purchase Price Per Unit</th>\n",
       "      <th>Quantity</th>\n",
       "      <th>Shipping Address State</th>\n",
       "      <th>Title</th>\n",
       "      <th>ASIN/ISBN (Product Code)</th>\n",
       "      <th>Survey ResponseID</th>\n",
       "      <th>Category</th>\n",
       "      <th>Prime</th>\n",
       "      <th>Discounts</th>\n",
       "      <th>Express Shipping</th>\n",
       "    </tr>\n",
       "  </thead>\n",
       "  <tbody>\n",
       "    <tr>\n",
       "      <th>0</th>\n",
       "      <td>2018-12-04</td>\n",
       "      <td>7.98</td>\n",
       "      <td>1</td>\n",
       "      <td>NJ</td>\n",
       "      <td>SanDisk Ultra 16GB Class 10 SDHC UHS-I Memory ...</td>\n",
       "      <td>B0143RTB1E</td>\n",
       "      <td>R_01vNIayewjIIKMF</td>\n",
       "      <td>Electronics</td>\n",
       "      <td>1</td>\n",
       "      <td>0.00</td>\n",
       "      <td>1</td>\n",
       "    </tr>\n",
       "    <tr>\n",
       "      <th>1</th>\n",
       "      <td>2018-12-22</td>\n",
       "      <td>13.99</td>\n",
       "      <td>1</td>\n",
       "      <td>NJ</td>\n",
       "      <td>Betron BS10 Earphones Wired Headphones in Ear ...</td>\n",
       "      <td>B01MA1MJ6H</td>\n",
       "      <td>R_01vNIayewjIIKMF</td>\n",
       "      <td>Electronics</td>\n",
       "      <td>1</td>\n",
       "      <td>0.00</td>\n",
       "      <td>1</td>\n",
       "    </tr>\n",
       "    <tr>\n",
       "      <th>2</th>\n",
       "      <td>2018-12-24</td>\n",
       "      <td>8.99</td>\n",
       "      <td>1</td>\n",
       "      <td>NJ</td>\n",
       "      <td>NaN</td>\n",
       "      <td>B078JZTFN3</td>\n",
       "      <td>R_01vNIayewjIIKMF</td>\n",
       "      <td>NaN</td>\n",
       "      <td>1</td>\n",
       "      <td>0.00</td>\n",
       "      <td>1</td>\n",
       "    </tr>\n",
       "    <tr>\n",
       "      <th>3</th>\n",
       "      <td>2018-12-25</td>\n",
       "      <td>10.45</td>\n",
       "      <td>1</td>\n",
       "      <td>NJ</td>\n",
       "      <td>Perfecto Stainless Steel Shaving Bowl. Durable...</td>\n",
       "      <td>B06XWF9HML</td>\n",
       "      <td>R_01vNIayewjIIKMF</td>\n",
       "      <td>Kitchen &amp; Dining</td>\n",
       "      <td>1</td>\n",
       "      <td>0.05</td>\n",
       "      <td>1</td>\n",
       "    </tr>\n",
       "    <tr>\n",
       "      <th>4</th>\n",
       "      <td>2018-12-25</td>\n",
       "      <td>10.00</td>\n",
       "      <td>1</td>\n",
       "      <td>NJ</td>\n",
       "      <td>Proraso Shaving Cream for Men</td>\n",
       "      <td>B00837ZOI0</td>\n",
       "      <td>R_01vNIayewjIIKMF</td>\n",
       "      <td>Beauty &amp; Personal Care</td>\n",
       "      <td>1</td>\n",
       "      <td>0.05</td>\n",
       "      <td>1</td>\n",
       "    </tr>\n",
       "  </tbody>\n",
       "</table>\n",
       "</div>"
      ],
      "text/plain": [
       "   Order Date  Purchase Price Per Unit  Quantity Shipping Address State  \\\n",
       "0  2018-12-04                     7.98         1                     NJ   \n",
       "1  2018-12-22                    13.99         1                     NJ   \n",
       "2  2018-12-24                     8.99         1                     NJ   \n",
       "3  2018-12-25                    10.45         1                     NJ   \n",
       "4  2018-12-25                    10.00         1                     NJ   \n",
       "\n",
       "                                               Title ASIN/ISBN (Product Code)  \\\n",
       "0  SanDisk Ultra 16GB Class 10 SDHC UHS-I Memory ...               B0143RTB1E   \n",
       "1  Betron BS10 Earphones Wired Headphones in Ear ...               B01MA1MJ6H   \n",
       "2                                                NaN               B078JZTFN3   \n",
       "3  Perfecto Stainless Steel Shaving Bowl. Durable...               B06XWF9HML   \n",
       "4                      Proraso Shaving Cream for Men               B00837ZOI0   \n",
       "\n",
       "   Survey ResponseID                Category  Prime  Discounts  \\\n",
       "0  R_01vNIayewjIIKMF             Electronics      1       0.00   \n",
       "1  R_01vNIayewjIIKMF             Electronics      1       0.00   \n",
       "2  R_01vNIayewjIIKMF                     NaN      1       0.00   \n",
       "3  R_01vNIayewjIIKMF        Kitchen & Dining      1       0.05   \n",
       "4  R_01vNIayewjIIKMF  Beauty & Personal Care      1       0.05   \n",
       "\n",
       "   Express Shipping  \n",
       "0                 1  \n",
       "1                 1  \n",
       "2                 1  \n",
       "3                 1  \n",
       "4                 1  "
      ]
     },
     "execution_count": 3,
     "metadata": {},
     "output_type": "execute_result"
    }
   ],
   "source": [
    "purchases = pd.read_csv('data/purchases.csv')\n",
    "purchases.head()"
   ]
  },
  {
   "cell_type": "code",
   "execution_count": null,
   "metadata": {
    "id": "4HeiJgK7cFx4"
   },
   "outputs": [
    {
     "name": "stdout",
     "output_type": "stream",
     "text": [
      "<class 'pandas.core.frame.DataFrame'>\n",
      "RangeIndex: 5027 entries, 0 to 5026\n",
      "Data columns (total 23 columns):\n",
      " #   Column                      Non-Null Count  Dtype \n",
      "---  ------                      --------------  ----- \n",
      " 0   Survey ResponseID           5027 non-null   object\n",
      " 1   Q-demos-age                 5027 non-null   object\n",
      " 2   Q-demos-hispanic            5027 non-null   object\n",
      " 3   Q-demos-race                5027 non-null   object\n",
      " 4   Q-demos-education           5027 non-null   object\n",
      " 5   Q-demos-income              5027 non-null   object\n",
      " 6   Q-demos-gender              5027 non-null   object\n",
      " 7   Q-sexual-orientation        5027 non-null   object\n",
      " 8   Q-demos-state               5027 non-null   object\n",
      " 9   Q-amazon-use-howmany        5027 non-null   object\n",
      " 10  Q-amazon-use-hh-size        5027 non-null   object\n",
      " 11  Q-amazon-use-how-oft        5027 non-null   object\n",
      " 12  Q-substance-use-cigarettes  5027 non-null   object\n",
      " 13  Q-substance-use-marijuana   5027 non-null   object\n",
      " 14  Q-substance-use-alcohol     5027 non-null   object\n",
      " 15  Q-personal-diabetes         5027 non-null   object\n",
      " 16  Q-personal-wheelchair       5027 non-null   object\n",
      " 17  Q-life-changes              1643 non-null   object\n",
      " 18  Q-sell-YOUR-data            5027 non-null   object\n",
      " 19  Q-sell-consumer-data        5027 non-null   object\n",
      " 20  Q-small-biz-use             5027 non-null   object\n",
      " 21  Q-census-use                5027 non-null   object\n",
      " 22  Q-research-society          5027 non-null   object\n",
      "dtypes: object(23)\n",
      "memory usage: 903.4+ KB\n"
     ]
    }
   ],
   "source": [
    "demographics = pd.read_csv('data/survey.csv')\n",
    "demographics.info()"
   ]
  },
  {
   "cell_type": "markdown",
   "metadata": {
    "id": "tOJ5Dn21WG_Z"
   },
   "source": [
    "# Data preparation for model training"
   ]
  },
  {
   "cell_type": "markdown",
   "metadata": {
    "id": "uhqXS42EWzFc"
   },
   "source": [
    "### Getting RFM of customers 1 year after first purchase"
   ]
  },
  {
   "cell_type": "code",
   "execution_count": null,
   "metadata": {
    "colab": {
     "base_uri": "https://localhost:8080/"
    },
    "id": "bcewp6wgYJJ5",
    "outputId": "803a6e87-9740-4988-a072-4ef124c9a018"
   },
   "outputs": [
    {
     "data": {
      "text/html": [
       "<div>\n",
       "<style scoped>\n",
       "    .dataframe tbody tr th:only-of-type {\n",
       "        vertical-align: middle;\n",
       "    }\n",
       "\n",
       "    .dataframe tbody tr th {\n",
       "        vertical-align: top;\n",
       "    }\n",
       "\n",
       "    .dataframe thead th {\n",
       "        text-align: right;\n",
       "    }\n",
       "</style>\n",
       "<table border=\"1\" class=\"dataframe\">\n",
       "  <thead>\n",
       "    <tr style=\"text-align: right;\">\n",
       "      <th></th>\n",
       "      <th>Order Date</th>\n",
       "      <th>Purchase Price Per Unit</th>\n",
       "      <th>Quantity</th>\n",
       "      <th>Shipping Address State</th>\n",
       "      <th>Title</th>\n",
       "      <th>ASIN/ISBN (Product Code)</th>\n",
       "      <th>Survey ResponseID</th>\n",
       "      <th>Category</th>\n",
       "      <th>Prime</th>\n",
       "      <th>Discounts</th>\n",
       "      <th>Express Shipping</th>\n",
       "      <th>first_order_date</th>\n",
       "      <th>one_year_cutoff</th>\n",
       "    </tr>\n",
       "  </thead>\n",
       "  <tbody>\n",
       "    <tr>\n",
       "      <th>0</th>\n",
       "      <td>2018-12-04</td>\n",
       "      <td>7.98</td>\n",
       "      <td>1</td>\n",
       "      <td>NJ</td>\n",
       "      <td>SanDisk Ultra 16GB Class 10 SDHC UHS-I Memory ...</td>\n",
       "      <td>B0143RTB1E</td>\n",
       "      <td>R_01vNIayewjIIKMF</td>\n",
       "      <td>Electronics</td>\n",
       "      <td>1</td>\n",
       "      <td>0.00</td>\n",
       "      <td>1</td>\n",
       "      <td>2018-12-04</td>\n",
       "      <td>2019-12-04</td>\n",
       "    </tr>\n",
       "    <tr>\n",
       "      <th>1</th>\n",
       "      <td>2018-12-22</td>\n",
       "      <td>13.99</td>\n",
       "      <td>1</td>\n",
       "      <td>NJ</td>\n",
       "      <td>Betron BS10 Earphones Wired Headphones in Ear ...</td>\n",
       "      <td>B01MA1MJ6H</td>\n",
       "      <td>R_01vNIayewjIIKMF</td>\n",
       "      <td>Electronics</td>\n",
       "      <td>1</td>\n",
       "      <td>0.00</td>\n",
       "      <td>1</td>\n",
       "      <td>2018-12-04</td>\n",
       "      <td>2019-12-04</td>\n",
       "    </tr>\n",
       "    <tr>\n",
       "      <th>2</th>\n",
       "      <td>2018-12-24</td>\n",
       "      <td>8.99</td>\n",
       "      <td>1</td>\n",
       "      <td>NJ</td>\n",
       "      <td>NaN</td>\n",
       "      <td>B078JZTFN3</td>\n",
       "      <td>R_01vNIayewjIIKMF</td>\n",
       "      <td>NaN</td>\n",
       "      <td>1</td>\n",
       "      <td>0.00</td>\n",
       "      <td>1</td>\n",
       "      <td>2018-12-04</td>\n",
       "      <td>2019-12-04</td>\n",
       "    </tr>\n",
       "    <tr>\n",
       "      <th>3</th>\n",
       "      <td>2018-12-25</td>\n",
       "      <td>10.45</td>\n",
       "      <td>1</td>\n",
       "      <td>NJ</td>\n",
       "      <td>Perfecto Stainless Steel Shaving Bowl. Durable...</td>\n",
       "      <td>B06XWF9HML</td>\n",
       "      <td>R_01vNIayewjIIKMF</td>\n",
       "      <td>Kitchen &amp; Dining</td>\n",
       "      <td>1</td>\n",
       "      <td>0.05</td>\n",
       "      <td>1</td>\n",
       "      <td>2018-12-04</td>\n",
       "      <td>2019-12-04</td>\n",
       "    </tr>\n",
       "    <tr>\n",
       "      <th>4</th>\n",
       "      <td>2018-12-25</td>\n",
       "      <td>10.00</td>\n",
       "      <td>1</td>\n",
       "      <td>NJ</td>\n",
       "      <td>Proraso Shaving Cream for Men</td>\n",
       "      <td>B00837ZOI0</td>\n",
       "      <td>R_01vNIayewjIIKMF</td>\n",
       "      <td>Beauty &amp; Personal Care</td>\n",
       "      <td>1</td>\n",
       "      <td>0.05</td>\n",
       "      <td>1</td>\n",
       "      <td>2018-12-04</td>\n",
       "      <td>2019-12-04</td>\n",
       "    </tr>\n",
       "  </tbody>\n",
       "</table>\n",
       "</div>"
      ],
      "text/plain": [
       "  Order Date  Purchase Price Per Unit  Quantity Shipping Address State  \\\n",
       "0 2018-12-04                     7.98         1                     NJ   \n",
       "1 2018-12-22                    13.99         1                     NJ   \n",
       "2 2018-12-24                     8.99         1                     NJ   \n",
       "3 2018-12-25                    10.45         1                     NJ   \n",
       "4 2018-12-25                    10.00         1                     NJ   \n",
       "\n",
       "                                               Title ASIN/ISBN (Product Code)  \\\n",
       "0  SanDisk Ultra 16GB Class 10 SDHC UHS-I Memory ...               B0143RTB1E   \n",
       "1  Betron BS10 Earphones Wired Headphones in Ear ...               B01MA1MJ6H   \n",
       "2                                                NaN               B078JZTFN3   \n",
       "3  Perfecto Stainless Steel Shaving Bowl. Durable...               B06XWF9HML   \n",
       "4                      Proraso Shaving Cream for Men               B00837ZOI0   \n",
       "\n",
       "   Survey ResponseID                Category  Prime  Discounts  \\\n",
       "0  R_01vNIayewjIIKMF             Electronics      1       0.00   \n",
       "1  R_01vNIayewjIIKMF             Electronics      1       0.00   \n",
       "2  R_01vNIayewjIIKMF                     NaN      1       0.00   \n",
       "3  R_01vNIayewjIIKMF        Kitchen & Dining      1       0.05   \n",
       "4  R_01vNIayewjIIKMF  Beauty & Personal Care      1       0.05   \n",
       "\n",
       "   Express Shipping first_order_date one_year_cutoff  \n",
       "0                 1       2018-12-04      2019-12-04  \n",
       "1                 1       2018-12-04      2019-12-04  \n",
       "2                 1       2018-12-04      2019-12-04  \n",
       "3                 1       2018-12-04      2019-12-04  \n",
       "4                 1       2018-12-04      2019-12-04  "
      ]
     },
     "execution_count": 5,
     "metadata": {},
     "output_type": "execute_result"
    }
   ],
   "source": [
    "# Get all orders within 1 year from first order date\n",
    "\n",
    "purchases['Order Date'] = pd.to_datetime(purchases['Order Date'])\n",
    "\n",
    "first_order_dates = purchases.groupby('Survey ResponseID')['Order Date'].min().reset_index()\n",
    "first_order_dates.columns = ['Survey ResponseID', 'first_order_date']\n",
    "\n",
    "purchases = purchases.merge(first_order_dates, on='Survey ResponseID')\n",
    "purchases['one_year_cutoff'] = purchases['first_order_date'] + pd.DateOffset(years=1)\n",
    "one_year_orders = purchases[purchases['Order Date'] <= purchases['one_year_cutoff']]\n",
    "\n",
    "one_year_orders.head()"
   ]
  },
  {
   "cell_type": "code",
   "execution_count": null,
   "metadata": {
    "colab": {
     "base_uri": "https://localhost:8080/"
    },
    "id": "wNANr1cmZpxD",
    "outputId": "653d3c0a-028c-4915-de4c-d965b4724a73"
   },
   "outputs": [
    {
     "name": "stderr",
     "output_type": "stream",
     "text": [
      "/tmp/ipykernel_19/1728777134.py:3: SettingWithCopyWarning: \n",
      "A value is trying to be set on a copy of a slice from a DataFrame.\n",
      "Try using .loc[row_indexer,col_indexer] = value instead\n",
      "\n",
      "See the caveats in the documentation: https://pandas.pydata.org/pandas-docs/stable/user_guide/indexing.html#returning-a-view-versus-a-copy\n",
      "  one_year_orders['Year'] = one_year_orders['Order Date'].dt.year\n",
      "/tmp/ipykernel_19/1728777134.py:4: SettingWithCopyWarning: \n",
      "A value is trying to be set on a copy of a slice from a DataFrame.\n",
      "Try using .loc[row_indexer,col_indexer] = value instead\n",
      "\n",
      "See the caveats in the documentation: https://pandas.pydata.org/pandas-docs/stable/user_guide/indexing.html#returning-a-view-versus-a-copy\n",
      "  one_year_orders['Month'] = one_year_orders['Order Date'].dt.month\n",
      "/tmp/ipykernel_19/1728777134.py:5: SettingWithCopyWarning: \n",
      "A value is trying to be set on a copy of a slice from a DataFrame.\n",
      "Try using .loc[row_indexer,col_indexer] = value instead\n",
      "\n",
      "See the caveats in the documentation: https://pandas.pydata.org/pandas-docs/stable/user_guide/indexing.html#returning-a-view-versus-a-copy\n",
      "  one_year_orders['Recency'] = one_year_orders['first_order_date'] + pd.DateOffset(years=1) - one_year_orders.groupby(['Survey ResponseID'])['Order Date'].transform(\"max\")\n",
      "/tmp/ipykernel_19/1728777134.py:6: SettingWithCopyWarning: \n",
      "A value is trying to be set on a copy of a slice from a DataFrame.\n",
      "Try using .loc[row_indexer,col_indexer] = value instead\n",
      "\n",
      "See the caveats in the documentation: https://pandas.pydata.org/pandas-docs/stable/user_guide/indexing.html#returning-a-view-versus-a-copy\n",
      "  one_year_orders['Frequency'] = one_year_orders.groupby(['Survey ResponseID'])['Order Date'].transform('nunique')\n",
      "/tmp/ipykernel_19/1728777134.py:7: SettingWithCopyWarning: \n",
      "A value is trying to be set on a copy of a slice from a DataFrame.\n",
      "Try using .loc[row_indexer,col_indexer] = value instead\n",
      "\n",
      "See the caveats in the documentation: https://pandas.pydata.org/pandas-docs/stable/user_guide/indexing.html#returning-a-view-versus-a-copy\n",
      "  one_year_orders['Order value'] = one_year_orders['Quantity'] * one_year_orders['Purchase Price Per Unit']\n",
      "/tmp/ipykernel_19/1728777134.py:8: SettingWithCopyWarning: \n",
      "A value is trying to be set on a copy of a slice from a DataFrame.\n",
      "Try using .loc[row_indexer,col_indexer] = value instead\n",
      "\n",
      "See the caveats in the documentation: https://pandas.pydata.org/pandas-docs/stable/user_guide/indexing.html#returning-a-view-versus-a-copy\n",
      "  one_year_orders['Monetary'] = one_year_orders.groupby(['Survey ResponseID'])['Order value'].transform('sum')\n",
      "/tmp/ipykernel_19/1728777134.py:9: SettingWithCopyWarning: \n",
      "A value is trying to be set on a copy of a slice from a DataFrame.\n",
      "Try using .loc[row_indexer,col_indexer] = value instead\n",
      "\n",
      "See the caveats in the documentation: https://pandas.pydata.org/pandas-docs/stable/user_guide/indexing.html#returning-a-view-versus-a-copy\n",
      "  one_year_orders['Monetary'] = one_year_orders['Monetary']/one_year_orders['Frequency']\n",
      "/tmp/ipykernel_19/1728777134.py:10: SettingWithCopyWarning: \n",
      "A value is trying to be set on a copy of a slice from a DataFrame.\n",
      "Try using .loc[row_indexer,col_indexer] = value instead\n",
      "\n",
      "See the caveats in the documentation: https://pandas.pydata.org/pandas-docs/stable/user_guide/indexing.html#returning-a-view-versus-a-copy\n",
      "  one_year_orders['Frequency'] = 365/one_year_orders['Frequency']\n"
     ]
    },
    {
     "name": "stdout",
     "output_type": "stream",
     "text": [
      "count    4923.000000\n",
      "mean       51.358016\n",
      "std        76.057780\n",
      "min         1.372180\n",
      "25%        10.735294\n",
      "50%        22.812500\n",
      "75%        52.142857\n",
      "max       365.000000\n",
      "Name: Frequency, dtype: float64\n",
      "count    4923.000000\n",
      "mean       51.204542\n",
      "std        38.698645\n",
      "min         0.100000\n",
      "25%        29.646901\n",
      "50%        42.536186\n",
      "75%        61.115000\n",
      "max       769.475000\n",
      "Name: Monetary, dtype: float64\n",
      "count    4923.000000\n",
      "mean       60.644119\n",
      "std        98.177855\n",
      "min         0.000000\n",
      "25%         4.000000\n",
      "50%        16.000000\n",
      "75%        60.000000\n",
      "max       366.000000\n",
      "Name: Recency, dtype: float64\n",
      "RFM\n",
      "333    109\n",
      "332    376\n",
      "331    128\n",
      "323    423\n",
      "322    903\n",
      "321    552\n",
      "313    147\n",
      "312    232\n",
      "311    282\n",
      "233      3\n",
      "232     11\n",
      "231      2\n",
      "223     74\n",
      "222    149\n",
      "221    135\n",
      "213    285\n",
      "212    422\n",
      "211    653\n",
      "113      3\n",
      "112     10\n",
      "111     24\n",
      "Name: count, dtype: int64\n"
     ]
    }
   ],
   "source": [
    "# RFM of each customer after 1 year from 1st purchase date\n",
    "\n",
    "one_year_orders['Year'] = one_year_orders['Order Date'].dt.year\n",
    "one_year_orders['Month'] = one_year_orders['Order Date'].dt.month\n",
    "one_year_orders['Recency'] = one_year_orders['first_order_date'] + pd.DateOffset(years=1) - one_year_orders.groupby(['Survey ResponseID'])['Order Date'].transform(\"max\")\n",
    "one_year_orders['Frequency'] = one_year_orders.groupby(['Survey ResponseID'])['Order Date'].transform('nunique')\n",
    "one_year_orders['Order value'] = one_year_orders['Quantity'] * one_year_orders['Purchase Price Per Unit']\n",
    "one_year_orders['Monetary'] = one_year_orders.groupby(['Survey ResponseID'])['Order value'].transform('sum')\n",
    "one_year_orders['Monetary'] = one_year_orders['Monetary']/one_year_orders['Frequency']\n",
    "one_year_orders['Frequency'] = 365/one_year_orders['Frequency']\n",
    "one_year_orders = one_year_orders[['Recency','Frequency','Monetary','Survey ResponseID']]\n",
    "one_year_orders = one_year_orders.drop_duplicates()\n",
    "one_year_orders['Recency'] = one_year_orders['Recency'].dt.days\n",
    "\n",
    "print(one_year_orders['Frequency'].describe())\n",
    "print(one_year_orders['Monetary'].describe())\n",
    "print(one_year_orders['Recency'].describe())\n",
    "\n",
    "conditions_recency = [\n",
    "    one_year_orders['Recency'] <= 30,\n",
    "    (one_year_orders['Recency'] > 30) & (one_year_orders['Recency'] <= 365),\n",
    "    one_year_orders['Recency'] > 365\n",
    "]\n",
    "\n",
    "conditions_frequency = [\n",
    "    one_year_orders['Frequency'] <= 7,\n",
    "    (one_year_orders['Frequency'] > 7) & (one_year_orders['Frequency'] < 30),\n",
    "    one_year_orders['Frequency'] >= 30\n",
    "]\n",
    "\n",
    "conditions_monetary = [\n",
    "    one_year_orders['Monetary'] <= 35,\n",
    "    (one_year_orders['Monetary'] > 35) & (one_year_orders['Monetary'] < 65),\n",
    "    one_year_orders['Monetary'] >= 65\n",
    "]\n",
    "choices_RF = [3,2,1]\n",
    "choices_M = [1,2,3]\n",
    "one_year_orders['Recency_category'] = np.select(conditions_recency, choices_RF, default= 'Unknown')\n",
    "one_year_orders['Frequency_category'] = np.select(conditions_frequency, choices_RF, default= 'Unknown')\n",
    "one_year_orders['Monetary_category'] = np.select(conditions_monetary, choices_M, default= 'Unknown')\n",
    "one_year_orders['RFM'] = one_year_orders['Recency_category'].astype(str) + one_year_orders['Frequency_category'].astype(str) + one_year_orders['Monetary_category'].astype(str)\n",
    "print(one_year_orders['RFM'].value_counts().sort_index(ascending= False))\n",
    "lifetime_rfm = one_year_orders[['Survey ResponseID','RFM']].drop_duplicates()\n",
    "\n",
    "\n",
    "customers = pd.merge(customers, lifetime_rfm, on='Survey ResponseID', how='inner')"
   ]
  },
  {
   "cell_type": "code",
   "execution_count": null,
   "metadata": {
    "colab": {
     "base_uri": "https://localhost:8080/"
    },
    "id": "l5mOSKhqazS0",
    "outputId": "80349ef9-81e1-47a6-992a-c4cda18092a9"
   },
   "outputs": [
    {
     "data": {
      "text/plain": [
       "109"
      ]
     },
     "execution_count": 7,
     "metadata": {},
     "output_type": "execute_result"
    }
   ],
   "source": [
    "customers[customers['RFM_y'] == '333'].shape[0]"
   ]
  },
  {
   "cell_type": "code",
   "execution_count": null,
   "metadata": {
    "colab": {
     "base_uri": "https://localhost:8080/"
    },
    "id": "0lF5RbN5h4w2",
    "outputId": "2624dd63-e635-40fe-ad5d-727229f571ba"
   },
   "outputs": [
    {
     "data": {
      "text/html": [
       "<div>\n",
       "<style scoped>\n",
       "    .dataframe tbody tr th:only-of-type {\n",
       "        vertical-align: middle;\n",
       "    }\n",
       "\n",
       "    .dataframe tbody tr th {\n",
       "        vertical-align: top;\n",
       "    }\n",
       "\n",
       "    .dataframe thead th {\n",
       "        text-align: right;\n",
       "    }\n",
       "</style>\n",
       "<table border=\"1\" class=\"dataframe\">\n",
       "  <thead>\n",
       "    <tr style=\"text-align: right;\">\n",
       "      <th></th>\n",
       "      <th>Survey ResponseID</th>\n",
       "      <th>Prime</th>\n",
       "      <th>Free Trial</th>\n",
       "      <th>Email CTC</th>\n",
       "      <th>Display Ad CTC</th>\n",
       "      <th>Video Ad CTC</th>\n",
       "      <th>Search Engine Ad CTC</th>\n",
       "      <th>Social Media Ad CTC</th>\n",
       "      <th>Average CTC</th>\n",
       "      <th>Express Shipping</th>\n",
       "      <th>Cart Abandonment Rate</th>\n",
       "      <th>Check Review</th>\n",
       "      <th>Refund rate</th>\n",
       "      <th>Time in Cart</th>\n",
       "      <th>Time on Page</th>\n",
       "      <th>RFM_1year</th>\n",
       "    </tr>\n",
       "  </thead>\n",
       "  <tbody>\n",
       "    <tr>\n",
       "      <th>0</th>\n",
       "      <td>R_03aEbghUILs9NxD</td>\n",
       "      <td>0</td>\n",
       "      <td>0</td>\n",
       "      <td>0.000000</td>\n",
       "      <td>0.152505</td>\n",
       "      <td>0.000000</td>\n",
       "      <td>0.084507</td>\n",
       "      <td>0.000000</td>\n",
       "      <td>0.049471</td>\n",
       "      <td>0.357143</td>\n",
       "      <td>0.733693</td>\n",
       "      <td>0</td>\n",
       "      <td>0.243994</td>\n",
       "      <td>7.039021</td>\n",
       "      <td>0.469268</td>\n",
       "      <td>321</td>\n",
       "    </tr>\n",
       "    <tr>\n",
       "      <th>1</th>\n",
       "      <td>R_06RZP9pS7kONINr</td>\n",
       "      <td>1</td>\n",
       "      <td>1</td>\n",
       "      <td>0.022101</td>\n",
       "      <td>0.000000</td>\n",
       "      <td>0.000000</td>\n",
       "      <td>0.000000</td>\n",
       "      <td>0.000000</td>\n",
       "      <td>0.000000</td>\n",
       "      <td>1.000000</td>\n",
       "      <td>0.709685</td>\n",
       "      <td>1</td>\n",
       "      <td>0.170417</td>\n",
       "      <td>45.151821</td>\n",
       "      <td>3.010121</td>\n",
       "      <td>322</td>\n",
       "    </tr>\n",
       "    <tr>\n",
       "      <th>2</th>\n",
       "      <td>R_085qq7w0pkhowox</td>\n",
       "      <td>1</td>\n",
       "      <td>1</td>\n",
       "      <td>0.142079</td>\n",
       "      <td>0.025374</td>\n",
       "      <td>0.000000</td>\n",
       "      <td>0.000000</td>\n",
       "      <td>0.010455</td>\n",
       "      <td>0.036060</td>\n",
       "      <td>1.000000</td>\n",
       "      <td>0.719513</td>\n",
       "      <td>1</td>\n",
       "      <td>0.306721</td>\n",
       "      <td>19.751185</td>\n",
       "      <td>1.316746</td>\n",
       "      <td>322</td>\n",
       "    </tr>\n",
       "    <tr>\n",
       "      <th>3</th>\n",
       "      <td>R_08uYA7fb4unHGkF</td>\n",
       "      <td>1</td>\n",
       "      <td>1</td>\n",
       "      <td>0.000000</td>\n",
       "      <td>0.000000</td>\n",
       "      <td>0.061927</td>\n",
       "      <td>0.000000</td>\n",
       "      <td>0.000000</td>\n",
       "      <td>0.000000</td>\n",
       "      <td>1.000000</td>\n",
       "      <td>0.645122</td>\n",
       "      <td>0</td>\n",
       "      <td>0.118960</td>\n",
       "      <td>13.694138</td>\n",
       "      <td>0.912943</td>\n",
       "      <td>323</td>\n",
       "    </tr>\n",
       "    <tr>\n",
       "      <th>4</th>\n",
       "      <td>R_0BrMxYYMHVMOBEJ</td>\n",
       "      <td>1</td>\n",
       "      <td>1</td>\n",
       "      <td>0.000000</td>\n",
       "      <td>0.000000</td>\n",
       "      <td>0.118639</td>\n",
       "      <td>0.046602</td>\n",
       "      <td>0.000000</td>\n",
       "      <td>0.035160</td>\n",
       "      <td>1.000000</td>\n",
       "      <td>0.832793</td>\n",
       "      <td>0</td>\n",
       "      <td>0.343723</td>\n",
       "      <td>2.544373</td>\n",
       "      <td>0.169625</td>\n",
       "      <td>212</td>\n",
       "    </tr>\n",
       "  </tbody>\n",
       "</table>\n",
       "</div>"
      ],
      "text/plain": [
       "   Survey ResponseID  Prime  Free Trial  Email CTC  Display Ad CTC  \\\n",
       "0  R_03aEbghUILs9NxD      0           0   0.000000        0.152505   \n",
       "1  R_06RZP9pS7kONINr      1           1   0.022101        0.000000   \n",
       "2  R_085qq7w0pkhowox      1           1   0.142079        0.025374   \n",
       "3  R_08uYA7fb4unHGkF      1           1   0.000000        0.000000   \n",
       "4  R_0BrMxYYMHVMOBEJ      1           1   0.000000        0.000000   \n",
       "\n",
       "   Video Ad CTC  Search Engine Ad CTC  Social Media Ad CTC  Average CTC  \\\n",
       "0      0.000000              0.084507             0.000000     0.049471   \n",
       "1      0.000000              0.000000             0.000000     0.000000   \n",
       "2      0.000000              0.000000             0.010455     0.036060   \n",
       "3      0.061927              0.000000             0.000000     0.000000   \n",
       "4      0.118639              0.046602             0.000000     0.035160   \n",
       "\n",
       "   Express Shipping  Cart Abandonment Rate  Check Review  Refund rate  \\\n",
       "0          0.357143               0.733693             0     0.243994   \n",
       "1          1.000000               0.709685             1     0.170417   \n",
       "2          1.000000               0.719513             1     0.306721   \n",
       "3          1.000000               0.645122             0     0.118960   \n",
       "4          1.000000               0.832793             0     0.343723   \n",
       "\n",
       "   Time in Cart  Time on Page RFM_1year  \n",
       "0      7.039021      0.469268       321  \n",
       "1     45.151821      3.010121       322  \n",
       "2     19.751185      1.316746       322  \n",
       "3     13.694138      0.912943       323  \n",
       "4      2.544373      0.169625       212  "
      ]
     },
     "execution_count": 8,
     "metadata": {},
     "output_type": "execute_result"
    }
   ],
   "source": [
    "customers.drop('RFM_x', axis=1, inplace=True)\n",
    "customers.rename(columns={'RFM_y': 'RFM_1year'}, inplace=True)\n",
    "customers.head()"
   ]
  },
  {
   "cell_type": "code",
   "execution_count": null,
   "metadata": {
    "colab": {
     "base_uri": "https://localhost:8080/"
    },
    "id": "o-fExIY1iU70",
    "outputId": "ae68aac2-1caf-4f5f-e687-17f3937c4bd2"
   },
   "outputs": [
    {
     "data": {
      "text/html": [
       "<div>\n",
       "<style scoped>\n",
       "    .dataframe tbody tr th:only-of-type {\n",
       "        vertical-align: middle;\n",
       "    }\n",
       "\n",
       "    .dataframe tbody tr th {\n",
       "        vertical-align: top;\n",
       "    }\n",
       "\n",
       "    .dataframe thead th {\n",
       "        text-align: right;\n",
       "    }\n",
       "</style>\n",
       "<table border=\"1\" class=\"dataframe\">\n",
       "  <thead>\n",
       "    <tr style=\"text-align: right;\">\n",
       "      <th></th>\n",
       "      <th>Survey ResponseID</th>\n",
       "      <th>Prime</th>\n",
       "      <th>Free Trial</th>\n",
       "      <th>Email CTC</th>\n",
       "      <th>Display Ad CTC</th>\n",
       "      <th>Video Ad CTC</th>\n",
       "      <th>Search Engine Ad CTC</th>\n",
       "      <th>Social Media Ad CTC</th>\n",
       "      <th>Average CTC</th>\n",
       "      <th>Express Shipping</th>\n",
       "      <th>Cart Abandonment Rate</th>\n",
       "      <th>Check Review</th>\n",
       "      <th>Refund rate</th>\n",
       "      <th>Time in Cart</th>\n",
       "      <th>Time on Page</th>\n",
       "      <th>RFM_1year</th>\n",
       "      <th>VIP</th>\n",
       "    </tr>\n",
       "  </thead>\n",
       "  <tbody>\n",
       "    <tr>\n",
       "      <th>0</th>\n",
       "      <td>R_03aEbghUILs9NxD</td>\n",
       "      <td>0</td>\n",
       "      <td>0</td>\n",
       "      <td>0.000000</td>\n",
       "      <td>0.152505</td>\n",
       "      <td>0.000000</td>\n",
       "      <td>0.084507</td>\n",
       "      <td>0.000000</td>\n",
       "      <td>0.049471</td>\n",
       "      <td>0.357143</td>\n",
       "      <td>0.733693</td>\n",
       "      <td>0</td>\n",
       "      <td>0.243994</td>\n",
       "      <td>7.039021</td>\n",
       "      <td>0.469268</td>\n",
       "      <td>321</td>\n",
       "      <td>0</td>\n",
       "    </tr>\n",
       "    <tr>\n",
       "      <th>1</th>\n",
       "      <td>R_06RZP9pS7kONINr</td>\n",
       "      <td>1</td>\n",
       "      <td>1</td>\n",
       "      <td>0.022101</td>\n",
       "      <td>0.000000</td>\n",
       "      <td>0.000000</td>\n",
       "      <td>0.000000</td>\n",
       "      <td>0.000000</td>\n",
       "      <td>0.000000</td>\n",
       "      <td>1.000000</td>\n",
       "      <td>0.709685</td>\n",
       "      <td>1</td>\n",
       "      <td>0.170417</td>\n",
       "      <td>45.151821</td>\n",
       "      <td>3.010121</td>\n",
       "      <td>322</td>\n",
       "      <td>0</td>\n",
       "    </tr>\n",
       "    <tr>\n",
       "      <th>2</th>\n",
       "      <td>R_085qq7w0pkhowox</td>\n",
       "      <td>1</td>\n",
       "      <td>1</td>\n",
       "      <td>0.142079</td>\n",
       "      <td>0.025374</td>\n",
       "      <td>0.000000</td>\n",
       "      <td>0.000000</td>\n",
       "      <td>0.010455</td>\n",
       "      <td>0.036060</td>\n",
       "      <td>1.000000</td>\n",
       "      <td>0.719513</td>\n",
       "      <td>1</td>\n",
       "      <td>0.306721</td>\n",
       "      <td>19.751185</td>\n",
       "      <td>1.316746</td>\n",
       "      <td>322</td>\n",
       "      <td>0</td>\n",
       "    </tr>\n",
       "    <tr>\n",
       "      <th>3</th>\n",
       "      <td>R_08uYA7fb4unHGkF</td>\n",
       "      <td>1</td>\n",
       "      <td>1</td>\n",
       "      <td>0.000000</td>\n",
       "      <td>0.000000</td>\n",
       "      <td>0.061927</td>\n",
       "      <td>0.000000</td>\n",
       "      <td>0.000000</td>\n",
       "      <td>0.000000</td>\n",
       "      <td>1.000000</td>\n",
       "      <td>0.645122</td>\n",
       "      <td>0</td>\n",
       "      <td>0.118960</td>\n",
       "      <td>13.694138</td>\n",
       "      <td>0.912943</td>\n",
       "      <td>323</td>\n",
       "      <td>0</td>\n",
       "    </tr>\n",
       "    <tr>\n",
       "      <th>4</th>\n",
       "      <td>R_0BrMxYYMHVMOBEJ</td>\n",
       "      <td>1</td>\n",
       "      <td>1</td>\n",
       "      <td>0.000000</td>\n",
       "      <td>0.000000</td>\n",
       "      <td>0.118639</td>\n",
       "      <td>0.046602</td>\n",
       "      <td>0.000000</td>\n",
       "      <td>0.035160</td>\n",
       "      <td>1.000000</td>\n",
       "      <td>0.832793</td>\n",
       "      <td>0</td>\n",
       "      <td>0.343723</td>\n",
       "      <td>2.544373</td>\n",
       "      <td>0.169625</td>\n",
       "      <td>212</td>\n",
       "      <td>0</td>\n",
       "    </tr>\n",
       "  </tbody>\n",
       "</table>\n",
       "</div>"
      ],
      "text/plain": [
       "   Survey ResponseID  Prime  Free Trial  Email CTC  Display Ad CTC  \\\n",
       "0  R_03aEbghUILs9NxD      0           0   0.000000        0.152505   \n",
       "1  R_06RZP9pS7kONINr      1           1   0.022101        0.000000   \n",
       "2  R_085qq7w0pkhowox      1           1   0.142079        0.025374   \n",
       "3  R_08uYA7fb4unHGkF      1           1   0.000000        0.000000   \n",
       "4  R_0BrMxYYMHVMOBEJ      1           1   0.000000        0.000000   \n",
       "\n",
       "   Video Ad CTC  Search Engine Ad CTC  Social Media Ad CTC  Average CTC  \\\n",
       "0      0.000000              0.084507             0.000000     0.049471   \n",
       "1      0.000000              0.000000             0.000000     0.000000   \n",
       "2      0.000000              0.000000             0.010455     0.036060   \n",
       "3      0.061927              0.000000             0.000000     0.000000   \n",
       "4      0.118639              0.046602             0.000000     0.035160   \n",
       "\n",
       "   Express Shipping  Cart Abandonment Rate  Check Review  Refund rate  \\\n",
       "0          0.357143               0.733693             0     0.243994   \n",
       "1          1.000000               0.709685             1     0.170417   \n",
       "2          1.000000               0.719513             1     0.306721   \n",
       "3          1.000000               0.645122             0     0.118960   \n",
       "4          1.000000               0.832793             0     0.343723   \n",
       "\n",
       "   Time in Cart  Time on Page RFM_1year  VIP  \n",
       "0      7.039021      0.469268       321    0  \n",
       "1     45.151821      3.010121       322    0  \n",
       "2     19.751185      1.316746       322    0  \n",
       "3     13.694138      0.912943       323    0  \n",
       "4      2.544373      0.169625       212    0  "
      ]
     },
     "execution_count": 9,
     "metadata": {},
     "output_type": "execute_result"
    }
   ],
   "source": [
    "# Labelling customers that have '333' for RFM csore as VIP\n",
    "customers['VIP'] = customers['RFM_1year'].apply(lambda x: 1 if x == '333' else 0)\n",
    "customers.head()"
   ]
  },
  {
   "cell_type": "markdown",
   "metadata": {
    "id": "1WT29Z3dW4sx"
   },
   "source": [
    "### Getting RFM of customers 3 months after 1st purchase\n",
    "\n",
    "However, we will not group them into a 3 digit RFM score, instead we will leave the 'Recency', 'Frequency' and 'Monetary' in raw numerical form to be used for model prediction."
   ]
  },
  {
   "cell_type": "code",
   "execution_count": null,
   "metadata": {
    "colab": {
     "base_uri": "https://localhost:8080/"
    },
    "id": "FyJMoPW7i4of",
    "outputId": "712260df-1f9d-4864-c925-d3375495c00f"
   },
   "outputs": [
    {
     "data": {
      "text/html": [
       "<div>\n",
       "<style scoped>\n",
       "    .dataframe tbody tr th:only-of-type {\n",
       "        vertical-align: middle;\n",
       "    }\n",
       "\n",
       "    .dataframe tbody tr th {\n",
       "        vertical-align: top;\n",
       "    }\n",
       "\n",
       "    .dataframe thead th {\n",
       "        text-align: right;\n",
       "    }\n",
       "</style>\n",
       "<table border=\"1\" class=\"dataframe\">\n",
       "  <thead>\n",
       "    <tr style=\"text-align: right;\">\n",
       "      <th></th>\n",
       "      <th>Order Date</th>\n",
       "      <th>Purchase Price Per Unit</th>\n",
       "      <th>Quantity</th>\n",
       "      <th>Shipping Address State</th>\n",
       "      <th>Title</th>\n",
       "      <th>ASIN/ISBN (Product Code)</th>\n",
       "      <th>Survey ResponseID</th>\n",
       "      <th>Category</th>\n",
       "      <th>Prime</th>\n",
       "      <th>Discounts</th>\n",
       "      <th>Express Shipping</th>\n",
       "      <th>first_order_date</th>\n",
       "      <th>one_year_cutoff</th>\n",
       "      <th>3_month_cutoff</th>\n",
       "    </tr>\n",
       "  </thead>\n",
       "  <tbody>\n",
       "    <tr>\n",
       "      <th>0</th>\n",
       "      <td>2018-12-04</td>\n",
       "      <td>7.98</td>\n",
       "      <td>1</td>\n",
       "      <td>NJ</td>\n",
       "      <td>SanDisk Ultra 16GB Class 10 SDHC UHS-I Memory ...</td>\n",
       "      <td>B0143RTB1E</td>\n",
       "      <td>R_01vNIayewjIIKMF</td>\n",
       "      <td>Electronics</td>\n",
       "      <td>1</td>\n",
       "      <td>0.00</td>\n",
       "      <td>1</td>\n",
       "      <td>2018-12-04</td>\n",
       "      <td>2019-12-04</td>\n",
       "      <td>2019-03-04</td>\n",
       "    </tr>\n",
       "    <tr>\n",
       "      <th>1</th>\n",
       "      <td>2018-12-22</td>\n",
       "      <td>13.99</td>\n",
       "      <td>1</td>\n",
       "      <td>NJ</td>\n",
       "      <td>Betron BS10 Earphones Wired Headphones in Ear ...</td>\n",
       "      <td>B01MA1MJ6H</td>\n",
       "      <td>R_01vNIayewjIIKMF</td>\n",
       "      <td>Electronics</td>\n",
       "      <td>1</td>\n",
       "      <td>0.00</td>\n",
       "      <td>1</td>\n",
       "      <td>2018-12-04</td>\n",
       "      <td>2019-12-04</td>\n",
       "      <td>2019-03-04</td>\n",
       "    </tr>\n",
       "    <tr>\n",
       "      <th>2</th>\n",
       "      <td>2018-12-24</td>\n",
       "      <td>8.99</td>\n",
       "      <td>1</td>\n",
       "      <td>NJ</td>\n",
       "      <td>NaN</td>\n",
       "      <td>B078JZTFN3</td>\n",
       "      <td>R_01vNIayewjIIKMF</td>\n",
       "      <td>NaN</td>\n",
       "      <td>1</td>\n",
       "      <td>0.00</td>\n",
       "      <td>1</td>\n",
       "      <td>2018-12-04</td>\n",
       "      <td>2019-12-04</td>\n",
       "      <td>2019-03-04</td>\n",
       "    </tr>\n",
       "    <tr>\n",
       "      <th>3</th>\n",
       "      <td>2018-12-25</td>\n",
       "      <td>10.45</td>\n",
       "      <td>1</td>\n",
       "      <td>NJ</td>\n",
       "      <td>Perfecto Stainless Steel Shaving Bowl. Durable...</td>\n",
       "      <td>B06XWF9HML</td>\n",
       "      <td>R_01vNIayewjIIKMF</td>\n",
       "      <td>Kitchen &amp; Dining</td>\n",
       "      <td>1</td>\n",
       "      <td>0.05</td>\n",
       "      <td>1</td>\n",
       "      <td>2018-12-04</td>\n",
       "      <td>2019-12-04</td>\n",
       "      <td>2019-03-04</td>\n",
       "    </tr>\n",
       "    <tr>\n",
       "      <th>4</th>\n",
       "      <td>2018-12-25</td>\n",
       "      <td>10.00</td>\n",
       "      <td>1</td>\n",
       "      <td>NJ</td>\n",
       "      <td>Proraso Shaving Cream for Men</td>\n",
       "      <td>B00837ZOI0</td>\n",
       "      <td>R_01vNIayewjIIKMF</td>\n",
       "      <td>Beauty &amp; Personal Care</td>\n",
       "      <td>1</td>\n",
       "      <td>0.05</td>\n",
       "      <td>1</td>\n",
       "      <td>2018-12-04</td>\n",
       "      <td>2019-12-04</td>\n",
       "      <td>2019-03-04</td>\n",
       "    </tr>\n",
       "  </tbody>\n",
       "</table>\n",
       "</div>"
      ],
      "text/plain": [
       "  Order Date  Purchase Price Per Unit  Quantity Shipping Address State  \\\n",
       "0 2018-12-04                     7.98         1                     NJ   \n",
       "1 2018-12-22                    13.99         1                     NJ   \n",
       "2 2018-12-24                     8.99         1                     NJ   \n",
       "3 2018-12-25                    10.45         1                     NJ   \n",
       "4 2018-12-25                    10.00         1                     NJ   \n",
       "\n",
       "                                               Title ASIN/ISBN (Product Code)  \\\n",
       "0  SanDisk Ultra 16GB Class 10 SDHC UHS-I Memory ...               B0143RTB1E   \n",
       "1  Betron BS10 Earphones Wired Headphones in Ear ...               B01MA1MJ6H   \n",
       "2                                                NaN               B078JZTFN3   \n",
       "3  Perfecto Stainless Steel Shaving Bowl. Durable...               B06XWF9HML   \n",
       "4                      Proraso Shaving Cream for Men               B00837ZOI0   \n",
       "\n",
       "   Survey ResponseID                Category  Prime  Discounts  \\\n",
       "0  R_01vNIayewjIIKMF             Electronics      1       0.00   \n",
       "1  R_01vNIayewjIIKMF             Electronics      1       0.00   \n",
       "2  R_01vNIayewjIIKMF                     NaN      1       0.00   \n",
       "3  R_01vNIayewjIIKMF        Kitchen & Dining      1       0.05   \n",
       "4  R_01vNIayewjIIKMF  Beauty & Personal Care      1       0.05   \n",
       "\n",
       "   Express Shipping first_order_date one_year_cutoff 3_month_cutoff  \n",
       "0                 1       2018-12-04      2019-12-04     2019-03-04  \n",
       "1                 1       2018-12-04      2019-12-04     2019-03-04  \n",
       "2                 1       2018-12-04      2019-12-04     2019-03-04  \n",
       "3                 1       2018-12-04      2019-12-04     2019-03-04  \n",
       "4                 1       2018-12-04      2019-12-04     2019-03-04  "
      ]
     },
     "execution_count": 10,
     "metadata": {},
     "output_type": "execute_result"
    }
   ],
   "source": [
    "# Get all orders up till 3 months from first order\n",
    "\n",
    "purchases['3_month_cutoff'] = purchases['first_order_date'] + pd.DateOffset(months=3)\n",
    "three_mth_orders = purchases[purchases['Order Date'] <= purchases['3_month_cutoff']]\n",
    "\n",
    "three_mth_orders.head()"
   ]
  },
  {
   "cell_type": "code",
   "execution_count": null,
   "metadata": {
    "colab": {
     "base_uri": "https://localhost:8080/"
    },
    "id": "nguWflQ0kibY",
    "outputId": "93c7eef8-12d1-4a69-9fe4-c171f91ddf15"
   },
   "outputs": [
    {
     "name": "stdout",
     "output_type": "stream",
     "text": [
      "count    4923.000000\n",
      "mean       51.358016\n",
      "std        76.057780\n",
      "min         1.372180\n",
      "25%        10.735294\n",
      "50%        22.812500\n",
      "75%        52.142857\n",
      "max       365.000000\n",
      "Name: Frequency, dtype: float64\n",
      "count    4923.000000\n",
      "mean       51.204542\n",
      "std        38.698645\n",
      "min         0.100000\n",
      "25%        29.646901\n",
      "50%        42.536186\n",
      "75%        61.115000\n",
      "max       769.475000\n",
      "Name: Monetary, dtype: float64\n",
      "count    4923.000000\n",
      "mean       60.644119\n",
      "std        98.177855\n",
      "min         0.000000\n",
      "25%         4.000000\n",
      "50%        16.000000\n",
      "75%        60.000000\n",
      "max       366.000000\n",
      "Name: Recency, dtype: float64\n"
     ]
    },
    {
     "name": "stderr",
     "output_type": "stream",
     "text": [
      "/tmp/ipykernel_19/1687435218.py:1: SettingWithCopyWarning: \n",
      "A value is trying to be set on a copy of a slice from a DataFrame.\n",
      "Try using .loc[row_indexer,col_indexer] = value instead\n",
      "\n",
      "See the caveats in the documentation: https://pandas.pydata.org/pandas-docs/stable/user_guide/indexing.html#returning-a-view-versus-a-copy\n",
      "  three_mth_orders['Year'] = three_mth_orders['Order Date'].dt.year\n",
      "/tmp/ipykernel_19/1687435218.py:2: SettingWithCopyWarning: \n",
      "A value is trying to be set on a copy of a slice from a DataFrame.\n",
      "Try using .loc[row_indexer,col_indexer] = value instead\n",
      "\n",
      "See the caveats in the documentation: https://pandas.pydata.org/pandas-docs/stable/user_guide/indexing.html#returning-a-view-versus-a-copy\n",
      "  three_mth_orders['Month'] = three_mth_orders['Order Date'].dt.month\n",
      "/tmp/ipykernel_19/1687435218.py:3: SettingWithCopyWarning: \n",
      "A value is trying to be set on a copy of a slice from a DataFrame.\n",
      "Try using .loc[row_indexer,col_indexer] = value instead\n",
      "\n",
      "See the caveats in the documentation: https://pandas.pydata.org/pandas-docs/stable/user_guide/indexing.html#returning-a-view-versus-a-copy\n",
      "  three_mth_orders['Recency'] = three_mth_orders['first_order_date'] + pd.DateOffset(months=3) - three_mth_orders.groupby(['Survey ResponseID'])['Order Date'].transform(\"max\")\n",
      "/tmp/ipykernel_19/1687435218.py:4: SettingWithCopyWarning: \n",
      "A value is trying to be set on a copy of a slice from a DataFrame.\n",
      "Try using .loc[row_indexer,col_indexer] = value instead\n",
      "\n",
      "See the caveats in the documentation: https://pandas.pydata.org/pandas-docs/stable/user_guide/indexing.html#returning-a-view-versus-a-copy\n",
      "  three_mth_orders['Frequency'] = three_mth_orders.groupby(['Survey ResponseID'])['Order Date'].transform('nunique')\n",
      "/tmp/ipykernel_19/1687435218.py:5: SettingWithCopyWarning: \n",
      "A value is trying to be set on a copy of a slice from a DataFrame.\n",
      "Try using .loc[row_indexer,col_indexer] = value instead\n",
      "\n",
      "See the caveats in the documentation: https://pandas.pydata.org/pandas-docs/stable/user_guide/indexing.html#returning-a-view-versus-a-copy\n",
      "  three_mth_orders['Order value'] = three_mth_orders['Quantity'] * three_mth_orders['Purchase Price Per Unit']\n",
      "/tmp/ipykernel_19/1687435218.py:6: SettingWithCopyWarning: \n",
      "A value is trying to be set on a copy of a slice from a DataFrame.\n",
      "Try using .loc[row_indexer,col_indexer] = value instead\n",
      "\n",
      "See the caveats in the documentation: https://pandas.pydata.org/pandas-docs/stable/user_guide/indexing.html#returning-a-view-versus-a-copy\n",
      "  three_mth_orders['Monetary'] = three_mth_orders.groupby(['Survey ResponseID'])['Order value'].transform('sum')\n",
      "/tmp/ipykernel_19/1687435218.py:7: SettingWithCopyWarning: \n",
      "A value is trying to be set on a copy of a slice from a DataFrame.\n",
      "Try using .loc[row_indexer,col_indexer] = value instead\n",
      "\n",
      "See the caveats in the documentation: https://pandas.pydata.org/pandas-docs/stable/user_guide/indexing.html#returning-a-view-versus-a-copy\n",
      "  three_mth_orders['Monetary'] = three_mth_orders['Monetary']/three_mth_orders['Frequency']\n",
      "/tmp/ipykernel_19/1687435218.py:8: SettingWithCopyWarning: \n",
      "A value is trying to be set on a copy of a slice from a DataFrame.\n",
      "Try using .loc[row_indexer,col_indexer] = value instead\n",
      "\n",
      "See the caveats in the documentation: https://pandas.pydata.org/pandas-docs/stable/user_guide/indexing.html#returning-a-view-versus-a-copy\n",
      "  three_mth_orders['Frequency'] = 91/three_mth_orders['Frequency']\n"
     ]
    }
   ],
   "source": [
    "three_mth_orders['Year'] = three_mth_orders['Order Date'].dt.year\n",
    "three_mth_orders['Month'] = three_mth_orders['Order Date'].dt.month\n",
    "three_mth_orders['Recency'] = three_mth_orders['first_order_date'] + pd.DateOffset(months=3) - three_mth_orders.groupby(['Survey ResponseID'])['Order Date'].transform(\"max\")\n",
    "three_mth_orders['Frequency'] = three_mth_orders.groupby(['Survey ResponseID'])['Order Date'].transform('nunique')\n",
    "three_mth_orders['Order value'] = three_mth_orders['Quantity'] * three_mth_orders['Purchase Price Per Unit']\n",
    "three_mth_orders['Monetary'] = three_mth_orders.groupby(['Survey ResponseID'])['Order value'].transform('sum')\n",
    "three_mth_orders['Monetary'] = three_mth_orders['Monetary']/three_mth_orders['Frequency']\n",
    "three_mth_orders['Frequency'] = 91/three_mth_orders['Frequency']\n",
    "three_mth_orders = three_mth_orders[['Recency','Frequency','Monetary','Survey ResponseID']]\n",
    "three_mth_orders = three_mth_orders.drop_duplicates()\n",
    "three_mth_orders['Recency'] = three_mth_orders['Recency'].dt.days\n",
    "\n",
    "print(one_year_orders['Frequency'].describe())\n",
    "print(one_year_orders['Monetary'].describe())\n",
    "print(one_year_orders['Recency'].describe())\n",
    "\n",
    "temp_df = three_mth_orders[['Survey ResponseID', 'Recency', 'Frequency', 'Monetary']].drop_duplicates()\n",
    "\n",
    "customers = pd.merge(customers, temp_df, on='Survey ResponseID', how='inner')"
   ]
  },
  {
   "cell_type": "code",
   "execution_count": null,
   "metadata": {
    "colab": {
     "base_uri": "https://localhost:8080/"
    },
    "id": "6i_ZKC5Il2Ad",
    "outputId": "a4754d31-ea10-4a44-c31c-3cad25634fcd"
   },
   "outputs": [
    {
     "data": {
      "text/html": [
       "<div>\n",
       "<style scoped>\n",
       "    .dataframe tbody tr th:only-of-type {\n",
       "        vertical-align: middle;\n",
       "    }\n",
       "\n",
       "    .dataframe tbody tr th {\n",
       "        vertical-align: top;\n",
       "    }\n",
       "\n",
       "    .dataframe thead th {\n",
       "        text-align: right;\n",
       "    }\n",
       "</style>\n",
       "<table border=\"1\" class=\"dataframe\">\n",
       "  <thead>\n",
       "    <tr style=\"text-align: right;\">\n",
       "      <th></th>\n",
       "      <th>Survey ResponseID</th>\n",
       "      <th>Recency</th>\n",
       "      <th>Frequency</th>\n",
       "      <th>Monetary</th>\n",
       "      <th>RFM_1year</th>\n",
       "      <th>VIP</th>\n",
       "    </tr>\n",
       "  </thead>\n",
       "  <tbody>\n",
       "    <tr>\n",
       "      <th>0</th>\n",
       "      <td>R_03aEbghUILs9NxD</td>\n",
       "      <td>56</td>\n",
       "      <td>30.333333</td>\n",
       "      <td>11.803333</td>\n",
       "      <td>321</td>\n",
       "      <td>0</td>\n",
       "    </tr>\n",
       "    <tr>\n",
       "      <th>1</th>\n",
       "      <td>R_06RZP9pS7kONINr</td>\n",
       "      <td>10</td>\n",
       "      <td>15.166667</td>\n",
       "      <td>69.838333</td>\n",
       "      <td>322</td>\n",
       "      <td>0</td>\n",
       "    </tr>\n",
       "    <tr>\n",
       "      <th>2</th>\n",
       "      <td>R_085qq7w0pkhowox</td>\n",
       "      <td>5</td>\n",
       "      <td>13.000000</td>\n",
       "      <td>41.718571</td>\n",
       "      <td>322</td>\n",
       "      <td>0</td>\n",
       "    </tr>\n",
       "    <tr>\n",
       "      <th>3</th>\n",
       "      <td>R_08uYA7fb4unHGkF</td>\n",
       "      <td>0</td>\n",
       "      <td>18.200000</td>\n",
       "      <td>115.952000</td>\n",
       "      <td>323</td>\n",
       "      <td>0</td>\n",
       "    </tr>\n",
       "    <tr>\n",
       "      <th>4</th>\n",
       "      <td>R_0BrMxYYMHVMOBEJ</td>\n",
       "      <td>89</td>\n",
       "      <td>91.000000</td>\n",
       "      <td>61.980000</td>\n",
       "      <td>212</td>\n",
       "      <td>0</td>\n",
       "    </tr>\n",
       "  </tbody>\n",
       "</table>\n",
       "</div>"
      ],
      "text/plain": [
       "   Survey ResponseID  Recency  Frequency    Monetary RFM_1year  VIP\n",
       "0  R_03aEbghUILs9NxD       56  30.333333   11.803333       321    0\n",
       "1  R_06RZP9pS7kONINr       10  15.166667   69.838333       322    0\n",
       "2  R_085qq7w0pkhowox        5  13.000000   41.718571       322    0\n",
       "3  R_08uYA7fb4unHGkF        0  18.200000  115.952000       323    0\n",
       "4  R_0BrMxYYMHVMOBEJ       89  91.000000   61.980000       212    0"
      ]
     },
     "execution_count": 13,
     "metadata": {},
     "output_type": "execute_result"
    }
   ],
   "source": [
    "customers = customers[['Survey ResponseID', 'Recency', 'Frequency', 'Monetary', 'RFM_1year', 'VIP']]\n",
    "customers.head()"
   ]
  },
  {
   "cell_type": "markdown",
   "metadata": {
    "id": "99jfbExrXP0m"
   },
   "source": [
    "### Adding in additional demographics data that might help with prediction"
   ]
  },
  {
   "cell_type": "code",
   "execution_count": null,
   "metadata": {
    "id": "U4VtPuVLmyef"
   },
   "outputs": [],
   "source": [
    "demographics = demographics[['Survey ResponseID', 'Q-demos-income', 'Q-amazon-use-howmany', 'Q-amazon-use-hh-size', 'Q-demos-state']]\n",
    "customers = pd.merge(customers, demographics, on='Survey ResponseID', how='inner')"
   ]
  },
  {
   "cell_type": "code",
   "execution_count": null,
   "metadata": {
    "colab": {
     "base_uri": "https://localhost:8080/"
    },
    "id": "-y8_fSH9neBJ",
    "outputId": "555575ea-d73f-4df3-f98f-470e84219780"
   },
   "outputs": [
    {
     "data": {
      "text/html": [
       "<div>\n",
       "<style scoped>\n",
       "    .dataframe tbody tr th:only-of-type {\n",
       "        vertical-align: middle;\n",
       "    }\n",
       "\n",
       "    .dataframe tbody tr th {\n",
       "        vertical-align: top;\n",
       "    }\n",
       "\n",
       "    .dataframe thead th {\n",
       "        text-align: right;\n",
       "    }\n",
       "</style>\n",
       "<table border=\"1\" class=\"dataframe\">\n",
       "  <thead>\n",
       "    <tr style=\"text-align: right;\">\n",
       "      <th></th>\n",
       "      <th>Survey ResponseID</th>\n",
       "      <th>Recency</th>\n",
       "      <th>Frequency</th>\n",
       "      <th>Monetary</th>\n",
       "      <th>RFM_1year</th>\n",
       "      <th>VIP</th>\n",
       "      <th>Q-demos-income</th>\n",
       "      <th>Q-amazon-use-howmany</th>\n",
       "      <th>Q-amazon-use-hh-size</th>\n",
       "      <th>Q-demos-state</th>\n",
       "    </tr>\n",
       "  </thead>\n",
       "  <tbody>\n",
       "    <tr>\n",
       "      <th>0</th>\n",
       "      <td>R_03aEbghUILs9NxD</td>\n",
       "      <td>56</td>\n",
       "      <td>30.333333</td>\n",
       "      <td>11.803333</td>\n",
       "      <td>321</td>\n",
       "      <td>0</td>\n",
       "      <td>$50,000 - $74,999</td>\n",
       "      <td>1 (just me!)</td>\n",
       "      <td>4+</td>\n",
       "      <td>Virginia</td>\n",
       "    </tr>\n",
       "    <tr>\n",
       "      <th>1</th>\n",
       "      <td>R_06RZP9pS7kONINr</td>\n",
       "      <td>10</td>\n",
       "      <td>15.166667</td>\n",
       "      <td>69.838333</td>\n",
       "      <td>322</td>\n",
       "      <td>0</td>\n",
       "      <td>$75,000 - $99,999</td>\n",
       "      <td>1 (just me!)</td>\n",
       "      <td>2</td>\n",
       "      <td>South Dakota</td>\n",
       "    </tr>\n",
       "    <tr>\n",
       "      <th>2</th>\n",
       "      <td>R_085qq7w0pkhowox</td>\n",
       "      <td>5</td>\n",
       "      <td>13.000000</td>\n",
       "      <td>41.718571</td>\n",
       "      <td>322</td>\n",
       "      <td>0</td>\n",
       "      <td>$50,000 - $74,999</td>\n",
       "      <td>2</td>\n",
       "      <td>4+</td>\n",
       "      <td>Louisiana</td>\n",
       "    </tr>\n",
       "    <tr>\n",
       "      <th>3</th>\n",
       "      <td>R_08uYA7fb4unHGkF</td>\n",
       "      <td>0</td>\n",
       "      <td>18.200000</td>\n",
       "      <td>115.952000</td>\n",
       "      <td>323</td>\n",
       "      <td>0</td>\n",
       "      <td>$25,000 - $49,999</td>\n",
       "      <td>1 (just me!)</td>\n",
       "      <td>1 (just me!)</td>\n",
       "      <td>Florida</td>\n",
       "    </tr>\n",
       "    <tr>\n",
       "      <th>4</th>\n",
       "      <td>R_0BrMxYYMHVMOBEJ</td>\n",
       "      <td>89</td>\n",
       "      <td>91.000000</td>\n",
       "      <td>61.980000</td>\n",
       "      <td>212</td>\n",
       "      <td>0</td>\n",
       "      <td>$75,000 - $99,999</td>\n",
       "      <td>1 (just me!)</td>\n",
       "      <td>1 (just me!)</td>\n",
       "      <td>Nebraska</td>\n",
       "    </tr>\n",
       "  </tbody>\n",
       "</table>\n",
       "</div>"
      ],
      "text/plain": [
       "   Survey ResponseID  Recency  Frequency    Monetary RFM_1year  VIP  \\\n",
       "0  R_03aEbghUILs9NxD       56  30.333333   11.803333       321    0   \n",
       "1  R_06RZP9pS7kONINr       10  15.166667   69.838333       322    0   \n",
       "2  R_085qq7w0pkhowox        5  13.000000   41.718571       322    0   \n",
       "3  R_08uYA7fb4unHGkF        0  18.200000  115.952000       323    0   \n",
       "4  R_0BrMxYYMHVMOBEJ       89  91.000000   61.980000       212    0   \n",
       "\n",
       "      Q-demos-income Q-amazon-use-howmany Q-amazon-use-hh-size Q-demos-state  \n",
       "0  $50,000 - $74,999         1 (just me!)                   4+      Virginia  \n",
       "1  $75,000 - $99,999         1 (just me!)                    2  South Dakota  \n",
       "2  $50,000 - $74,999                    2                   4+     Louisiana  \n",
       "3  $25,000 - $49,999         1 (just me!)         1 (just me!)       Florida  \n",
       "4  $75,000 - $99,999         1 (just me!)         1 (just me!)      Nebraska  "
      ]
     },
     "execution_count": 15,
     "metadata": {},
     "output_type": "execute_result"
    }
   ],
   "source": [
    "customers.head()"
   ]
  },
  {
   "cell_type": "markdown",
   "metadata": {
    "id": "VtsyMqoUng-m"
   },
   "source": [
    "# Model Training"
   ]
  },
  {
   "cell_type": "markdown",
   "metadata": {
    "id": "NF_teMBBXjdH"
   },
   "source": [
    "## Encoding and Standardizing"
   ]
  },
  {
   "cell_type": "code",
   "execution_count": null,
   "metadata": {
    "id": "M7LnZjQYnsJo"
   },
   "outputs": [],
   "source": [
    "import pickle\n",
    "import pandas as pd\n",
    "from sklearn.model_selection import train_test_split\n",
    "\n",
    "import matplotlib\n",
    "import matplotlib.pyplot as plt\n",
    "from matplotlib import colors\n",
    "import seaborn as sns\n",
    "from sklearn.preprocessing import LabelEncoder\n",
    "from sklearn.preprocessing import StandardScaler\n",
    "from sklearn.decomposition import PCA\n",
    "from yellowbrick.cluster import KElbowVisualizer\n",
    "from sklearn.cluster import KMeans\n",
    "import matplotlib.pyplot as plt, numpy as np\n",
    "from mpl_toolkits.mplot3d import Axes3D\n",
    "from sklearn.cluster import AgglomerativeClustering\n",
    "from matplotlib.colors import ListedColormap\n",
    "from sklearn import metrics\n",
    "import warnings\n",
    "import sys"
   ]
  },
  {
   "cell_type": "code",
   "execution_count": null,
   "metadata": {
    "colab": {
     "base_uri": "https://localhost:8080/"
    },
    "id": "OdM18sDinirj",
    "outputId": "454c529e-87cb-4985-8085-cf639991b234"
   },
   "outputs": [
    {
     "name": "stdout",
     "output_type": "stream",
     "text": [
      "Survey ResponseID       0\n",
      "Recency                 0\n",
      "Frequency               0\n",
      "Monetary                0\n",
      "RFM_1year               0\n",
      "VIP                     0\n",
      "Q-demos-income          0\n",
      "Q-amazon-use-howmany    0\n",
      "Q-amazon-use-hh-size    0\n",
      "Q-demos-state           0\n",
      "dtype: int64\n"
     ]
    }
   ],
   "source": [
    "missing_values_count = customers.isnull().sum()\n",
    "print(missing_values_count)"
   ]
  },
  {
   "cell_type": "code",
   "execution_count": null,
   "metadata": {
    "colab": {
     "base_uri": "https://localhost:8080/"
    },
    "id": "bFcycR3qoHiw",
    "outputId": "f9bd5618-1876-41e7-990c-72be0e6a715a"
   },
   "outputs": [
    {
     "data": {
      "text/plain": [
       "array(['$50,000 - $74,999', '$75,000 - $99,999', '$25,000 - $49,999',\n",
       "       '$100,000 - $149,999', '$150,000 or more', 'Less than $25,000',\n",
       "       'Prefer not to say'], dtype=object)"
      ]
     },
     "execution_count": 19,
     "metadata": {},
     "output_type": "execute_result"
    }
   ],
   "source": [
    "customers['Q-demos-income'].unique()\n"
   ]
  },
  {
   "cell_type": "code",
   "execution_count": null,
   "metadata": {
    "colab": {
     "base_uri": "https://localhost:8080/"
    },
    "id": "6JbWaXzSopXw",
    "outputId": "adb0b17a-76c3-4740-ca7a-fb0b0cb2533e"
   },
   "outputs": [
    {
     "data": {
      "text/plain": [
       "array(['1 (just me!)', '2', '3', '4+'], dtype=object)"
      ]
     },
     "execution_count": 20,
     "metadata": {},
     "output_type": "execute_result"
    }
   ],
   "source": [
    "customers['Q-amazon-use-howmany'].unique()"
   ]
  },
  {
   "cell_type": "code",
   "execution_count": null,
   "metadata": {
    "colab": {
     "base_uri": "https://localhost:8080/"
    },
    "id": "XjI2gSFhoqpr",
    "outputId": "02fcee4a-84c6-41e5-932d-ad2d26fefddd"
   },
   "outputs": [
    {
     "data": {
      "text/plain": [
       "array(['4+', '2', '1 (just me!)', '3'], dtype=object)"
      ]
     },
     "execution_count": 21,
     "metadata": {},
     "output_type": "execute_result"
    }
   ],
   "source": [
    "customers['Q-amazon-use-hh-size'].unique()"
   ]
  },
  {
   "cell_type": "code",
   "execution_count": null,
   "metadata": {
    "colab": {
     "base_uri": "https://localhost:8080/"
    },
    "id": "odOy7dfXosvk",
    "outputId": "50300b7e-e33e-4e84-d793-95cb91eac124"
   },
   "outputs": [
    {
     "data": {
      "text/plain": [
       "array(['Virginia', 'South Dakota', 'Louisiana', 'Florida', 'Nebraska',\n",
       "       'Tennessee', 'Maryland', 'Utah', 'Texas', 'Illinois',\n",
       "       'North Carolina', 'Washington', 'New Jersey', 'Georgia',\n",
       "       'Minnesota', 'Arizona', 'Colorado', 'California', 'Kansas',\n",
       "       'Oregon', 'Ohio', 'New York', 'Michigan', 'Alabama', 'Oklahoma',\n",
       "       'Massachusetts', 'New Mexico', 'Pennsylvania', 'Wisconsin',\n",
       "       'South Carolina', 'Indiana', 'Rhode Island', 'Nevada', 'Arkansas',\n",
       "       'Kentucky', 'Delaware', 'Connecticut', 'Missouri', 'Hawaii',\n",
       "       'West Virginia', 'Wyoming', 'Iowa', 'Montana', 'Mississippi',\n",
       "       'New Hampshire', 'North Dakota', 'Vermont', 'District of Columbia',\n",
       "       'Maine', 'Idaho', 'Alaska',\n",
       "       'I did not reside in the United States'], dtype=object)"
      ]
     },
     "execution_count": 22,
     "metadata": {},
     "output_type": "execute_result"
    }
   ],
   "source": [
    "customers['Q-demos-state'].unique()"
   ]
  },
  {
   "cell_type": "code",
   "execution_count": null,
   "metadata": {
    "colab": {
     "base_uri": "https://localhost:8080/"
    },
    "id": "XaVwP8O1pUqw",
    "outputId": "71d933f7-6779-4bfa-dbe9-190be01e78cb"
   },
   "outputs": [
    {
     "name": "stdout",
     "output_type": "stream",
     "text": [
      "Categorical variables in the dataset: ['RFM_1year', 'Q-demos-income', 'Q-amazon-use-howmany', 'Q-amazon-use-hh-size', 'Q-demos-state']\n"
     ]
    }
   ],
   "source": [
    "temp_df = customers.copy()\n",
    "temp_df.drop(columns=['Survey ResponseID'], inplace=True)\n",
    "\n",
    "s = (temp_df.dtypes == 'object')\n",
    "object_cols = list(s[s].index)\n",
    "\n",
    "print(\"Categorical variables in the dataset:\", object_cols)"
   ]
  },
  {
   "cell_type": "code",
   "execution_count": null,
   "metadata": {
    "colab": {
     "base_uri": "https://localhost:8080/"
    },
    "id": "wuc9POlTqyG6",
    "outputId": "9965f88c-52a4-4e93-b82e-5cf9e2f80013"
   },
   "outputs": [
    {
     "data": {
      "text/html": [
       "<div>\n",
       "<style scoped>\n",
       "    .dataframe tbody tr th:only-of-type {\n",
       "        vertical-align: middle;\n",
       "    }\n",
       "\n",
       "    .dataframe tbody tr th {\n",
       "        vertical-align: top;\n",
       "    }\n",
       "\n",
       "    .dataframe thead th {\n",
       "        text-align: right;\n",
       "    }\n",
       "</style>\n",
       "<table border=\"1\" class=\"dataframe\">\n",
       "  <thead>\n",
       "    <tr style=\"text-align: right;\">\n",
       "      <th></th>\n",
       "      <th>Recency</th>\n",
       "      <th>Frequency</th>\n",
       "      <th>Monetary</th>\n",
       "      <th>RFM_1year</th>\n",
       "      <th>VIP</th>\n",
       "      <th>Q-demos-income</th>\n",
       "      <th>Q-amazon-use-howmany</th>\n",
       "      <th>Q-amazon-use-hh-size</th>\n",
       "      <th>Q-demos-state</th>\n",
       "    </tr>\n",
       "  </thead>\n",
       "  <tbody>\n",
       "    <tr>\n",
       "      <th>0</th>\n",
       "      <td>0.639047</td>\n",
       "      <td>-0.078210</td>\n",
       "      <td>-0.631725</td>\n",
       "      <td>0.559601</td>\n",
       "      <td>0</td>\n",
       "      <td>0.263222</td>\n",
       "      <td>-0.564993</td>\n",
       "      <td>1.397680</td>\n",
       "      <td>1.422981</td>\n",
       "    </tr>\n",
       "    <tr>\n",
       "      <th>1</th>\n",
       "      <td>-0.710097</td>\n",
       "      <td>-0.586365</td>\n",
       "      <td>0.327193</td>\n",
       "      <td>0.730226</td>\n",
       "      <td>0</td>\n",
       "      <td>0.873891</td>\n",
       "      <td>-0.564993</td>\n",
       "      <td>-0.411147</td>\n",
       "      <td>1.094496</td>\n",
       "    </tr>\n",
       "    <tr>\n",
       "      <th>2</th>\n",
       "      <td>-0.856743</td>\n",
       "      <td>-0.658959</td>\n",
       "      <td>-0.137432</td>\n",
       "      <td>0.730226</td>\n",
       "      <td>0</td>\n",
       "      <td>0.263222</td>\n",
       "      <td>0.837660</td>\n",
       "      <td>1.397680</td>\n",
       "      <td>-0.416535</td>\n",
       "    </tr>\n",
       "    <tr>\n",
       "      <th>3</th>\n",
       "      <td>-1.003389</td>\n",
       "      <td>-0.484734</td>\n",
       "      <td>1.089134</td>\n",
       "      <td>0.900851</td>\n",
       "      <td>0</td>\n",
       "      <td>-0.347448</td>\n",
       "      <td>-0.564993</td>\n",
       "      <td>-1.315561</td>\n",
       "      <td>-1.073504</td>\n",
       "    </tr>\n",
       "    <tr>\n",
       "      <th>4</th>\n",
       "      <td>1.606910</td>\n",
       "      <td>1.954409</td>\n",
       "      <td>0.197349</td>\n",
       "      <td>-1.317277</td>\n",
       "      <td>0</td>\n",
       "      <td>0.873891</td>\n",
       "      <td>-0.564993</td>\n",
       "      <td>-1.315561</td>\n",
       "      <td>0.174738</td>\n",
       "    </tr>\n",
       "  </tbody>\n",
       "</table>\n",
       "</div>"
      ],
      "text/plain": [
       "    Recency  Frequency  Monetary  RFM_1year  VIP  Q-demos-income  \\\n",
       "0  0.639047  -0.078210 -0.631725   0.559601    0        0.263222   \n",
       "1 -0.710097  -0.586365  0.327193   0.730226    0        0.873891   \n",
       "2 -0.856743  -0.658959 -0.137432   0.730226    0        0.263222   \n",
       "3 -1.003389  -0.484734  1.089134   0.900851    0       -0.347448   \n",
       "4  1.606910   1.954409  0.197349  -1.317277    0        0.873891   \n",
       "\n",
       "   Q-amazon-use-howmany  Q-amazon-use-hh-size  Q-demos-state  \n",
       "0             -0.564993              1.397680       1.422981  \n",
       "1             -0.564993             -0.411147       1.094496  \n",
       "2              0.837660              1.397680      -0.416535  \n",
       "3             -0.564993             -1.315561      -1.073504  \n",
       "4             -0.564993             -1.315561       0.174738  "
      ]
     },
     "execution_count": 24,
     "metadata": {},
     "output_type": "execute_result"
    }
   ],
   "source": [
    "LE = LabelEncoder()\n",
    "\n",
    "for i in object_cols:\n",
    "    if i != 'VIP':\n",
    "        temp_df[i] = LE.fit_transform(temp_df[i])\n",
    "\n",
    "scaler = StandardScaler()\n",
    "columns_to_scale = [col for col in temp_df.columns if col != 'VIP']\n",
    "temp_df_scaled = temp_df[columns_to_scale]\n",
    "\n",
    "scaler.fit(temp_df_scaled)\n",
    "scaled_data = pd.DataFrame(scaler.transform(temp_df_scaled), columns=temp_df_scaled.columns)\n",
    "\n",
    "scaled_df = temp_df.copy()\n",
    "scaled_df[columns_to_scale] = scaled_data\n",
    "\n",
    "scaled_df.head()"
   ]
  },
  {
   "cell_type": "code",
   "execution_count": null,
   "metadata": {
    "colab": {
     "base_uri": "https://localhost:8080/"
    },
    "id": "8pvNA9PMqH4D",
    "outputId": "953d6f41-e9b7-462b-95b8-854f6a49a2ec"
   },
   "outputs": [
    {
     "data": {
      "text/html": [
       "<div>\n",
       "<style scoped>\n",
       "    .dataframe tbody tr th:only-of-type {\n",
       "        vertical-align: middle;\n",
       "    }\n",
       "\n",
       "    .dataframe tbody tr th {\n",
       "        vertical-align: top;\n",
       "    }\n",
       "\n",
       "    .dataframe thead th {\n",
       "        text-align: right;\n",
       "    }\n",
       "</style>\n",
       "<table border=\"1\" class=\"dataframe\">\n",
       "  <thead>\n",
       "    <tr style=\"text-align: right;\">\n",
       "      <th></th>\n",
       "      <th>Recency</th>\n",
       "      <th>Frequency</th>\n",
       "      <th>Monetary</th>\n",
       "      <th>VIP</th>\n",
       "      <th>Q-demos-income</th>\n",
       "      <th>Q-amazon-use-howmany</th>\n",
       "      <th>Q-amazon-use-hh-size</th>\n",
       "      <th>Q-demos-state</th>\n",
       "    </tr>\n",
       "  </thead>\n",
       "  <tbody>\n",
       "    <tr>\n",
       "      <th>0</th>\n",
       "      <td>0.639047</td>\n",
       "      <td>-0.078210</td>\n",
       "      <td>-0.631725</td>\n",
       "      <td>0</td>\n",
       "      <td>0.263222</td>\n",
       "      <td>-0.564993</td>\n",
       "      <td>1.397680</td>\n",
       "      <td>1.422981</td>\n",
       "    </tr>\n",
       "    <tr>\n",
       "      <th>1</th>\n",
       "      <td>-0.710097</td>\n",
       "      <td>-0.586365</td>\n",
       "      <td>0.327193</td>\n",
       "      <td>0</td>\n",
       "      <td>0.873891</td>\n",
       "      <td>-0.564993</td>\n",
       "      <td>-0.411147</td>\n",
       "      <td>1.094496</td>\n",
       "    </tr>\n",
       "    <tr>\n",
       "      <th>2</th>\n",
       "      <td>-0.856743</td>\n",
       "      <td>-0.658959</td>\n",
       "      <td>-0.137432</td>\n",
       "      <td>0</td>\n",
       "      <td>0.263222</td>\n",
       "      <td>0.837660</td>\n",
       "      <td>1.397680</td>\n",
       "      <td>-0.416535</td>\n",
       "    </tr>\n",
       "    <tr>\n",
       "      <th>3</th>\n",
       "      <td>-1.003389</td>\n",
       "      <td>-0.484734</td>\n",
       "      <td>1.089134</td>\n",
       "      <td>0</td>\n",
       "      <td>-0.347448</td>\n",
       "      <td>-0.564993</td>\n",
       "      <td>-1.315561</td>\n",
       "      <td>-1.073504</td>\n",
       "    </tr>\n",
       "    <tr>\n",
       "      <th>4</th>\n",
       "      <td>1.606910</td>\n",
       "      <td>1.954409</td>\n",
       "      <td>0.197349</td>\n",
       "      <td>0</td>\n",
       "      <td>0.873891</td>\n",
       "      <td>-0.564993</td>\n",
       "      <td>-1.315561</td>\n",
       "      <td>0.174738</td>\n",
       "    </tr>\n",
       "  </tbody>\n",
       "</table>\n",
       "</div>"
      ],
      "text/plain": [
       "    Recency  Frequency  Monetary  VIP  Q-demos-income  Q-amazon-use-howmany  \\\n",
       "0  0.639047  -0.078210 -0.631725    0        0.263222             -0.564993   \n",
       "1 -0.710097  -0.586365  0.327193    0        0.873891             -0.564993   \n",
       "2 -0.856743  -0.658959 -0.137432    0        0.263222              0.837660   \n",
       "3 -1.003389  -0.484734  1.089134    0       -0.347448             -0.564993   \n",
       "4  1.606910   1.954409  0.197349    0        0.873891             -0.564993   \n",
       "\n",
       "   Q-amazon-use-hh-size  Q-demos-state  \n",
       "0              1.397680       1.422981  \n",
       "1             -0.411147       1.094496  \n",
       "2              1.397680      -0.416535  \n",
       "3             -1.315561      -1.073504  \n",
       "4             -1.315561       0.174738  "
      ]
     },
     "execution_count": 25,
     "metadata": {},
     "output_type": "execute_result"
    }
   ],
   "source": [
    "scaled_df.drop(columns=['RFM_1year'], inplace=True)\n",
    "scaled_df.head()"
   ]
  },
  {
   "cell_type": "code",
   "execution_count": null,
   "metadata": {
    "id": "5toZ46eXsuIb"
   },
   "outputs": [],
   "source": [
    "X = scaled_df.drop(columns=['VIP'])\n",
    "y = scaled_df['VIP']"
   ]
  },
  {
   "cell_type": "markdown",
   "metadata": {
    "id": "FTCX3Q1ysiDa"
   },
   "source": [
    "## SMOTE"
   ]
  },
  {
   "cell_type": "code",
   "execution_count": null,
   "metadata": {
    "id": "-0-tT0wgYcyW"
   },
   "outputs": [],
   "source": [
    "X_train0, X_test0, y_train0, y_test0 = train_test_split(X, y, test_size=0.2, random_state=0)"
   ]
  },
  {
   "cell_type": "code",
   "execution_count": null,
   "metadata": {
    "colab": {
     "base_uri": "https://localhost:8080/"
    },
    "id": "Mi0R3WMJYdZv",
    "outputId": "626183da-38a8-43da-f60a-6b1a47f17aa9"
   },
   "outputs": [
    {
     "data": {
      "text/plain": [
       "(array([0]), array([985]))"
      ]
     },
     "execution_count": 28,
     "metadata": {},
     "output_type": "execute_result"
    }
   ],
   "source": [
    "from sklearn.dummy import DummyClassifier\n",
    "\n",
    "dummy_majority = DummyClassifier(strategy = 'most_frequent').fit(X_train0, y_train0)\n",
    "y_dummy_predictions = dummy_majority.predict(X_test0)\n",
    "np.unique(y_dummy_predictions, return_counts=True)"
   ]
  },
  {
   "cell_type": "code",
   "execution_count": null,
   "metadata": {
    "colab": {
     "base_uri": "https://localhost:8080/"
    },
    "id": "Bt-5jY88YiJE",
    "outputId": "c57b1c6a-a303-4a4e-c5c0-c9c65cd3e3e3"
   },
   "outputs": [
    {
     "data": {
      "text/plain": [
       "VIP\n",
       "0    959\n",
       "1     26\n",
       "Name: count, dtype: int64"
      ]
     },
     "execution_count": 29,
     "metadata": {},
     "output_type": "execute_result"
    }
   ],
   "source": [
    "y_test0.value_counts()"
   ]
  },
  {
   "cell_type": "markdown",
   "metadata": {
    "id": "waPCm22AZMnk"
   },
   "source": [
    "Since our training data has majority non-VIP label,"
   ]
  },
  {
   "cell_type": "markdown",
   "metadata": {
    "id": "PGr9Dxbhac2y"
   },
   "source": [
    "We will only oversampling on the training data for each model instead of the entire data set, to prevent data lekage and interferring with the original distribution of the test data. This applies during he cross-validation process as well."
   ]
  },
  {
   "cell_type": "markdown",
   "metadata": {
    "id": "ougYN-LLrCz_"
   },
   "source": [
    "## Logistic Regression"
   ]
  },
  {
   "cell_type": "code",
   "execution_count": null,
   "metadata": {
    "id": "JxaPdtF_rE-C"
   },
   "outputs": [],
   "source": [
    "X_train1, X_test1, y_train1, y_test1 = train_test_split(X, y, test_size=0.3, random_state=0)\n",
    "os= SMOTE(random_state=0)\n",
    "X_train1, y_train1 = os.fit_resample(X_train1, y_train1)"
   ]
  },
  {
   "cell_type": "code",
   "execution_count": null,
   "metadata": {
    "colab": {
     "base_uri": "https://localhost:8080/"
    },
    "id": "k0E2JQF-rOLR",
    "outputId": "7a4641df-cb02-4851-cb86-5ee4f0092074"
   },
   "outputs": [
    {
     "name": "stdout",
     "output_type": "stream",
     "text": [
      "6748 1477\n"
     ]
    }
   ],
   "source": [
    "print(len(X_train1),len(X_test1))"
   ]
  },
  {
   "cell_type": "code",
   "execution_count": null,
   "metadata": {
    "colab": {
     "base_uri": "https://localhost:8080/"
    },
    "id": "fdaNJIFtrRHQ",
    "outputId": "1bbb4a2c-3294-4f39-cff7-b41f7eb7b6d1"
   },
   "outputs": [
    {
     "data": {
      "text/plain": [
       "(array([0, 1]), array([3374, 3374]))"
      ]
     },
     "execution_count": 33,
     "metadata": {},
     "output_type": "execute_result"
    }
   ],
   "source": [
    "np.unique(y_train1, return_counts=True)"
   ]
  },
  {
   "cell_type": "code",
   "execution_count": null,
   "metadata": {
    "colab": {
     "base_uri": "https://localhost:8080/",
     "height": 80
    },
    "id": "lXBBSU4wrmGg",
    "outputId": "0e50f9fa-dd1b-434e-9c37-0d0a36f4d4a2"
   },
   "outputs": [
    {
     "data": {
      "text/html": [
       "<style>#sk-container-id-1 {color: black;}#sk-container-id-1 pre{padding: 0;}#sk-container-id-1 div.sk-toggleable {background-color: white;}#sk-container-id-1 label.sk-toggleable__label {cursor: pointer;display: block;width: 100%;margin-bottom: 0;padding: 0.3em;box-sizing: border-box;text-align: center;}#sk-container-id-1 label.sk-toggleable__label-arrow:before {content: \"▸\";float: left;margin-right: 0.25em;color: #696969;}#sk-container-id-1 label.sk-toggleable__label-arrow:hover:before {color: black;}#sk-container-id-1 div.sk-estimator:hover label.sk-toggleable__label-arrow:before {color: black;}#sk-container-id-1 div.sk-toggleable__content {max-height: 0;max-width: 0;overflow: hidden;text-align: left;background-color: #f0f8ff;}#sk-container-id-1 div.sk-toggleable__content pre {margin: 0.2em;color: black;border-radius: 0.25em;background-color: #f0f8ff;}#sk-container-id-1 input.sk-toggleable__control:checked~div.sk-toggleable__content {max-height: 200px;max-width: 100%;overflow: auto;}#sk-container-id-1 input.sk-toggleable__control:checked~label.sk-toggleable__label-arrow:before {content: \"▾\";}#sk-container-id-1 div.sk-estimator input.sk-toggleable__control:checked~label.sk-toggleable__label {background-color: #d4ebff;}#sk-container-id-1 div.sk-label input.sk-toggleable__control:checked~label.sk-toggleable__label {background-color: #d4ebff;}#sk-container-id-1 input.sk-hidden--visually {border: 0;clip: rect(1px 1px 1px 1px);clip: rect(1px, 1px, 1px, 1px);height: 1px;margin: -1px;overflow: hidden;padding: 0;position: absolute;width: 1px;}#sk-container-id-1 div.sk-estimator {font-family: monospace;background-color: #f0f8ff;border: 1px dotted black;border-radius: 0.25em;box-sizing: border-box;margin-bottom: 0.5em;}#sk-container-id-1 div.sk-estimator:hover {background-color: #d4ebff;}#sk-container-id-1 div.sk-parallel-item::after {content: \"\";width: 100%;border-bottom: 1px solid gray;flex-grow: 1;}#sk-container-id-1 div.sk-label:hover label.sk-toggleable__label {background-color: #d4ebff;}#sk-container-id-1 div.sk-serial::before {content: \"\";position: absolute;border-left: 1px solid gray;box-sizing: border-box;top: 0;bottom: 0;left: 50%;z-index: 0;}#sk-container-id-1 div.sk-serial {display: flex;flex-direction: column;align-items: center;background-color: white;padding-right: 0.2em;padding-left: 0.2em;position: relative;}#sk-container-id-1 div.sk-item {position: relative;z-index: 1;}#sk-container-id-1 div.sk-parallel {display: flex;align-items: stretch;justify-content: center;background-color: white;position: relative;}#sk-container-id-1 div.sk-item::before, #sk-container-id-1 div.sk-parallel-item::before {content: \"\";position: absolute;border-left: 1px solid gray;box-sizing: border-box;top: 0;bottom: 0;left: 50%;z-index: -1;}#sk-container-id-1 div.sk-parallel-item {display: flex;flex-direction: column;z-index: 1;position: relative;background-color: white;}#sk-container-id-1 div.sk-parallel-item:first-child::after {align-self: flex-end;width: 50%;}#sk-container-id-1 div.sk-parallel-item:last-child::after {align-self: flex-start;width: 50%;}#sk-container-id-1 div.sk-parallel-item:only-child::after {width: 0;}#sk-container-id-1 div.sk-dashed-wrapped {border: 1px dashed gray;margin: 0 0.4em 0.5em 0.4em;box-sizing: border-box;padding-bottom: 0.4em;background-color: white;}#sk-container-id-1 div.sk-label label {font-family: monospace;font-weight: bold;display: inline-block;line-height: 1.2em;}#sk-container-id-1 div.sk-label-container {text-align: center;}#sk-container-id-1 div.sk-container {/* jupyter's `normalize.less` sets `[hidden] { display: none; }` but bootstrap.min.css set `[hidden] { display: none !important; }` so we also need the `!important` here to be able to override the default hidden behavior on the sphinx rendered scikit-learn.org. See: https://github.com/scikit-learn/scikit-learn/issues/21755 */display: inline-block !important;position: relative;}#sk-container-id-1 div.sk-text-repr-fallback {display: none;}</style><div id=\"sk-container-id-1\" class=\"sk-top-container\"><div class=\"sk-text-repr-fallback\"><pre>LogisticRegression(random_state=0)</pre><b>In a Jupyter environment, please rerun this cell to show the HTML representation or trust the notebook. <br />On GitHub, the HTML representation is unable to render, please try loading this page with nbviewer.org.</b></div><div class=\"sk-container\" hidden><div class=\"sk-item\"><div class=\"sk-estimator sk-toggleable\"><input class=\"sk-toggleable__control sk-hidden--visually\" id=\"sk-estimator-id-1\" type=\"checkbox\" checked><label for=\"sk-estimator-id-1\" class=\"sk-toggleable__label sk-toggleable__label-arrow\">LogisticRegression</label><div class=\"sk-toggleable__content\"><pre>LogisticRegression(random_state=0)</pre></div></div></div></div></div>"
      ],
      "text/plain": [
       "LogisticRegression(random_state=0)"
      ]
     },
     "execution_count": 34,
     "metadata": {},
     "output_type": "execute_result"
    }
   ],
   "source": [
    "from sklearn.linear_model import LogisticRegression\n",
    "logclassifier = LogisticRegression(random_state=0)\n",
    "logclassifier.fit(X_train1, y_train1)"
   ]
  },
  {
   "cell_type": "code",
   "execution_count": null,
   "metadata": {
    "colab": {
     "base_uri": "https://localhost:8080/"
    },
    "id": "7uN63exrrnwP",
    "outputId": "aa2ccfac-65c9-48aa-c5ba-4d914d37b7d6"
   },
   "outputs": [
    {
     "data": {
      "text/plain": [
       "array([0, 0, 0, ..., 0, 0, 0])"
      ]
     },
     "execution_count": 35,
     "metadata": {},
     "output_type": "execute_result"
    }
   ],
   "source": [
    "logclassifier.predict(X_test1)"
   ]
  },
  {
   "cell_type": "code",
   "execution_count": null,
   "metadata": {
    "colab": {
     "base_uri": "https://localhost:8080/"
    },
    "id": "gyjB9vGprp3t",
    "outputId": "d2cda87c-36ef-4d12-eb65-e16a7d7800ab"
   },
   "outputs": [
    {
     "name": "stdout",
     "output_type": "stream",
     "text": [
      "Logistic regression accuracy is 0.853081\n"
     ]
    }
   ],
   "source": [
    "from sklearn.metrics import accuracy_score\n",
    "print(\"Logistic regression accuracy is %2.6f\" % accuracy_score(y_test1,logclassifier.predict(X_test1)))"
   ]
  },
  {
   "cell_type": "code",
   "execution_count": null,
   "metadata": {
    "id": "fv2COjWar0aK"
   },
   "outputs": [],
   "source": [
    "import itertools\n",
    "\n",
    "def plot_confusion_matrix(cm, classes,\n",
    "                          title='Confusion matrix',\n",
    "                          cmap=plt.cm.Blues):\n",
    "\n",
    "    plt.imshow(cm, interpolation='nearest', cmap=cmap)\n",
    "    plt.title(title)\n",
    "    plt.colorbar()\n",
    "    tick_marks = np.arange(len(classes))\n",
    "    plt.xticks(tick_marks, classes, rotation=45)\n",
    "    plt.yticks(tick_marks, classes)\n",
    "\n",
    "    thresh = cm.max() / 2.\n",
    "    for i, j in itertools.product(range(cm.shape[0]), range(cm.shape[1])):\n",
    "        plt.text(j, i, format(cm[i, j]),\n",
    "                 horizontalalignment=\"center\",\n",
    "                 color=\"white\" if cm[i, j] > thresh else \"black\")\n",
    "\n",
    "    plt.tight_layout()\n",
    "    plt.ylabel('True label')\n",
    "    plt.xlabel('Predicted label')"
   ]
  },
  {
   "cell_type": "code",
   "execution_count": null,
   "metadata": {
    "colab": {
     "base_uri": "https://localhost:8080/",
     "height": 570
    },
    "id": "v2DKQNPpr1q4",
    "outputId": "77e9f0f2-c3ff-4113-819e-f5b2d140cc55"
   },
   "outputs": [
    {
     "name": "stderr",
     "output_type": "stream",
     "text": [
      "findfont: Generic family 'sans-serif' not found because none of the following families were found: Arial, Liberation Sans, Bitstream Vera Sans, sans-serif\n",
      "findfont: Generic family 'sans-serif' not found because none of the following families were found: Arial, Liberation Sans, Bitstream Vera Sans, sans-serif\n",
      "findfont: Generic family 'sans-serif' not found because none of the following families were found: Arial, Liberation Sans, Bitstream Vera Sans, sans-serif\n",
      "findfont: Generic family 'sans-serif' not found because none of the following families were found: Arial, Liberation Sans, Bitstream Vera Sans, sans-serif\n",
      "findfont: Generic family 'sans-serif' not found because none of the following families were found: Arial, Liberation Sans, Bitstream Vera Sans, sans-serif\n",
      "findfont: Generic family 'sans-serif' not found because none of the following families were found: Arial, Liberation Sans, Bitstream Vera Sans, sans-serif\n",
      "findfont: Generic family 'sans-serif' not found because none of the following families were found: Arial, Liberation Sans, Bitstream Vera Sans, sans-serif\n",
      "findfont: Generic family 'sans-serif' not found because none of the following families were found: Arial, Liberation Sans, Bitstream Vera Sans, sans-serif\n",
      "findfont: Generic family 'sans-serif' not found because none of the following families were found: Arial, Liberation Sans, Bitstream Vera Sans, sans-serif\n",
      "findfont: Generic family 'sans-serif' not found because none of the following families were found: Arial, Liberation Sans, Bitstream Vera Sans, sans-serif\n",
      "findfont: Generic family 'sans-serif' not found because none of the following families were found: Arial, Liberation Sans, Bitstream Vera Sans, sans-serif\n",
      "findfont: Generic family 'sans-serif' not found because none of the following families were found: Arial, Liberation Sans, Bitstream Vera Sans, sans-serif\n",
      "findfont: Generic family 'sans-serif' not found because none of the following families were found: Arial, Liberation Sans, Bitstream Vera Sans, sans-serif\n",
      "findfont: Generic family 'sans-serif' not found because none of the following families were found: Arial, Liberation Sans, Bitstream Vera Sans, sans-serif\n",
      "findfont: Generic family 'sans-serif' not found because none of the following families were found: Arial, Liberation Sans, Bitstream Vera Sans, sans-serif\n",
      "findfont: Generic family 'sans-serif' not found because none of the following families were found: Arial, Liberation Sans, Bitstream Vera Sans, sans-serif\n",
      "findfont: Generic family 'sans-serif' not found because none of the following families were found: Arial, Liberation Sans, Bitstream Vera Sans, sans-serif\n",
      "findfont: Generic family 'sans-serif' not found because none of the following families were found: Arial, Liberation Sans, Bitstream Vera Sans, sans-serif\n",
      "findfont: Generic family 'sans-serif' not found because none of the following families were found: Arial, Liberation Sans, Bitstream Vera Sans, sans-serif\n",
      "findfont: Generic family 'sans-serif' not found because none of the following families were found: Arial, Liberation Sans, Bitstream Vera Sans, sans-serif\n",
      "findfont: Generic family 'sans-serif' not found because none of the following families were found: Arial, Liberation Sans, Bitstream Vera Sans, sans-serif\n",
      "findfont: Generic family 'sans-serif' not found because none of the following families were found: Arial, Liberation Sans, Bitstream Vera Sans, sans-serif\n",
      "findfont: Generic family 'sans-serif' not found because none of the following families were found: Arial, Liberation Sans, Bitstream Vera Sans, sans-serif\n",
      "findfont: Generic family 'sans-serif' not found because none of the following families were found: Arial, Liberation Sans, Bitstream Vera Sans, sans-serif\n",
      "findfont: Generic family 'sans-serif' not found because none of the following families were found: Arial, Liberation Sans, Bitstream Vera Sans, sans-serif\n",
      "findfont: Generic family 'sans-serif' not found because none of the following families were found: Arial, Liberation Sans, Bitstream Vera Sans, sans-serif\n",
      "findfont: Generic family 'sans-serif' not found because none of the following families were found: Arial, Liberation Sans, Bitstream Vera Sans, sans-serif\n",
      "findfont: Generic family 'sans-serif' not found because none of the following families were found: Arial, Liberation Sans, Bitstream Vera Sans, sans-serif\n",
      "findfont: Generic family 'sans-serif' not found because none of the following families were found: Arial, Liberation Sans, Bitstream Vera Sans, sans-serif\n",
      "findfont: Generic family 'sans-serif' not found because none of the following families were found: Arial, Liberation Sans, Bitstream Vera Sans, sans-serif\n",
      "findfont: Generic family 'sans-serif' not found because none of the following families were found: Arial, Liberation Sans, Bitstream Vera Sans, sans-serif\n",
      "findfont: Generic family 'sans-serif' not found because none of the following families were found: Arial, Liberation Sans, Bitstream Vera Sans, sans-serif\n",
      "findfont: Generic family 'sans-serif' not found because none of the following families were found: Arial, Liberation Sans, Bitstream Vera Sans, sans-serif\n",
      "findfont: Generic family 'sans-serif' not found because none of the following families were found: Arial, Liberation Sans, Bitstream Vera Sans, sans-serif\n",
      "findfont: Generic family 'sans-serif' not found because none of the following families were found: Arial, Liberation Sans, Bitstream Vera Sans, sans-serif\n",
      "findfont: Generic family 'sans-serif' not found because none of the following families were found: Arial, Liberation Sans, Bitstream Vera Sans, sans-serif\n",
      "findfont: Generic family 'sans-serif' not found because none of the following families were found: Arial, Liberation Sans, Bitstream Vera Sans, sans-serif\n",
      "findfont: Generic family 'sans-serif' not found because none of the following families were found: Arial, Liberation Sans, Bitstream Vera Sans, sans-serif\n",
      "findfont: Generic family 'sans-serif' not found because none of the following families were found: Arial, Liberation Sans, Bitstream Vera Sans, sans-serif\n",
      "findfont: Generic family 'sans-serif' not found because none of the following families were found: Arial, Liberation Sans, Bitstream Vera Sans, sans-serif\n",
      "findfont: Generic family 'sans-serif' not found because none of the following families were found: Arial, Liberation Sans, Bitstream Vera Sans, sans-serif\n",
      "findfont: Generic family 'sans-serif' not found because none of the following families were found: Arial, Liberation Sans, Bitstream Vera Sans, sans-serif\n",
      "findfont: Generic family 'sans-serif' not found because none of the following families were found: Arial, Liberation Sans, Bitstream Vera Sans, sans-serif\n",
      "findfont: Generic family 'sans-serif' not found because none of the following families were found: Arial, Liberation Sans, Bitstream Vera Sans, sans-serif\n",
      "findfont: Generic family 'sans-serif' not found because none of the following families were found: Arial, Liberation Sans, Bitstream Vera Sans, sans-serif\n",
      "findfont: Generic family 'sans-serif' not found because none of the following families were found: Arial, Liberation Sans, Bitstream Vera Sans, sans-serif\n",
      "findfont: Generic family 'sans-serif' not found because none of the following families were found: Arial, Liberation Sans, Bitstream Vera Sans, sans-serif\n",
      "findfont: Generic family 'sans-serif' not found because none of the following families were found: Arial, Liberation Sans, Bitstream Vera Sans, sans-serif\n",
      "findfont: Generic family 'sans-serif' not found because none of the following families were found: Arial, Liberation Sans, Bitstream Vera Sans, sans-serif\n",
      "findfont: Generic family 'sans-serif' not found because none of the following families were found: Arial, Liberation Sans, Bitstream Vera Sans, sans-serif\n",
      "findfont: Generic family 'sans-serif' not found because none of the following families were found: Arial, Liberation Sans, Bitstream Vera Sans, sans-serif\n",
      "findfont: Generic family 'sans-serif' not found because none of the following families were found: Arial, Liberation Sans, Bitstream Vera Sans, sans-serif\n",
      "findfont: Generic family 'sans-serif' not found because none of the following families were found: Arial, Liberation Sans, Bitstream Vera Sans, sans-serif\n"
     ]
    },
    {
     "data": {
      "image/png": "[encoded data removed]",
      "text/plain": [
       "<Figure size 800x550 with 2 Axes>"
      ]
     },
     "metadata": {},
     "output_type": "display_data"
    }
   ],
   "source": [
    "from sklearn.metrics import confusion_matrix\n",
    "cnf_matrix = confusion_matrix(y_test1, logclassifier.predict(X_test1))\n",
    "class_names = [0,1]\n",
    "plt.figure()\n",
    "plot_confusion_matrix(cnf_matrix\n",
    "                      , classes=class_names\n",
    "                      , title='Confusion matrix')\n",
    "plt.show()"
   ]
  },
  {
   "cell_type": "code",
   "execution_count": null,
   "metadata": {
    "colab": {
     "base_uri": "https://localhost:8080/"
    },
    "id": "ntDaiNxqsOfh",
    "outputId": "4801764e-2be6-40e8-d923-dfe96f4246cf"
   },
   "outputs": [
    {
     "name": "stdout",
     "output_type": "stream",
     "text": [
      "              precision    recall  f1-score   support\n",
      "\n",
      "           0       1.00      0.85      0.92      1440\n",
      "           1       0.13      0.86      0.23        37\n",
      "\n",
      "    accuracy                           0.85      1477\n",
      "   macro avg       0.56      0.86      0.57      1477\n",
      "weighted avg       0.97      0.85      0.90      1477\n",
      "\n"
     ]
    }
   ],
   "source": [
    "from sklearn.metrics import classification_report\n",
    "print(classification_report(y_test1, logclassifier.predict(X_test1) ))"
   ]
  },
  {
   "cell_type": "markdown",
   "metadata": {
    "id": "-4EnjJyodqfk"
   },
   "source": [
    "Logistic regression not exactly accurate in identifying potential VIP customers, is overly optimistic and predicts more customers to be potentially VIP than they actually are."
   ]
  },
  {
   "cell_type": "code",
   "execution_count": null,
   "metadata": {
    "colab": {
     "base_uri": "https://localhost:8080/"
    },
    "id": "VfJkp4uVRDwT",
    "outputId": "d6fca1de-8999-4e7a-d6c1-b98d11d1a091"
   },
   "outputs": [
    {
     "name": "stdout",
     "output_type": "stream",
     "text": [
      "0.8588213213213214\n"
     ]
    }
   ],
   "source": [
    "from sklearn.metrics import roc_auc_score\n",
    "logit_roc_auc=roc_auc_score(y_test1, logclassifier.predict(X_test1))\n",
    "print(logit_roc_auc)"
   ]
  },
  {
   "cell_type": "code",
   "execution_count": null,
   "metadata": {
    "id": "jP-OBgkQsQVg"
   },
   "outputs": [],
   "source": [
    "from sklearn.metrics import roc_curve\n",
    "fpr, tpr, thresholds = roc_curve(y_test1, logclassifier.predict_proba(X_test1)[:,1])"
   ]
  },
  {
   "cell_type": "code",
   "execution_count": null,
   "metadata": {
    "colab": {
     "base_uri": "https://localhost:8080/",
     "height": 524
    },
    "id": "dNCrj0VNQsEP",
    "outputId": "58e329f0-b29d-4b1f-9927-733082c77430"
   },
   "outputs": [
    {
     "name": "stderr",
     "output_type": "stream",
     "text": [
      "findfont: Generic family 'sans-serif' not found because none of the following families were found: Arial, Liberation Sans, Bitstream Vera Sans, sans-serif\n",
      "findfont: Generic family 'sans-serif' not found because none of the following families were found: Arial, Liberation Sans, Bitstream Vera Sans, sans-serif\n",
      "findfont: Generic family 'sans-serif' not found because none of the following families were found: Arial, Liberation Sans, Bitstream Vera Sans, sans-serif\n",
      "findfont: Generic family 'sans-serif' not found because none of the following families were found: Arial, Liberation Sans, Bitstream Vera Sans, sans-serif\n",
      "findfont: Generic family 'sans-serif' not found because none of the following families were found: Arial, Liberation Sans, Bitstream Vera Sans, sans-serif\n",
      "findfont: Generic family 'sans-serif' not found because none of the following families were found: Arial, Liberation Sans, Bitstream Vera Sans, sans-serif\n",
      "findfont: Generic family 'sans-serif' not found because none of the following families were found: Arial, Liberation Sans, Bitstream Vera Sans, sans-serif\n",
      "findfont: Generic family 'sans-serif' not found because none of the following families were found: Arial, Liberation Sans, Bitstream Vera Sans, sans-serif\n",
      "findfont: Generic family 'sans-serif' not found because none of the following families were found: Arial, Liberation Sans, Bitstream Vera Sans, sans-serif\n",
      "findfont: Generic family 'sans-serif' not found because none of the following families were found: Arial, Liberation Sans, Bitstream Vera Sans, sans-serif\n",
      "findfont: Generic family 'sans-serif' not found because none of the following families were found: Arial, Liberation Sans, Bitstream Vera Sans, sans-serif\n",
      "findfont: Generic family 'sans-serif' not found because none of the following families were found: Arial, Liberation Sans, Bitstream Vera Sans, sans-serif\n",
      "findfont: Generic family 'sans-serif' not found because none of the following families were found: Arial, Liberation Sans, Bitstream Vera Sans, sans-serif\n",
      "findfont: Generic family 'sans-serif' not found because none of the following families were found: Arial, Liberation Sans, Bitstream Vera Sans, sans-serif\n",
      "findfont: Generic family 'sans-serif' not found because none of the following families were found: Arial, Liberation Sans, Bitstream Vera Sans, sans-serif\n",
      "findfont: Generic family 'sans-serif' not found because none of the following families were found: Arial, Liberation Sans, Bitstream Vera Sans, sans-serif\n",
      "findfont: Generic family 'sans-serif' not found because none of the following families were found: Arial, Liberation Sans, Bitstream Vera Sans, sans-serif\n",
      "findfont: Generic family 'sans-serif' not found because none of the following families were found: Arial, Liberation Sans, Bitstream Vera Sans, sans-serif\n",
      "findfont: Generic family 'sans-serif' not found because none of the following families were found: Arial, Liberation Sans, Bitstream Vera Sans, sans-serif\n",
      "findfont: Generic family 'sans-serif' not found because none of the following families were found: Arial, Liberation Sans, Bitstream Vera Sans, sans-serif\n",
      "findfont: Generic family 'sans-serif' not found because none of the following families were found: Arial, Liberation Sans, Bitstream Vera Sans, sans-serif\n",
      "findfont: Generic family 'sans-serif' not found because none of the following families were found: Arial, Liberation Sans, Bitstream Vera Sans, sans-serif\n",
      "findfont: Generic family 'sans-serif' not found because none of the following families were found: Arial, Liberation Sans, Bitstream Vera Sans, sans-serif\n",
      "findfont: Generic family 'sans-serif' not found because none of the following families were found: Arial, Liberation Sans, Bitstream Vera Sans, sans-serif\n",
      "findfont: Generic family 'sans-serif' not found because none of the following families were found: Arial, Liberation Sans, Bitstream Vera Sans, sans-serif\n",
      "findfont: Generic family 'sans-serif' not found because none of the following families were found: Arial, Liberation Sans, Bitstream Vera Sans, sans-serif\n",
      "findfont: Generic family 'sans-serif' not found because none of the following families were found: Arial, Liberation Sans, Bitstream Vera Sans, sans-serif\n",
      "findfont: Generic family 'sans-serif' not found because none of the following families were found: Arial, Liberation Sans, Bitstream Vera Sans, sans-serif\n",
      "findfont: Generic family 'sans-serif' not found because none of the following families were found: Arial, Liberation Sans, Bitstream Vera Sans, sans-serif\n",
      "findfont: Generic family 'sans-serif' not found because none of the following families were found: Arial, Liberation Sans, Bitstream Vera Sans, sans-serif\n",
      "findfont: Generic family 'sans-serif' not found because none of the following families were found: Arial, Liberation Sans, Bitstream Vera Sans, sans-serif\n",
      "findfont: Generic family 'sans-serif' not found because none of the following families were found: Arial, Liberation Sans, Bitstream Vera Sans, sans-serif\n",
      "findfont: Generic family 'sans-serif' not found because none of the following families were found: Arial, Liberation Sans, Bitstream Vera Sans, sans-serif\n",
      "findfont: Generic family 'sans-serif' not found because none of the following families were found: Arial, Liberation Sans, Bitstream Vera Sans, sans-serif\n",
      "findfont: Generic family 'sans-serif' not found because none of the following families were found: Arial, Liberation Sans, Bitstream Vera Sans, sans-serif\n",
      "findfont: Generic family 'sans-serif' not found because none of the following families were found: Arial, Liberation Sans, Bitstream Vera Sans, sans-serif\n",
      "findfont: Generic family 'sans-serif' not found because none of the following families were found: Arial, Liberation Sans, Bitstream Vera Sans, sans-serif\n",
      "findfont: Generic family 'sans-serif' not found because none of the following families were found: Arial, Liberation Sans, Bitstream Vera Sans, sans-serif\n",
      "findfont: Generic family 'sans-serif' not found because none of the following families were found: Arial, Liberation Sans, Bitstream Vera Sans, sans-serif\n",
      "findfont: Generic family 'sans-serif' not found because none of the following families were found: Arial, Liberation Sans, Bitstream Vera Sans, sans-serif\n",
      "findfont: Generic family 'sans-serif' not found because none of the following families were found: Arial, Liberation Sans, Bitstream Vera Sans, sans-serif\n",
      "findfont: Generic family 'sans-serif' not found because none of the following families were found: Arial, Liberation Sans, Bitstream Vera Sans, sans-serif\n",
      "findfont: Generic family 'sans-serif' not found because none of the following families were found: Arial, Liberation Sans, Bitstream Vera Sans, sans-serif\n",
      "findfont: Generic family 'sans-serif' not found because none of the following families were found: Arial, Liberation Sans, Bitstream Vera Sans, sans-serif\n",
      "findfont: Generic family 'sans-serif' not found because none of the following families were found: Arial, Liberation Sans, Bitstream Vera Sans, sans-serif\n",
      "findfont: Generic family 'sans-serif' not found because none of the following families were found: Arial, Liberation Sans, Bitstream Vera Sans, sans-serif\n",
      "findfont: Generic family 'sans-serif' not found because none of the following families were found: Arial, Liberation Sans, Bitstream Vera Sans, sans-serif\n",
      "findfont: Generic family 'sans-serif' not found because none of the following families were found: Arial, Liberation Sans, Bitstream Vera Sans, sans-serif\n",
      "findfont: Generic family 'sans-serif' not found because none of the following families were found: Arial, Liberation Sans, Bitstream Vera Sans, sans-serif\n",
      "findfont: Generic family 'sans-serif' not found because none of the following families were found: Arial, Liberation Sans, Bitstream Vera Sans, sans-serif\n",
      "findfont: Generic family 'sans-serif' not found because none of the following families were found: Arial, Liberation Sans, Bitstream Vera Sans, sans-serif\n",
      "findfont: Generic family 'sans-serif' not found because none of the following families were found: Arial, Liberation Sans, Bitstream Vera Sans, sans-serif\n",
      "findfont: Generic family 'sans-serif' not found because none of the following families were found: Arial, Liberation Sans, Bitstream Vera Sans, sans-serif\n",
      "findfont: Generic family 'sans-serif' not found because none of the following families were found: Arial, Liberation Sans, Bitstream Vera Sans, sans-serif\n",
      "findfont: Generic family 'sans-serif' not found because none of the following families were found: Arial, Liberation Sans, Bitstream Vera Sans, sans-serif\n"
     ]
    },
    {
     "data": {
      "image/png": "[encoded data removed]",
      "text/plain": [
       "<Figure size 800x550 with 1 Axes>"
      ]
     },
     "metadata": {},
     "output_type": "display_data"
    }
   ],
   "source": [
    "plt.figure()\n",
    "plt.plot(fpr, tpr, label='ROC curve (area = %0.2f)' % logit_roc_auc)\n",
    "plt.plot([0, 1], [0, 1], 'k--')\n",
    "plt.xlim([0.0, 1.0])\n",
    "plt.ylim([0.0, 1.05])\n",
    "plt.xlabel('False Positive Rate')\n",
    "plt.ylabel('True Positive Rate')\n",
    "plt.title('Logistic Regression ROC-AUC')\n",
    "plt.legend(loc=\"lower right\")\n",
    "plt.show()"
   ]
  },
  {
   "cell_type": "markdown",
   "metadata": {
    "id": "kr9akB8bQ33X"
   },
   "source": [
    "## Random Forest"
   ]
  },
  {
   "cell_type": "code",
   "execution_count": null,
   "metadata": {
    "id": "-Lk4DvJRQ17c"
   },
   "outputs": [],
   "source": [
    "X_train2, X_test2, y_train2, y_test2 = train_test_split(X, y, test_size=0.3, random_state=0)\n",
    "os= SMOTE(random_state=0)\n",
    "X_train2, y_train2 = os.fit_resample(X_train2, y_train2)\n"
   ]
  },
  {
   "cell_type": "code",
   "execution_count": null,
   "metadata": {
    "colab": {
     "base_uri": "https://localhost:8080/",
     "height": 80
    },
    "id": "CPYwZyqERKjv",
    "outputId": "f9871dad-3246-41b0-b2bf-6d46f8eb0a50"
   },
   "outputs": [
    {
     "data": {
      "text/html": [
       "<style>#sk-container-id-2 {color: black;}#sk-container-id-2 pre{padding: 0;}#sk-container-id-2 div.sk-toggleable {background-color: white;}#sk-container-id-2 label.sk-toggleable__label {cursor: pointer;display: block;width: 100%;margin-bottom: 0;padding: 0.3em;box-sizing: border-box;text-align: center;}#sk-container-id-2 label.sk-toggleable__label-arrow:before {content: \"▸\";float: left;margin-right: 0.25em;color: #696969;}#sk-container-id-2 label.sk-toggleable__label-arrow:hover:before {color: black;}#sk-container-id-2 div.sk-estimator:hover label.sk-toggleable__label-arrow:before {color: black;}#sk-container-id-2 div.sk-toggleable__content {max-height: 0;max-width: 0;overflow: hidden;text-align: left;background-color: #f0f8ff;}#sk-container-id-2 div.sk-toggleable__content pre {margin: 0.2em;color: black;border-radius: 0.25em;background-color: #f0f8ff;}#sk-container-id-2 input.sk-toggleable__control:checked~div.sk-toggleable__content {max-height: 200px;max-width: 100%;overflow: auto;}#sk-container-id-2 input.sk-toggleable__control:checked~label.sk-toggleable__label-arrow:before {content: \"▾\";}#sk-container-id-2 div.sk-estimator input.sk-toggleable__control:checked~label.sk-toggleable__label {background-color: #d4ebff;}#sk-container-id-2 div.sk-label input.sk-toggleable__control:checked~label.sk-toggleable__label {background-color: #d4ebff;}#sk-container-id-2 input.sk-hidden--visually {border: 0;clip: rect(1px 1px 1px 1px);clip: rect(1px, 1px, 1px, 1px);height: 1px;margin: -1px;overflow: hidden;padding: 0;position: absolute;width: 1px;}#sk-container-id-2 div.sk-estimator {font-family: monospace;background-color: #f0f8ff;border: 1px dotted black;border-radius: 0.25em;box-sizing: border-box;margin-bottom: 0.5em;}#sk-container-id-2 div.sk-estimator:hover {background-color: #d4ebff;}#sk-container-id-2 div.sk-parallel-item::after {content: \"\";width: 100%;border-bottom: 1px solid gray;flex-grow: 1;}#sk-container-id-2 div.sk-label:hover label.sk-toggleable__label {background-color: #d4ebff;}#sk-container-id-2 div.sk-serial::before {content: \"\";position: absolute;border-left: 1px solid gray;box-sizing: border-box;top: 0;bottom: 0;left: 50%;z-index: 0;}#sk-container-id-2 div.sk-serial {display: flex;flex-direction: column;align-items: center;background-color: white;padding-right: 0.2em;padding-left: 0.2em;position: relative;}#sk-container-id-2 div.sk-item {position: relative;z-index: 1;}#sk-container-id-2 div.sk-parallel {display: flex;align-items: stretch;justify-content: center;background-color: white;position: relative;}#sk-container-id-2 div.sk-item::before, #sk-container-id-2 div.sk-parallel-item::before {content: \"\";position: absolute;border-left: 1px solid gray;box-sizing: border-box;top: 0;bottom: 0;left: 50%;z-index: -1;}#sk-container-id-2 div.sk-parallel-item {display: flex;flex-direction: column;z-index: 1;position: relative;background-color: white;}#sk-container-id-2 div.sk-parallel-item:first-child::after {align-self: flex-end;width: 50%;}#sk-container-id-2 div.sk-parallel-item:last-child::after {align-self: flex-start;width: 50%;}#sk-container-id-2 div.sk-parallel-item:only-child::after {width: 0;}#sk-container-id-2 div.sk-dashed-wrapped {border: 1px dashed gray;margin: 0 0.4em 0.5em 0.4em;box-sizing: border-box;padding-bottom: 0.4em;background-color: white;}#sk-container-id-2 div.sk-label label {font-family: monospace;font-weight: bold;display: inline-block;line-height: 1.2em;}#sk-container-id-2 div.sk-label-container {text-align: center;}#sk-container-id-2 div.sk-container {/* jupyter's `normalize.less` sets `[hidden] { display: none; }` but bootstrap.min.css set `[hidden] { display: none !important; }` so we also need the `!important` here to be able to override the default hidden behavior on the sphinx rendered scikit-learn.org. See: https://github.com/scikit-learn/scikit-learn/issues/21755 */display: inline-block !important;position: relative;}#sk-container-id-2 div.sk-text-repr-fallback {display: none;}</style><div id=\"sk-container-id-2\" class=\"sk-top-container\"><div class=\"sk-text-repr-fallback\"><pre>RandomForestClassifier(random_state=0)</pre><b>In a Jupyter environment, please rerun this cell to show the HTML representation or trust the notebook. <br />On GitHub, the HTML representation is unable to render, please try loading this page with nbviewer.org.</b></div><div class=\"sk-container\" hidden><div class=\"sk-item\"><div class=\"sk-estimator sk-toggleable\"><input class=\"sk-toggleable__control sk-hidden--visually\" id=\"sk-estimator-id-2\" type=\"checkbox\" checked><label for=\"sk-estimator-id-2\" class=\"sk-toggleable__label sk-toggleable__label-arrow\">RandomForestClassifier</label><div class=\"sk-toggleable__content\"><pre>RandomForestClassifier(random_state=0)</pre></div></div></div></div></div>"
      ],
      "text/plain": [
       "RandomForestClassifier(random_state=0)"
      ]
     },
     "execution_count": 44,
     "metadata": {},
     "output_type": "execute_result"
    }
   ],
   "source": [
    "from sklearn.ensemble import RandomForestClassifier\n",
    "rfclassifier= RandomForestClassifier(random_state=0)\n",
    "rfclassifier.fit(X_train2, y_train2)"
   ]
  },
  {
   "cell_type": "code",
   "execution_count": null,
   "metadata": {
    "colab": {
     "base_uri": "https://localhost:8080/"
    },
    "id": "2oDNX3PORMrS",
    "outputId": "a5742a09-80dd-4e01-a631-b78377feca51"
   },
   "outputs": [
    {
     "data": {
      "text/plain": [
       "array([0, 0, 0, ..., 0, 0, 0])"
      ]
     },
     "execution_count": 45,
     "metadata": {},
     "output_type": "execute_result"
    }
   ],
   "source": [
    "rfclassifier.predict(X_test2)"
   ]
  },
  {
   "cell_type": "code",
   "execution_count": null,
   "metadata": {
    "colab": {
     "base_uri": "https://localhost:8080/"
    },
    "id": "05oLnxcFRQty",
    "outputId": "4db9d652-64cf-4107-b72b-9c9db86b138e"
   },
   "outputs": [
    {
     "name": "stdout",
     "output_type": "stream",
     "text": [
      "Random Forests accuracy is 0.966148\n"
     ]
    }
   ],
   "source": [
    "from sklearn.metrics import accuracy_score\n",
    "print(\"Random Forests accuracy is %2.6f\" % accuracy_score(y_test2,rfclassifier.predict(X_test2)))"
   ]
  },
  {
   "cell_type": "code",
   "execution_count": null,
   "metadata": {
    "colab": {
     "base_uri": "https://localhost:8080/",
     "height": 570
    },
    "id": "xiw1YLWbRS3o",
    "outputId": "73e4c8e9-801c-4370-e3c5-ce8d814fd5ee"
   },
   "outputs": [
    {
     "name": "stderr",
     "output_type": "stream",
     "text": [
      "findfont: Generic family 'sans-serif' not found because none of the following families were found: Arial, Liberation Sans, Bitstream Vera Sans, sans-serif\n",
      "findfont: Generic family 'sans-serif' not found because none of the following families were found: Arial, Liberation Sans, Bitstream Vera Sans, sans-serif\n",
      "findfont: Generic family 'sans-serif' not found because none of the following families were found: Arial, Liberation Sans, Bitstream Vera Sans, sans-serif\n",
      "findfont: Generic family 'sans-serif' not found because none of the following families were found: Arial, Liberation Sans, Bitstream Vera Sans, sans-serif\n",
      "findfont: Generic family 'sans-serif' not found because none of the following families were found: Arial, Liberation Sans, Bitstream Vera Sans, sans-serif\n",
      "findfont: Generic family 'sans-serif' not found because none of the following families were found: Arial, Liberation Sans, Bitstream Vera Sans, sans-serif\n",
      "findfont: Generic family 'sans-serif' not found because none of the following families were found: Arial, Liberation Sans, Bitstream Vera Sans, sans-serif\n",
      "findfont: Generic family 'sans-serif' not found because none of the following families were found: Arial, Liberation Sans, Bitstream Vera Sans, sans-serif\n",
      "findfont: Generic family 'sans-serif' not found because none of the following families were found: Arial, Liberation Sans, Bitstream Vera Sans, sans-serif\n",
      "findfont: Generic family 'sans-serif' not found because none of the following families were found: Arial, Liberation Sans, Bitstream Vera Sans, sans-serif\n",
      "findfont: Generic family 'sans-serif' not found because none of the following families were found: Arial, Liberation Sans, Bitstream Vera Sans, sans-serif\n",
      "findfont: Generic family 'sans-serif' not found because none of the following families were found: Arial, Liberation Sans, Bitstream Vera Sans, sans-serif\n",
      "findfont: Generic family 'sans-serif' not found because none of the following families were found: Arial, Liberation Sans, Bitstream Vera Sans, sans-serif\n",
      "findfont: Generic family 'sans-serif' not found because none of the following families were found: Arial, Liberation Sans, Bitstream Vera Sans, sans-serif\n",
      "findfont: Generic family 'sans-serif' not found because none of the following families were found: Arial, Liberation Sans, Bitstream Vera Sans, sans-serif\n",
      "findfont: Generic family 'sans-serif' not found because none of the following families were found: Arial, Liberation Sans, Bitstream Vera Sans, sans-serif\n",
      "findfont: Generic family 'sans-serif' not found because none of the following families were found: Arial, Liberation Sans, Bitstream Vera Sans, sans-serif\n",
      "findfont: Generic family 'sans-serif' not found because none of the following families were found: Arial, Liberation Sans, Bitstream Vera Sans, sans-serif\n",
      "findfont: Generic family 'sans-serif' not found because none of the following families were found: Arial, Liberation Sans, Bitstream Vera Sans, sans-serif\n",
      "findfont: Generic family 'sans-serif' not found because none of the following families were found: Arial, Liberation Sans, Bitstream Vera Sans, sans-serif\n",
      "findfont: Generic family 'sans-serif' not found because none of the following families were found: Arial, Liberation Sans, Bitstream Vera Sans, sans-serif\n",
      "findfont: Generic family 'sans-serif' not found because none of the following families were found: Arial, Liberation Sans, Bitstream Vera Sans, sans-serif\n",
      "findfont: Generic family 'sans-serif' not found because none of the following families were found: Arial, Liberation Sans, Bitstream Vera Sans, sans-serif\n",
      "findfont: Generic family 'sans-serif' not found because none of the following families were found: Arial, Liberation Sans, Bitstream Vera Sans, sans-serif\n",
      "findfont: Generic family 'sans-serif' not found because none of the following families were found: Arial, Liberation Sans, Bitstream Vera Sans, sans-serif\n",
      "findfont: Generic family 'sans-serif' not found because none of the following families were found: Arial, Liberation Sans, Bitstream Vera Sans, sans-serif\n",
      "findfont: Generic family 'sans-serif' not found because none of the following families were found: Arial, Liberation Sans, Bitstream Vera Sans, sans-serif\n",
      "findfont: Generic family 'sans-serif' not found because none of the following families were found: Arial, Liberation Sans, Bitstream Vera Sans, sans-serif\n",
      "findfont: Generic family 'sans-serif' not found because none of the following families were found: Arial, Liberation Sans, Bitstream Vera Sans, sans-serif\n",
      "findfont: Generic family 'sans-serif' not found because none of the following families were found: Arial, Liberation Sans, Bitstream Vera Sans, sans-serif\n",
      "findfont: Generic family 'sans-serif' not found because none of the following families were found: Arial, Liberation Sans, Bitstream Vera Sans, sans-serif\n",
      "findfont: Generic family 'sans-serif' not found because none of the following families were found: Arial, Liberation Sans, Bitstream Vera Sans, sans-serif\n",
      "findfont: Generic family 'sans-serif' not found because none of the following families were found: Arial, Liberation Sans, Bitstream Vera Sans, sans-serif\n",
      "findfont: Generic family 'sans-serif' not found because none of the following families were found: Arial, Liberation Sans, Bitstream Vera Sans, sans-serif\n",
      "findfont: Generic family 'sans-serif' not found because none of the following families were found: Arial, Liberation Sans, Bitstream Vera Sans, sans-serif\n",
      "findfont: Generic family 'sans-serif' not found because none of the following families were found: Arial, Liberation Sans, Bitstream Vera Sans, sans-serif\n",
      "findfont: Generic family 'sans-serif' not found because none of the following families were found: Arial, Liberation Sans, Bitstream Vera Sans, sans-serif\n",
      "findfont: Generic family 'sans-serif' not found because none of the following families were found: Arial, Liberation Sans, Bitstream Vera Sans, sans-serif\n",
      "findfont: Generic family 'sans-serif' not found because none of the following families were found: Arial, Liberation Sans, Bitstream Vera Sans, sans-serif\n",
      "findfont: Generic family 'sans-serif' not found because none of the following families were found: Arial, Liberation Sans, Bitstream Vera Sans, sans-serif\n",
      "findfont: Generic family 'sans-serif' not found because none of the following families were found: Arial, Liberation Sans, Bitstream Vera Sans, sans-serif\n",
      "findfont: Generic family 'sans-serif' not found because none of the following families were found: Arial, Liberation Sans, Bitstream Vera Sans, sans-serif\n",
      "findfont: Generic family 'sans-serif' not found because none of the following families were found: Arial, Liberation Sans, Bitstream Vera Sans, sans-serif\n",
      "findfont: Generic family 'sans-serif' not found because none of the following families were found: Arial, Liberation Sans, Bitstream Vera Sans, sans-serif\n",
      "findfont: Generic family 'sans-serif' not found because none of the following families were found: Arial, Liberation Sans, Bitstream Vera Sans, sans-serif\n",
      "findfont: Generic family 'sans-serif' not found because none of the following families were found: Arial, Liberation Sans, Bitstream Vera Sans, sans-serif\n",
      "findfont: Generic family 'sans-serif' not found because none of the following families were found: Arial, Liberation Sans, Bitstream Vera Sans, sans-serif\n",
      "findfont: Generic family 'sans-serif' not found because none of the following families were found: Arial, Liberation Sans, Bitstream Vera Sans, sans-serif\n",
      "findfont: Generic family 'sans-serif' not found because none of the following families were found: Arial, Liberation Sans, Bitstream Vera Sans, sans-serif\n",
      "findfont: Generic family 'sans-serif' not found because none of the following families were found: Arial, Liberation Sans, Bitstream Vera Sans, sans-serif\n",
      "findfont: Generic family 'sans-serif' not found because none of the following families were found: Arial, Liberation Sans, Bitstream Vera Sans, sans-serif\n",
      "findfont: Generic family 'sans-serif' not found because none of the following families were found: Arial, Liberation Sans, Bitstream Vera Sans, sans-serif\n",
      "findfont: Generic family 'sans-serif' not found because none of the following families were found: Arial, Liberation Sans, Bitstream Vera Sans, sans-serif\n",
      "findfont: Generic family 'sans-serif' not found because none of the following families were found: Arial, Liberation Sans, Bitstream Vera Sans, sans-serif\n",
      "findfont: Generic family 'sans-serif' not found because none of the following families were found: Arial, Liberation Sans, Bitstream Vera Sans, sans-serif\n",
      "findfont: Generic family 'sans-serif' not found because none of the following families were found: Arial, Liberation Sans, Bitstream Vera Sans, sans-serif\n"
     ]
    },
    {
     "data": {
      "image/png": "[encoded data removed]",
      "text/plain": [
       "<Figure size 800x550 with 2 Axes>"
      ]
     },
     "metadata": {},
     "output_type": "display_data"
    }
   ],
   "source": [
    "from sklearn.metrics import confusion_matrix\n",
    "cnf_matrix = confusion_matrix(y_test2, rfclassifier.predict(X_test2))\n",
    "\n",
    "class_names = [0,1]\n",
    "plt.figure()\n",
    "plot_confusion_matrix(cnf_matrix\n",
    "                      , classes=class_names\n",
    "                      , title='Confusion matrix')\n",
    "plt.show()"
   ]
  },
  {
   "cell_type": "code",
   "execution_count": null,
   "metadata": {
    "colab": {
     "base_uri": "https://localhost:8080/"
    },
    "id": "BGzS_DMqRTSw",
    "outputId": "b0b234d8-52ee-4dd8-c230-de9f81ff3dc0"
   },
   "outputs": [
    {
     "name": "stdout",
     "output_type": "stream",
     "text": [
      "              precision    recall  f1-score   support\n",
      "\n",
      "           0       0.99      0.98      0.98      1440\n",
      "           1       0.37      0.49      0.42        37\n",
      "\n",
      "    accuracy                           0.97      1477\n",
      "   macro avg       0.68      0.73      0.70      1477\n",
      "weighted avg       0.97      0.97      0.97      1477\n",
      "\n"
     ]
    }
   ],
   "source": [
    "from sklearn.metrics import classification_report\n",
    "print(classification_report(y_test2, rfclassifier.predict(X_test2) ))"
   ]
  },
  {
   "cell_type": "markdown",
   "metadata": {
    "id": "ZM6KplX_eDza"
   },
   "source": [
    "Random forest fares better, and is able to more accurately predict customers that will become VIP in a year, however it has a lower recall score."
   ]
  },
  {
   "cell_type": "code",
   "execution_count": null,
   "metadata": {
    "colab": {
     "base_uri": "https://localhost:8080/"
    },
    "id": "hqgIt1VqRnz0",
    "outputId": "72e81197-bc5f-41e0-c5cb-cdfa429963b3"
   },
   "outputs": [
    {
     "name": "stdout",
     "output_type": "stream",
     "text": [
      "0.7324793543543543\n"
     ]
    }
   ],
   "source": [
    "from sklearn.metrics import roc_auc_score\n",
    "rf_roc_auc=roc_auc_score(y_test2, rfclassifier.predict(X_test2))\n",
    "print(rf_roc_auc)"
   ]
  },
  {
   "cell_type": "code",
   "execution_count": null,
   "metadata": {
    "id": "q4-YvkNWRih0"
   },
   "outputs": [],
   "source": [
    "from sklearn.metrics import roc_curve\n",
    "fpr, tpr, thresholds = roc_curve(y_test2, rfclassifier.predict_proba(X_test2)[:,1])"
   ]
  },
  {
   "cell_type": "code",
   "execution_count": null,
   "metadata": {
    "colab": {
     "base_uri": "https://localhost:8080/",
     "height": 524
    },
    "id": "PXzvF72QRkjy",
    "outputId": "aa302b23-0803-4aa9-9718-6a57513ddeac"
   },
   "outputs": [
    {
     "name": "stderr",
     "output_type": "stream",
     "text": [
      "findfont: Generic family 'sans-serif' not found because none of the following families were found: Arial, Liberation Sans, Bitstream Vera Sans, sans-serif\n",
      "findfont: Generic family 'sans-serif' not found because none of the following families were found: Arial, Liberation Sans, Bitstream Vera Sans, sans-serif\n",
      "findfont: Generic family 'sans-serif' not found because none of the following families were found: Arial, Liberation Sans, Bitstream Vera Sans, sans-serif\n",
      "findfont: Generic family 'sans-serif' not found because none of the following families were found: Arial, Liberation Sans, Bitstream Vera Sans, sans-serif\n",
      "findfont: Generic family 'sans-serif' not found because none of the following families were found: Arial, Liberation Sans, Bitstream Vera Sans, sans-serif\n",
      "findfont: Generic family 'sans-serif' not found because none of the following families were found: Arial, Liberation Sans, Bitstream Vera Sans, sans-serif\n",
      "findfont: Generic family 'sans-serif' not found because none of the following families were found: Arial, Liberation Sans, Bitstream Vera Sans, sans-serif\n",
      "findfont: Generic family 'sans-serif' not found because none of the following families were found: Arial, Liberation Sans, Bitstream Vera Sans, sans-serif\n",
      "findfont: Generic family 'sans-serif' not found because none of the following families were found: Arial, Liberation Sans, Bitstream Vera Sans, sans-serif\n",
      "findfont: Generic family 'sans-serif' not found because none of the following families were found: Arial, Liberation Sans, Bitstream Vera Sans, sans-serif\n",
      "findfont: Generic family 'sans-serif' not found because none of the following families were found: Arial, Liberation Sans, Bitstream Vera Sans, sans-serif\n",
      "findfont: Generic family 'sans-serif' not found because none of the following families were found: Arial, Liberation Sans, Bitstream Vera Sans, sans-serif\n",
      "findfont: Generic family 'sans-serif' not found because none of the following families were found: Arial, Liberation Sans, Bitstream Vera Sans, sans-serif\n",
      "findfont: Generic family 'sans-serif' not found because none of the following families were found: Arial, Liberation Sans, Bitstream Vera Sans, sans-serif\n",
      "findfont: Generic family 'sans-serif' not found because none of the following families were found: Arial, Liberation Sans, Bitstream Vera Sans, sans-serif\n",
      "findfont: Generic family 'sans-serif' not found because none of the following families were found: Arial, Liberation Sans, Bitstream Vera Sans, sans-serif\n",
      "findfont: Generic family 'sans-serif' not found because none of the following families were found: Arial, Liberation Sans, Bitstream Vera Sans, sans-serif\n",
      "findfont: Generic family 'sans-serif' not found because none of the following families were found: Arial, Liberation Sans, Bitstream Vera Sans, sans-serif\n",
      "findfont: Generic family 'sans-serif' not found because none of the following families were found: Arial, Liberation Sans, Bitstream Vera Sans, sans-serif\n",
      "findfont: Generic family 'sans-serif' not found because none of the following families were found: Arial, Liberation Sans, Bitstream Vera Sans, sans-serif\n",
      "findfont: Generic family 'sans-serif' not found because none of the following families were found: Arial, Liberation Sans, Bitstream Vera Sans, sans-serif\n",
      "findfont: Generic family 'sans-serif' not found because none of the following families were found: Arial, Liberation Sans, Bitstream Vera Sans, sans-serif\n",
      "findfont: Generic family 'sans-serif' not found because none of the following families were found: Arial, Liberation Sans, Bitstream Vera Sans, sans-serif\n",
      "findfont: Generic family 'sans-serif' not found because none of the following families were found: Arial, Liberation Sans, Bitstream Vera Sans, sans-serif\n",
      "findfont: Generic family 'sans-serif' not found because none of the following families were found: Arial, Liberation Sans, Bitstream Vera Sans, sans-serif\n",
      "findfont: Generic family 'sans-serif' not found because none of the following families were found: Arial, Liberation Sans, Bitstream Vera Sans, sans-serif\n",
      "findfont: Generic family 'sans-serif' not found because none of the following families were found: Arial, Liberation Sans, Bitstream Vera Sans, sans-serif\n",
      "findfont: Generic family 'sans-serif' not found because none of the following families were found: Arial, Liberation Sans, Bitstream Vera Sans, sans-serif\n",
      "findfont: Generic family 'sans-serif' not found because none of the following families were found: Arial, Liberation Sans, Bitstream Vera Sans, sans-serif\n",
      "findfont: Generic family 'sans-serif' not found because none of the following families were found: Arial, Liberation Sans, Bitstream Vera Sans, sans-serif\n",
      "findfont: Generic family 'sans-serif' not found because none of the following families were found: Arial, Liberation Sans, Bitstream Vera Sans, sans-serif\n",
      "findfont: Generic family 'sans-serif' not found because none of the following families were found: Arial, Liberation Sans, Bitstream Vera Sans, sans-serif\n",
      "findfont: Generic family 'sans-serif' not found because none of the following families were found: Arial, Liberation Sans, Bitstream Vera Sans, sans-serif\n",
      "findfont: Generic family 'sans-serif' not found because none of the following families were found: Arial, Liberation Sans, Bitstream Vera Sans, sans-serif\n",
      "findfont: Generic family 'sans-serif' not found because none of the following families were found: Arial, Liberation Sans, Bitstream Vera Sans, sans-serif\n",
      "findfont: Generic family 'sans-serif' not found because none of the following families were found: Arial, Liberation Sans, Bitstream Vera Sans, sans-serif\n",
      "findfont: Generic family 'sans-serif' not found because none of the following families were found: Arial, Liberation Sans, Bitstream Vera Sans, sans-serif\n",
      "findfont: Generic family 'sans-serif' not found because none of the following families were found: Arial, Liberation Sans, Bitstream Vera Sans, sans-serif\n",
      "findfont: Generic family 'sans-serif' not found because none of the following families were found: Arial, Liberation Sans, Bitstream Vera Sans, sans-serif\n",
      "findfont: Generic family 'sans-serif' not found because none of the following families were found: Arial, Liberation Sans, Bitstream Vera Sans, sans-serif\n",
      "findfont: Generic family 'sans-serif' not found because none of the following families were found: Arial, Liberation Sans, Bitstream Vera Sans, sans-serif\n",
      "findfont: Generic family 'sans-serif' not found because none of the following families were found: Arial, Liberation Sans, Bitstream Vera Sans, sans-serif\n",
      "findfont: Generic family 'sans-serif' not found because none of the following families were found: Arial, Liberation Sans, Bitstream Vera Sans, sans-serif\n",
      "findfont: Generic family 'sans-serif' not found because none of the following families were found: Arial, Liberation Sans, Bitstream Vera Sans, sans-serif\n",
      "findfont: Generic family 'sans-serif' not found because none of the following families were found: Arial, Liberation Sans, Bitstream Vera Sans, sans-serif\n",
      "findfont: Generic family 'sans-serif' not found because none of the following families were found: Arial, Liberation Sans, Bitstream Vera Sans, sans-serif\n",
      "findfont: Generic family 'sans-serif' not found because none of the following families were found: Arial, Liberation Sans, Bitstream Vera Sans, sans-serif\n",
      "findfont: Generic family 'sans-serif' not found because none of the following families were found: Arial, Liberation Sans, Bitstream Vera Sans, sans-serif\n",
      "findfont: Generic family 'sans-serif' not found because none of the following families were found: Arial, Liberation Sans, Bitstream Vera Sans, sans-serif\n",
      "findfont: Generic family 'sans-serif' not found because none of the following families were found: Arial, Liberation Sans, Bitstream Vera Sans, sans-serif\n",
      "findfont: Generic family 'sans-serif' not found because none of the following families were found: Arial, Liberation Sans, Bitstream Vera Sans, sans-serif\n",
      "findfont: Generic family 'sans-serif' not found because none of the following families were found: Arial, Liberation Sans, Bitstream Vera Sans, sans-serif\n",
      "findfont: Generic family 'sans-serif' not found because none of the following families were found: Arial, Liberation Sans, Bitstream Vera Sans, sans-serif\n",
      "findfont: Generic family 'sans-serif' not found because none of the following families were found: Arial, Liberation Sans, Bitstream Vera Sans, sans-serif\n",
      "findfont: Generic family 'sans-serif' not found because none of the following families were found: Arial, Liberation Sans, Bitstream Vera Sans, sans-serif\n"
     ]
    },
    {
     "data": {
      "image/png": "[encoded data removed]",
      "text/plain": [
       "<Figure size 800x550 with 1 Axes>"
      ]
     },
     "metadata": {},
     "output_type": "display_data"
    }
   ],
   "source": [
    "plt.figure()\n",
    "plt.plot(fpr, tpr, label='ROC curve (area = %0.2f)' % rf_roc_auc)\n",
    "plt.plot([0, 1], [0, 1], 'k--')\n",
    "plt.xlim([0.0, 1.0])\n",
    "plt.ylim([0.0, 1.05])\n",
    "plt.xlabel('False Positive Rate')\n",
    "plt.ylabel('True Positive Rate')\n",
    "plt.title('Random Forests ROC-AUC')\n",
    "plt.legend(loc=\"lower right\")\n",
    "plt.show()"
   ]
  },
  {
   "cell_type": "markdown",
   "metadata": {
    "id": "DaIPXyipTWzV"
   },
   "source": [
    "# Cross Validation of models"
   ]
  },
  {
   "cell_type": "code",
   "execution_count": null,
   "metadata": {
    "id": "BkVek3gJTgAO"
   },
   "outputs": [],
   "source": [
    "from sklearn.metrics import recall_score\n",
    "from sklearn.metrics import precision_score\n",
    "from sklearn.metrics import classification_report"
   ]
  },
  {
   "cell_type": "code",
   "execution_count": null,
   "metadata": {
    "id": "-4xgFwP5TaTv"
   },
   "outputs": [],
   "source": [
    "from sklearn.model_selection import KFold\n",
    "kf = KFold(n_splits=10,shuffle=True, random_state=21)\n",
    "for train_index, test_index in kf.split(X):\n",
    "    X_train, X_test = X.iloc[train_index], X.iloc[test_index]\n",
    "    y_train, y_test = y.iloc[train_index], y.iloc[test_index]\n",
    "    X_train, y_train = os.fit_resample(X_train, y_train)"
   ]
  },
  {
   "cell_type": "code",
   "execution_count": null,
   "metadata": {
    "colab": {
     "base_uri": "https://localhost:8080/"
    },
    "id": "wy86HSySTccG",
    "outputId": "2c248a0f-b277-45df-f366-0cab81ae18f0"
   },
   "outputs": [
    {
     "data": {
      "text/plain": [
       "(array([0, 1]), array([4337, 4337]))"
      ]
     },
     "execution_count": 54,
     "metadata": {},
     "output_type": "execute_result"
    }
   ],
   "source": [
    "np.unique(y_train, return_counts=True)"
   ]
  },
  {
   "cell_type": "code",
   "execution_count": null,
   "metadata": {
    "colab": {
     "base_uri": "https://localhost:8080/"
    },
    "id": "MVdtZ_0ATeBI",
    "outputId": "17204b48-33e0-4606-8356-0175fbaa2e8b"
   },
   "outputs": [
    {
     "data": {
      "text/plain": [
       "(array([0, 1]), array([477,  15]))"
      ]
     },
     "execution_count": 55,
     "metadata": {},
     "output_type": "execute_result"
    }
   ],
   "source": [
    "np.unique(y_test, return_counts=True)"
   ]
  },
  {
   "cell_type": "markdown",
   "metadata": {
    "id": "czH4wGw1UQtB"
   },
   "source": [
    "## CV for logistic regression"
   ]
  },
  {
   "cell_type": "code",
   "execution_count": null,
   "metadata": {
    "colab": {
     "base_uri": "https://localhost:8080/"
    },
    "id": "uCxpq-wCUTxB",
    "outputId": "a54568a8-2f47-4126-a2bf-ed03ba60bfcc"
   },
   "outputs": [
    {
     "name": "stdout",
     "output_type": "stream",
     "text": [
      "average recall_score of Logistic Regression Model: 0.8089430894308943\n",
      "average precision_score of Logistic Regression Model:: 0.5688073394495413\n",
      "average roc_auc score of Logistic Regression Model:: 0.9014675052410901\n"
     ]
    }
   ],
   "source": [
    "i=0\n",
    "recall_all = np.array([])\n",
    "precision_all = np.array([])\n",
    "roc_auc_all = np.array([])\n",
    "\n",
    "logclassifier.fit(X_train, y_train)\n",
    "\n",
    "rec = recall_score(y_test, logclassifier.predict(X_test), average='micro')\n",
    "prec = precision_score(y_test, logclassifier.predict(X_test), average='macro')\n",
    "roc_auc=roc_auc_score(y_test, logclassifier.predict(X_test))\n",
    "\n",
    "i=i+1\n",
    "recall_all = np.append(recall_all, rec)\n",
    "precision_all = np.append(precision_all, prec)\n",
    "roc_auc_all = np.append(roc_auc_all, roc_auc)\n",
    "\n",
    "print(\"average recall_score of Logistic Regression Model:\", np.mean(recall_all))\n",
    "print(\"average precision_score of Logistic Regression Model::\", np.mean(precision_all))\n",
    "print(\"average roc_auc score of Logistic Regression Model::\", np.mean(roc_auc_all))"
   ]
  },
  {
   "cell_type": "markdown",
   "metadata": {
    "id": "sTgByMF3U4Dq"
   },
   "source": [
    "## CV for random forest"
   ]
  },
  {
   "cell_type": "code",
   "execution_count": null,
   "metadata": {
    "colab": {
     "base_uri": "https://localhost:8080/"
    },
    "id": "r-qea5v3U584",
    "outputId": "6d18e2fe-bf34-4eab-dad8-8d39c00e97e7"
   },
   "outputs": [
    {
     "name": "stdout",
     "output_type": "stream",
     "text": [
      "average recall_score of Random Forests Model: 0.9796747967479674\n",
      "average precision_score of Random Forests Model: 0.8280922431865828\n",
      "average roc_auc score of Random Forests Model: 0.8280922431865828\n"
     ]
    }
   ],
   "source": [
    "i=0\n",
    "recall_all = np.array([])\n",
    "precision_all = np.array([])\n",
    "roc_auc_all = np.array([])\n",
    "\n",
    "rec = recall_score(y_test, rfclassifier.predict(X_test), average='micro')\n",
    "prec = precision_score(y_test, rfclassifier.predict(X_test), average='macro')\n",
    "roc_auc=roc_auc_score(y_test, rfclassifier.predict(X_test))\n",
    "\n",
    "i=i+1\n",
    "recall_all = np.append(recall_all, rec)\n",
    "precision_all = np.append(precision_all, prec)\n",
    "roc_auc_all = np.append(roc_auc_all, roc_auc)\n",
    "\n",
    "print(\"average recall_score of Random Forests Model:\", np.mean(recall_all))\n",
    "print(\"average precision_score of Random Forests Model:\", np.mean(precision_all))\n",
    "print(\"average roc_auc score of Random Forests Model:\", np.mean(roc_auc_all))"
   ]
  },
  {
   "cell_type": "markdown",
   "metadata": {
    "id": "16HPpEmPef5_"
   },
   "source": [
    "## Hyperparameter tuning for random forest"
   ]
  },
  {
   "cell_type": "code",
   "execution_count": null,
   "metadata": {
    "id": "UB0ObPnleidb"
   },
   "outputs": [],
   "source": [
    "X_train3, X_test3, y_train3, y_test3 = train_test_split(X, y, test_size=0.3, random_state=3)\n",
    "os= SMOTE(random_state=0)\n",
    "X_train3, y_train3 = os.fit_resample(X_train3, y_train3)"
   ]
  },
  {
   "cell_type": "code",
   "execution_count": null,
   "metadata": {
    "colab": {
     "base_uri": "https://localhost:8080/"
    },
    "id": "bD0OdN8qfOPt",
    "outputId": "1c771cea-3125-414c-e7fa-3b2370e2771e"
   },
   "outputs": [
    {
     "name": "stdout",
     "output_type": "stream",
     "text": [
      "trees roc_auc\n",
      "10     0.678773\n",
      "20     0.732132\n",
      "30     0.732479\n",
      "40     0.733174\n",
      "50     0.719313\n",
      "60     0.733174\n",
      "70     0.732132\n",
      "80     0.719660\n",
      "90     0.733174\n",
      "100    0.718966\n",
      "110    0.720008\n",
      "120    0.719660\n",
      "130    0.705800\n",
      "140    0.706494\n",
      "150    0.720008\n",
      "160    0.733174\n",
      "170    0.733521\n",
      "180    0.733174\n",
      "190    0.733174\n",
      "dtype: float64\n"
     ]
    }
   ],
   "source": [
    "loc   = []\n",
    "temp  = []\n",
    "for i in range(10, 200, 10):\n",
    "    new_rfclassifier= RandomForestClassifier(n_estimators=i, random_state=0)\n",
    "    new_rfclassifier.fit(X_train3, y_train3)\n",
    "    rf_roc_auc=roc_auc_score(y_test3, new_rfclassifier.predict(X_test3))\n",
    "    loc.append(i)\n",
    "    temp.append(rf_roc_auc)\n",
    "rf_roc_auc_all=pd.Series(temp,loc)\n",
    "print(\"trees\",\"roc_auc\")\n",
    "print(rf_roc_auc_all)"
   ]
  },
  {
   "cell_type": "code",
   "execution_count": null,
   "metadata": {
    "colab": {
     "base_uri": "https://localhost:8080/",
     "height": 542
    },
    "id": "vJT6OrkRfafP",
    "outputId": "a1dfd569-0a26-48a0-d735-e2241b9d4f5a"
   },
   "outputs": [
    {
     "name": "stderr",
     "output_type": "stream",
     "text": [
      "findfont: Generic family 'sans-serif' not found because none of the following families were found: Arial, Liberation Sans, Bitstream Vera Sans, sans-serif\n",
      "findfont: Generic family 'sans-serif' not found because none of the following families were found: Arial, Liberation Sans, Bitstream Vera Sans, sans-serif\n",
      "findfont: Generic family 'sans-serif' not found because none of the following families were found: Arial, Liberation Sans, Bitstream Vera Sans, sans-serif\n",
      "findfont: Generic family 'sans-serif' not found because none of the following families were found: Arial, Liberation Sans, Bitstream Vera Sans, sans-serif\n",
      "findfont: Generic family 'sans-serif' not found because none of the following families were found: Arial, Liberation Sans, Bitstream Vera Sans, sans-serif\n",
      "findfont: Generic family 'sans-serif' not found because none of the following families were found: Arial, Liberation Sans, Bitstream Vera Sans, sans-serif\n",
      "findfont: Generic family 'sans-serif' not found because none of the following families were found: Arial, Liberation Sans, Bitstream Vera Sans, sans-serif\n",
      "findfont: Generic family 'sans-serif' not found because none of the following families were found: Arial, Liberation Sans, Bitstream Vera Sans, sans-serif\n",
      "findfont: Generic family 'sans-serif' not found because none of the following families were found: Arial, Liberation Sans, Bitstream Vera Sans, sans-serif\n",
      "findfont: Generic family 'sans-serif' not found because none of the following families were found: Arial, Liberation Sans, Bitstream Vera Sans, sans-serif\n",
      "findfont: Generic family 'sans-serif' not found because none of the following families were found: Arial, Liberation Sans, Bitstream Vera Sans, sans-serif\n",
      "findfont: Generic family 'sans-serif' not found because none of the following families were found: Arial, Liberation Sans, Bitstream Vera Sans, sans-serif\n",
      "findfont: Generic family 'sans-serif' not found because none of the following families were found: Arial, Liberation Sans, Bitstream Vera Sans, sans-serif\n",
      "findfont: Generic family 'sans-serif' not found because none of the following families were found: Arial, Liberation Sans, Bitstream Vera Sans, sans-serif\n",
      "findfont: Generic family 'sans-serif' not found because none of the following families were found: Arial, Liberation Sans, Bitstream Vera Sans, sans-serif\n",
      "findfont: Generic family 'sans-serif' not found because none of the following families were found: Arial, Liberation Sans, Bitstream Vera Sans, sans-serif\n",
      "findfont: Generic family 'sans-serif' not found because none of the following families were found: Arial, Liberation Sans, Bitstream Vera Sans, sans-serif\n",
      "findfont: Generic family 'sans-serif' not found because none of the following families were found: Arial, Liberation Sans, Bitstream Vera Sans, sans-serif\n",
      "findfont: Generic family 'sans-serif' not found because none of the following families were found: Arial, Liberation Sans, Bitstream Vera Sans, sans-serif\n",
      "findfont: Generic family 'sans-serif' not found because none of the following families were found: Arial, Liberation Sans, Bitstream Vera Sans, sans-serif\n",
      "findfont: Generic family 'sans-serif' not found because none of the following families were found: Arial, Liberation Sans, Bitstream Vera Sans, sans-serif\n",
      "findfont: Generic family 'sans-serif' not found because none of the following families were found: Arial, Liberation Sans, Bitstream Vera Sans, sans-serif\n",
      "findfont: Generic family 'sans-serif' not found because none of the following families were found: Arial, Liberation Sans, Bitstream Vera Sans, sans-serif\n",
      "findfont: Generic family 'sans-serif' not found because none of the following families were found: Arial, Liberation Sans, Bitstream Vera Sans, sans-serif\n",
      "findfont: Generic family 'sans-serif' not found because none of the following families were found: Arial, Liberation Sans, Bitstream Vera Sans, sans-serif\n",
      "findfont: Generic family 'sans-serif' not found because none of the following families were found: Arial, Liberation Sans, Bitstream Vera Sans, sans-serif\n",
      "findfont: Generic family 'sans-serif' not found because none of the following families were found: Arial, Liberation Sans, Bitstream Vera Sans, sans-serif\n",
      "findfont: Generic family 'sans-serif' not found because none of the following families were found: Arial, Liberation Sans, Bitstream Vera Sans, sans-serif\n",
      "findfont: Generic family 'sans-serif' not found because none of the following families were found: Arial, Liberation Sans, Bitstream Vera Sans, sans-serif\n",
      "findfont: Generic family 'sans-serif' not found because none of the following families were found: Arial, Liberation Sans, Bitstream Vera Sans, sans-serif\n"
     ]
    },
    {
     "name": "stdout",
     "output_type": "stream",
     "text": [
      "Maximum ROC_AUC: 0.7335210210210209 at 170 trees\n"
     ]
    },
    {
     "name": "stderr",
     "output_type": "stream",
     "text": [
      "findfont: Generic family 'sans-serif' not found because none of the following families were found: Arial, Liberation Sans, Bitstream Vera Sans, sans-serif\n",
      "findfont: Generic family 'sans-serif' not found because none of the following families were found: Arial, Liberation Sans, Bitstream Vera Sans, sans-serif\n",
      "findfont: Generic family 'sans-serif' not found because none of the following families were found: Arial, Liberation Sans, Bitstream Vera Sans, sans-serif\n",
      "findfont: Generic family 'sans-serif' not found because none of the following families were found: Arial, Liberation Sans, Bitstream Vera Sans, sans-serif\n",
      "findfont: Generic family 'sans-serif' not found because none of the following families were found: Arial, Liberation Sans, Bitstream Vera Sans, sans-serif\n",
      "findfont: Generic family 'sans-serif' not found because none of the following families were found: Arial, Liberation Sans, Bitstream Vera Sans, sans-serif\n",
      "findfont: Generic family 'sans-serif' not found because none of the following families were found: Arial, Liberation Sans, Bitstream Vera Sans, sans-serif\n",
      "findfont: Generic family 'sans-serif' not found because none of the following families were found: Arial, Liberation Sans, Bitstream Vera Sans, sans-serif\n",
      "findfont: Generic family 'sans-serif' not found because none of the following families were found: Arial, Liberation Sans, Bitstream Vera Sans, sans-serif\n",
      "findfont: Generic family 'sans-serif' not found because none of the following families were found: Arial, Liberation Sans, Bitstream Vera Sans, sans-serif\n",
      "findfont: Generic family 'sans-serif' not found because none of the following families were found: Arial, Liberation Sans, Bitstream Vera Sans, sans-serif\n",
      "findfont: Generic family 'sans-serif' not found because none of the following families were found: Arial, Liberation Sans, Bitstream Vera Sans, sans-serif\n",
      "findfont: Generic family 'sans-serif' not found because none of the following families were found: Arial, Liberation Sans, Bitstream Vera Sans, sans-serif\n",
      "findfont: Generic family 'sans-serif' not found because none of the following families were found: Arial, Liberation Sans, Bitstream Vera Sans, sans-serif\n",
      "findfont: Generic family 'sans-serif' not found because none of the following families were found: Arial, Liberation Sans, Bitstream Vera Sans, sans-serif\n",
      "findfont: Generic family 'sans-serif' not found because none of the following families were found: Arial, Liberation Sans, Bitstream Vera Sans, sans-serif\n",
      "findfont: Generic family 'sans-serif' not found because none of the following families were found: Arial, Liberation Sans, Bitstream Vera Sans, sans-serif\n",
      "findfont: Generic family 'sans-serif' not found because none of the following families were found: Arial, Liberation Sans, Bitstream Vera Sans, sans-serif\n",
      "findfont: Generic family 'sans-serif' not found because none of the following families were found: Arial, Liberation Sans, Bitstream Vera Sans, sans-serif\n",
      "findfont: Generic family 'sans-serif' not found because none of the following families were found: Arial, Liberation Sans, Bitstream Vera Sans, sans-serif\n",
      "findfont: Generic family 'sans-serif' not found because none of the following families were found: Arial, Liberation Sans, Bitstream Vera Sans, sans-serif\n",
      "findfont: Generic family 'sans-serif' not found because none of the following families were found: Arial, Liberation Sans, Bitstream Vera Sans, sans-serif\n",
      "findfont: Generic family 'sans-serif' not found because none of the following families were found: Arial, Liberation Sans, Bitstream Vera Sans, sans-serif\n",
      "findfont: Generic family 'sans-serif' not found because none of the following families were found: Arial, Liberation Sans, Bitstream Vera Sans, sans-serif\n"
     ]
    },
    {
     "data": {
      "image/png": "[encoded data removed]",
      "text/plain": [
       "<Figure size 800x550 with 1 Axes>"
      ]
     },
     "metadata": {},
     "output_type": "display_data"
    }
   ],
   "source": [
    "max_roc_auc = rf_roc_auc_all.max()\n",
    "optimal_trees = rf_roc_auc_all.idxmax()\n",
    "\n",
    "print(f\"Maximum ROC_AUC: {max_roc_auc} at {optimal_trees} trees\")\n",
    "\n",
    "plt.plot(rf_roc_auc_all.index, rf_roc_auc_all.values)\n",
    "plt.xlabel('no. of trees')\n",
    "plt.ylabel('ROC_AUC')\n",
    "plt.title('ROC_AUC with different no. of trees in the forest')\n",
    "\n",
    "plt.scatter(optimal_trees, max_roc_auc, color='red')\n",
    "plt.show()"
   ]
  }
 ],
 "metadata": {
  "colab": {
   "collapsed_sections": [
    "NQ5qJP5cV-Wi",
    "tOJ5Dn21WG_Z",
    "uhqXS42EWzFc",
    "1WT29Z3dW4sx",
    "99jfbExrXP0m",
    "NF_teMBBXjdH",
    "FTCX3Q1ysiDa"
   ],
   "provenance": []
  },
  "kernelspec": {
   "display_name": "venv",
   "language": "python",
   "name": "python3"
  },
  "language_info": {
   "codemirror_mode": {
    "name": "ipython",
    "version": 3
   },
   "file_extension": ".py",
   "mimetype": "text/x-python",
   "name": "python",
   "nbconvert_exporter": "python",
   "pygments_lexer": "ipython3",
   "version": "3.12.0"
  }
 },
 "nbformat": 4,
 "nbformat_minor": 4
}
